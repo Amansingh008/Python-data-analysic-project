{
 "cells": [
  {
   "cell_type": "markdown",
   "id": "cd0ca726",
   "metadata": {},
   "source": [
    "# 1. TOP INDUSTRIES BY NUMBER OF COMPANIES"
   ]
  },
  {
   "cell_type": "code",
   "execution_count": 3,
   "id": "8c29091a",
   "metadata": {},
   "outputs": [
    {
     "data": {
      "application/vnd.plotly.v1+json": {
       "config": {
        "plotlyServerURL": "https://plot.ly"
       },
       "data": [
        {
         "alignmentgroup": "True",
         "hovertemplate": "Company Count=%{x}<br>industry=%{y}<extra></extra>",
         "legendgroup": "",
         "marker": {
          "color": "#636efa",
          "pattern": {
           "shape": ""
          }
         },
         "name": "",
         "offsetgroup": "",
         "orientation": "h",
         "showlegend": false,
         "textposition": "auto",
         "type": "bar",
         "x": [
          492,
          489,
          461,
          356,
          350,
          315,
          276,
          239,
          236,
          198
         ],
         "xaxis": "x",
         "y": [
          "Business Products & Services",
          "Advertising & Marketing",
          "Software",
          "Health",
          "Construction",
          "Consumer Products & Services",
          "IT Management",
          "Financial Services",
          "Government Services",
          "Real Estate"
         ],
         "yaxis": "y"
        }
       ],
       "layout": {
        "barmode": "relative",
        "legend": {
         "tracegroupgap": 0
        },
        "template": {
         "data": {
          "bar": [
           {
            "error_x": {
             "color": "#2a3f5f"
            },
            "error_y": {
             "color": "#2a3f5f"
            },
            "marker": {
             "line": {
              "color": "#E5ECF6",
              "width": 0.5
             },
             "pattern": {
              "fillmode": "overlay",
              "size": 10,
              "solidity": 0.2
             }
            },
            "type": "bar"
           }
          ],
          "barpolar": [
           {
            "marker": {
             "line": {
              "color": "#E5ECF6",
              "width": 0.5
             },
             "pattern": {
              "fillmode": "overlay",
              "size": 10,
              "solidity": 0.2
             }
            },
            "type": "barpolar"
           }
          ],
          "carpet": [
           {
            "aaxis": {
             "endlinecolor": "#2a3f5f",
             "gridcolor": "white",
             "linecolor": "white",
             "minorgridcolor": "white",
             "startlinecolor": "#2a3f5f"
            },
            "baxis": {
             "endlinecolor": "#2a3f5f",
             "gridcolor": "white",
             "linecolor": "white",
             "minorgridcolor": "white",
             "startlinecolor": "#2a3f5f"
            },
            "type": "carpet"
           }
          ],
          "choropleth": [
           {
            "colorbar": {
             "outlinewidth": 0,
             "ticks": ""
            },
            "type": "choropleth"
           }
          ],
          "contour": [
           {
            "colorbar": {
             "outlinewidth": 0,
             "ticks": ""
            },
            "colorscale": [
             [
              0,
              "#0d0887"
             ],
             [
              0.1111111111111111,
              "#46039f"
             ],
             [
              0.2222222222222222,
              "#7201a8"
             ],
             [
              0.3333333333333333,
              "#9c179e"
             ],
             [
              0.4444444444444444,
              "#bd3786"
             ],
             [
              0.5555555555555556,
              "#d8576b"
             ],
             [
              0.6666666666666666,
              "#ed7953"
             ],
             [
              0.7777777777777778,
              "#fb9f3a"
             ],
             [
              0.8888888888888888,
              "#fdca26"
             ],
             [
              1,
              "#f0f921"
             ]
            ],
            "type": "contour"
           }
          ],
          "contourcarpet": [
           {
            "colorbar": {
             "outlinewidth": 0,
             "ticks": ""
            },
            "type": "contourcarpet"
           }
          ],
          "heatmap": [
           {
            "colorbar": {
             "outlinewidth": 0,
             "ticks": ""
            },
            "colorscale": [
             [
              0,
              "#0d0887"
             ],
             [
              0.1111111111111111,
              "#46039f"
             ],
             [
              0.2222222222222222,
              "#7201a8"
             ],
             [
              0.3333333333333333,
              "#9c179e"
             ],
             [
              0.4444444444444444,
              "#bd3786"
             ],
             [
              0.5555555555555556,
              "#d8576b"
             ],
             [
              0.6666666666666666,
              "#ed7953"
             ],
             [
              0.7777777777777778,
              "#fb9f3a"
             ],
             [
              0.8888888888888888,
              "#fdca26"
             ],
             [
              1,
              "#f0f921"
             ]
            ],
            "type": "heatmap"
           }
          ],
          "heatmapgl": [
           {
            "colorbar": {
             "outlinewidth": 0,
             "ticks": ""
            },
            "colorscale": [
             [
              0,
              "#0d0887"
             ],
             [
              0.1111111111111111,
              "#46039f"
             ],
             [
              0.2222222222222222,
              "#7201a8"
             ],
             [
              0.3333333333333333,
              "#9c179e"
             ],
             [
              0.4444444444444444,
              "#bd3786"
             ],
             [
              0.5555555555555556,
              "#d8576b"
             ],
             [
              0.6666666666666666,
              "#ed7953"
             ],
             [
              0.7777777777777778,
              "#fb9f3a"
             ],
             [
              0.8888888888888888,
              "#fdca26"
             ],
             [
              1,
              "#f0f921"
             ]
            ],
            "type": "heatmapgl"
           }
          ],
          "histogram": [
           {
            "marker": {
             "pattern": {
              "fillmode": "overlay",
              "size": 10,
              "solidity": 0.2
             }
            },
            "type": "histogram"
           }
          ],
          "histogram2d": [
           {
            "colorbar": {
             "outlinewidth": 0,
             "ticks": ""
            },
            "colorscale": [
             [
              0,
              "#0d0887"
             ],
             [
              0.1111111111111111,
              "#46039f"
             ],
             [
              0.2222222222222222,
              "#7201a8"
             ],
             [
              0.3333333333333333,
              "#9c179e"
             ],
             [
              0.4444444444444444,
              "#bd3786"
             ],
             [
              0.5555555555555556,
              "#d8576b"
             ],
             [
              0.6666666666666666,
              "#ed7953"
             ],
             [
              0.7777777777777778,
              "#fb9f3a"
             ],
             [
              0.8888888888888888,
              "#fdca26"
             ],
             [
              1,
              "#f0f921"
             ]
            ],
            "type": "histogram2d"
           }
          ],
          "histogram2dcontour": [
           {
            "colorbar": {
             "outlinewidth": 0,
             "ticks": ""
            },
            "colorscale": [
             [
              0,
              "#0d0887"
             ],
             [
              0.1111111111111111,
              "#46039f"
             ],
             [
              0.2222222222222222,
              "#7201a8"
             ],
             [
              0.3333333333333333,
              "#9c179e"
             ],
             [
              0.4444444444444444,
              "#bd3786"
             ],
             [
              0.5555555555555556,
              "#d8576b"
             ],
             [
              0.6666666666666666,
              "#ed7953"
             ],
             [
              0.7777777777777778,
              "#fb9f3a"
             ],
             [
              0.8888888888888888,
              "#fdca26"
             ],
             [
              1,
              "#f0f921"
             ]
            ],
            "type": "histogram2dcontour"
           }
          ],
          "mesh3d": [
           {
            "colorbar": {
             "outlinewidth": 0,
             "ticks": ""
            },
            "type": "mesh3d"
           }
          ],
          "parcoords": [
           {
            "line": {
             "colorbar": {
              "outlinewidth": 0,
              "ticks": ""
             }
            },
            "type": "parcoords"
           }
          ],
          "pie": [
           {
            "automargin": true,
            "type": "pie"
           }
          ],
          "scatter": [
           {
            "fillpattern": {
             "fillmode": "overlay",
             "size": 10,
             "solidity": 0.2
            },
            "type": "scatter"
           }
          ],
          "scatter3d": [
           {
            "line": {
             "colorbar": {
              "outlinewidth": 0,
              "ticks": ""
             }
            },
            "marker": {
             "colorbar": {
              "outlinewidth": 0,
              "ticks": ""
             }
            },
            "type": "scatter3d"
           }
          ],
          "scattercarpet": [
           {
            "marker": {
             "colorbar": {
              "outlinewidth": 0,
              "ticks": ""
             }
            },
            "type": "scattercarpet"
           }
          ],
          "scattergeo": [
           {
            "marker": {
             "colorbar": {
              "outlinewidth": 0,
              "ticks": ""
             }
            },
            "type": "scattergeo"
           }
          ],
          "scattergl": [
           {
            "marker": {
             "colorbar": {
              "outlinewidth": 0,
              "ticks": ""
             }
            },
            "type": "scattergl"
           }
          ],
          "scattermapbox": [
           {
            "marker": {
             "colorbar": {
              "outlinewidth": 0,
              "ticks": ""
             }
            },
            "type": "scattermapbox"
           }
          ],
          "scatterpolar": [
           {
            "marker": {
             "colorbar": {
              "outlinewidth": 0,
              "ticks": ""
             }
            },
            "type": "scatterpolar"
           }
          ],
          "scatterpolargl": [
           {
            "marker": {
             "colorbar": {
              "outlinewidth": 0,
              "ticks": ""
             }
            },
            "type": "scatterpolargl"
           }
          ],
          "scatterternary": [
           {
            "marker": {
             "colorbar": {
              "outlinewidth": 0,
              "ticks": ""
             }
            },
            "type": "scatterternary"
           }
          ],
          "surface": [
           {
            "colorbar": {
             "outlinewidth": 0,
             "ticks": ""
            },
            "colorscale": [
             [
              0,
              "#0d0887"
             ],
             [
              0.1111111111111111,
              "#46039f"
             ],
             [
              0.2222222222222222,
              "#7201a8"
             ],
             [
              0.3333333333333333,
              "#9c179e"
             ],
             [
              0.4444444444444444,
              "#bd3786"
             ],
             [
              0.5555555555555556,
              "#d8576b"
             ],
             [
              0.6666666666666666,
              "#ed7953"
             ],
             [
              0.7777777777777778,
              "#fb9f3a"
             ],
             [
              0.8888888888888888,
              "#fdca26"
             ],
             [
              1,
              "#f0f921"
             ]
            ],
            "type": "surface"
           }
          ],
          "table": [
           {
            "cells": {
             "fill": {
              "color": "#EBF0F8"
             },
             "line": {
              "color": "white"
             }
            },
            "header": {
             "fill": {
              "color": "#C8D4E3"
             },
             "line": {
              "color": "white"
             }
            },
            "type": "table"
           }
          ]
         },
         "layout": {
          "annotationdefaults": {
           "arrowcolor": "#2a3f5f",
           "arrowhead": 0,
           "arrowwidth": 1
          },
          "autotypenumbers": "strict",
          "coloraxis": {
           "colorbar": {
            "outlinewidth": 0,
            "ticks": ""
           }
          },
          "colorscale": {
           "diverging": [
            [
             0,
             "#8e0152"
            ],
            [
             0.1,
             "#c51b7d"
            ],
            [
             0.2,
             "#de77ae"
            ],
            [
             0.3,
             "#f1b6da"
            ],
            [
             0.4,
             "#fde0ef"
            ],
            [
             0.5,
             "#f7f7f7"
            ],
            [
             0.6,
             "#e6f5d0"
            ],
            [
             0.7,
             "#b8e186"
            ],
            [
             0.8,
             "#7fbc41"
            ],
            [
             0.9,
             "#4d9221"
            ],
            [
             1,
             "#276419"
            ]
           ],
           "sequential": [
            [
             0,
             "#0d0887"
            ],
            [
             0.1111111111111111,
             "#46039f"
            ],
            [
             0.2222222222222222,
             "#7201a8"
            ],
            [
             0.3333333333333333,
             "#9c179e"
            ],
            [
             0.4444444444444444,
             "#bd3786"
            ],
            [
             0.5555555555555556,
             "#d8576b"
            ],
            [
             0.6666666666666666,
             "#ed7953"
            ],
            [
             0.7777777777777778,
             "#fb9f3a"
            ],
            [
             0.8888888888888888,
             "#fdca26"
            ],
            [
             1,
             "#f0f921"
            ]
           ],
           "sequentialminus": [
            [
             0,
             "#0d0887"
            ],
            [
             0.1111111111111111,
             "#46039f"
            ],
            [
             0.2222222222222222,
             "#7201a8"
            ],
            [
             0.3333333333333333,
             "#9c179e"
            ],
            [
             0.4444444444444444,
             "#bd3786"
            ],
            [
             0.5555555555555556,
             "#d8576b"
            ],
            [
             0.6666666666666666,
             "#ed7953"
            ],
            [
             0.7777777777777778,
             "#fb9f3a"
            ],
            [
             0.8888888888888888,
             "#fdca26"
            ],
            [
             1,
             "#f0f921"
            ]
           ]
          },
          "colorway": [
           "#636efa",
           "#EF553B",
           "#00cc96",
           "#ab63fa",
           "#FFA15A",
           "#19d3f3",
           "#FF6692",
           "#B6E880",
           "#FF97FF",
           "#FECB52"
          ],
          "font": {
           "color": "#2a3f5f"
          },
          "geo": {
           "bgcolor": "white",
           "lakecolor": "white",
           "landcolor": "#E5ECF6",
           "showlakes": true,
           "showland": true,
           "subunitcolor": "white"
          },
          "hoverlabel": {
           "align": "left"
          },
          "hovermode": "closest",
          "mapbox": {
           "style": "light"
          },
          "paper_bgcolor": "white",
          "plot_bgcolor": "#E5ECF6",
          "polar": {
           "angularaxis": {
            "gridcolor": "white",
            "linecolor": "white",
            "ticks": ""
           },
           "bgcolor": "#E5ECF6",
           "radialaxis": {
            "gridcolor": "white",
            "linecolor": "white",
            "ticks": ""
           }
          },
          "scene": {
           "xaxis": {
            "backgroundcolor": "#E5ECF6",
            "gridcolor": "white",
            "gridwidth": 2,
            "linecolor": "white",
            "showbackground": true,
            "ticks": "",
            "zerolinecolor": "white"
           },
           "yaxis": {
            "backgroundcolor": "#E5ECF6",
            "gridcolor": "white",
            "gridwidth": 2,
            "linecolor": "white",
            "showbackground": true,
            "ticks": "",
            "zerolinecolor": "white"
           },
           "zaxis": {
            "backgroundcolor": "#E5ECF6",
            "gridcolor": "white",
            "gridwidth": 2,
            "linecolor": "white",
            "showbackground": true,
            "ticks": "",
            "zerolinecolor": "white"
           }
          },
          "shapedefaults": {
           "line": {
            "color": "#2a3f5f"
           }
          },
          "ternary": {
           "aaxis": {
            "gridcolor": "white",
            "linecolor": "white",
            "ticks": ""
           },
           "baxis": {
            "gridcolor": "white",
            "linecolor": "white",
            "ticks": ""
           },
           "bgcolor": "#E5ECF6",
           "caxis": {
            "gridcolor": "white",
            "linecolor": "white",
            "ticks": ""
           }
          },
          "title": {
           "x": 0.05
          },
          "xaxis": {
           "automargin": true,
           "gridcolor": "white",
           "linecolor": "white",
           "ticks": "",
           "title": {
            "standoff": 15
           },
           "zerolinecolor": "white",
           "zerolinewidth": 2
          },
          "yaxis": {
           "automargin": true,
           "gridcolor": "white",
           "linecolor": "white",
           "ticks": "",
           "title": {
            "standoff": 15
           },
           "zerolinecolor": "white",
           "zerolinewidth": 2
          }
         }
        },
        "title": {
         "text": "Top 10 Industries by Number of Companies"
        },
        "xaxis": {
         "anchor": "y",
         "domain": [
          0,
          1
         ],
         "title": {
          "text": "Company Count"
         }
        },
        "yaxis": {
         "anchor": "x",
         "domain": [
          0,
          1
         ],
         "title": {
          "text": "industry"
         }
        }
       }
      }
     },
     "metadata": {},
     "output_type": "display_data"
    }
   ],
   "source": [
    "import pandas as pd \n",
    "import plotly.express as px\n",
    "\n",
    "df = pd.read_csv(\"INC 5000 Companies 2019.csv\")\n",
    "industry_counts = df['industry'].value_counts().nlargest(10).reset_index()\n",
    "industry_counts.columns = ['industry', 'Company Count']\n",
    "\n",
    "fig = px.bar(industry_counts, x='Company Count', y='industry', orientation='h',\n",
    "             title='Top 10 Industries by Number of Companies')\n",
    "fig.show()\n"
   ]
  },
  {
   "cell_type": "markdown",
   "id": "dd303bd6",
   "metadata": {},
   "source": [
    "# 2. STATE-WISE COMPANY DISTRIBUTION"
   ]
  },
  {
   "cell_type": "code",
   "execution_count": 35,
   "id": "68f62917",
   "metadata": {},
   "outputs": [
    {
     "data": {
      "application/vnd.plotly.v1+json": {
       "config": {
        "plotlyServerURL": "https://plot.ly"
       },
       "data": [
        {
         "coloraxis": "coloraxis",
         "geo": "geo",
         "hovertemplate": "state=%{location}<br>Company Count=%{z}<extra></extra>",
         "locationmode": "USA-states",
         "locations": [
          "CA",
          "TX",
          "FL",
          "NY",
          "VA",
          "IL",
          "GA",
          "PA",
          "OH",
          "CO",
          "NC",
          "MA",
          "MD",
          "NJ",
          "UT",
          "AZ",
          "WA",
          "TN",
          "MI",
          "MN",
          "MO",
          "AL",
          "IN",
          "OR",
          "SC",
          "WI",
          "DC",
          "CT",
          "LA",
          "KY",
          "NV",
          "IA",
          "OK",
          "KS",
          "NE",
          "ID",
          "NH",
          "SD",
          "DE",
          "ME",
          "MT",
          "ND",
          "AR",
          "NM",
          "WV",
          "WY",
          "VT",
          "RI",
          "MS",
          "HI",
          "PR"
         ],
         "name": "",
         "type": "choropleth",
         "z": [
          712,
          467,
          385,
          300,
          288,
          241,
          219,
          172,
          160,
          156,
          135,
          133,
          130,
          128,
          123,
          104,
          101,
          84,
          82,
          81,
          75,
          64,
          63,
          59,
          56,
          49,
          43,
          37,
          37,
          34,
          33,
          31,
          28,
          27,
          27,
          21,
          20,
          14,
          11,
          11,
          11,
          10,
          10,
          7,
          7,
          6,
          5,
          5,
          4,
          4,
          2
         ]
        }
       ],
       "layout": {
        "coloraxis": {
         "colorbar": {
          "title": {
           "text": "Company Count"
          }
         },
         "colorscale": [
          [
           0,
           "#0d0887"
          ],
          [
           0.1111111111111111,
           "#46039f"
          ],
          [
           0.2222222222222222,
           "#7201a8"
          ],
          [
           0.3333333333333333,
           "#9c179e"
          ],
          [
           0.4444444444444444,
           "#bd3786"
          ],
          [
           0.5555555555555556,
           "#d8576b"
          ],
          [
           0.6666666666666666,
           "#ed7953"
          ],
          [
           0.7777777777777778,
           "#fb9f3a"
          ],
          [
           0.8888888888888888,
           "#fdca26"
          ],
          [
           1,
           "#f0f921"
          ]
         ]
        },
        "geo": {
         "center": {},
         "domain": {
          "x": [
           0,
           1
          ],
          "y": [
           0,
           1
          ]
         },
         "scope": "usa"
        },
        "legend": {
         "tracegroupgap": 0
        },
        "template": {
         "data": {
          "bar": [
           {
            "error_x": {
             "color": "#2a3f5f"
            },
            "error_y": {
             "color": "#2a3f5f"
            },
            "marker": {
             "line": {
              "color": "#E5ECF6",
              "width": 0.5
             },
             "pattern": {
              "fillmode": "overlay",
              "size": 10,
              "solidity": 0.2
             }
            },
            "type": "bar"
           }
          ],
          "barpolar": [
           {
            "marker": {
             "line": {
              "color": "#E5ECF6",
              "width": 0.5
             },
             "pattern": {
              "fillmode": "overlay",
              "size": 10,
              "solidity": 0.2
             }
            },
            "type": "barpolar"
           }
          ],
          "carpet": [
           {
            "aaxis": {
             "endlinecolor": "#2a3f5f",
             "gridcolor": "white",
             "linecolor": "white",
             "minorgridcolor": "white",
             "startlinecolor": "#2a3f5f"
            },
            "baxis": {
             "endlinecolor": "#2a3f5f",
             "gridcolor": "white",
             "linecolor": "white",
             "minorgridcolor": "white",
             "startlinecolor": "#2a3f5f"
            },
            "type": "carpet"
           }
          ],
          "choropleth": [
           {
            "colorbar": {
             "outlinewidth": 0,
             "ticks": ""
            },
            "type": "choropleth"
           }
          ],
          "contour": [
           {
            "colorbar": {
             "outlinewidth": 0,
             "ticks": ""
            },
            "colorscale": [
             [
              0,
              "#0d0887"
             ],
             [
              0.1111111111111111,
              "#46039f"
             ],
             [
              0.2222222222222222,
              "#7201a8"
             ],
             [
              0.3333333333333333,
              "#9c179e"
             ],
             [
              0.4444444444444444,
              "#bd3786"
             ],
             [
              0.5555555555555556,
              "#d8576b"
             ],
             [
              0.6666666666666666,
              "#ed7953"
             ],
             [
              0.7777777777777778,
              "#fb9f3a"
             ],
             [
              0.8888888888888888,
              "#fdca26"
             ],
             [
              1,
              "#f0f921"
             ]
            ],
            "type": "contour"
           }
          ],
          "contourcarpet": [
           {
            "colorbar": {
             "outlinewidth": 0,
             "ticks": ""
            },
            "type": "contourcarpet"
           }
          ],
          "heatmap": [
           {
            "colorbar": {
             "outlinewidth": 0,
             "ticks": ""
            },
            "colorscale": [
             [
              0,
              "#0d0887"
             ],
             [
              0.1111111111111111,
              "#46039f"
             ],
             [
              0.2222222222222222,
              "#7201a8"
             ],
             [
              0.3333333333333333,
              "#9c179e"
             ],
             [
              0.4444444444444444,
              "#bd3786"
             ],
             [
              0.5555555555555556,
              "#d8576b"
             ],
             [
              0.6666666666666666,
              "#ed7953"
             ],
             [
              0.7777777777777778,
              "#fb9f3a"
             ],
             [
              0.8888888888888888,
              "#fdca26"
             ],
             [
              1,
              "#f0f921"
             ]
            ],
            "type": "heatmap"
           }
          ],
          "heatmapgl": [
           {
            "colorbar": {
             "outlinewidth": 0,
             "ticks": ""
            },
            "colorscale": [
             [
              0,
              "#0d0887"
             ],
             [
              0.1111111111111111,
              "#46039f"
             ],
             [
              0.2222222222222222,
              "#7201a8"
             ],
             [
              0.3333333333333333,
              "#9c179e"
             ],
             [
              0.4444444444444444,
              "#bd3786"
             ],
             [
              0.5555555555555556,
              "#d8576b"
             ],
             [
              0.6666666666666666,
              "#ed7953"
             ],
             [
              0.7777777777777778,
              "#fb9f3a"
             ],
             [
              0.8888888888888888,
              "#fdca26"
             ],
             [
              1,
              "#f0f921"
             ]
            ],
            "type": "heatmapgl"
           }
          ],
          "histogram": [
           {
            "marker": {
             "pattern": {
              "fillmode": "overlay",
              "size": 10,
              "solidity": 0.2
             }
            },
            "type": "histogram"
           }
          ],
          "histogram2d": [
           {
            "colorbar": {
             "outlinewidth": 0,
             "ticks": ""
            },
            "colorscale": [
             [
              0,
              "#0d0887"
             ],
             [
              0.1111111111111111,
              "#46039f"
             ],
             [
              0.2222222222222222,
              "#7201a8"
             ],
             [
              0.3333333333333333,
              "#9c179e"
             ],
             [
              0.4444444444444444,
              "#bd3786"
             ],
             [
              0.5555555555555556,
              "#d8576b"
             ],
             [
              0.6666666666666666,
              "#ed7953"
             ],
             [
              0.7777777777777778,
              "#fb9f3a"
             ],
             [
              0.8888888888888888,
              "#fdca26"
             ],
             [
              1,
              "#f0f921"
             ]
            ],
            "type": "histogram2d"
           }
          ],
          "histogram2dcontour": [
           {
            "colorbar": {
             "outlinewidth": 0,
             "ticks": ""
            },
            "colorscale": [
             [
              0,
              "#0d0887"
             ],
             [
              0.1111111111111111,
              "#46039f"
             ],
             [
              0.2222222222222222,
              "#7201a8"
             ],
             [
              0.3333333333333333,
              "#9c179e"
             ],
             [
              0.4444444444444444,
              "#bd3786"
             ],
             [
              0.5555555555555556,
              "#d8576b"
             ],
             [
              0.6666666666666666,
              "#ed7953"
             ],
             [
              0.7777777777777778,
              "#fb9f3a"
             ],
             [
              0.8888888888888888,
              "#fdca26"
             ],
             [
              1,
              "#f0f921"
             ]
            ],
            "type": "histogram2dcontour"
           }
          ],
          "mesh3d": [
           {
            "colorbar": {
             "outlinewidth": 0,
             "ticks": ""
            },
            "type": "mesh3d"
           }
          ],
          "parcoords": [
           {
            "line": {
             "colorbar": {
              "outlinewidth": 0,
              "ticks": ""
             }
            },
            "type": "parcoords"
           }
          ],
          "pie": [
           {
            "automargin": true,
            "type": "pie"
           }
          ],
          "scatter": [
           {
            "fillpattern": {
             "fillmode": "overlay",
             "size": 10,
             "solidity": 0.2
            },
            "type": "scatter"
           }
          ],
          "scatter3d": [
           {
            "line": {
             "colorbar": {
              "outlinewidth": 0,
              "ticks": ""
             }
            },
            "marker": {
             "colorbar": {
              "outlinewidth": 0,
              "ticks": ""
             }
            },
            "type": "scatter3d"
           }
          ],
          "scattercarpet": [
           {
            "marker": {
             "colorbar": {
              "outlinewidth": 0,
              "ticks": ""
             }
            },
            "type": "scattercarpet"
           }
          ],
          "scattergeo": [
           {
            "marker": {
             "colorbar": {
              "outlinewidth": 0,
              "ticks": ""
             }
            },
            "type": "scattergeo"
           }
          ],
          "scattergl": [
           {
            "marker": {
             "colorbar": {
              "outlinewidth": 0,
              "ticks": ""
             }
            },
            "type": "scattergl"
           }
          ],
          "scattermapbox": [
           {
            "marker": {
             "colorbar": {
              "outlinewidth": 0,
              "ticks": ""
             }
            },
            "type": "scattermapbox"
           }
          ],
          "scatterpolar": [
           {
            "marker": {
             "colorbar": {
              "outlinewidth": 0,
              "ticks": ""
             }
            },
            "type": "scatterpolar"
           }
          ],
          "scatterpolargl": [
           {
            "marker": {
             "colorbar": {
              "outlinewidth": 0,
              "ticks": ""
             }
            },
            "type": "scatterpolargl"
           }
          ],
          "scatterternary": [
           {
            "marker": {
             "colorbar": {
              "outlinewidth": 0,
              "ticks": ""
             }
            },
            "type": "scatterternary"
           }
          ],
          "surface": [
           {
            "colorbar": {
             "outlinewidth": 0,
             "ticks": ""
            },
            "colorscale": [
             [
              0,
              "#0d0887"
             ],
             [
              0.1111111111111111,
              "#46039f"
             ],
             [
              0.2222222222222222,
              "#7201a8"
             ],
             [
              0.3333333333333333,
              "#9c179e"
             ],
             [
              0.4444444444444444,
              "#bd3786"
             ],
             [
              0.5555555555555556,
              "#d8576b"
             ],
             [
              0.6666666666666666,
              "#ed7953"
             ],
             [
              0.7777777777777778,
              "#fb9f3a"
             ],
             [
              0.8888888888888888,
              "#fdca26"
             ],
             [
              1,
              "#f0f921"
             ]
            ],
            "type": "surface"
           }
          ],
          "table": [
           {
            "cells": {
             "fill": {
              "color": "#EBF0F8"
             },
             "line": {
              "color": "white"
             }
            },
            "header": {
             "fill": {
              "color": "#C8D4E3"
             },
             "line": {
              "color": "white"
             }
            },
            "type": "table"
           }
          ]
         },
         "layout": {
          "annotationdefaults": {
           "arrowcolor": "#2a3f5f",
           "arrowhead": 0,
           "arrowwidth": 1
          },
          "autotypenumbers": "strict",
          "coloraxis": {
           "colorbar": {
            "outlinewidth": 0,
            "ticks": ""
           }
          },
          "colorscale": {
           "diverging": [
            [
             0,
             "#8e0152"
            ],
            [
             0.1,
             "#c51b7d"
            ],
            [
             0.2,
             "#de77ae"
            ],
            [
             0.3,
             "#f1b6da"
            ],
            [
             0.4,
             "#fde0ef"
            ],
            [
             0.5,
             "#f7f7f7"
            ],
            [
             0.6,
             "#e6f5d0"
            ],
            [
             0.7,
             "#b8e186"
            ],
            [
             0.8,
             "#7fbc41"
            ],
            [
             0.9,
             "#4d9221"
            ],
            [
             1,
             "#276419"
            ]
           ],
           "sequential": [
            [
             0,
             "#0d0887"
            ],
            [
             0.1111111111111111,
             "#46039f"
            ],
            [
             0.2222222222222222,
             "#7201a8"
            ],
            [
             0.3333333333333333,
             "#9c179e"
            ],
            [
             0.4444444444444444,
             "#bd3786"
            ],
            [
             0.5555555555555556,
             "#d8576b"
            ],
            [
             0.6666666666666666,
             "#ed7953"
            ],
            [
             0.7777777777777778,
             "#fb9f3a"
            ],
            [
             0.8888888888888888,
             "#fdca26"
            ],
            [
             1,
             "#f0f921"
            ]
           ],
           "sequentialminus": [
            [
             0,
             "#0d0887"
            ],
            [
             0.1111111111111111,
             "#46039f"
            ],
            [
             0.2222222222222222,
             "#7201a8"
            ],
            [
             0.3333333333333333,
             "#9c179e"
            ],
            [
             0.4444444444444444,
             "#bd3786"
            ],
            [
             0.5555555555555556,
             "#d8576b"
            ],
            [
             0.6666666666666666,
             "#ed7953"
            ],
            [
             0.7777777777777778,
             "#fb9f3a"
            ],
            [
             0.8888888888888888,
             "#fdca26"
            ],
            [
             1,
             "#f0f921"
            ]
           ]
          },
          "colorway": [
           "#636efa",
           "#EF553B",
           "#00cc96",
           "#ab63fa",
           "#FFA15A",
           "#19d3f3",
           "#FF6692",
           "#B6E880",
           "#FF97FF",
           "#FECB52"
          ],
          "font": {
           "color": "#2a3f5f"
          },
          "geo": {
           "bgcolor": "white",
           "lakecolor": "white",
           "landcolor": "#E5ECF6",
           "showlakes": true,
           "showland": true,
           "subunitcolor": "white"
          },
          "hoverlabel": {
           "align": "left"
          },
          "hovermode": "closest",
          "mapbox": {
           "style": "light"
          },
          "paper_bgcolor": "white",
          "plot_bgcolor": "#E5ECF6",
          "polar": {
           "angularaxis": {
            "gridcolor": "white",
            "linecolor": "white",
            "ticks": ""
           },
           "bgcolor": "#E5ECF6",
           "radialaxis": {
            "gridcolor": "white",
            "linecolor": "white",
            "ticks": ""
           }
          },
          "scene": {
           "xaxis": {
            "backgroundcolor": "#E5ECF6",
            "gridcolor": "white",
            "gridwidth": 2,
            "linecolor": "white",
            "showbackground": true,
            "ticks": "",
            "zerolinecolor": "white"
           },
           "yaxis": {
            "backgroundcolor": "#E5ECF6",
            "gridcolor": "white",
            "gridwidth": 2,
            "linecolor": "white",
            "showbackground": true,
            "ticks": "",
            "zerolinecolor": "white"
           },
           "zaxis": {
            "backgroundcolor": "#E5ECF6",
            "gridcolor": "white",
            "gridwidth": 2,
            "linecolor": "white",
            "showbackground": true,
            "ticks": "",
            "zerolinecolor": "white"
           }
          },
          "shapedefaults": {
           "line": {
            "color": "#2a3f5f"
           }
          },
          "ternary": {
           "aaxis": {
            "gridcolor": "white",
            "linecolor": "white",
            "ticks": ""
           },
           "baxis": {
            "gridcolor": "white",
            "linecolor": "white",
            "ticks": ""
           },
           "bgcolor": "#E5ECF6",
           "caxis": {
            "gridcolor": "white",
            "linecolor": "white",
            "ticks": ""
           }
          },
          "title": {
           "x": 0.05
          },
          "xaxis": {
           "automargin": true,
           "gridcolor": "white",
           "linecolor": "white",
           "ticks": "",
           "title": {
            "standoff": 15
           },
           "zerolinecolor": "white",
           "zerolinewidth": 2
          },
          "yaxis": {
           "automargin": true,
           "gridcolor": "white",
           "linecolor": "white",
           "ticks": "",
           "title": {
            "standoff": 15
           },
           "zerolinecolor": "white",
           "zerolinewidth": 2
          }
         }
        },
        "title": {
         "text": "Number of Companies by state"
        }
       }
      }
     },
     "metadata": {},
     "output_type": "display_data"
    }
   ],
   "source": [
    "state_counts = df['state'].value_counts().reset_index()\n",
    "state_counts.columns = ['state', 'Company Count']\n",
    "\n",
    "fig = px.choropleth(state_counts, locations='state', locationmode=\"USA-states\",\n",
    "                    color='Company Count', scope=\"usa\",\n",
    "                    title='Number of Companies by state')\n",
    "fig.show()"
   ]
  },
  {
   "cell_type": "markdown",
   "id": "230c951b",
   "metadata": {},
   "source": [
    "# 3. INDUSTRY-WISE AVERAGE GROWTH RATES"
   ]
  },
  {
   "cell_type": "code",
   "execution_count": 36,
   "id": "fdc9cc01",
   "metadata": {},
   "outputs": [
    {
     "data": {
      "application/vnd.plotly.v1+json": {
       "config": {
        "plotlyServerURL": "https://plot.ly"
       },
       "data": [
        {
         "alignmentgroup": "True",
         "hovertemplate": "industry=%{x}<br>growth_%=%{y}<extra></extra>",
         "legendgroup": "",
         "marker": {
          "color": "#636efa",
          "pattern": {
           "shape": ""
          }
         },
         "name": "",
         "offsetgroup": "",
         "orientation": "v",
         "showlegend": false,
         "textposition": "auto",
         "type": "bar",
         "x": [
          "Logistics & Transportation",
          "Consumer Products & Services",
          "Food & Beverage",
          "Computer Hardware",
          "Energy",
          "Retail",
          "Health",
          "Software",
          "Telecommunications",
          "Security"
         ],
         "xaxis": "x",
         "y": [
          717.5633456989246,
          685.6403,
          668.2255338582677,
          651.97524375,
          592.075591025641,
          584.8238018404908,
          546.9118808988765,
          524.6737607375271,
          515.4118898734176,
          490.1935925373134
         ],
         "yaxis": "y"
        }
       ],
       "layout": {
        "barmode": "relative",
        "legend": {
         "tracegroupgap": 0
        },
        "template": {
         "data": {
          "bar": [
           {
            "error_x": {
             "color": "#2a3f5f"
            },
            "error_y": {
             "color": "#2a3f5f"
            },
            "marker": {
             "line": {
              "color": "#E5ECF6",
              "width": 0.5
             },
             "pattern": {
              "fillmode": "overlay",
              "size": 10,
              "solidity": 0.2
             }
            },
            "type": "bar"
           }
          ],
          "barpolar": [
           {
            "marker": {
             "line": {
              "color": "#E5ECF6",
              "width": 0.5
             },
             "pattern": {
              "fillmode": "overlay",
              "size": 10,
              "solidity": 0.2
             }
            },
            "type": "barpolar"
           }
          ],
          "carpet": [
           {
            "aaxis": {
             "endlinecolor": "#2a3f5f",
             "gridcolor": "white",
             "linecolor": "white",
             "minorgridcolor": "white",
             "startlinecolor": "#2a3f5f"
            },
            "baxis": {
             "endlinecolor": "#2a3f5f",
             "gridcolor": "white",
             "linecolor": "white",
             "minorgridcolor": "white",
             "startlinecolor": "#2a3f5f"
            },
            "type": "carpet"
           }
          ],
          "choropleth": [
           {
            "colorbar": {
             "outlinewidth": 0,
             "ticks": ""
            },
            "type": "choropleth"
           }
          ],
          "contour": [
           {
            "colorbar": {
             "outlinewidth": 0,
             "ticks": ""
            },
            "colorscale": [
             [
              0,
              "#0d0887"
             ],
             [
              0.1111111111111111,
              "#46039f"
             ],
             [
              0.2222222222222222,
              "#7201a8"
             ],
             [
              0.3333333333333333,
              "#9c179e"
             ],
             [
              0.4444444444444444,
              "#bd3786"
             ],
             [
              0.5555555555555556,
              "#d8576b"
             ],
             [
              0.6666666666666666,
              "#ed7953"
             ],
             [
              0.7777777777777778,
              "#fb9f3a"
             ],
             [
              0.8888888888888888,
              "#fdca26"
             ],
             [
              1,
              "#f0f921"
             ]
            ],
            "type": "contour"
           }
          ],
          "contourcarpet": [
           {
            "colorbar": {
             "outlinewidth": 0,
             "ticks": ""
            },
            "type": "contourcarpet"
           }
          ],
          "heatmap": [
           {
            "colorbar": {
             "outlinewidth": 0,
             "ticks": ""
            },
            "colorscale": [
             [
              0,
              "#0d0887"
             ],
             [
              0.1111111111111111,
              "#46039f"
             ],
             [
              0.2222222222222222,
              "#7201a8"
             ],
             [
              0.3333333333333333,
              "#9c179e"
             ],
             [
              0.4444444444444444,
              "#bd3786"
             ],
             [
              0.5555555555555556,
              "#d8576b"
             ],
             [
              0.6666666666666666,
              "#ed7953"
             ],
             [
              0.7777777777777778,
              "#fb9f3a"
             ],
             [
              0.8888888888888888,
              "#fdca26"
             ],
             [
              1,
              "#f0f921"
             ]
            ],
            "type": "heatmap"
           }
          ],
          "heatmapgl": [
           {
            "colorbar": {
             "outlinewidth": 0,
             "ticks": ""
            },
            "colorscale": [
             [
              0,
              "#0d0887"
             ],
             [
              0.1111111111111111,
              "#46039f"
             ],
             [
              0.2222222222222222,
              "#7201a8"
             ],
             [
              0.3333333333333333,
              "#9c179e"
             ],
             [
              0.4444444444444444,
              "#bd3786"
             ],
             [
              0.5555555555555556,
              "#d8576b"
             ],
             [
              0.6666666666666666,
              "#ed7953"
             ],
             [
              0.7777777777777778,
              "#fb9f3a"
             ],
             [
              0.8888888888888888,
              "#fdca26"
             ],
             [
              1,
              "#f0f921"
             ]
            ],
            "type": "heatmapgl"
           }
          ],
          "histogram": [
           {
            "marker": {
             "pattern": {
              "fillmode": "overlay",
              "size": 10,
              "solidity": 0.2
             }
            },
            "type": "histogram"
           }
          ],
          "histogram2d": [
           {
            "colorbar": {
             "outlinewidth": 0,
             "ticks": ""
            },
            "colorscale": [
             [
              0,
              "#0d0887"
             ],
             [
              0.1111111111111111,
              "#46039f"
             ],
             [
              0.2222222222222222,
              "#7201a8"
             ],
             [
              0.3333333333333333,
              "#9c179e"
             ],
             [
              0.4444444444444444,
              "#bd3786"
             ],
             [
              0.5555555555555556,
              "#d8576b"
             ],
             [
              0.6666666666666666,
              "#ed7953"
             ],
             [
              0.7777777777777778,
              "#fb9f3a"
             ],
             [
              0.8888888888888888,
              "#fdca26"
             ],
             [
              1,
              "#f0f921"
             ]
            ],
            "type": "histogram2d"
           }
          ],
          "histogram2dcontour": [
           {
            "colorbar": {
             "outlinewidth": 0,
             "ticks": ""
            },
            "colorscale": [
             [
              0,
              "#0d0887"
             ],
             [
              0.1111111111111111,
              "#46039f"
             ],
             [
              0.2222222222222222,
              "#7201a8"
             ],
             [
              0.3333333333333333,
              "#9c179e"
             ],
             [
              0.4444444444444444,
              "#bd3786"
             ],
             [
              0.5555555555555556,
              "#d8576b"
             ],
             [
              0.6666666666666666,
              "#ed7953"
             ],
             [
              0.7777777777777778,
              "#fb9f3a"
             ],
             [
              0.8888888888888888,
              "#fdca26"
             ],
             [
              1,
              "#f0f921"
             ]
            ],
            "type": "histogram2dcontour"
           }
          ],
          "mesh3d": [
           {
            "colorbar": {
             "outlinewidth": 0,
             "ticks": ""
            },
            "type": "mesh3d"
           }
          ],
          "parcoords": [
           {
            "line": {
             "colorbar": {
              "outlinewidth": 0,
              "ticks": ""
             }
            },
            "type": "parcoords"
           }
          ],
          "pie": [
           {
            "automargin": true,
            "type": "pie"
           }
          ],
          "scatter": [
           {
            "fillpattern": {
             "fillmode": "overlay",
             "size": 10,
             "solidity": 0.2
            },
            "type": "scatter"
           }
          ],
          "scatter3d": [
           {
            "line": {
             "colorbar": {
              "outlinewidth": 0,
              "ticks": ""
             }
            },
            "marker": {
             "colorbar": {
              "outlinewidth": 0,
              "ticks": ""
             }
            },
            "type": "scatter3d"
           }
          ],
          "scattercarpet": [
           {
            "marker": {
             "colorbar": {
              "outlinewidth": 0,
              "ticks": ""
             }
            },
            "type": "scattercarpet"
           }
          ],
          "scattergeo": [
           {
            "marker": {
             "colorbar": {
              "outlinewidth": 0,
              "ticks": ""
             }
            },
            "type": "scattergeo"
           }
          ],
          "scattergl": [
           {
            "marker": {
             "colorbar": {
              "outlinewidth": 0,
              "ticks": ""
             }
            },
            "type": "scattergl"
           }
          ],
          "scattermapbox": [
           {
            "marker": {
             "colorbar": {
              "outlinewidth": 0,
              "ticks": ""
             }
            },
            "type": "scattermapbox"
           }
          ],
          "scatterpolar": [
           {
            "marker": {
             "colorbar": {
              "outlinewidth": 0,
              "ticks": ""
             }
            },
            "type": "scatterpolar"
           }
          ],
          "scatterpolargl": [
           {
            "marker": {
             "colorbar": {
              "outlinewidth": 0,
              "ticks": ""
             }
            },
            "type": "scatterpolargl"
           }
          ],
          "scatterternary": [
           {
            "marker": {
             "colorbar": {
              "outlinewidth": 0,
              "ticks": ""
             }
            },
            "type": "scatterternary"
           }
          ],
          "surface": [
           {
            "colorbar": {
             "outlinewidth": 0,
             "ticks": ""
            },
            "colorscale": [
             [
              0,
              "#0d0887"
             ],
             [
              0.1111111111111111,
              "#46039f"
             ],
             [
              0.2222222222222222,
              "#7201a8"
             ],
             [
              0.3333333333333333,
              "#9c179e"
             ],
             [
              0.4444444444444444,
              "#bd3786"
             ],
             [
              0.5555555555555556,
              "#d8576b"
             ],
             [
              0.6666666666666666,
              "#ed7953"
             ],
             [
              0.7777777777777778,
              "#fb9f3a"
             ],
             [
              0.8888888888888888,
              "#fdca26"
             ],
             [
              1,
              "#f0f921"
             ]
            ],
            "type": "surface"
           }
          ],
          "table": [
           {
            "cells": {
             "fill": {
              "color": "#EBF0F8"
             },
             "line": {
              "color": "white"
             }
            },
            "header": {
             "fill": {
              "color": "#C8D4E3"
             },
             "line": {
              "color": "white"
             }
            },
            "type": "table"
           }
          ]
         },
         "layout": {
          "annotationdefaults": {
           "arrowcolor": "#2a3f5f",
           "arrowhead": 0,
           "arrowwidth": 1
          },
          "autotypenumbers": "strict",
          "coloraxis": {
           "colorbar": {
            "outlinewidth": 0,
            "ticks": ""
           }
          },
          "colorscale": {
           "diverging": [
            [
             0,
             "#8e0152"
            ],
            [
             0.1,
             "#c51b7d"
            ],
            [
             0.2,
             "#de77ae"
            ],
            [
             0.3,
             "#f1b6da"
            ],
            [
             0.4,
             "#fde0ef"
            ],
            [
             0.5,
             "#f7f7f7"
            ],
            [
             0.6,
             "#e6f5d0"
            ],
            [
             0.7,
             "#b8e186"
            ],
            [
             0.8,
             "#7fbc41"
            ],
            [
             0.9,
             "#4d9221"
            ],
            [
             1,
             "#276419"
            ]
           ],
           "sequential": [
            [
             0,
             "#0d0887"
            ],
            [
             0.1111111111111111,
             "#46039f"
            ],
            [
             0.2222222222222222,
             "#7201a8"
            ],
            [
             0.3333333333333333,
             "#9c179e"
            ],
            [
             0.4444444444444444,
             "#bd3786"
            ],
            [
             0.5555555555555556,
             "#d8576b"
            ],
            [
             0.6666666666666666,
             "#ed7953"
            ],
            [
             0.7777777777777778,
             "#fb9f3a"
            ],
            [
             0.8888888888888888,
             "#fdca26"
            ],
            [
             1,
             "#f0f921"
            ]
           ],
           "sequentialminus": [
            [
             0,
             "#0d0887"
            ],
            [
             0.1111111111111111,
             "#46039f"
            ],
            [
             0.2222222222222222,
             "#7201a8"
            ],
            [
             0.3333333333333333,
             "#9c179e"
            ],
            [
             0.4444444444444444,
             "#bd3786"
            ],
            [
             0.5555555555555556,
             "#d8576b"
            ],
            [
             0.6666666666666666,
             "#ed7953"
            ],
            [
             0.7777777777777778,
             "#fb9f3a"
            ],
            [
             0.8888888888888888,
             "#fdca26"
            ],
            [
             1,
             "#f0f921"
            ]
           ]
          },
          "colorway": [
           "#636efa",
           "#EF553B",
           "#00cc96",
           "#ab63fa",
           "#FFA15A",
           "#19d3f3",
           "#FF6692",
           "#B6E880",
           "#FF97FF",
           "#FECB52"
          ],
          "font": {
           "color": "#2a3f5f"
          },
          "geo": {
           "bgcolor": "white",
           "lakecolor": "white",
           "landcolor": "#E5ECF6",
           "showlakes": true,
           "showland": true,
           "subunitcolor": "white"
          },
          "hoverlabel": {
           "align": "left"
          },
          "hovermode": "closest",
          "mapbox": {
           "style": "light"
          },
          "paper_bgcolor": "white",
          "plot_bgcolor": "#E5ECF6",
          "polar": {
           "angularaxis": {
            "gridcolor": "white",
            "linecolor": "white",
            "ticks": ""
           },
           "bgcolor": "#E5ECF6",
           "radialaxis": {
            "gridcolor": "white",
            "linecolor": "white",
            "ticks": ""
           }
          },
          "scene": {
           "xaxis": {
            "backgroundcolor": "#E5ECF6",
            "gridcolor": "white",
            "gridwidth": 2,
            "linecolor": "white",
            "showbackground": true,
            "ticks": "",
            "zerolinecolor": "white"
           },
           "yaxis": {
            "backgroundcolor": "#E5ECF6",
            "gridcolor": "white",
            "gridwidth": 2,
            "linecolor": "white",
            "showbackground": true,
            "ticks": "",
            "zerolinecolor": "white"
           },
           "zaxis": {
            "backgroundcolor": "#E5ECF6",
            "gridcolor": "white",
            "gridwidth": 2,
            "linecolor": "white",
            "showbackground": true,
            "ticks": "",
            "zerolinecolor": "white"
           }
          },
          "shapedefaults": {
           "line": {
            "color": "#2a3f5f"
           }
          },
          "ternary": {
           "aaxis": {
            "gridcolor": "white",
            "linecolor": "white",
            "ticks": ""
           },
           "baxis": {
            "gridcolor": "white",
            "linecolor": "white",
            "ticks": ""
           },
           "bgcolor": "#E5ECF6",
           "caxis": {
            "gridcolor": "white",
            "linecolor": "white",
            "ticks": ""
           }
          },
          "title": {
           "x": 0.05
          },
          "xaxis": {
           "automargin": true,
           "gridcolor": "white",
           "linecolor": "white",
           "ticks": "",
           "title": {
            "standoff": 15
           },
           "zerolinecolor": "white",
           "zerolinewidth": 2
          },
          "yaxis": {
           "automargin": true,
           "gridcolor": "white",
           "linecolor": "white",
           "ticks": "",
           "title": {
            "standoff": 15
           },
           "zerolinecolor": "white",
           "zerolinewidth": 2
          }
         }
        },
        "title": {
         "text": "Top 10 Industries by Average Growth Rate"
        },
        "xaxis": {
         "anchor": "y",
         "domain": [
          0,
          1
         ],
         "tickangle": 45,
         "title": {
          "text": "industry"
         }
        },
        "yaxis": {
         "anchor": "x",
         "domain": [
          0,
          1
         ],
         "title": {
          "text": "growth_%"
         }
        }
       }
      }
     },
     "metadata": {},
     "output_type": "display_data"
    }
   ],
   "source": [
    "industry_growth = df.groupby('industry')['growth_%'].mean().nlargest(10).reset_index()\n",
    "\n",
    "fig = px.bar(industry_growth, x='industry', y='growth_%',\n",
    "             title='Top 10 Industries by Average Growth Rate')\n",
    "fig.update_xaxes(tickangle=45)\n",
    "fig.show()"
   ]
  },
  {
   "cell_type": "markdown",
   "id": "a2fd9eed",
   "metadata": {},
   "source": [
    "#  4. REVENUE vs. GROWTH RATE RELATIONSHIP "
   ]
  },
  {
   "cell_type": "code",
   "execution_count": 37,
   "id": "9e1812e5",
   "metadata": {},
   "outputs": [
    {
     "data": {
      "application/vnd.plotly.v1+json": {
       "config": {
        "plotlyServerURL": "https://plot.ly"
       },
       "data": [
        {
         "customdata": [
          [
           "Freestar"
          ],
          [
           "FreightWise"
          ],
          [
           "Cece's Veggie Co."
          ],
          [
           "LadyBoss"
          ],
          [
           "Perpay"
          ],
          [
           "Cano Health"
          ],
          [
           "Bear Mattress"
          ],
          [
           "Connected Solutions Group"
          ],
          [
           "Providence Healthcare Management"
          ],
          [
           "NOM"
          ],
          [
           "NuLeaf Naturals"
          ],
          [
           "Urgently"
          ],
          [
           "nutpods"
          ],
          [
           "YieldStreet"
          ],
          [
           "MuteSix"
          ],
          [
           "Anchor Worldwide"
          ],
          [
           "LendingPoint"
          ],
          [
           "With Clarity"
          ],
          [
           "Sonendo"
          ],
          [
           "Kindred Bravely"
          ],
          [
           "Tailor Made Compounding"
          ],
          [
           "SD3IT"
          ],
          [
           "ConvertKit"
          ],
          [
           "Printify"
          ],
          [
           "Awardco"
          ],
          [
           "Pegasus Optimization Managers"
          ],
          [
           "FITT Scientific"
          ],
          [
           "Amherst Madison"
          ],
          [
           "LumenAd"
          ],
          [
           "Bendcare"
          ],
          [
           "The Welfont Companies"
          ],
          [
           "Skinny Dipped"
          ],
          [
           "RDI Technologies"
          ],
          [
           "Limited Run Games"
          ],
          [
           "SwanLeap"
          ],
          [
           "Vesta Modular"
          ],
          [
           "H&C Animal Health"
          ],
          [
           "Homesnap"
          ],
          [
           "Paradigm Construction"
          ],
          [
           "Allata"
          ],
          [
           "Fanchest"
          ],
          [
           "Fund That Flip"
          ],
          [
           "Villaway"
          ],
          [
           "IQM"
          ],
          [
           "Home Quality Remodeling"
          ],
          [
           "Beeswax"
          ],
          [
           "Netizen"
          ],
          [
           "phData"
          ],
          [
           "MDstaffers"
          ],
          [
           "TalEx"
          ],
          [
           "Nationwide Mortgage Bankers"
          ],
          [
           "Podium"
          ],
          [
           "SIA Solutions"
          ],
          [
           "QEO Group"
          ],
          [
           "Dropified"
          ],
          [
           "Sparx Hockey"
          ],
          [
           "TrueChoicePack"
          ],
          [
           "Ooze Wholesale"
          ],
          [
           "Progyny"
          ],
          [
           "Pax8"
          ],
          [
           "Terminus"
          ],
          [
           "Chomps"
          ],
          [
           "Rad Power Bikes"
          ],
          [
           "TradePending"
          ],
          [
           "West Creek Financial"
          ],
          [
           "CityLift Parking"
          ],
          [
           "Associated Veterans"
          ],
          [
           "Fetch Rewards"
          ],
          [
           "10X Genomics"
          ],
          [
           "4th & Heart"
          ],
          [
           "GreenPrint"
          ],
          [
           "Sky Marketing Corporation"
          ],
          [
           "Pendo"
          ],
          [
           "Core Software Technologies"
          ],
          [
           "EcoSystems"
          ],
          [
           "Brickell Men's Products"
          ],
          [
           "Patton Warehousing"
          ],
          [
           "SydanTech"
          ],
          [
           "WT Stevens Construction"
          ],
          [
           "Wandrd"
          ],
          [
           "Confidio"
          ],
          [
           "Dynamic Logistix"
          ],
          [
           "Asset Panda"
          ],
          [
           "SeaBay Building Group"
          ],
          [
           "Blue Fire Leads"
          ],
          [
           "Loanatik"
          ],
          [
           "SupportNinja"
          ],
          [
           "Grove Collaborative"
          ],
          [
           "Cisoshare"
          ],
          [
           "DigitalOnUS"
          ],
          [
           "GForce Life Sciences"
          ],
          [
           "Capitol Bridge"
          ],
          [
           "Kentucky Counseling Center"
          ],
          [
           "Shefit"
          ],
          [
           "US Mobile"
          ],
          [
           "Feedonomics"
          ],
          [
           "Amenity Health"
          ],
          [
           "Payability"
          ],
          [
           "Eagle Transport and Logistics"
          ],
          [
           "ShipBob"
          ],
          [
           "Powerhome Solar"
          ],
          [
           "LendingOne"
          ],
          [
           "OwnBackup"
          ],
          [
           "Invictus International Consulting"
          ],
          [
           "Go Energistics"
          ],
          [
           "Total Expert"
          ],
          [
           "BuzzyBooth"
          ],
          [
           "Carolin Soldo Coaching & Events"
          ],
          [
           "Cognira"
          ],
          [
           "B3 Group"
          ],
          [
           "Inspiranza Designs"
          ],
          [
           "OnesourcePCS"
          ],
          [
           "Cience Technologies"
          ],
          [
           "Austin Cryo Ventures"
          ],
          [
           "Sweet Loren's"
          ],
          [
           "Copper"
          ],
          [
           "5 Star Roofing and Restoration"
          ],
          [
           "DigitalCrafts"
          ],
          [
           "LoadUp Technologies"
          ],
          [
           "SkillSet Group"
          ],
          [
           "Ally Logistics"
          ],
          [
           "BAMFi"
          ],
          [
           "Potoo"
          ],
          [
           "Parsons Xtreme Golf"
          ],
          [
           "Onfleet"
          ],
          [
           "PatientPop"
          ],
          [
           "Gravity IT Resources"
          ],
          [
           "MedLab International"
          ],
          [
           "Equity & Help"
          ],
          [
           "Ridgeline International"
          ],
          [
           "China Metal Solutions"
          ],
          [
           "BlueSky Resource Solutions"
          ],
          [
           "Centauri Health Solutions"
          ],
          [
           "CellTrade NY"
          ],
          [
           "Exabeam"
          ],
          [
           "Kinsmen Group"
          ],
          [
           "Owens Recovery Science"
          ],
          [
           "WinIt"
          ],
          [
           "Techolution"
          ],
          [
           "Solvix Solutions"
          ],
          [
           "LoveBug Probiotics"
          ],
          [
           "Nationwide Pharmaceutical"
          ],
          [
           "Freedom Forever"
          ],
          [
           "Alpha Omega Integration"
          ],
          [
           "Arsenal Strength"
          ],
          [
           "Capital Brand Group"
          ],
          [
           "FedWriters"
          ],
          [
           "Sethmar Transportation"
          ],
          [
           "Hyperion Partners"
          ],
          [
           "Arcalea"
          ],
          [
           "Haga Kommer"
          ],
          [
           "Waggl"
          ],
          [
           "Roman Roofing"
          ],
          [
           "Akumina"
          ],
          [
           "ShipMonk"
          ],
          [
           "BrillMedia.co"
          ],
          [
           "Rocket Insights"
          ],
          [
           "Tridant Solutions"
          ],
          [
           "ESC Choice"
          ],
          [
           "Nugget"
          ],
          [
           "Octopi Brewing"
          ],
          [
           "KnowBe4"
          ],
          [
           "Kinect Solar"
          ],
          [
           "ComplianceQuest"
          ],
          [
           "DecisionPoint"
          ],
          [
           "Bombas"
          ],
          [
           "Jonas Paul Eyewear"
          ],
          [
           "Tamimi Pharmacy"
          ],
          [
           "Ad Hoc"
          ],
          [
           "Valify"
          ],
          [
           "Sapper Consulting"
          ],
          [
           "Privy"
          ],
          [
           "Scooch"
          ],
          [
           "Monkedia"
          ],
          [
           "UPshow"
          ],
          [
           "CampusLogic"
          ],
          [
           "PCC Cleaning and Maintenance"
          ],
          [
           "Quirk Creative"
          ],
          [
           "Tricopian"
          ],
          [
           "Efficient Home Services of Florida"
          ],
          [
           "Fitness Cubed"
          ],
          [
           "Velox Media"
          ],
          [
           "1Link Technology"
          ],
          [
           "Quadrant Resource"
          ],
          [
           "MyHealth"
          ],
          [
           "Velocity Global"
          ],
          [
           "Oseth Group"
          ],
          [
           "Koia"
          ],
          [
           "Sifted"
          ],
          [
           "PRx Performance"
          ],
          [
           "Universal Yums"
          ],
          [
           "Bridge Brothers"
          ],
          [
           "Dynamic Systems Technology"
          ],
          [
           "Supinf Technologies"
          ],
          [
           "Davis Cargo"
          ],
          [
           "Polaris Energy Services"
          ],
          [
           "SetSchedule"
          ],
          [
           "L2 Defense"
          ],
          [
           "Motivosity"
          ],
          [
           "Advoc8"
          ],
          [
           "Real Plans"
          ],
          [
           "Axiom Strategies"
          ],
          [
           "Midway Staffing"
          ],
          [
           "Perfect Part"
          ],
          [
           "Silverline Home Remodeling"
          ],
          [
           "Maxim Zenwise Opco"
          ],
          [
           "World Housing Solution"
          ],
          [
           "City Ventures"
          ],
          [
           "Web Presence"
          ],
          [
           "Energy Earth"
          ],
          [
           "Empowered Electric"
          ],
          [
           "Bookkeeper Business Launch"
          ],
          [
           "Noom"
          ],
          [
           "Zenith Engineers"
          ],
          [
           "Let's Make A Lead"
          ],
          [
           "Momentum Solar"
          ],
          [
           "Radius Networks"
          ],
          [
           "Fattmerchant"
          ],
          [
           "Infinium Group"
          ],
          [
           "Memory.net"
          ],
          [
           "FactoryPure"
          ],
          [
           "Untappd"
          ],
          [
           "MikMak"
          ],
          [
           "Fusion Recruiting Labs"
          ],
          [
           "Office Libations"
          ],
          [
           "Broker Online Exchange"
          ],
          [
           "ODL Services"
          ],
          [
           "Platinum Health"
          ],
          [
           "Avelead"
          ],
          [
           "CMG-Midwest"
          ],
          [
           "Quince Orchard Psychotherapy"
          ],
          [
           "RedShelf"
          ],
          [
           "TransAmerica Express Logistics"
          ],
          [
           "Flipcause"
          ],
          [
           "Simply NUC"
          ],
          [
           "Virtual Machine Solutions"
          ],
          [
           "Gateway Genomics"
          ],
          [
           "Strativia"
          ],
          [
           "ClockShark"
          ],
          [
           "TriFold"
          ],
          [
           "Energy Ogre"
          ],
          [
           "D. Ott Construction"
          ],
          [
           "Medisuite"
          ],
          [
           "MYTA Technologies"
          ],
          [
           "Deal Partners"
          ],
          [
           "Tier4 Group"
          ],
          [
           "IES"
          ],
          [
           "ResiCap"
          ],
          [
           "Transcend Security Solutions"
          ],
          [
           "GlobalTex USA"
          ],
          [
           "Vespa Group"
          ],
          [
           "Bridgewater Homes"
          ],
          [
           "Park Financial Group"
          ],
          [
           "Chronovo"
          ],
          [
           "Maverick Media Ventures"
          ],
          [
           "Kortx"
          ],
          [
           "Bawla Consulting"
          ],
          [
           "Pawstruck"
          ],
          [
           "Blue Raven Solar"
          ],
          [
           "Woom Bikes USA"
          ],
          [
           "Mixt Solutions"
          ],
          [
           "ThrivePass"
          ],
          [
           "Premier Health Solutions"
          ],
          [
           "Impact Analytics"
          ],
          [
           "Hemper"
          ],
          [
           "Intermex"
          ],
          [
           "PatientBond"
          ],
          [
           "Ginn Group"
          ],
          [
           "PANTHERX Rare"
          ],
          [
           "Factorial Digital"
          ],
          [
           "T-Rex Solutions"
          ],
          [
           "Toops"
          ],
          [
           "InfuseMedia"
          ],
          [
           "Teachable"
          ],
          [
           "Squadhelp.com"
          ],
          [
           "Take2 Consulting"
          ],
          [
           "Epion Health"
          ],
          [
           "Gotcha Media Holdings"
          ],
          [
           "Kyzen Consulting Services"
          ],
          [
           "CheckedUp"
          ],
          [
           "Cultivate Advisors"
          ],
          [
           "Advisors Education"
          ],
          [
           "Recleim"
          ],
          [
           "Maddox Industrial Transformer"
          ],
          [
           "Mako Medical Laboratories"
          ],
          [
           "Alert Media"
          ],
          [
           "Southern Veterinary Partners"
          ],
          [
           "Flexicrew Technical Services"
          ],
          [
           "Texas Beauty Labs"
          ],
          [
           "Scientist.com"
          ],
          [
           "Hennessey Consulting"
          ],
          [
           "Meleeo"
          ],
          [
           "SNA International"
          ],
          [
           "Staymobile"
          ],
          [
           "Amani Enterprises"
          ],
          [
           "Privateer IT"
          ],
          [
           "Discuss.io"
          ],
          [
           "Dollar Fulfillment"
          ],
          [
           "Domino Data Lab"
          ],
          [
           "LYFE Marketing"
          ],
          [
           "Alivi"
          ],
          [
           "EETech Media"
          ],
          [
           "Gravis Law"
          ],
          [
           "Cousins Logistics"
          ],
          [
           "Position2"
          ],
          [
           "BentoBox CMS"
          ],
          [
           "Symbol Health Solutions"
          ],
          [
           "Crisp Video Group"
          ],
          [
           "Sand Cloud"
          ],
          [
           "Wrapify"
          ],
          [
           "Iuvo Logistics"
          ],
          [
           "Group 10 Capital"
          ],
          [
           "Basemakers"
          ],
          [
           "Tossware"
          ],
          [
           "360ia"
          ],
          [
           "NextGen Leads"
          ],
          [
           "ColtonCooper"
          ],
          [
           "HANDLE"
          ],
          [
           "BestSelf Ventures"
          ],
          [
           "TazKai"
          ],
          [
           "Cumulus Networks"
          ],
          [
           "OppLoans"
          ],
          [
           "Common Thread Collective"
          ],
          [
           "Cloudbeds"
          ],
          [
           "Vested Metals International"
          ],
          [
           "Platt Cheema Richmond"
          ],
          [
           "Revelry"
          ],
          [
           "QOS Networks"
          ],
          [
           "Koddi"
          ],
          [
           "Change Media Group"
          ],
          [
           "BLDG-25"
          ],
          [
           "Dropoff"
          ],
          [
           "Modavate"
          ],
          [
           "Arcus Financial Intelligence"
          ],
          [
           "Digital Resource"
          ],
          [
           "Girikon"
          ],
          [
           "Liberty Rent Guarantee"
          ],
          [
           "Inflowlogistics"
          ],
          [
           "Pymetrics"
          ],
          [
           "Madewell Construction"
          ],
          [
           "Power Target"
          ],
          [
           "Bidwise"
          ],
          [
           "Wavicle Data Solutions"
          ],
          [
           "Red Seat Ventures"
          ],
          [
           "reCommerce"
          ],
          [
           "Design Pickle"
          ],
          [
           "Hyperice"
          ],
          [
           "Synfiny Advisors"
          ],
          [
           "MNS1 Express"
          ],
          [
           "TomboyX"
          ],
          [
           "ShopPad"
          ],
          [
           "Carta"
          ],
          [
           "SnackNation"
          ],
          [
           "Staffing as a Mission"
          ],
          [
           "Azure Knowledge"
          ],
          [
           "Element78 Partners"
          ],
          [
           "inVibe Labs"
          ],
          [
           "SimpleNexus"
          ],
          [
           "The Language Group"
          ],
          [
           "Green Bits"
          ],
          [
           "M2M In Motion"
          ],
          [
           "AdFicient"
          ],
          [
           "Raddish Kids"
          ],
          [
           "Titan Mechanical"
          ],
          [
           "NanaMacs Clothing"
          ],
          [
           "Perimeter Security Partners"
          ],
          [
           "LYNC Logistics"
          ],
          [
           "Cox Residential"
          ],
          [
           "Stealth-ISS Group"
          ],
          [
           "Seeq Corporation"
          ],
          [
           "M7 Services"
          ],
          [
           "Healthy Human"
          ],
          [
           "Professional Hair Labs"
          ],
          [
           "Strategic Alliance Business Group"
          ],
          [
           "Synup"
          ],
          [
           "First Stop Health"
          ],
          [
           "BoxyCharm"
          ],
          [
           "WearMe Pro"
          ],
          [
           "Vidoori"
          ],
          [
           "Stackify"
          ],
          [
           "XY - The Persistent Company"
          ],
          [
           "Dental Intelligence"
          ],
          [
           "PowerInbox"
          ],
          [
           "SimpleTire"
          ],
          [
           "Creative State Marketing"
          ],
          [
           "UrbanStems"
          ],
          [
           "GCubed Enterprises"
          ],
          [
           "VideoAmp"
          ],
          [
           "SweetScience Marketing"
          ],
          [
           "Rented.com"
          ],
          [
           "Lakarya"
          ],
          [
           "Cosset"
          ],
          [
           "Tomahawk Strategic Solutions"
          ],
          [
           "Della Infotech"
          ],
          [
           "Realvolve"
          ],
          [
           "Edvenswa Tech"
          ],
          [
           "UpNest"
          ],
          [
           "Double Wood"
          ],
          [
           "Van Law Firm"
          ],
          [
           "Mobile Text Alerts"
          ],
          [
           "Apogee Stores"
          ],
          [
           "New Credit America"
          ],
          [
           "Bore Tech Utilities"
          ],
          [
           "Anna Marie Events"
          ],
          [
           "Pattern"
          ],
          [
           "Advanced Operations Partners"
          ],
          [
           "Newline Interactive"
          ],
          [
           "Groove.co"
          ],
          [
           "G2"
          ],
          [
           "Lean Staffing Solutions"
          ],
          [
           "Vigene Biosciences"
          ],
          [
           "Pitisci & Associates"
          ],
          [
           "CouponCause.com"
          ],
          [
           "Arrive Logistics"
          ],
          [
           "Integrity Cargo Solutions"
          ],
          [
           "Wireless Everywhere"
          ],
          [
           "AudienceX"
          ],
          [
           "SOCi"
          ],
          [
           "Advanced Architectural Products"
          ],
          [
           "Proper Media"
          ],
          [
           "Dispatch Technologies"
          ],
          [
           "Kisi Security"
          ],
          [
           "BridgeTech"
          ],
          [
           "Boomerang Transportation"
          ],
          [
           "E&M Technologies"
          ],
          [
           "Advertise Purple"
          ],
          [
           "Spike Brewing Equipment"
          ],
          [
           "Pathway Vet Alliance"
          ],
          [
           "Bailey's Blossoms"
          ],
          [
           "Simple Technology Solutions"
          ],
          [
           "SkyRun Breckenridge"
          ],
          [
           "Clean Juice"
          ],
          [
           "InGenius Prep"
          ],
          [
           "Aysco Technology Integration"
          ],
          [
           "Kenna Security"
          ],
          [
           "CarLotz"
          ],
          [
           "Assured Consulting Solutions"
          ],
          [
           "The Garrett Companies"
          ],
          [
           "Era Transport"
          ],
          [
           "M-Communications"
          ],
          [
           "ClickFunnels"
          ],
          [
           "BCM London"
          ],
          [
           "Uptime"
          ],
          [
           "Competitive Range Solutions"
          ],
          [
           "Real Broker"
          ],
          [
           "Buhler Commercial"
          ],
          [
           "Trailhead Marketing"
          ],
          [
           "Factor 75"
          ],
          [
           "Algolia"
          ],
          [
           "Midway Dental Supply"
          ],
          [
           "eAudit"
          ],
          [
           "Panagora Group"
          ],
          [
           "MCI"
          ],
          [
           "Abrams Realty"
          ],
          [
           "Pelican Waste & Debris"
          ],
          [
           "Gametime"
          ],
          [
           "Morning Lavender"
          ],
          [
           "Keypath Education"
          ],
          [
           "Thigo International"
          ],
          [
           "Saved By The Dress"
          ],
          [
           "Starc Systems"
          ],
          [
           "Angel Heart Boutique"
          ],
          [
           "ARM Consulting"
          ],
          [
           "Chacka Marketing"
          ],
          [
           "MapleMark Bank"
          ],
          [
           "Vonlane"
          ],
          [
           "Prosper Group"
          ],
          [
           "Point3 Security"
          ],
          [
           "Directive"
          ],
          [
           "Alkami Technology"
          ],
          [
           "QuickBox Fulfillment"
          ],
          [
           "SandsRx"
          ],
          [
           "The Building People"
          ],
          [
           "The SnapBar"
          ],
          [
           "FitSmallBusiness.com"
          ],
          [
           "Powerful Professionals"
          ],
          [
           "Probo Medical"
          ],
          [
           "Spotio"
          ],
          [
           "Prime Meridian Capital Management"
          ],
          [
           "Fox Dealer"
          ],
          [
           "Kubikware"
          ],
          [
           "Rocket Referrals"
          ],
          [
           "Bonusly"
          ],
          [
           "Trident Transport"
          ],
          [
           "The Fila Group"
          ],
          [
           "Seaman's Beverage and Logistics"
          ],
          [
           "ServiceTitan"
          ],
          [
           "BlueWave Solar"
          ],
          [
           "Resource Financial"
          ],
          [
           "Saprex"
          ],
          [
           "Simple Energy"
          ],
          [
           "New Energy Equity"
          ],
          [
           "Vedder Holsters"
          ],
          [
           "FloWater"
          ],
          [
           "Vaughan Buckley Construction"
          ],
          [
           "Acacia Counseling & Wellness"
          ],
          [
           "Every Door Real Estate"
          ],
          [
           "Thought Logic Consulting"
          ],
          [
           "PBG Consulting"
          ],
          [
           "Sarvicus"
          ],
          [
           "Universal Processing"
          ],
          [
           "The Apella Group"
          ],
          [
           "Lemonaid Health"
          ],
          [
           "Coulee Techlink"
          ],
          [
           "Transform Group"
          ],
          [
           "JP Ecommerce"
          ],
          [
           "Hardcore Fitness Boot Camp"
          ],
          [
           "cellhelmet"
          ],
          [
           "Conga"
          ],
          [
           "Blast Tech"
          ],
          [
           "LoanPaymentPro"
          ],
          [
           "Admera Health"
          ],
          [
           "Professional Realty Services International"
          ],
          [
           "Social Sparkling Wine"
          ],
          [
           "TicketSauce.com"
          ],
          [
           "ProSource360 Consulting Services"
          ],
          [
           "Spinnaker Consulting Group"
          ],
          [
           "Maxx Builders and Designers"
          ],
          [
           "Vape Guys"
          ],
          [
           "Y-Tech"
          ],
          [
           "Silver Trucking"
          ],
          [
           "Linux Academy"
          ],
          [
           "Spartan Armor Systems"
          ],
          [
           "Mainsail Group"
          ],
          [
           "Baybridge Pharmacy Corp"
          ],
          [
           "Quantico Tactical"
          ],
          [
           "Knewsales Group"
          ],
          [
           "Beauty Bakerie Cosmetics Brand"
          ],
          [
           "Two Bulls"
          ],
          [
           "Nickel & Suede"
          ],
          [
           "Teknismart Solutions"
          ],
          [
           "Sprout School Supplies"
          ],
          [
           "Kuli Kuli Foods"
          ],
          [
           "LifeHealth"
          ],
          [
           "Peaxy"
          ],
          [
           "Private Label Extensions"
          ],
          [
           "Retail Service Systems"
          ],
          [
           "Icon Building Supplies"
          ],
          [
           "Prime Technical Services"
          ],
          [
           "Hyper Networks"
          ],
          [
           "Out of the Box Technology"
          ],
          [
           "Aldevra"
          ],
          [
           "Native Digital"
          ],
          [
           "Karya Property Management"
          ],
          [
           "Full Circle Brands"
          ],
          [
           "Harbor Compliance"
          ],
          [
           "LEDMyplace.com"
          ],
          [
           "NEXgistics"
          ],
          [
           "Concourse Federal Group"
          ],
          [
           "Elite Insurance Partners"
          ],
          [
           "SBGA"
          ],
          [
           "Pentwater Furnishing"
          ],
          [
           "BayInfotech"
          ],
          [
           "XY Planning Network"
          ],
          [
           "Gymguyz"
          ],
          [
           "Steward Construction Services"
          ],
          [
           "Fusion"
          ],
          [
           "PositivePsyche.Biz Corp"
          ],
          [
           "GridGain Systems"
          ],
          [
           "Levvel"
          ],
          [
           "Employdrive"
          ],
          [
           "BairesDev"
          ],
          [
           "TripleLift"
          ],
          [
           "Digital Hyve"
          ],
          [
           "Printful"
          ],
          [
           "Ashley Black Guru"
          ],
          [
           "Phoenix Operations Group"
          ],
          [
           "Talk IQ Media"
          ],
          [
           "GovernmentCIO"
          ],
          [
           "Draken International"
          ],
          [
           "Tierra Encantada"
          ],
          [
           "The Digital Ring"
          ],
          [
           "FNEX"
          ],
          [
           "Elite Transit Solutions"
          ],
          [
           "Nexus Pharmaceuticals"
          ],
          [
           "Dynamo Technologies"
          ],
          [
           "Dignari"
          ],
          [
           "All-Pro Electric"
          ],
          [
           "Alphacore"
          ],
          [
           "Breakthrough Physical Therapy Marketing"
          ],
          [
           "Kingsview Partners"
          ],
          [
           "GlobalPro Recovery"
          ],
          [
           "FreeAlliance.com"
          ],
          [
           "HealthCare.com"
          ],
          [
           "Ansley Operating Holding Company"
          ],
          [
           "Blue Marble Payroll"
          ],
          [
           "Green Powered Technology"
          ],
          [
           "Conversion Logix"
          ],
          [
           "Jay Morrison Academy"
          ],
          [
           "Anson Belt"
          ],
          [
           "Braeden Engineering"
          ],
          [
           "Social Fulcrum"
          ],
          [
           "Trinity Technology Partners"
          ],
          [
           "Vetnique Pet Products"
          ],
          [
           "JBK Wellness Labs"
          ],
          [
           "cloudIT"
          ],
          [
           "The Shredder + MedShred"
          ],
          [
           "Tranont"
          ],
          [
           "Nyla Technology Solutions"
          ],
          [
           "Azazie"
          ],
          [
           "Vuesol Technologies"
          ],
          [
           "Black Spectacles"
          ],
          [
           "Tractleads"
          ],
          [
           "HealthFlex Home Health Services"
          ],
          [
           "Fieldwork Brewing Company"
          ],
          [
           "Chewy"
          ],
          [
           "Chloeta"
          ],
          [
           "Enshored"
          ],
          [
           "Ingrain Construction"
          ],
          [
           "eduPresent"
          ],
          [
           "Sendlane"
          ],
          [
           "Simply Nutrition"
          ],
          [
           "MobiChord"
          ],
          [
           "Interim HealthCare"
          ],
          [
           "Fundera"
          ],
          [
           "AdvisoryCloud"
          ],
          [
           "Merchology"
          ],
          [
           "Cintel"
          ],
          [
           "Fletcher Construction"
          ],
          [
           "TechAnax"
          ],
          [
           "Green Street Power Partners"
          ],
          [
           "Evergreen Market"
          ],
          [
           "Mohawk Group Holdings"
          ],
          [
           "Nav"
          ],
          [
           "ERP Global"
          ],
          [
           "Saligram Systems"
          ],
          [
           "Smart Roofs Solar"
          ],
          [
           "BOS Security"
          ],
          [
           "Bustle Digital Group"
          ],
          [
           "Alchemy 365"
          ],
          [
           "WheelHouse Solutions"
          ],
          [
           "Pearson Smith Realty"
          ],
          [
           "Zennify"
          ],
          [
           "5Q Partners"
          ],
          [
           "Vcheck Global"
          ],
          [
           "Zolli Candy"
          ],
          [
           "Innowave Marketing Group"
          ],
          [
           "CMR Construction & Roofing"
          ],
          [
           "Strategic Digital Services"
          ],
          [
           "Kettlebell Kings"
          ],
          [
           "Rebbl"
          ],
          [
           "Thinx"
          ],
          [
           "BottleKeeper"
          ],
          [
           "Standard Freight"
          ],
          [
           "BMNT Partners"
          ],
          [
           "Driftless Glen Distillery"
          ],
          [
           "CustomPictureFrames.com"
          ],
          [
           "Agillitics"
          ],
          [
           "Nivid Infotech"
          ],
          [
           "UrbanBCN Worldwide"
          ],
          [
           "Maggie Louise Confections"
          ],
          [
           "Willy's"
          ],
          [
           "Quicksilver Scientific"
          ],
          [
           "Directional Services"
          ],
          [
           "NexusTek"
          ],
          [
           "NativePath"
          ],
          [
           "Eagle Pipe"
          ],
          [
           "o9 Solutions"
          ],
          [
           "SH Mechanical"
          ],
          [
           "GeistM"
          ],
          [
           "Coherent Staffing Solutions"
          ],
          [
           "GrandView Aviation"
          ],
          [
           "CTW Group"
          ],
          [
           "ORC Utility & Infrastructure Land Services"
          ],
          [
           "Satelles"
          ],
          [
           "Apex Dental Partners"
          ],
          [
           "OneStream Software"
          ],
          [
           "National Insurance Consulting Group"
          ],
          [
           "Solvegy"
          ],
          [
           "Spruce InfoTech"
          ],
          [
           "Smart City Locating"
          ],
          [
           "The Cabana Group"
          ],
          [
           "Ideal Concepts"
          ],
          [
           "VividCortex"
          ],
          [
           "Green Threads"
          ],
          [
           "C Evans Consulting"
          ],
          [
           "Village Realty"
          ],
          [
           "Be Social"
          ],
          [
           "Incorporate Massage"
          ],
          [
           "SHR Consulting Group"
          ],
          [
           "Insticator"
          ],
          [
           "Ardent Pest Control"
          ],
          [
           "Relief Factor"
          ],
          [
           "Aura Financial Corporation"
          ],
          [
           "Emerald Pools and Spas"
          ],
          [
           "Vydia"
          ],
          [
           "Emergent Method"
          ],
          [
           "MBCO Engineering."
          ],
          [
           "ConcealFab Corporation"
          ],
          [
           "CapStone Technologies"
          ],
          [
           "Evolution Event Solutions"
          ],
          [
           "Patient Care Coordination"
          ],
          [
           "Sun Mountain"
          ],
          [
           "ChromebookParts.com"
          ],
          [
           "Ad Victoriam Solutions"
          ],
          [
           "Acliviti"
          ],
          [
           "Talent Solvers"
          ],
          [
           "Retention Science (ReSci)"
          ],
          [
           "Hotel Rehabs"
          ],
          [
           "Ibotta"
          ],
          [
           "Foundation Software Group"
          ],
          [
           "CanSource"
          ],
          [
           "MedTrust Medical Transport"
          ],
          [
           "123 Home Care"
          ],
          [
           "Spark.Orange"
          ],
          [
           "LeaseAccelerator"
          ],
          [
           "Zoom Video Communications"
          ],
          [
           "Xcaliber Solutions"
          ],
          [
           "Piano"
          ],
          [
           "PresPro Homes"
          ],
          [
           "Kruze Consulting"
          ],
          [
           "The Auto Cave"
          ],
          [
           "Funworks"
          ],
          [
           "Sevan Multi-Site Solutions"
          ],
          [
           "Qubole"
          ],
          [
           "Gather Workspaces"
          ],
          [
           "Ohio Cashflow"
          ],
          [
           "VSA"
          ],
          [
           "Stadiumred Group"
          ],
          [
           "Acuity Surgical"
          ],
          [
           "Evans Industrial"
          ],
          [
           "Mi-One Brands"
          ],
          [
           "Gather"
          ],
          [
           "Option Alpha"
          ],
          [
           "FP Property Restoration"
          ],
          [
           "Y7 Studio"
          ],
          [
           "Empire Flippers"
          ],
          [
           "Crossflow Technologies"
          ],
          [
           "Transworld Business Advisors - Rocky Mountain"
          ],
          [
           "Steward Partners Global Advisory"
          ],
          [
           "AppsFlyer"
          ],
          [
           "Ruby Has Fulfillment"
          ],
          [
           "Freed Marcroft"
          ],
          [
           "Broadleaf"
          ],
          [
           "Reduce"
          ],
          [
           "My Home Group Real Estate"
          ],
          [
           "100% Chiropractic"
          ],
          [
           "Media Creek"
          ],
          [
           "Snap! Mobile"
          ],
          [
           "Avionos"
          ],
          [
           "STRATIS IoT"
          ],
          [
           "HookBang"
          ],
          [
           "ExcelHealth"
          ],
          [
           "Blue Air Training"
          ],
          [
           "Katydid"
          ],
          [
           "JLE Industries"
          ],
          [
           "Kipsu"
          ],
          [
           "Urban Capital Group"
          ],
          [
           "Garage Champs"
          ],
          [
           "Epic Personnel Partners"
          ],
          [
           "Wayne Contracting"
          ],
          [
           "K2 Dental Arts"
          ],
          [
           "V3Gate"
          ],
          [
           "Visiture"
          ],
          [
           "RevUnit"
          ],
          [
           "CME Lending Group"
          ],
          [
           "Cira Infotech"
          ],
          [
           "Tallgrass Freight"
          ],
          [
           "Anchor Loans"
          ],
          [
           "Springbot"
          ],
          [
           "Forward Financing"
          ],
          [
           "Weave Communications"
          ],
          [
           "Dr. Squatch"
          ],
          [
           "Dagger"
          ],
          [
           "Stukent"
          ],
          [
           "Revived Exteriors"
          ],
          [
           "Ienjoy"
          ],
          [
           "The Hiring Group"
          ],
          [
           "Sehlke Consulting"
          ],
          [
           "Intellectsoft"
          ],
          [
           "Axiologic Solutions"
          ],
          [
           "Skar Audio"
          ],
          [
           "Amerikas"
          ],
          [
           "Clutch"
          ],
          [
           "The Garage Group"
          ],
          [
           "NewsWatch"
          ],
          [
           "Warrior Media"
          ],
          [
           "Unified Building Group"
          ],
          [
           "Team Adhoc"
          ],
          [
           "Dynamo"
          ],
          [
           "Kaimetrix"
          ],
          [
           "DSD Merchandisers"
          ],
          [
           "Synergy Home"
          ],
          [
           "RPM"
          ],
          [
           "AdCellerant"
          ],
          [
           "Branded Group"
          ],
          [
           "US Business Funding"
          ],
          [
           "ShipEX"
          ],
          [
           "The Rx Advocates"
          ],
          [
           "Octane Energy"
          ],
          [
           "The Leads Network"
          ],
          [
           "TruSource Consulting Group"
          ],
          [
           "JP Services"
          ],
          [
           "Blake Willson Group"
          ],
          [
           "CloudQ"
          ],
          [
           "Natix"
          ],
          [
           "Indev"
          ],
          [
           "TorkLaw"
          ],
          [
           "The Linked Strategies Group"
          ],
          [
           "Health Recovery Solutions"
          ],
          [
           "Foresight Wealth Management"
          ],
          [
           "Ingram Fire Protection"
          ],
          [
           "Spatial Front"
          ],
          [
           "Bean Box"
          ],
          [
           "Fifth Wheel Freight"
          ],
          [
           "US Cargo Link"
          ],
          [
           "IBEX IT Business Experts"
          ],
          [
           "Yoga International"
          ],
          [
           "Health and Commerce"
          ],
          [
           "Beauty by Earth"
          ],
          [
           "SupplyKick"
          ],
          [
           "Grillaholics"
          ],
          [
           "Zamp HR"
          ],
          [
           "Shepherd Search Group"
          ],
          [
           "BeauTech Power Systems"
          ],
          [
           "Proximity Learning"
          ],
          [
           "Olly"
          ],
          [
           "CGC Consulting"
          ],
          [
           "FyberCom"
          ],
          [
           "Ametros"
          ],
          [
           "Greek House"
          ],
          [
           "The Ricciardi Group"
          ],
          [
           "Blackstone Fire Control"
          ],
          [
           "Levementum"
          ],
          [
           "Key Tower"
          ],
          [
           "Kids in the Game"
          ],
          [
           "Hubb"
          ],
          [
           "Body del Sol Medical Spa"
          ],
          [
           "Xero Shoes"
          ],
          [
           "Bluecore"
          ],
          [
           "Valiant Residential"
          ],
          [
           "Flavors15"
          ],
          [
           "Passport"
          ],
          [
           "Integrative Physiatry"
          ],
          [
           "IPfolio"
          ],
          [
           "Southern Designs"
          ],
          [
           "Sabio Mobile"
          ],
          [
           "Tellenger"
          ],
          [
           "Kodiak Cakes"
          ],
          [
           "US Aluminum Services"
          ],
          [
           "Trellis"
          ],
          [
           "Sgt. Clean's Car Wash"
          ],
          [
           "CoSchedule"
          ],
          [
           "Merit321, Launching Careers"
          ],
          [
           "Freight Right Global Logistics"
          ],
          [
           "HQSoftware"
          ],
          [
           "Bond Collective"
          ],
          [
           "Boll & Branch"
          ],
          [
           "ApplePie Capital"
          ],
          [
           "Carroll Organization"
          ],
          [
           "TESCHGlobal"
          ],
          [
           "ZeroBounce"
          ],
          [
           "Hubstaff"
          ],
          [
           "SEI-Chicago"
          ],
          [
           "Greenix Holdings"
          ],
          [
           "Flywheel"
          ],
          [
           "Clear Touch"
          ],
          [
           "Critical Project Services"
          ],
          [
           "Kaizen Media Group"
          ],
          [
           "Lyon Stahl Investment Real Estate"
          ],
          [
           "Wellbots"
          ],
          [
           "HomeWorks Energy"
          ],
          [
           "The Agency Texas"
          ],
          [
           "Hireology"
          ],
          [
           "Omaze"
          ],
          [
           "Billy Gene Is Marketing"
          ],
          [
           "Baseballism"
          ],
          [
           "Changeis"
          ],
          [
           "F3 MFG"
          ],
          [
           "Gimbal"
          ],
          [
           "Universal Windows Direct"
          ],
          [
           "CFOL International"
          ],
          [
           "VRC Metal Systems"
          ],
          [
           "Marketplace Ops"
          ],
          [
           "Walk West"
          ],
          [
           "Marketopia"
          ],
          [
           "B&B Beverage Management"
          ],
          [
           "Zip Moving and Storage"
          ],
          [
           "Website Closers"
          ],
          [
           "ConversionPoint Technologies"
          ],
          [
           "Parrish and Partners"
          ],
          [
           "OH Partners"
          ],
          [
           "Stratus Video"
          ],
          [
           "Etegra"
          ],
          [
           "Harper Scott"
          ],
          [
           "Crossfire Sound Productions"
          ],
          [
           "FireDisc Cookers"
          ],
          [
           "Softrams"
          ],
          [
           "MDsave"
          ],
          [
           "Skynet Healthcare Technologies"
          ],
          [
           "Peridot Solutions"
          ],
          [
           "Dock Street Trading"
          ],
          [
           "Anchour"
          ],
          [
           "Hawke Media"
          ],
          [
           "Blue Canyon Technologies"
          ],
          [
           "Sojourn Solutions"
          ],
          [
           "MzeroA.com"
          ],
          [
           "Fast Slow Motion"
          ],
          [
           "American Business Brokers"
          ],
          [
           "The Retail Outsource"
          ],
          [
           "ProcureIT Network"
          ],
          [
           "Orion Consulting Group"
          ],
          [
           "Proforma Springboard Promotions"
          ],
          [
           "CentralReach"
          ],
          [
           "LMK Clinical Research Consulting"
          ],
          [
           "MessageWrap"
          ],
          [
           "The Pet Loss Center"
          ],
          [
           "Health Union"
          ],
          [
           "Kartago America"
          ],
          [
           "CardFlight"
          ],
          [
           "Clientserver Technology Solutions"
          ],
          [
           "DLP Real Estate Capital"
          ],
          [
           "Friendly Home Services"
          ],
          [
           "Zoup! Specialty Products"
          ],
          [
           "Uber Technologies"
          ],
          [
           "EngagedIN"
          ],
          [
           "RagingBull.com"
          ],
          [
           "Holzer Resnick Contracting"
          ],
          [
           "Wishlist Rewards"
          ],
          [
           "Edge Logistics"
          ],
          [
           "Visible Supply Chain Management"
          ],
          [
           "Skynet Integrations"
          ],
          [
           "Luxe RV"
          ],
          [
           "Burgess Civil"
          ],
          [
           "Chad T. Wilson Law Firm"
          ],
          [
           "FlexPrint Managed Print Solutions"
          ],
          [
           "Norada Real Estate Investments"
          ],
          [
           "Excel Impact"
          ],
          [
           "Kord Technologies"
          ],
          [
           "Eva Garland Consulting"
          ],
          [
           "Brivity"
          ],
          [
           "Natural Force"
          ],
          [
           "Wright Energy Partners"
          ],
          [
           "Tech Talent South"
          ],
          [
           "FHE"
          ],
          [
           "Beer Home Team"
          ],
          [
           "Global Soft Systems"
          ],
          [
           "Ecomitize"
          ],
          [
           "Chenal Family Therapy"
          ],
          [
           "Grand Canyon Gas Logs"
          ],
          [
           "VOLO"
          ],
          [
           "Trupet"
          ],
          [
           "Wafts Solutions"
          ],
          [
           "Freedom Real Estate"
          ],
          [
           "Volt Athletics"
          ],
          [
           "Bluewater Media"
          ],
          [
           "RKB Handyman Services"
          ],
          [
           "E Contractors"
          ],
          [
           "RIVS"
          ],
          [
           "Motus"
          ],
          [
           "MJ Seats"
          ],
          [
           "Inter-Op"
          ],
          [
           "Elevate Staffing"
          ],
          [
           "Coffee Meets Bagel"
          ],
          [
           "Streamline Marketing"
          ],
          [
           "GEN-Y Hitch"
          ],
          [
           "Reverb.com"
          ],
          [
           "Tipping Point Solutions"
          ],
          [
           "Need/Want"
          ],
          [
           "Socialfly"
          ],
          [
           "Everyware"
          ],
          [
           "Trash Butler"
          ],
          [
           "Channel Partners Capital"
          ],
          [
           "Savan Group"
          ],
          [
           "Onit"
          ],
          [
           "Better.com"
          ],
          [
           "Skuid"
          ],
          [
           "Forcura"
          ],
          [
           "BarnAllen Technologies"
          ],
          [
           "DMB Financial"
          ],
          [
           "Audantic"
          ],
          [
           "Suite Management Franchising"
          ],
          [
           "The Hoth"
          ],
          [
           "360 Energy Solutions"
          ],
          [
           "Decode Digital Marketing"
          ],
          [
           "Apetan Consulting"
          ],
          [
           "Virtue Capital Management"
          ],
          [
           "Harts Servcies"
          ],
          [
           "Ridge Wallet"
          ],
          [
           "American Print Consultants"
          ],
          [
           "Alley"
          ],
          [
           "Votto Vines Importing"
          ],
          [
           "Scott, Vicknair, Hair & Checki"
          ],
          [
           "3D Solar"
          ],
          [
           "Vessel FWP"
          ],
          [
           "Advanced Computer Solutions Group"
          ],
          [
           "Choozle"
          ],
          [
           "Ease Logistics"
          ],
          [
           "Crisp Marketing"
          ],
          [
           "Darn Good Yarn"
          ],
          [
           "Beemac"
          ],
          [
           "Preferred Home Services"
          ],
          [
           "Ciconix"
          ],
          [
           "Atlanta Office Technologies"
          ],
          [
           "Seek Business Capital"
          ],
          [
           "Your Business Solutions"
          ],
          [
           "Nomatic"
          ],
          [
           "Farmgirl Flowers"
          ],
          [
           "Bombora"
          ],
          [
           "Frugal Flippers"
          ],
          [
           "SUMO Communications"
          ],
          [
           "Home View Technologies"
          ],
          [
           "CloudHesive"
          ],
          [
           "Braviant Holdings"
          ],
          [
           "ProSomnus Sleep Technologies"
          ],
          [
           "JP and Associates Realtors"
          ],
          [
           "23rd Group"
          ],
          [
           "Penji"
          ],
          [
           "FE International"
          ],
          [
           "Tredence"
          ],
          [
           "APS Building Services"
          ],
          [
           "Courier Distribution Systems"
          ],
          [
           "Energy Toolbase"
          ],
          [
           "Pathfinder Consultants"
          ],
          [
           "Mission Critical Facilities International"
          ],
          [
           "Xavier Creative House"
          ],
          [
           "FastExpert"
          ],
          [
           "Beverly Hills Teddy Bear"
          ],
          [
           "MOD Pizza"
          ],
          [
           "Chandlee and Sons Construction"
          ],
          [
           "Cherry Blow Dry Bar"
          ],
          [
           "Applied Development"
          ],
          [
           "Definitive Healthcare"
          ],
          [
           "Reliance Partners"
          ],
          [
           "Lief Labs"
          ],
          [
           "Inseev Interactive"
          ],
          [
           "Leeward Business Advisors"
          ],
          [
           "E. Bouchard Company"
          ],
          [
           "Pensionmark Financial Group"
          ],
          [
           "ShalePro Energy Services"
          ],
          [
           "Senior Healthcare Direct"
          ],
          [
           "ZippyPaws"
          ],
          [
           "Stay Alfred"
          ],
          [
           "Dropps"
          ],
          [
           "Fresh Consulting"
          ],
          [
           "NimbeLink"
          ],
          [
           "Century Support Services"
          ],
          [
           "FrontRunnerHC"
          ],
          [
           "United Carports"
          ],
          [
           "Nexxt Gen"
          ],
          [
           "Terradyne Engineering"
          ],
          [
           "Utah Global Transportation Management Solutions"
          ],
          [
           "PM Consulting Group"
          ],
          [
           "Greenhouse Software"
          ],
          [
           "Amazing Lash Studio"
          ],
          [
           "RevolutionParts"
          ],
          [
           "Metropolitan interactive"
          ],
          [
           "A1 Garage Door Service and Repair"
          ],
          [
           "Triumph Construction"
          ],
          [
           "Verde Solutions"
          ],
          [
           "High Road Craft Ice Cream"
          ],
          [
           "World Services"
          ],
          [
           "Fire & Brilliance"
          ],
          [
           "Shockoe.com"
          ],
          [
           "Zaniboni Lighting"
          ],
          [
           "Swenson He"
          ],
          [
           "GreyCastle Security"
          ],
          [
           "Drive Social Media"
          ],
          [
           "Phoenix Logistics"
          ],
          [
           "TrueIT"
          ],
          [
           "Embark"
          ],
          [
           "Mynt Systems"
          ],
          [
           "Breeze IT"
          ],
          [
           "Sustainable Comfort"
          ],
          [
           "TGW Company"
          ],
          [
           "Johnson Roofing & Restoration"
          ],
          [
           "Street Smart Transmission"
          ],
          [
           "Bestica"
          ],
          [
           "Raymer Oil Company"
          ],
          [
           "TickPick"
          ],
          [
           "The Kool Source"
          ],
          [
           "Sunken Stone"
          ],
          [
           "Camrock Oil & Supply"
          ],
          [
           "Spinutech"
          ],
          [
           "Blueprint Consulting Services"
          ],
          [
           "Sante Realty Investments"
          ],
          [
           "Prime Therapeutics"
          ],
          [
           "Engage3"
          ],
          [
           "Mark Sanders - Alrossa"
          ],
          [
           "Income Store"
          ],
          [
           "Autonomous Media"
          ],
          [
           "AIIR Consulting"
          ],
          [
           "CallRail"
          ],
          [
           "Pendant Automation"
          ],
          [
           "Channel Factory"
          ],
          [
           "Axiom Path"
          ],
          [
           "Agape Luxury Corp"
          ],
          [
           "TK Trailer Parts"
          ],
          [
           "SaaSOptics"
          ],
          [
           "Repsly"
          ],
          [
           "Newmedia"
          ],
          [
           "Towel Tracker"
          ],
          [
           "Fountainhead Commercial Capital"
          ],
          [
           "Keystone Perfusion Services, PC"
          ],
          [
           "Credit Suite"
          ],
          [
           "Avanti Industries"
          ],
          [
           "Beautique"
          ],
          [
           "Zquared"
          ],
          [
           "Vibe Kayaks"
          ],
          [
           "DataClover"
          ],
          [
           "Lone Cone"
          ],
          [
           "Fresh Prints"
          ],
          [
           "Tek Leaders"
          ],
          [
           "Swig"
          ],
          [
           "LensDirect.com"
          ],
          [
           "Apex Air"
          ],
          [
           "Ignite Visibility"
          ],
          [
           "Snapsheet"
          ],
          [
           "Freeus"
          ],
          [
           "DMA Holdings"
          ],
          [
           "Resident360"
          ],
          [
           "Core Living"
          ],
          [
           "Encore Search Partners"
          ],
          [
           "EnableIT"
          ],
          [
           "Liquid Bottles"
          ],
          [
           "PoliteMail Software"
          ],
          [
           "Grain & Barrel Spirits"
          ],
          [
           "United Energy Services"
          ],
          [
           "TaskUs"
          ],
          [
           "Ceros"
          ],
          [
           "Axle Logistics"
          ],
          [
           "Barratt Asset Management"
          ],
          [
           "Zivelo"
          ],
          [
           "Trinity Air Medical"
          ],
          [
           "Nuvolo"
          ],
          [
           "Foundry Outdoors"
          ],
          [
           "Vpak"
          ],
          [
           "Buildout"
          ],
          [
           "MediaCrossing"
          ],
          [
           "Vinformatix"
          ],
          [
           "Splash"
          ],
          [
           "Connect Media"
          ],
          [
           "Construction Cost Management"
          ],
          [
           "Nextlink Internet"
          ],
          [
           "College Hunks Hauling Junk and Moving (West Chester, Penn.)"
          ],
          [
           "Verato"
          ],
          [
           "Spilt Ink SLC"
          ],
          [
           "Southwest Site Services"
          ],
          [
           "Lever1"
          ],
          [
           "Siege Media"
          ],
          [
           "Quiroga Law Office"
          ],
          [
           "Bluechip Retail"
          ],
          [
           "Avtec Homes"
          ],
          [
           "BloomNation"
          ],
          [
           "Western Peaks Logistics"
          ],
          [
           "360 Risk Partners Insurance Solutions"
          ],
          [
           "Beauty Barrage"
          ],
          [
           "Visual Computer Solutions"
          ],
          [
           "Lexitas"
          ],
          [
           "Purchasing Platform"
          ],
          [
           "Javelin Group"
          ],
          [
           "Big Idea Technology"
          ],
          [
           "Total Technology Results"
          ],
          [
           "Clearview Business Intelligence"
          ],
          [
           "Index Analytics"
          ],
          [
           "Expedition Technology"
          ],
          [
           "Zuhne"
          ],
          [
           "Ledge Lounger"
          ],
          [
           "G2 Ops"
          ],
          [
           "WealthForge"
          ],
          [
           "Logical Position"
          ],
          [
           "Digital Forensic Services"
          ],
          [
           "Farber & Company Attorneys"
          ],
          [
           "Catalyst Outdoor"
          ],
          [
           "Payer Compass"
          ],
          [
           "Local Web Leads"
          ],
          [
           "Curate Partners"
          ],
          [
           "UCW Logistics"
          ],
          [
           "Behavioral Health Works"
          ],
          [
           "Scribe-X Northwest"
          ],
          [
           "ALIRM"
          ],
          [
           "Resolute Technologies"
          ],
          [
           "Legwork Software"
          ],
          [
           "Zeel"
          ],
          [
           "Colorado Health & Rehab"
          ],
          [
           "Wellflex Energy Solutions"
          ],
          [
           "Lastline"
          ],
          [
           "Cloudbakers"
          ],
          [
           "PPT Solutions (Oklahoma)"
          ],
          [
           "Northwestern Improvement Company"
          ],
          [
           "Ryan Geldermann"
          ],
          [
           "Innovetive Petcare"
          ],
          [
           "Shearer"
          ],
          [
           "FireFly Computers"
          ],
          [
           "Thin Air Brands"
          ],
          [
           "SoHo Dragon"
          ],
          [
           "Southwest Geotechnical"
          ],
          [
           "The Aspire Software Company"
          ],
          [
           "EyeKor"
          ],
          [
           "Stretch Shapes"
          ],
          [
           "Premier Remodeling"
          ],
          [
           "Power Digital Marketing"
          ],
          [
           "Ueno"
          ],
          [
           "Industry Dive"
          ],
          [
           "HIDEit Mounts"
          ],
          [
           "AMMD"
          ],
          [
           "Pegasus Technology Solutions"
          ],
          [
           "Jacaruso Enterprises"
          ],
          [
           "Eventellect"
          ],
          [
           "Tipalti"
          ],
          [
           "Aevex Aerospace"
          ],
          [
           "Ncontracts"
          ],
          [
           "Stone Glacier"
          ],
          [
           "Thrive Internet Marketing Agency"
          ],
          [
           "Eff Creative Group"
          ],
          [
           "Strike Visuals"
          ],
          [
           "BKM Capital Partners"
          ],
          [
           "Federal Strategies"
          ],
          [
           "GenTech Associates"
          ],
          [
           "Lima One Capital"
          ],
          [
           "MatterHackers"
          ],
          [
           "iClick"
          ],
          [
           "JDA Worldwide"
          ],
          [
           "Battery Recyclers of America"
          ],
          [
           "Oklahoma LED"
          ],
          [
           "Creamistry"
          ],
          [
           "Corkcicle"
          ],
          [
           "Team Solutions Dental"
          ],
          [
           "Dome Headwear"
          ],
          [
           "Fix It People"
          ],
          [
           "MaxGen Energy Services"
          ],
          [
           "Ben Kinney Real Estate Team"
          ],
          [
           "Liberty Home Mortgage Corporation"
          ],
          [
           "KBMax"
          ],
          [
           "ObservePoint"
          ],
          [
           "Thrive"
          ],
          [
           "What If Holdings"
          ],
          [
           "GonLED"
          ],
          [
           "Digital Relativity"
          ],
          [
           "Mavrck"
          ],
          [
           "Home Perfect Carpet & Tile Cleaning"
          ],
          [
           "Field Industries"
          ],
          [
           "Pure Incubation"
          ],
          [
           "TouchUpDirect"
          ],
          [
           "Right at School"
          ],
          [
           "Sorry Robots"
          ],
          [
           "Central Point Partners"
          ],
          [
           "Ventive"
          ],
          [
           "Carrot"
          ],
          [
           "Amplio Digital"
          ],
          [
           "Dirt Wurx Excavation"
          ],
          [
           "Sayva Solutions"
          ],
          [
           "C Squared Social"
          ],
          [
           "U.Group"
          ],
          [
           "RWD Consulting"
          ],
          [
           "AGB Investigative Services"
          ],
          [
           "Denken Solutions"
          ],
          [
           "Silotech Group"
          ],
          [
           "Moonglow Jewelry"
          ],
          [
           "Decision Sciences Research Associates"
          ],
          [
           "Twelve Consulting Group"
          ],
          [
           "iArch Solutions"
          ],
          [
           "Seawater Seafood Company"
          ],
          [
           "Vert Digital"
          ],
          [
           "CT Assist"
          ],
          [
           "Fit Body Boot Camp"
          ],
          [
           "Nekteck"
          ],
          [
           "Expression Networks"
          ],
          [
           "Modern Message"
          ],
          [
           "1-Call Staffing"
          ],
          [
           "Pediatric Therapy"
          ],
          [
           "Crimson Agility"
          ],
          [
           "Keystone Funding"
          ],
          [
           "SlideBelts"
          ],
          [
           "Credit Service Intl."
          ],
          [
           "The Roman Guy"
          ],
          [
           "Fyzical"
          ],
          [
           "Green Bay Remodeling"
          ],
          [
           "Nebulaworks"
          ],
          [
           "Trinity Logistics USA"
          ],
          [
           "PDQ.com Corporation"
          ],
          [
           "Bighorn Design Studio"
          ],
          [
           "Elevation Solar"
          ],
          [
           "Watterson"
          ],
          [
           "Arch Systems"
          ],
          [
           "The Social Lights"
          ],
          [
           "Doceo Office Solutions"
          ],
          [
           "Signs.com"
          ],
          [
           "Disability Planners"
          ],
          [
           "Blue Label Labs"
          ],
          [
           "Commercial Services"
          ],
          [
           "1st Choice Construction Management"
          ],
          [
           "Alderson Loop"
          ],
          [
           "Legacy Toys"
          ],
          [
           "Outsource Consultants"
          ],
          [
           "MRL Promotions"
          ],
          [
           "ARC Risk and Compliance"
          ],
          [
           "829 Studios"
          ],
          [
           "DoctorLogic"
          ],
          [
           "Curlkit"
          ],
          [
           "STRATEGIC SOLUTION PARTNERS"
          ],
          [
           "Tellus"
          ],
          [
           "International Ceramic Construction"
          ],
          [
           "Banyan Hills Technologies"
          ],
          [
           "Peddle"
          ],
          [
           "Dibsies Personalization Station"
          ],
          [
           "Massie R&D Tax Credits"
          ],
          [
           "Verdia"
          ],
          [
           "Cetechs"
          ],
          [
           "Investor Grit"
          ],
          [
           "Triple E Equipment"
          ],
          [
           "Prairie Tickets"
          ],
          [
           "Crystal Clear Digital Marketing"
          ],
          [
           "BroadJump"
          ],
          [
           "HomeStar Remodeling"
          ],
          [
           "LMS (Logistics Made Simple)"
          ],
          [
           "jBloom"
          ],
          [
           "Reltio"
          ],
          [
           "G2S"
          ],
          [
           "The Revenue Optimization Companies"
          ],
          [
           "The Exterior Company"
          ],
          [
           "Jennaration Boutique"
          ],
          [
           "Tinuiti"
          ],
          [
           "DKP Express"
          ],
          [
           "FlexFunds ETP"
          ],
          [
           "RapidOps"
          ],
          [
           "Waiakea"
          ],
          [
           "Nolan Transportation Group"
          ],
          [
           "TapResearch"
          ],
          [
           "Custom Decks"
          ],
          [
           "Rent Ready"
          ],
          [
           "30 Lines"
          ],
          [
           "MagMod"
          ],
          [
           "The Idea Box - Powered by Proforma"
          ],
          [
           "SEI-Dallas"
          ],
          [
           "Under30Experiences"
          ],
          [
           "Calyx"
          ],
          [
           "Mobile Posse"
          ],
          [
           "Intelligent Waves"
          ],
          [
           "KPG Healthcare"
          ],
          [
           "Jeff Shipley Enterprises"
          ],
          [
           "Verified First"
          ],
          [
           "MacStadium"
          ],
          [
           "Yapta"
          ],
          [
           "The Jenny Maraghy Team"
          ],
          [
           "Proforma Think Ink"
          ],
          [
           "CircusTrix"
          ],
          [
           "Washington Capital Partners"
          ],
          [
           "Waste Away Systems"
          ],
          [
           "Audley Travel"
          ],
          [
           "Your Home Sold Guaranteed Realty"
          ],
          [
           "A-Lign"
          ],
          [
           "Taimen Transport"
          ],
          [
           "Calldrip"
          ],
          [
           "Triton Commerce"
          ],
          [
           "eAssist Dental Solutions"
          ],
          [
           "Big Leap"
          ],
          [
           "Housing Trust Group"
          ],
          [
           "Suite Experience Group"
          ],
          [
           "WheelHouse IT"
          ],
          [
           "CAP Venture Group"
          ],
          [
           "TokenEx"
          ],
          [
           "ASB Resources"
          ],
          [
           "Old Dominion Mechanical"
          ],
          [
           "Managed Energy Systems"
          ],
          [
           "Trinity3 Technology"
          ],
          [
           "Kureiji"
          ],
          [
           "Wellex"
          ],
          [
           "Connoils"
          ],
          [
           "Advantage Media Group"
          ],
          [
           "DMD Products"
          ],
          [
           "Triplemint"
          ],
          [
           "Matrix 4"
          ],
          [
           "Vantage Point Logistics"
          ],
          [
           "Telco Connection"
          ],
          [
           "Binary Defense"
          ],
          [
           "Pinnacle Dermatology"
          ],
          [
           "TISTA Science and Technology"
          ],
          [
           "Schweiger Dermatology Group"
          ],
          [
           "10th Magnitude"
          ],
          [
           "Rankings.io"
          ],
          [
           "Complete Recovery Corp"
          ],
          [
           "Aerospace Asset Trading"
          ],
          [
           "Select Communications"
          ],
          [
           "DJB Hospitality Holding Co/Sedona Taphouse Restaurants"
          ],
          [
           "Aya Healthcare"
          ],
          [
           "NovuHealth"
          ],
          [
           "Bookkeeper360"
          ],
          [
           "Guaba"
          ],
          [
           "Gasket Guy"
          ],
          [
           "Industrial Security Integrators"
          ],
          [
           "Advanced Care Partners"
          ],
          [
           "Greentek Energy Systems"
          ],
          [
           "Advanced Technological Solutions"
          ],
          [
           "Lentech"
          ],
          [
           "Triplepoint Environmental"
          ],
          [
           "Tango Card"
          ],
          [
           "Assure"
          ],
          [
           "Index Exchange"
          ],
          [
           "Beddy's"
          ],
          [
           "Capital Wealth Advisors"
          ],
          [
           "PureCars Automotive"
          ],
          [
           "SaviLinx"
          ],
          [
           "CloserIQ"
          ],
          [
           "Kamind IT"
          ],
          [
           "Ascent Innovations"
          ],
          [
           "ITProTV"
          ],
          [
           "Lynker Technologies"
          ],
          [
           "Motifworks"
          ],
          [
           "Symmetry Financial Group"
          ],
          [
           "Zilker Technology"
          ],
          [
           "StruXure Outdoor"
          ],
          [
           "Tiger Analytics"
          ],
          [
           "Brandywine Homes"
          ],
          [
           "Paragon Payroll"
          ],
          [
           "FluentStream Technologies"
          ],
          [
           "Youtech"
          ],
          [
           "Kentech"
          ],
          [
           "Pixability"
          ],
          [
           "Osprey Management"
          ],
          [
           "Medical Guardian"
          ],
          [
           "Fastmore Logistics"
          ],
          [
           "Matt Curtis Real Estate"
          ],
          [
           "PetWell Partners"
          ],
          [
           "Ventech Solutions"
          ],
          [
           "Unitas Global"
          ],
          [
           "PowerSchool"
          ],
          [
           "Vantage Payments"
          ],
          [
           "Staffing Specifix"
          ],
          [
           "Restoration 1"
          ],
          [
           "Acorio"
          ],
          [
           "Veterinary Practice Partners"
          ],
          [
           "Research America"
          ],
          [
           "Amicus Enterprises"
          ],
          [
           "Opex Analytics"
          ],
          [
           "Marijuana Business Daily"
          ],
          [
           "Xtreme Park Adventures"
          ],
          [
           "Adonis Auto Group"
          ],
          [
           "Prescient Company"
          ],
          [
           "Home Pride Construction"
          ],
          [
           "SIGMA SOFTWARE"
          ],
          [
           "No Limit Agency"
          ],
          [
           "P2Binvestor"
          ],
          [
           "Infinite Pool Finishes"
          ],
          [
           "COFC Logistics"
          ],
          [
           "Blackstone Medical Services"
          ],
          [
           "FormulaFolio Investments"
          ],
          [
           "Advance Your Reach"
          ],
          [
           "Fundrise"
          ],
          [
           "3-GIS"
          ],
          [
           "Digitalspec"
          ],
          [
           "LeafFilter Gutter Protection"
          ],
          [
           "United Wall Systems"
          ],
          [
           "Sleeping Giant Brewing Company"
          ],
          [
           "Anemoi"
          ],
          [
           "Center for Social Dynamics"
          ],
          [
           "Yamibuy"
          ],
          [
           "OrderMyGear"
          ],
          [
           "Criterion Systems"
          ],
          [
           "Optimum RV"
          ],
          [
           "Thompson Healthcare & Sports Medicine"
          ],
          [
           "PropLogix"
          ],
          [
           "E Network Supply"
          ],
          [
           "Riva Solutions"
          ],
          [
           "The Hilb Group"
          ],
          [
           "Perceptive Recruiting"
          ],
          [
           "UI Global Brands"
          ],
          [
           "House Advantage"
          ],
          [
           "Primal Life Organics"
          ],
          [
           "Living Wellness Partners"
          ],
          [
           "Millhouse Logistics"
          ],
          [
           "AgAmerica Lending"
          ],
          [
           "MedBridge"
          ],
          [
           "AutoSource Motors"
          ],
          [
           "Fulcrum Construction Group"
          ],
          [
           "Red River"
          ],
          [
           "BlueDog"
          ],
          [
           "Kontrol"
          ],
          [
           "DockYard"
          ],
          [
           "MidPoint Technology Group"
          ],
          [
           "Porcaro Stolarek Mete Partners"
          ],
          [
           "National Energy & Light"
          ],
          [
           "CisCom Solutions"
          ],
          [
           "Biotrans"
          ],
          [
           "JB Office"
          ],
          [
           "JCW Search"
          ],
          [
           "Star Lab Corp."
          ],
          [
           "Expero"
          ],
          [
           "Endurance"
          ],
          [
           "Spiceology"
          ],
          [
           "Chewse"
          ],
          [
           "Apex Appraisal Service"
          ],
          [
           "Boomset"
          ],
          [
           "ShipSound"
          ],
          [
           "Infinite Leap"
          ],
          [
           "Douglas Realty"
          ],
          [
           "B3 Medical"
          ],
          [
           "Self-Publishing School"
          ],
          [
           "Torrent Consulting"
          ],
          [
           "Atlas MedStaff"
          ],
          [
           "JB Software and Consulting"
          ],
          [
           "Atredis Partners"
          ],
          [
           "2A Consulting"
          ],
          [
           "Flux7"
          ],
          [
           "Famous Toastery"
          ],
          [
           "Vac2Go"
          ],
          [
           "ITA International"
          ],
          [
           "Raw Sugar Living"
          ],
          [
           "Devbridge"
          ],
          [
           "AML RightSource"
          ],
          [
           "Rozalado"
          ],
          [
           "Hayes Healthcare"
          ],
          [
           "Grant Enterprises"
          ],
          [
           "Disruptive Advertising"
          ],
          [
           "Proforma Angelini + Diamond Solutions"
          ],
          [
           "Softeq Development"
          ],
          [
           "Dream Finders Homes"
          ],
          [
           "ProEquity Asset Management"
          ],
          [
           "Rise Brands"
          ],
          [
           "iDealFurniture/KozyFurniture"
          ],
          [
           "GenerX Generators"
          ],
          [
           "Team SI"
          ],
          [
           "Picardie Timber Frame"
          ],
          [
           "Tarmac"
          ],
          [
           "WhirlWind Technologies"
          ],
          [
           "Geo Owl"
          ],
          [
           "Flexisales"
          ],
          [
           "Bleacher Restorators of Colorado"
          ],
          [
           "Black Tie Moving"
          ],
          [
           "Maven Wave"
          ],
          [
           "Mountain State Software Solutions"
          ],
          [
           "Gateway Multifamily"
          ],
          [
           "Venture REI"
          ],
          [
           "AutoPets"
          ],
          [
           "Flocknote"
          ],
          [
           "Lowers Risk Group"
          ],
          [
           "Escapology"
          ],
          [
           "Aero Accessories"
          ],
          [
           "Magnolia Innovation"
          ],
          [
           "National Design Build Services"
          ],
          [
           "TekCom Resources"
          ],
          [
           "Rx Savings Solutions"
          ],
          [
           "AG Consulting Partners"
          ],
          [
           "Eck Services"
          ],
          [
           "Legacy Service"
          ],
          [
           "Strong Together Fitness"
          ],
          [
           "Moxie Solar"
          ],
          [
           "Veyo"
          ],
          [
           "World Insurance Associates"
          ],
          [
           "Saviynt"
          ],
          [
           "Wana Brands"
          ],
          [
           "Cookie Cutters Haircuts for Kids"
          ],
          [
           "WaveFly Powered by JMF Solutions"
          ],
          [
           "n2grate"
          ],
          [
           "FullContact"
          ],
          [
           "Thycotic"
          ],
          [
           "Spring Dental"
          ],
          [
           "HealthCaps"
          ],
          [
           "B.O.S.S. Retirement Solutions"
          ],
          [
           "Teamson Design Corp."
          ],
          [
           "Total Server Solutions"
          ],
          [
           "The Mix Group"
          ],
          [
           "Mpact Strategic Consulting"
          ],
          [
           "ERP Maestro"
          ],
          [
           "Magnolia Boutique"
          ],
          [
           "LandSouth Construction"
          ],
          [
           "The Vested Group"
          ],
          [
           "Cortina Solutions"
          ],
          [
           "Lafayette Metal & Glass Company"
          ],
          [
           "Ops Tech Alliance"
          ],
          [
           "TIME Systems"
          ],
          [
           "Lighter Capital"
          ],
          [
           "Intuitive Web Solutions"
          ],
          [
           "Ardent Eagle Solutions"
          ],
          [
           "Boutique Recruiting"
          ],
          [
           "PerkSpot"
          ],
          [
           "WamBam Fence"
          ],
          [
           "SMR Holdings"
          ],
          [
           "Brown Fox PLLC"
          ],
          [
           "Ruckus Marketing"
          ],
          [
           "Pacifica Consulting Services"
          ],
          [
           "Zerto"
          ],
          [
           "Garland Technology"
          ],
          [
           "CirrusLabs"
          ],
          [
           "Northwest Healthcare"
          ],
          [
           "VividFront"
          ],
          [
           "Auditmacs"
          ],
          [
           "Nationwide IT Services"
          ],
          [
           "Bespoke Sports & Entertainment"
          ],
          [
           "Hero Digital"
          ],
          [
           "Diversified"
          ],
          [
           "Credence Management Solutions"
          ],
          [
           "ViewSport International"
          ],
          [
           "Stack Construction Technologies"
          ],
          [
           "meQuilibrium/New Life Solution"
          ],
          [
           "Myles Apparel"
          ],
          [
           "Malka"
          ],
          [
           "BigBinary"
          ],
          [
           "Epic Property Management"
          ],
          [
           "Goldfish Swim School Franchising"
          ],
          [
           "ProjectManager.com"
          ],
          [
           "Terra Exports"
          ],
          [
           "Purchasing Group"
          ],
          [
           "Cloudticity"
          ],
          [
           "A. Prentice Ray"
          ],
          [
           "MartinFederal"
          ],
          [
           "QFS"
          ],
          [
           "Heaton Dainard Real Estate"
          ],
          [
           "Five Doors Network"
          ],
          [
           "GreenWorks Service Company"
          ],
          [
           "Becker Logistics"
          ],
          [
           "GIS Surveyors"
          ],
          [
           "Taulia"
          ],
          [
           "KensieMae"
          ],
          [
           "Advanced Technology Logistics"
          ],
          [
           "Kingsmen Software"
          ],
          [
           "Hologenix"
          ],
          [
           "Franklin Media"
          ],
          [
           "Instinct Dog Behavior & Training"
          ],
          [
           "Fulton Grace Realty"
          ],
          [
           "Innovatemap"
          ],
          [
           "Ramsey & Walker"
          ],
          [
           "TruFusion"
          ],
          [
           "Precise Software Solutions"
          ],
          [
           "ZoCo Design"
          ],
          [
           "GeoLinks"
          ],
          [
           "FormAssembly"
          ],
          [
           "Uber Bazaar"
          ],
          [
           "Kiki LaRue"
          ],
          [
           "Proforma BrandCentric Solutions"
          ],
          [
           "PopShorts"
          ],
          [
           "Allied Universal"
          ],
          [
           "InfiniSource Consulting Solutions"
          ],
          [
           "540.co"
          ],
          [
           "Sauce Labs"
          ],
          [
           "Renaissance Windows & Doors"
          ],
          [
           "Barbee Jackson Insurance"
          ],
          [
           "Whitestone Branding"
          ],
          [
           "Einstein PEO"
          ],
          [
           "Axe Prime"
          ],
          [
           "Optmyzr"
          ],
          [
           "Well Told"
          ],
          [
           "Camp Gladiator"
          ],
          [
           "Mfrg-Icon Construction"
          ],
          [
           "Metis Solutions"
          ],
          [
           "Rainmaker Ad Ventures"
          ],
          [
           "Tattersall Companies"
          ],
          [
           "The GFB: Gluten Free Bar"
          ],
          [
           "Accelerate Solar"
          ],
          [
           "Callibrity Solutions"
          ],
          [
           "Construction Plus"
          ],
          [
           "Big Hammer Wines"
          ],
          [
           "TFM Truckload"
          ],
          [
           "Mortgage Financial Services"
          ],
          [
           "The Participation Agency"
          ],
          [
           "SalesLoft"
          ],
          [
           "Kaizen Technology Partners"
          ],
          [
           "OppGenetix"
          ],
          [
           "Ecogistics"
          ],
          [
           "StaffRehab"
          ],
          [
           "Alkemy Partners Instruction and Design"
          ],
          [
           "Explotrain"
          ],
          [
           "Healthcare Solutions Direct"
          ],
          [
           "Eaglestone"
          ],
          [
           "FloodBreak"
          ],
          [
           "R2C"
          ],
          [
           "Triad"
          ],
          [
           "Kerberos International"
          ],
          [
           "Priority Ambulance"
          ],
          [
           "Corporate Tax Advisors"
          ],
          [
           "Stride Consulting"
          ],
          [
           "ESO"
          ],
          [
           "Origami Risk"
          ],
          [
           "Westview Productions"
          ],
          [
           "3Blue Media"
          ],
          [
           "Signature Analytics"
          ],
          [
           "Seriously"
          ],
          [
           "Chefman"
          ],
          [
           "twelve NYC"
          ],
          [
           "Scorpion"
          ],
          [
           "Overdrive Brands"
          ],
          [
           "IT Authorities"
          ],
          [
           "Mac's LTC Pharmacy Solutions"
          ],
          [
           "123ws.com"
          ],
          [
           "Greenlink Financial"
          ],
          [
           "Direct Components"
          ],
          [
           "Seller Labs"
          ],
          [
           "JD Precision Plumbing Services"
          ],
          [
           "Nearshore Technology"
          ],
          [
           "Weris"
          ],
          [
           "WillowTree"
          ],
          [
           "The DVI Group"
          ],
          [
           "Rational Interaction"
          ],
          [
           "Peak Dental Services"
          ],
          [
           "Obsidian Solutions Group"
          ],
          [
           "Fairbridge Partners"
          ],
          [
           "Livewell Clinic"
          ],
          [
           "Digital Brew"
          ],
          [
           "5by5"
          ],
          [
           "Punch Bowl Social"
          ],
          [
           "ConsumerAffairs"
          ],
          [
           "Mars Services"
          ],
          [
           "MAS Global Consulting"
          ],
          [
           "StatGear"
          ],
          [
           "Source 1 Solutions"
          ],
          [
           "Artemis Consulting"
          ],
          [
           "Rebellion Photonics"
          ],
          [
           "InnovateEd"
          ],
          [
           "intlx Solutions"
          ],
          [
           "Seal Software"
          ],
          [
           "Integrity Express Logistics"
          ],
          [
           "Mission Field"
          ],
          [
           "Cambay Consulting"
          ],
          [
           "Sourcetoad"
          ],
          [
           "CorLife"
          ],
          [
           "Passio Technologies"
          ],
          [
           "Silverback Strategies"
          ],
          [
           "NextGen Federal Systems"
          ],
          [
           "Tripleseat"
          ],
          [
           "Sonatype"
          ],
          [
           "iTechArt Group"
          ],
          [
           "Flexton"
          ],
          [
           "Xtenfer Consulting"
          ],
          [
           "Tenfold"
          ],
          [
           "Avant Healthcare Professionals"
          ],
          [
           "Need Supply Co."
          ],
          [
           "Grow Op Farms"
          ],
          [
           "Advent Health Partners"
          ],
          [
           "CopaSAT"
          ],
          [
           "Reservations.com"
          ],
          [
           "Global Lending Services"
          ],
          [
           "Broad Sky Networks"
          ],
          [
           "Sawtst"
          ],
          [
           "Open Lending"
          ],
          [
           "Wilson Shaw Information Technology"
          ],
          [
           "Brand Bureau"
          ],
          [
           "Travlu.com : DHD Hospetality Services"
          ],
          [
           "Ivy Lane"
          ],
          [
           "Klymit"
          ],
          [
           "American Hartford Gold Group"
          ],
          [
           "Poseidon Systems"
          ],
          [
           "Lemonlight"
          ],
          [
           "Zentra"
          ],
          [
           "Tresata"
          ],
          [
           "70E Solutions"
          ],
          [
           "National Coatings"
          ],
          [
           "One Source Companies"
          ],
          [
           "Reliable Relamping"
          ],
          [
           "K3 Solutions"
          ],
          [
           "Trendsformers"
          ],
          [
           "Accountfully"
          ],
          [
           "Worth Clark Realty"
          ],
          [
           "Piedmont Payment Services"
          ],
          [
           "Endeavor Schools"
          ],
          [
           "Science and Medicine Group"
          ],
          [
           "GigSalad"
          ],
          [
           "Turo"
          ],
          [
           "Golden Gate BPO Solutions"
          ],
          [
           "Beyond Codes"
          ],
          [
           "Greg Norman & Associates"
          ],
          [
           "Freedom Healthcare Staffing"
          ],
          [
           "Priority Title & Escrow"
          ],
          [
           "Spice Jungle"
          ],
          [
           "DiscoverOrg"
          ],
          [
           "Firebird Analytical Solutions and Technologies"
          ],
          [
           "Windy City Equipment (WCE)"
          ],
          [
           "Acertus"
          ],
          [
           "Electrostar Electronics Recovery Solutions"
          ],
          [
           "Technical Assurance"
          ],
          [
           "The Ceres Group"
          ],
          [
           "Neo Prism Solutions"
          ],
          [
           "Impact Branding & Design"
          ],
          [
           "Alpha Structural"
          ],
          [
           "Gulf Coast Crating"
          ],
          [
           "Petra Coach"
          ],
          [
           "Studio III Marketing"
          ],
          [
           "Fusion Medical Staffing"
          ],
          [
           "Trinity Packaging Supply"
          ],
          [
           "Scotto"
          ],
          [
           "Equiscript"
          ],
          [
           "Argus Merchant Services"
          ],
          [
           "Creative Systems and Consulting"
          ],
          [
           "Picore International"
          ],
          [
           "Pierce Education Properties"
          ],
          [
           "PIRS Capital"
          ],
          [
           "FTK Constructions Services"
          ],
          [
           "Nelson"
          ],
          [
           "Tilson Technology Management"
          ],
          [
           "New Signature"
          ],
          [
           "SkyHop Global"
          ],
          [
           "Sage Millimeter"
          ],
          [
           "Vitality Bowls Enterprise"
          ],
          [
           "Keller Williams Legacy"
          ],
          [
           "I.T. Works Recruitment"
          ],
          [
           "Cardiva Medical"
          ],
          [
           "Three T's Properties"
          ],
          [
           "Tier4 Advisors"
          ],
          [
           "SoBe Promos"
          ],
          [
           "CoSolutions"
          ],
          [
           "Strait"
          ],
          [
           "Bolton Remote"
          ],
          [
           "Noble.com"
          ],
          [
           "Source Ortho"
          ],
          [
           "Halo Maritime Defense Systems"
          ],
          [
           "NetImpact Strategies"
          ],
          [
           "Dave Burgess Consulting"
          ],
          [
           "Red Oak Compliance Solutions Holdings"
          ],
          [
           "Polaris Logistics Group"
          ],
          [
           "ERP Advisors Group"
          ],
          [
           "Go Fish Digital"
          ],
          [
           "Whoice USA"
          ],
          [
           "3B Medical"
          ],
          [
           "Semihandmade"
          ],
          [
           "Venza"
          ],
          [
           "Affinity Dental Management"
          ],
          [
           "Nationwide Transport Services"
          ],
          [
           "Altaworx"
          ],
          [
           "Spear Physical Therapy"
          ],
          [
           "Bioluz LED"
          ],
          [
           "Saltwater Collective"
          ],
          [
           "Baldwin Risk Partners"
          ],
          [
           "Lightbeam Health"
          ],
          [
           "Files.com"
          ],
          [
           "SilverCloud"
          ],
          [
           "Utility Concierge"
          ],
          [
           "MPLT Healthcare"
          ],
          [
           "Fab Glass and Mirror"
          ],
          [
           "Sparkle In Pink"
          ],
          [
           "Katz Capital"
          ],
          [
           "Spears Consulting Group"
          ],
          [
           "BahFed"
          ],
          [
           "Assisted Living Locators"
          ],
          [
           "pNeo"
          ],
          [
           "Kopis Mobile"
          ],
          [
           "The Institute for Wealth Management"
          ],
          [
           "Phoenix Financial Services"
          ],
          [
           "Fortress Credit Professionals"
          ],
          [
           "Apex Infinite Solutions"
          ],
          [
           "Traditions Health"
          ],
          [
           "Navigate Power"
          ],
          [
           "Oscar Orduno"
          ],
          [
           "Senior Solutions Home Care"
          ],
          [
           "Mindgruve"
          ],
          [
           "Perfect Snacks"
          ],
          [
           "Orangetheory Fitness"
          ],
          [
           "DoubleMap"
          ],
          [
           "KLDiscovery"
          ],
          [
           "GrapeTree Medical Staffing"
          ],
          [
           "Innovative Collaboration"
          ],
          [
           "22nd Century Technologies"
          ],
          [
           "HealthMark Group"
          ],
          [
           "Countrywide Realty Partners"
          ],
          [
           "Longneck & Thunderfoot"
          ],
          [
           "HJR Global"
          ],
          [
           "Fuse3 Solutions"
          ],
          [
           "JWB Real Estate Capital"
          ],
          [
           "Kobie Marketing"
          ],
          [
           "Plutora"
          ],
          [
           "Adeptus Solutions"
          ],
          [
           "BlueSnap"
          ],
          [
           "Zero Gravity Marketing"
          ],
          [
           "Base4"
          ],
          [
           "OneTrust Home Loans"
          ],
          [
           "Josh's Frogs"
          ],
          [
           "Applied Resource Group"
          ],
          [
           "Advance Financial"
          ],
          [
           "Executive Placements"
          ],
          [
           "Credit Repair Cloud"
          ],
          [
           "BDI"
          ],
          [
           "InfoTrust"
          ],
          [
           "Hyperquake"
          ],
          [
           "Tender Loving Empire"
          ],
          [
           "Avanti Systems USA"
          ],
          [
           "Vetsource"
          ],
          [
           "Intelliforce-IT Solutions Group"
          ],
          [
           "Geraci Law Firm"
          ],
          [
           "Whistle Sports"
          ],
          [
           "MyComputerCareer"
          ],
          [
           "Welltok"
          ],
          [
           "Vesta Preferred"
          ],
          [
           "Userful"
          ],
          [
           "Rootstrap"
          ],
          [
           "Green Cloud Technologies"
          ],
          [
           "BluePeak Technology Solutions"
          ],
          [
           "Tiesta Tea Company"
          ],
          [
           "Beneficial Blends dba Kelapo"
          ],
          [
           "Sunset Healthcare Solutions"
          ],
          [
           "Agilisium Consulting"
          ],
          [
           "Spot Freight"
          ],
          [
           "Big Block Realty"
          ],
          [
           "P2sample"
          ],
          [
           "Crunch Fitness West Florida and Atlanta (CR Fitness)"
          ],
          [
           "Signature Transportation Group"
          ],
          [
           "Black Button Distilling"
          ],
          [
           "Opex Technologies"
          ],
          [
           "Secunetics"
          ],
          [
           "Elevate"
          ],
          [
           "Telarus"
          ],
          [
           "G Fuel"
          ],
          [
           "National Land Realty"
          ],
          [
           "SKG"
          ],
          [
           "Health Products For You"
          ],
          [
           "Facilities Maintenance Management"
          ],
          [
           "Banquest Payment Systems"
          ],
          [
           "Lumber One Services"
          ],
          [
           "Align Technical Resources"
          ],
          [
           "Caliber Corporate Advisers"
          ],
          [
           "Adpearance"
          ],
          [
           "Boomerang DM"
          ],
          [
           "Steam Logistics"
          ],
          [
           "NextHome"
          ],
          [
           "ndVOR Solutions"
          ],
          [
           "ClearCompany"
          ],
          [
           "Premier Coil Solutions"
          ],
          [
           "Inside Ventures"
          ],
          [
           "Summus Group"
          ],
          [
           "Central Vapors"
          ],
          [
           "Nam Technologies"
          ],
          [
           "Done Right Merchandising"
          ],
          [
           "Restaurant Partners Procurement"
          ],
          [
           "Fieldstone Homes"
          ],
          [
           "Pointe Pest Control-ID"
          ],
          [
           "Unosquare"
          ],
          [
           "Modern Market Master"
          ],
          [
           "StrategyWise"
          ],
          [
           "Rhino Fleet Tracking"
          ],
          [
           "United Installs"
          ],
          [
           "Lightspeed Voice"
          ],
          [
           "Magneti"
          ],
          [
           "Pharmapacks"
          ],
          [
           "Higher Logic"
          ],
          [
           "Stewardship"
          ],
          [
           "InRhythm"
          ],
          [
           "RoundTower Technologies"
          ],
          [
           "Brandlive"
          ],
          [
           "Reliant Vision Group"
          ],
          [
           "Meredith Lodging"
          ],
          [
           "Energy Lighting Services"
          ],
          [
           "Felix Media Solutions"
          ],
          [
           "Pye-Barker Fire"
          ],
          [
           "ConnXus"
          ],
          [
           "VEA Foods"
          ],
          [
           "Cantor Property Services"
          ],
          [
           "Trade Ideas"
          ],
          [
           "Dovel Technologies"
          ],
          [
           "ProfitOptics"
          ],
          [
           "IronArch Technology"
          ],
          [
           "IT Veterans"
          ],
          [
           "Brother's Mechanical"
          ],
          [
           "Allturna"
          ],
          [
           "Ryan Insurance Services"
          ],
          [
           "CPR1"
          ],
          [
           "Noury Construction"
          ],
          [
           "Leading Edge Aviation"
          ],
          [
           "SOR Technology"
          ],
          [
           "Stake Center Locating"
          ],
          [
           "Conversica"
          ],
          [
           "SkyRun Vacation Rentals"
          ],
          [
           "G-Squared Partners"
          ],
          [
           "Benzer Pharmacy"
          ],
          [
           "Cultiva"
          ],
          [
           "SRP Environmental"
          ],
          [
           "EnTouch Controls"
          ],
          [
           "Little Sunshine's Playhouse"
          ],
          [
           "Mark Spain Real Estate"
          ],
          [
           "Coast Medical Service"
          ],
          [
           "The Salas Team"
          ],
          [
           "McClure"
          ],
          [
           "SinglePoint Global"
          ],
          [
           "Bubbies Homemade Ice Cream and Desserts"
          ],
          [
           "DayBlink Consulting"
          ],
          [
           "Scanco Software"
          ],
          [
           "beMatrix USA"
          ],
          [
           "Hindsight Software Solutions"
          ],
          [
           "Otter's Chicken"
          ],
          [
           "Reputation.com"
          ],
          [
           "TBX"
          ],
          [
           "Ivalua"
          ],
          [
           "Gold Medal Pools"
          ],
          [
           "Carnivore Meat Company"
          ],
          [
           "Denver Design Build"
          ],
          [
           "BioAgilytix"
          ],
          [
           "Eight Oh Two Marketing"
          ],
          [
           "Synapse Business Systems"
          ],
          [
           "Within Interior Design"
          ],
          [
           "Sigma Tax Pro"
          ],
          [
           "CC&D"
          ],
          [
           "The HCI Group"
          ],
          [
           "Texan Allergy and Sinus Center"
          ],
          [
           "NEwhere"
          ],
          [
           "TeleVoIPs"
          ],
          [
           "Furniture Clinic"
          ],
          [
           "Kline Home Exteriors"
          ],
          [
           "GP Transco"
          ],
          [
           "Legalpeople/The Partners Group"
          ],
          [
           "FountainheadME"
          ],
          [
           "Blue Sky IT Partners"
          ],
          [
           "Wizard Labels"
          ],
          [
           "Trust Security Services"
          ],
          [
           "Baby Bling"
          ],
          [
           "DirectDefense"
          ],
          [
           "CrossCountry Mortgage"
          ],
          [
           "LGCY Power"
          ],
          [
           "Seneca Resources"
          ],
          [
           "ProLink Staffing"
          ],
          [
           "Pinnacle Furnished Suites"
          ],
          [
           "Sportsdigita"
          ],
          [
           "Nationwide Logistics"
          ],
          [
           "Teleradiology Specialists"
          ],
          [
           "Owenby Law"
          ],
          [
           "121 USA"
          ],
          [
           "Honest Abe Roofing"
          ],
          [
           "Moore Solar / Heating / Cooling"
          ],
          [
           "The K Company Realty"
          ],
          [
           "Perpetual:"
          ],
          [
           "Eglentowicz Demoliiton"
          ],
          [
           "Southern Striping Solutions"
          ],
          [
           "Provision Insurnace Group"
          ],
          [
           "Rethink Autism"
          ],
          [
           "WesternTechSystems"
          ],
          [
           "Alliance Family of Companies"
          ],
          [
           "RKC Products"
          ],
          [
           "Hilgers Graben"
          ],
          [
           "Paradise Exteriors"
          ],
          [
           "Big Elk Energy Systems"
          ],
          [
           "POTENZA"
          ],
          [
           "ProScribe"
          ],
          [
           "Superior Print and Exhibit"
          ],
          [
           "Sidebench"
          ],
          [
           "Skin by Lovely"
          ],
          [
           "Custom Pro Logistics"
          ],
          [
           "Orange Tree Staffing"
          ],
          [
           "Northwest Career College"
          ],
          [
           "Apto"
          ],
          [
           "Opus Agency"
          ],
          [
           "All In One Custom Renovations"
          ],
          [
           "CloudSmartz"
          ],
          [
           "Premier Logistics Partners"
          ],
          [
           "Infoverity"
          ],
          [
           "Centralized Service"
          ],
          [
           "Capstone Fire & Safety"
          ],
          [
           "Retail Cloud Technologies"
          ],
          [
           "Maui Resort Rentals"
          ],
          [
           "SimplePart"
          ],
          [
           "MFI Medical Equipment"
          ],
          [
           "Back at You"
          ],
          [
           "Futuri Media"
          ],
          [
           "Scotlynn USA Division"
          ],
          [
           "Millennium Trust Company"
          ],
          [
           "CapGrow Partners"
          ],
          [
           "Marathon Strategies"
          ],
          [
           "Marketing Genome"
          ],
          [
           "RSB Environmental"
          ],
          [
           "Swiss American CDMO"
          ],
          [
           "J.W. Logistics"
          ],
          [
           "Peak Properties Group"
          ],
          [
           "The Ventus Network"
          ],
          [
           "BiggerPockets"
          ],
          [
           "Oasys"
          ],
          [
           "Williamsburg Enterprises"
          ],
          [
           "Elite Events & Rentals"
          ],
          [
           "Estrella Franchising"
          ],
          [
           "Merit Financial Group"
          ],
          [
           "Luxury Living Chicago Realty"
          ],
          [
           "Benton Roofing"
          ],
          [
           "Graham Technologies"
          ],
          [
           "Cognitus Consulting"
          ],
          [
           "Data Canopy Colocation"
          ],
          [
           "Farwell"
          ],
          [
           "Sunpro Solar"
          ],
          [
           "Denny Cherry & Associates Consulting"
          ],
          [
           "Challas Group"
          ],
          [
           "Vertex Global Solutions"
          ],
          [
           "rewardStyle"
          ],
          [
           "Austin Capital Bank"
          ],
          [
           "Culprit Creative"
          ],
          [
           "Doing Good Works"
          ],
          [
           "Universal Language Service"
          ],
          [
           "UNA"
          ],
          [
           "Isenberg Bath Corporation"
          ],
          [
           "Mightily"
          ],
          [
           "Quantum Dynamics"
          ],
          [
           "Greasecycle"
          ],
          [
           "Dizzion"
          ],
          [
           "Huss Brewing"
          ],
          [
           "GrayMatter"
          ],
          [
           "J2 Solutions"
          ],
          [
           "ProviderTrust"
          ],
          [
           "Diversified Conveyors International"
          ],
          [
           "Structure Ventures"
          ],
          [
           "Inbenta Holdings"
          ],
          [
           "Spartan Value Investors"
          ],
          [
           "Flexible Staffing of Georgia"
          ],
          [
           "Chicken Salad Chick"
          ],
          [
           "Double A Labs"
          ],
          [
           "QC Manufacturing"
          ],
          [
           "Heartcore Women"
          ],
          [
           "Nou Systems"
          ],
          [
           "The Bachrach Group"
          ],
          [
           "Madwire"
          ],
          [
           "MacGregor Partners"
          ],
          [
           "Taktik Logistics Group"
          ],
          [
           "Americord Registry"
          ],
          [
           "Z Transportation"
          ],
          [
           "Accelerated Growth Advisors"
          ],
          [
           "OrthoFi"
          ],
          [
           "Savewize Wholesale Distribution"
          ],
          [
           "Smarsh"
          ],
          [
           "The Flyway Companies"
          ],
          [
           "SmartBug Media"
          ],
          [
           "Open Influence"
          ],
          [
           "SEO Werkz"
          ],
          [
           "YellowTelescope/SEOversite/iScreamSocialMedia"
          ],
          [
           "Conserva Irrigation Franchising"
          ],
          [
           "2nd Family"
          ],
          [
           "BeatBox Beverages"
          ],
          [
           "Apex Energy Solutions Georgia"
          ],
          [
           "Cava Companies"
          ],
          [
           "Dribbble"
          ],
          [
           "Incredible Technologies"
          ],
          [
           "Hawkers Asian Street Fare"
          ],
          [
           "Noetic Strategies"
          ],
          [
           "Acmetek Global Solutions"
          ],
          [
           "Niha Technologies"
          ],
          [
           "F. H. Cann & Associates"
          ],
          [
           "Ceterus"
          ],
          [
           "SRT Group"
          ],
          [
           "TrendHR"
          ],
          [
           "First Help Financial"
          ],
          [
           "Dynamic Pricing Partners"
          ],
          [
           "StraCon Services Group"
          ],
          [
           "Topstep"
          ],
          [
           "defi solutions"
          ],
          [
           "Praxent"
          ],
          [
           "ThinkLite"
          ],
          [
           "Pacific Packaging Products"
          ],
          [
           "Your Location Lubrication"
          ],
          [
           "SocialSEO"
          ],
          [
           "LRAP Association"
          ],
          [
           "Imaginuity"
          ],
          [
           "Level 3 Audio Visual"
          ],
          [
           "GuidePoint Security"
          ],
          [
           "Agency EA"
          ],
          [
           "Funding Merchant Source"
          ],
          [
           "Quid"
          ],
          [
           "Lodging Access Systems"
          ],
          [
           "Brillient Corporation"
          ],
          [
           "CTI (Taylorville, IL)"
          ],
          [
           "Nutronics"
          ],
          [
           "Digital Media Solutions"
          ],
          [
           "Rescue One Financial"
          ],
          [
           "Buffalo Computer Graphics"
          ],
          [
           "Bright Power"
          ],
          [
           "Stone Tower Winery"
          ],
          [
           "Retail Security Services"
          ],
          [
           "Everybodyfights"
          ],
          [
           "Blossom Ridge Home Health"
          ],
          [
           "Star Building Services"
          ],
          [
           "Aureus Techsystems"
          ],
          [
           "Bridge Marketing"
          ],
          [
           "Tx3 Services"
          ],
          [
           "Q4Launch"
          ],
          [
           "Goettl Air Conditioning"
          ],
          [
           "ISN"
          ],
          [
           "Inspirix Technologies"
          ],
          [
           "CNC Machines"
          ],
          [
           "Denair HVAC"
          ],
          [
           "ABT Plumbing Electric Heat"
          ],
          [
           "YCharts"
          ],
          [
           "Max Trans Logistics of Chattanooga"
          ],
          [
           "Storm Smart"
          ],
          [
           "Wpromote"
          ],
          [
           "PrismHR"
          ],
          [
           "Vivaldi Music Academy"
          ],
          [
           "Energy 1"
          ],
          [
           "Ripple Effect"
          ],
          [
           "Qwinix Technologies"
          ],
          [
           "Flix Brewhouse"
          ],
          [
           "High Five Events"
          ],
          [
           "Fund&Grow"
          ],
          [
           "Parts Town"
          ],
          [
           "Circa Interactive"
          ],
          [
           "Holmberg Mechanical"
          ],
          [
           "Espee Biopharma & Finechem"
          ],
          [
           "Automotive Avenues"
          ],
          [
           "Hill Technical Solutions"
          ],
          [
           "MJ Freeway"
          ],
          [
           "Yellowstone Health & Rehab"
          ],
          [
           "Precision Staffing Services"
          ],
          [
           "SkuVault"
          ],
          [
           "Cloudnexa"
          ],
          [
           "Global Water Technology"
          ],
          [
           "Remarkable Liquids"
          ],
          [
           "Capstone Title"
          ],
          [
           "Innovecs"
          ],
          [
           "Landmark Properties"
          ],
          [
           "Cynergy Professional Systems"
          ],
          [
           "Optiline Enterprises"
          ],
          [
           "Spectra360"
          ],
          [
           "Threshold"
          ],
          [
           "SageRider"
          ],
          [
           "SS Equipment Holdings"
          ],
          [
           "Network Builders IT"
          ],
          [
           "Creative Homes"
          ],
          [
           "Eagle Point Solar"
          ],
          [
           "Berlin Motors - Efendos Global"
          ],
          [
           "Frictionless Solutions"
          ],
          [
           "TechAspect Solutions"
          ],
          [
           "Smilepoint PLLC"
          ],
          [
           "New Project"
          ],
          [
           "Dogtown Media"
          ],
          [
           "Cali Bamboo"
          ],
          [
           "Boardroom Salon for Men"
          ],
          [
           "Absolute Web Services"
          ],
          [
           "CoConstruct"
          ],
          [
           "Maryland Addiction Recovery Center"
          ],
          [
           "Arnold's Office Furniture"
          ],
          [
           "9Round"
          ],
          [
           "Onestaff Medical"
          ],
          [
           "Transportation One"
          ],
          [
           "DFPG Investments"
          ],
          [
           "VersaTech"
          ],
          [
           "Entire Productions"
          ],
          [
           "Book4Time"
          ],
          [
           "HMD Transport"
          ],
          [
           "Artlin Consulting"
          ],
          [
           "MST Solutions"
          ],
          [
           "Contigo Technology"
          ],
          [
           "Issquared"
          ],
          [
           "Branded Online"
          ],
          [
           "MediaAlpha"
          ],
          [
           "TRAVEL EXCLUSIVE"
          ],
          [
           "Strategus"
          ],
          [
           "Reorg"
          ],
          [
           "Grit Technologies"
          ],
          [
           "Nix Companies"
          ],
          [
           "MDScripts"
          ],
          [
           "Toro Taxes"
          ],
          [
           "Pinnacle Solutions"
          ],
          [
           "Webspec Design"
          ],
          [
           "Regal Pools"
          ],
          [
           "Logistic Dynamics"
          ],
          [
           "GroundWorks"
          ],
          [
           "beMarketing"
          ],
          [
           "Valintry"
          ],
          [
           "Revenue River"
          ],
          [
           "Liquid Audio"
          ],
          [
           "OPS Security Group"
          ],
          [
           "Artisan Media Group"
          ],
          [
           "Rastaclat"
          ],
          [
           "Jaguar Fueling Services"
          ],
          [
           "Resonance"
          ],
          [
           "J&D Brush"
          ],
          [
           "Langford Allergy"
          ],
          [
           "Weby Corp"
          ],
          [
           "GatherUp"
          ],
          [
           "Akshaya"
          ],
          [
           "ProPharma Sales"
          ],
          [
           "AvidXchange"
          ],
          [
           "Becker Wright Consultants"
          ],
          [
           "GEM Manufacturing"
          ],
          [
           "Plum Creek Environmental Technologies"
          ],
          [
           "Skull Shaver"
          ],
          [
           "The Arbinger Institute"
          ],
          [
           "OmniPrint International"
          ],
          [
           "CEO Coaching International"
          ],
          [
           "Growth Institute"
          ],
          [
           "Intelligent Video Solutions"
          ],
          [
           "AdaptiBar"
          ],
          [
           "Praetorian"
          ],
          [
           "truDigital Signage"
          ],
          [
           "La Colombe Coffee Roaster"
          ],
          [
           "Magnolia River Services"
          ],
          [
           "Lenora Systems"
          ],
          [
           "Novasyte"
          ],
          [
           "SkyLine Scaffold"
          ],
          [
           "MillTown Plumbing, Heating, AC, and Drain Cleaning"
          ],
          [
           "EventSphere"
          ],
          [
           "Renters Warehouse Houston"
          ],
          [
           "Veritas Prime"
          ],
          [
           "ITI Communications"
          ],
          [
           "Casino Cash Trac"
          ],
          [
           "ClearPlan"
          ],
          [
           "Murphy Door"
          ],
          [
           "Raney's"
          ],
          [
           "Modernizing Medicine"
          ],
          [
           "OmegaQuant"
          ],
          [
           "Cloudnexion"
          ],
          [
           "The Nutrition Corners"
          ],
          [
           "Show Imaging"
          ],
          [
           "Pioneer Bank"
          ],
          [
           "Capacity"
          ],
          [
           "ecUtopia"
          ],
          [
           "LSP Technologies"
          ],
          [
           "ManhattanHomeDesign.com"
          ],
          [
           "Jahnel Group"
          ],
          [
           "Pipaya Partners"
          ],
          [
           "Teeming Vacation Rentals"
          ],
          [
           "JNS Media Specialists"
          ],
          [
           "Emergency Restoration Xperts"
          ],
          [
           "MedEvoke"
          ],
          [
           "OnPar Technologies"
          ],
          [
           "MediRevv"
          ],
          [
           "Oakman Aerospace"
          ],
          [
           "Azalea Health Innovations"
          ],
          [
           "eSquared Communication Consulting"
          ],
          [
           "Cubby's"
          ],
          [
           "Squaremouth"
          ],
          [
           "NRI USA"
          ],
          [
           "Rising Sun Farms"
          ],
          [
           "Adopt Technologies"
          ],
          [
           "BigSpeak Speakers Bureau"
          ],
          [
           "LSINC"
          ],
          [
           "Redeemers Group"
          ],
          [
           "Progressive Screens"
          ],
          [
           "Client Command"
          ],
          [
           "Health Catalyst"
          ],
          [
           "D&B Elite Construction Group"
          ],
          [
           "Host Healthcare"
          ],
          [
           "Teriyaki Madness"
          ],
          [
           "AchieveIt"
          ],
          [
           "G&G LED Lighting"
          ],
          [
           "Argotrak"
          ],
          [
           "The Ranger Group"
          ],
          [
           "Ad Results Media"
          ],
          [
           "Studio 11 Design"
          ],
          [
           "A+ Staffing"
          ],
          [
           "JCM Capital Investments"
          ],
          [
           "Real Social Dynamics"
          ],
          [
           "Talent Framework"
          ],
          [
           "MIS Solutions"
          ],
          [
           "Tripack"
          ],
          [
           "Amicon Management"
          ],
          [
           "Medisouth"
          ],
          [
           "GPS Trackit"
          ],
          [
           "Window Nation"
          ],
          [
           "SmartHouse Heating & Cooling"
          ],
          [
           "Plus Group"
          ],
          [
           "Levelset"
          ],
          [
           "Captive Alternatives"
          ],
          [
           "Agilis Systems"
          ],
          [
           "SMP Pharmacy Solutions"
          ],
          [
           "USConnect"
          ],
          [
           "BrandNex.com"
          ],
          [
           "BodyHealth"
          ],
          [
           "Jeni's Splendid Ice Creams"
          ],
          [
           "Fortified Data"
          ],
          [
           "Grand River Aseptic Manufacturing"
          ],
          [
           "SADA Systems"
          ],
          [
           "Los Angeles Distributing Company"
          ],
          [
           "Boa Logistics"
          ],
          [
           "MediaSmack"
          ],
          [
           "Data Storage Science"
          ],
          [
           "PeerSource"
          ],
          [
           "Integrated Biometrics"
          ],
          [
           "Airosmith Development"
          ],
          [
           "Trio"
          ],
          [
           "Coldwell Banker Distinctive Properties"
          ],
          [
           "Collateral Management"
          ],
          [
           "Schadler Industrial"
          ],
          [
           "SSDM"
          ],
          [
           "Spangler Restoration"
          ],
          [
           "BPO USA"
          ],
          [
           "EGen Solutions"
          ],
          [
           "Golden Financial Services Debt Settlement Corp."
          ],
          [
           "Superior Restoration"
          ],
          [
           "Level 2 Legal Solutions"
          ],
          [
           "The Autumn Group"
          ],
          [
           "Hawksearch"
          ],
          [
           "Sales Xceleration"
          ],
          [
           "Athletx Sports Group"
          ],
          [
           "PC Age"
          ],
          [
           "Uncomn"
          ],
          [
           "Intelpath"
          ],
          [
           "Triad RF Systems"
          ],
          [
           "Katalyst Group"
          ],
          [
           "OnSite Oilfield Service"
          ],
          [
           "National Petroleum"
          ],
          [
           "Simply Dental Management"
          ],
          [
           "Poppin"
          ],
          [
           "Phaidon International"
          ],
          [
           "Tallwave"
          ],
          [
           "WellBiz Brands"
          ],
          [
           "Agency672"
          ],
          [
           "ISI Professional Services"
          ],
          [
           "OneDigital Health and Benefits"
          ],
          [
           "Method Architecture"
          ],
          [
           "Strolid"
          ],
          [
           "Edge Business Systems"
          ],
          [
           "Consumer Acquisition"
          ],
          [
           "Propeller"
          ],
          [
           "Millennium Alliance"
          ],
          [
           "P.R.O.S. Corporate Housing"
          ],
          [
           "Athena Technology Group"
          ],
          [
           "BattlBox"
          ],
          [
           "Converge Consulting"
          ],
          [
           "British Swim School"
          ],
          [
           "Abstrakt Marketing Group"
          ],
          [
           "Engineer.ai"
          ],
          [
           "Homespire Mortgage"
          ],
          [
           "Abode Luxury Rentals"
          ],
          [
           "Arixa Capital Advisors"
          ],
          [
           "Fathom Realty"
          ],
          [
           "Caldera Medical"
          ],
          [
           "Acuity Technologies"
          ],
          [
           "Symplr"
          ],
          [
           "Stokes & Company, CPAs"
          ],
          [
           "Metric Theory"
          ],
          [
           "Enviro-Master International Franchise"
          ],
          [
           "Enseo"
          ],
          [
           "Equipment Management Group"
          ],
          [
           "Edlogical Group Corp"
          ],
          [
           "Dane Manufacturing"
          ],
          [
           "annLeo"
          ],
          [
           "Connexa"
          ],
          [
           "Sour Fish Events"
          ],
          [
           "Prime TSR"
          ],
          [
           "Practice Promotions"
          ],
          [
           "Net Conversion"
          ],
          [
           "Vee Technologies"
          ],
          [
           "Amijag"
          ],
          [
           "Priority Lighting"
          ],
          [
           "Sameday Insurance Services"
          ],
          [
           "Einstein Moving Company"
          ],
          [
           "Alight Analytics"
          ],
          [
           "Storebound"
          ],
          [
           "January Digital"
          ],
          [
           "Enterprise Knowledge"
          ],
          [
           "Proozy"
          ],
          [
           "Atlas Research"
          ],
          [
           "Nomad Financial"
          ],
          [
           "Aerodyne Industries"
          ],
          [
           "OMG Commerce"
          ],
          [
           "C&S Communications"
          ],
          [
           "Heritage Group"
          ],
          [
           "Modern American Recycling Services"
          ],
          [
           "Union"
          ],
          [
           "Future State Consulting"
          ],
          [
           "On Target Health"
          ],
          [
           "Premier Pools and Spas - Dallas"
          ],
          [
           "ZoomInfo"
          ],
          [
           "commonFont"
          ],
          [
           "Progressive Freight"
          ],
          [
           "Rockerbox"
          ],
          [
           "The Hay Legal Group"
          ],
          [
           "Denton Floyd Real Estate Group"
          ],
          [
           "Reveneer"
          ],
          [
           "M2E"
          ],
          [
           "AOK RVs"
          ],
          [
           "JSK Transportation"
          ],
          [
           "A.M. Sun Solar"
          ],
          [
           "Sheds Direct"
          ],
          [
           "Sealink International"
          ],
          [
           "CFO Alliance"
          ],
          [
           "NXGN"
          ],
          [
           "MediSked"
          ],
          [
           "Full Circle Research"
          ],
          [
           "Updox"
          ],
          [
           "Tasteful Selections"
          ],
          [
           "REN Dermatology"
          ],
          [
           "NFI/Nameplates for Industry"
          ],
          [
           "Advantage Technology"
          ],
          [
           "MegaCorp Logistics"
          ],
          [
           "Pinnacus"
          ],
          [
           "S3 Builders"
          ],
          [
           "Hancock Claims Consultants"
          ],
          [
           "Repay"
          ],
          [
           "Pepine Realty"
          ],
          [
           "Fort Construction,"
          ],
          [
           "Elite Pacific Properties"
          ],
          [
           "IronMountain Solutions"
          ],
          [
           "Coffeebar"
          ],
          [
           "Doodlebuggers"
          ],
          [
           "Careerminds"
          ],
          [
           "PEG Compaines"
          ],
          [
           "Stand Up Guys Junk Removal"
          ],
          [
           "Paragon Private Health"
          ],
          [
           "AffiniPay"
          ],
          [
           "AMC Bridge"
          ],
          [
           "Convene (New York, NY)"
          ],
          [
           "MarketBeat"
          ],
          [
           "Great Dental Websites"
          ],
          [
           "Environmental Protection Industries"
          ],
          [
           "Independent Trust Company of America"
          ],
          [
           "Pacific Gold Marketing"
          ],
          [
           "SAJJ Mediterranean"
          ],
          [
           "Broadreach Medical Resources"
          ],
          [
           "Conversant Group"
          ],
          [
           "All American Entertainment"
          ],
          [
           "CORE Consultants"
          ],
          [
           "Shelter"
          ],
          [
           "Afters Ice Cream"
          ],
          [
           "Passage Technology"
          ],
          [
           "The Westport Group"
          ],
          [
           "Stirista"
          ],
          [
           "Silver Lining Design Group"
          ],
          [
           "BCS CallProcessing"
          ],
          [
           "vTech Solution"
          ],
          [
           "Orbit Logic"
          ],
          [
           "Creative Works"
          ],
          [
           "AXI International Corp."
          ],
          [
           "Architecture Design Collaborative"
          ],
          [
           "SellerCloud"
          ],
          [
           "Koya Leadership Partners"
          ],
          [
           "Mike's Metal Works"
          ],
          [
           "New Breed Marketing"
          ],
          [
           "Superior Fireworks"
          ],
          [
           "Sweet Peach Wax & Sugaring Studio"
          ],
          [
           "Injured Gadgets"
          ],
          [
           "Lake Homes Realty"
          ],
          [
           "Good Life Companies"
          ],
          [
           "Mavice"
          ],
          [
           "Amstill Roofing"
          ],
          [
           "Chantel Ray Real Estate"
          ],
          [
           "Pinpoint Payments"
          ],
          [
           "On the Map Marketing"
          ],
          [
           "AcctTwo Shared Services"
          ],
          [
           "WNA Engineering"
          ],
          [
           "The Basement"
          ],
          [
           "Georgetown Home Care"
          ],
          [
           "Foster Crown"
          ],
          [
           "Green Star Exteriors"
          ],
          [
           "Soundhouse Rentals"
          ],
          [
           "HBR Consulting"
          ],
          [
           "WebPT"
          ],
          [
           "Blue Wheel Media"
          ],
          [
           "Bullseye Strategy"
          ],
          [
           "Canvs"
          ],
          [
           "Anders Group"
          ],
          [
           "Michael Hyatt & Company"
          ],
          [
           "Exponential Property Group"
          ],
          [
           "GP Flooring Solutions"
          ],
          [
           "Belay"
          ],
          [
           "Myriad Mobile"
          ],
          [
           "ShayCore Enterprises"
          ],
          [
           "Orases"
          ],
          [
           "ZMAC Transportation"
          ],
          [
           "CVP (Customer Value Partners)"
          ],
          [
           "Quicklotz Liquidations"
          ],
          [
           "LinkedSelling"
          ],
          [
           "Kajabi"
          ],
          [
           "Karsun Solutions"
          ],
          [
           "STP Investment Services"
          ],
          [
           "Less Annoying Software"
          ],
          [
           "keono"
          ],
          [
           "BisonOffice"
          ],
          [
           "Sullivan Engineering"
          ],
          [
           "Aspirent"
          ],
          [
           "Material Handling Services"
          ],
          [
           "Clutch Holdings"
          ],
          [
           "SkyVerge"
          ],
          [
           "Bell Media"
          ],
          [
           "Eligo Energy"
          ],
          [
           "Nuventra Pharma Sciences"
          ],
          [
           "Atlantic Blue Water Services"
          ],
          [
           "Skyword"
          ],
          [
           "Executech"
          ],
          [
           "Ultimate Jet Vacations"
          ],
          [
           "Surdi Enterprise"
          ],
          [
           "Clearent"
          ],
          [
           "A Head For Profits"
          ],
          [
           "Health Carousel"
          ],
          [
           "RR Appliance Services"
          ],
          [
           "PCI Group"
          ],
          [
           "Eclipse Brand Builders"
          ],
          [
           "Northern Planet"
          ],
          [
           "AdTheorent"
          ],
          [
           "Career Start"
          ],
          [
           "Mid America Logistics"
          ],
          [
           "Roz Marketing Group"
          ],
          [
           "GRSi"
          ],
          [
           "Creative Marketing Resources"
          ],
          [
           "Escalon Services"
          ],
          [
           "Franpos"
          ],
          [
           "Tectonic Audio Labs"
          ],
          [
           "JAX Refrigeration"
          ],
          [
           "Tridiuum"
          ],
          [
           "Human Element"
          ],
          [
           "Integrhythm"
          ],
          [
           "Cinergy Entertainment"
          ],
          [
           "CompassMSP"
          ],
          [
           "Apps Solutions"
          ],
          [
           "Fatbeam"
          ],
          [
           "demandDrive"
          ],
          [
           "Woodridge Advisors"
          ],
          [
           "Open Systems Healthcare"
          ],
          [
           "Perfusion.com"
          ],
          [
           "Diligent Corporation"
          ],
          [
           "Surefire Local"
          ],
          [
           "Capital Square 1031"
          ],
          [
           "EBQuickstart"
          ],
          [
           "AgileThought"
          ],
          [
           "Paradyme Management"
          ],
          [
           "JEAR Logistics"
          ],
          [
           "Senture"
          ],
          [
           "Med Tech Solutions"
          ],
          [
           "Property Management"
          ],
          [
           "Rang Technologies"
          ],
          [
           "Barracuda Staffing"
          ],
          [
           "The Surface Masters"
          ],
          [
           "Advanced Medical Integration"
          ],
          [
           "Anytime Flooring"
          ],
          [
           "The Kotter Group"
          ],
          [
           "Electrosoft Services"
          ],
          [
           "Myrtle Group"
          ],
          [
           "ReviewPush"
          ],
          [
           "BuybackBoss.com"
          ],
          [
           "OceanTech"
          ],
          [
           "Fluidmesh Networks"
          ],
          [
           "Pegasus one"
          ],
          [
           "Proforma Printing Systems"
          ],
          [
           "Solutions by Text"
          ],
          [
           "Epiq"
          ],
          [
           "iQuanti"
          ],
          [
           "The Lockwood Group"
          ],
          [
           "Sentinel Sales & Management"
          ],
          [
           "Caliber The Wealth Development Company"
          ],
          [
           "Chair 10 Marketing"
          ],
          [
           "Trinity Multifamily"
          ],
          [
           "Edgewater Federal Solutions"
          ],
          [
           "Lamb Insurance Services"
          ],
          [
           "YourMechanic"
          ],
          [
           "Criteria (Los Angeles, CA)"
          ],
          [
           "Patra"
          ],
          [
           "Project Repat"
          ],
          [
           "Capitol Home Health"
          ],
          [
           "Raare Solutions"
          ],
          [
           "Supplies Now"
          ],
          [
           "Nelson Construction and Renovations"
          ],
          [
           "MomentFeed"
          ],
          [
           "Cutting Edge Services"
          ],
          [
           "Chhabra Enterprises"
          ],
          [
           "Pless Security Incorporated"
          ],
          [
           "Park Place Technologies"
          ],
          [
           "Tin Roof Software"
          ],
          [
           "Netrush"
          ],
          [
           "OnPrem Solution Partners"
          ],
          [
           "ManhattanTechSupport.com"
          ],
          [
           "Bayless Integrated Healthcare"
          ],
          [
           "HydroFloTech"
          ],
          [
           "A Plus Garage Doors"
          ],
          [
           "Collision Works"
          ],
          [
           "Summit CPA Group"
          ],
          [
           "ThreatConnect"
          ],
          [
           "Fully Accountable"
          ],
          [
           "TargetPath"
          ],
          [
           "McCabe Construction Company"
          ],
          [
           "Material Handling Systems"
          ],
          [
           "Specialist ID"
          ],
          [
           "EnableComp"
          ],
          [
           "Incedo"
          ],
          [
           "One Stop Equine Shop"
          ],
          [
           "Key Credit Repair"
          ],
          [
           "Your Wealth Effect"
          ],
          [
           "Affordable Luxury Group"
          ],
          [
           "Brookstone Restoration"
          ],
          [
           "Avatria"
          ],
          [
           "Bevara Building Services"
          ],
          [
           "United Solutions"
          ],
          [
           "Ecosystem Planning and Restoration"
          ],
          [
           "Team Fitz Graphics"
          ],
          [
           "TalentBridge"
          ],
          [
           "Romulus Marketing"
          ],
          [
           "Restore Rehab Services"
          ],
          [
           "Murray Resources"
          ],
          [
           "VOX DJs"
          ],
          [
           "RGD"
          ],
          [
           "BOS Staffing"
          ],
          [
           "Becker's Healthcare"
          ],
          [
           "Elite Roofing"
          ],
          [
           "BlackTree Heathcare Consulting"
          ],
          [
           "The Neiders Company"
          ],
          [
           "SellYourMac.com"
          ],
          [
           "Tech Americas USA"
          ],
          [
           "Fortis Construction"
          ],
          [
           "NPD Logistics"
          ],
          [
           "Net2Source"
          ],
          [
           "ProTitleUSA"
          ],
          [
           "Grover Gaming"
          ],
          [
           "Adwerx"
          ],
          [
           "UserTesting"
          ],
          [
           "HumanN"
          ],
          [
           "O.P.E.N. America"
          ],
          [
           "Joorney Business Plans"
          ],
          [
           "Pyure Brands"
          ],
          [
           "TruQua Enterprises"
          ],
          [
           "Food52"
          ],
          [
           "Tallahassee Rock Real Estate"
          ],
          [
           "T. Parker Host"
          ],
          [
           "BBQ Guy's Manufacturing"
          ],
          [
           "Happy Trailer Sales"
          ],
          [
           "JMC Equipment"
          ],
          [
           "T3 Expo"
          ],
          [
           "Downeast Cider House"
          ],
          [
           "Syntelligent Analytic Solutions"
          ],
          [
           "Deep Blue Communications"
          ],
          [
           "Test Double"
          ],
          [
           "GeBBS Healthcare Solutions"
          ],
          [
           "Semcasting"
          ],
          [
           "Takeout Central"
          ],
          [
           "Mind Your Business"
          ],
          [
           "Bolt on Technology"
          ],
          [
           "Synapse Studios"
          ],
          [
           "College Hunks Hauling Junk and Moving (Tampa, FL)"
          ],
          [
           "Mansfield Crane Service"
          ],
          [
           "EmazingLights / iHeartRaves / Into the AM"
          ],
          [
           "Trintech"
          ],
          [
           "SomerTile"
          ],
          [
           "B&B Heating and Air"
          ],
          [
           "BCV Social"
          ],
          [
           "Tricap Residential Group"
          ],
          [
           "NetX Information Systems"
          ],
          [
           "Experion Technologies"
          ],
          [
           "True Inspection Services"
          ],
          [
           "GotUwired"
          ],
          [
           "Master Medical Equipment"
          ],
          [
           "Greenway Insurance"
          ],
          [
           "Prolific Interactive"
          ],
          [
           "Berry Law Firm"
          ],
          [
           "Dealer World"
          ],
          [
           "Marketing Doctor"
          ],
          [
           "Petrelli Previtera Schimmel"
          ],
          [
           "Modus Create"
          ],
          [
           "Miracle Mile Advisors"
          ],
          [
           "Elev8 Hire Solutions"
          ],
          [
           "NCWC"
          ],
          [
           "Neal&Neal Team"
          ],
          [
           "A1C Partners"
          ],
          [
           "Homeland Manufacturing Services"
          ],
          [
           "inTech Trailers"
          ],
          [
           "ALKU"
          ],
          [
           "Fit My Feet Orthotic Lab and Shoes"
          ],
          [
           "Instasize"
          ],
          [
           "Kahn Media"
          ],
          [
           "DoHardMoney.com"
          ],
          [
           "Appreciation Financial"
          ],
          [
           "Monogram Windows and Doors"
          ],
          [
           "New Vision"
          ],
          [
           "Biomedical Research Laboratories"
          ],
          [
           "Cambria Solutions"
          ],
          [
           "Kodiak Building Partners"
          ],
          [
           "STS International"
          ],
          [
           "Globo"
          ],
          [
           "South Bay Hot Yoga"
          ],
          [
           "Unity FI Solutions"
          ],
          [
           "Skaled Consulting"
          ],
          [
           "The Network Pro"
          ],
          [
           "Aspen Exteriors"
          ],
          [
           "Maxey Trailers Mfg."
          ],
          [
           "Clark Bros."
          ],
          [
           "Metro Stars Gymnastics"
          ],
          [
           "Aerospace Quality Research and Development"
          ],
          [
           "Blink Fitness"
          ],
          [
           "Digital Pi"
          ],
          [
           "Mobile Outfitters"
          ],
          [
           "Threat Tec"
          ],
          [
           "North American Payment Solutions"
          ],
          [
           "CS Recruiting"
          ],
          [
           "Feury Image Group"
          ],
          [
           "LIDO ADVISORS"
          ],
          [
           "RNN Group"
          ],
          [
           "TFS"
          ],
          [
           "Choice Merchant Solutions"
          ],
          [
           "All Pro Security"
          ],
          [
           "Streamline"
          ],
          [
           "Salas O'Brien"
          ],
          [
           "BNG Team"
          ],
          [
           "Vinyl Me, Please"
          ],
          [
           "Klein Hall CPAs"
          ],
          [
           "Touchstone Merchandise Group"
          ],
          [
           "DEG"
          ],
          [
           "Phobio"
          ],
          [
           "KitchenSearch.com"
          ],
          [
           "Transportation Impact"
          ],
          [
           "Great Waters Financial"
          ],
          [
           "Turbonomic"
          ],
          [
           "FCM"
          ],
          [
           "Momentum Solutionz"
          ],
          [
           "Perceptyx"
          ],
          [
           "Info Way Solutions"
          ],
          [
           "InterImage"
          ],
          [
           "VitalWare"
          ],
          [
           "Tundraland Home Improvements"
          ],
          [
           "RMG Media"
          ],
          [
           "Maui Leones"
          ],
          [
           "PayDay Payroll Resources"
          ],
          [
           "Broadline Components"
          ],
          [
           "Appogee"
          ],
          [
           "Prominent Construction"
          ],
          [
           "SEI-New York"
          ],
          [
           "Cipher Tech Solutions"
          ],
          [
           "Delta Solutions & Strategies"
          ],
          [
           "Applied Technology Services"
          ],
          [
           "ZochNet"
          ],
          [
           "iTouchless.com"
          ],
          [
           "Rain City Capital"
          ],
          [
           "Greenland America"
          ],
          [
           "Derm Holdings"
          ],
          [
           "Computer Overhauls"
          ],
          [
           "Staylisted"
          ],
          [
           "Validation Associates"
          ],
          [
           "North Pacific Industries"
          ],
          [
           "Whois API"
          ],
          [
           "Strike"
          ],
          [
           "Corsis"
          ],
          [
           "Techfino"
          ],
          [
           "ProConstruction"
          ],
          [
           "Maximum Games"
          ],
          [
           "HSTpathways"
          ],
          [
           "Bar-All"
          ],
          [
           "Bounteous"
          ],
          [
           "Culture Studio"
          ],
          [
           "DiamondBack Truck Covers"
          ],
          [
           "Eight Bit Studios"
          ],
          [
           "ClickDimensions"
          ],
          [
           "Altura Engineering & Design"
          ],
          [
           "Freedom Capital"
          ],
          [
           "Alarm Grid"
          ],
          [
           "Precision Precast Erectors"
          ],
          [
           "APS Marketing Group"
          ],
          [
           "Boxwell Southwest"
          ],
          [
           "TLC Associates"
          ],
          [
           "E-Volve Systems"
          ],
          [
           "Cogent Analytics"
          ],
          [
           "MKS2 Technologies"
          ],
          [
           "Hoss Industrial"
          ],
          [
           "Healthcare IT Leaders"
          ],
          [
           "Rekruiters"
          ],
          [
           "Stoneridge Software"
          ],
          [
           "Centex Technologies"
          ],
          [
           "Platinum Realty"
          ],
          [
           "Phoenix Marketing International"
          ],
          [
           "Best Deal Car Service"
          ],
          [
           "Survwest"
          ],
          [
           "Swarm"
          ],
          [
           "Nebo"
          ],
          [
           "i3"
          ],
          [
           "Marshall Scientific"
          ],
          [
           "JSL Technologies"
          ],
          [
           "LUX Catering & Events"
          ],
          [
           "Above All Transportation/ Boston Car Service"
          ],
          [
           "Durante Rentals"
          ],
          [
           "Morgan Li"
          ],
          [
           "The Junkluggers"
          ],
          [
           "Framework Solutions"
          ],
          [
           "Chief Outsiders"
          ],
          [
           "Arcadia.io"
          ],
          [
           "Rockwell Partners"
          ],
          [
           "Cleanlife LED"
          ],
          [
           "Gorgo Group"
          ],
          [
           "Vigilant Global Trade Services"
          ],
          [
           "Xtelligent Healthcare Media"
          ],
          [
           "acquisitionsandrenewals.com"
          ],
          [
           "Visual Connections"
          ],
          [
           "WebIT Services"
          ],
          [
           "CaliChi Design Group"
          ],
          [
           "Rescue | The Behavior Change Agency"
          ],
          [
           "Budget Dumpster"
          ],
          [
           "Riverside Payments"
          ],
          [
           "Bellwether Asset Management"
          ],
          [
           "Mobilewalla"
          ],
          [
           "Cantey Technology"
          ],
          [
           "HHAeXchange"
          ],
          [
           "The Saywitz Company"
          ],
          [
           "Bayone Solutions"
          ],
          [
           "SmarterHQ"
          ],
          [
           "OpenWater Software"
          ],
          [
           "G Adventures"
          ],
          [
           "Plenus Group"
          ],
          [
           "Medical Weight Loss by Healthogenics"
          ],
          [
           "InsureYourCompany.com"
          ],
          [
           "Simon Transport"
          ],
          [
           "Beverly Hills Rejuvenation Center"
          ],
          [
           "SmartSites"
          ],
          [
           "Transportation and Logistical Services"
          ],
          [
           "Logistics Plus"
          ],
          [
           "Search Solution Group"
          ],
          [
           "Meriwether & Tharp"
          ],
          [
           "CI&T"
          ],
          [
           "Elements Massage"
          ],
          [
           "Renatus"
          ],
          [
           "Parkmobile"
          ],
          [
           "iKeyless"
          ],
          [
           "VLK Architects"
          ],
          [
           "Katom Restaurant Supply"
          ],
          [
           "Royal Vending"
          ],
          [
           "WLE"
          ],
          [
           "Quality Engineering & Surveying"
          ],
          [
           "Keeping Current Matters"
          ],
          [
           "HomeCare Connect"
          ],
          [
           "Mission Driven Research"
          ],
          [
           "Brown Parker & DeMarinis Advertising"
          ],
          [
           "Lendr"
          ],
          [
           "Flow Right Plumbing, Heating & Cooling"
          ],
          [
           "Erben Associates"
          ],
          [
           "AmeriPharma"
          ],
          [
           "First National Title Insurance Company"
          ],
          [
           "Ripple"
          ],
          [
           "TWG Security"
          ],
          [
           "D&B Precision Cutting and Manufacturing"
          ],
          [
           "Triumph Services"
          ],
          [
           "Gant Systems"
          ],
          [
           "Studio98"
          ],
          [
           "Boomsourcing"
          ],
          [
           "BirdDogHR"
          ],
          [
           "Texadia Systems"
          ],
          [
           "thomastech"
          ],
          [
           "ROI Healthcare Solutions"
          ],
          [
           "Output"
          ],
          [
           "CTE Logistics"
          ],
          [
           "Level Access"
          ],
          [
           "California CareGivers Home Healthcare"
          ],
          [
           "Excella Consulting"
          ],
          [
           "How to Manage a Small Law Firm"
          ],
          [
           "The Auxiliary Group"
          ],
          [
           "Weisser Distributing"
          ],
          [
           "Snap Agency"
          ],
          [
           "American Insurance Organization"
          ],
          [
           "Mayvin"
          ],
          [
           "Sustainable Restaurant Group"
          ],
          [
           "The Sheppard"
          ],
          [
           "Wheelhouse DMG"
          ],
          [
           "Alpha Paving Industries"
          ],
          [
           "GreenBanana SEO"
          ],
          [
           "Singleton Enterprises"
          ],
          [
           "Engage PEO"
          ],
          [
           "Delta Defense"
          ],
          [
           "Developintelligence"
          ],
          [
           "Roofcare"
          ],
          [
           "Select Security"
          ],
          [
           "Real People Realty"
          ],
          [
           "TruePoint Communications"
          ],
          [
           "SketchDeck"
          ],
          [
           "Tiempo Development"
          ],
          [
           "ConnectPay"
          ],
          [
           "Promoboxx"
          ],
          [
           "Pondurance"
          ],
          [
           "Four Foods Group"
          ],
          [
           "Advanced Flooring"
          ],
          [
           "Filterworks USA"
          ],
          [
           "Fonteva"
          ],
          [
           "Fors Marsh Group"
          ],
          [
           "The Nines"
          ],
          [
           "HMT Associates"
          ],
          [
           "US Patriot"
          ],
          [
           "nLogic"
          ],
          [
           "Docmation"
          ],
          [
           "Patriot Pool and Spa"
          ],
          [
           "Downtown Catering Company"
          ],
          [
           "PowerReviews"
          ],
          [
           "Local Marketing Solutions Group"
          ],
          [
           "Evans Incorporated"
          ],
          [
           "Design Extensions"
          ],
          [
           "Bold Construction"
          ],
          [
           "ReedTMS Logistics"
          ],
          [
           "Sales Empowerment Group"
          ],
          [
           "MarkSYS"
          ],
          [
           "IT Support RI"
          ],
          [
           "Excel Services"
          ],
          [
           "Keyser"
          ],
          [
           "Cutting Edge Countertops"
          ],
          [
           "Aventri"
          ],
          [
           "Erus Energy"
          ],
          [
           "Accucomp Appraisal Services"
          ],
          [
           "Envisage"
          ],
          [
           "Buzz Franchise Brands"
          ],
          [
           "Kyriba"
          ],
          [
           "Schaal Plumbing, Heating & Cooling"
          ],
          [
           "Southeast Veterinary Neurology"
          ],
          [
           "Upper Edge Technologies"
          ],
          [
           "Spire Digital"
          ],
          [
           "EPIC Insurance Brokers & Consultants"
          ],
          [
           "Axiom Eco Pest Control"
          ],
          [
           "FedBiz IT Solutions"
          ],
          [
           "Local Loyalty Marketing Solutions NC"
          ],
          [
           "Edge"
          ],
          [
           "Alpha Premier"
          ],
          [
           "Jack Browns Joint"
          ],
          [
           "Sandler Partners"
          ],
          [
           "EngeniusMicro"
          ],
          [
           "Enscicon"
          ],
          [
           "Janus International Group"
          ],
          [
           "Kumparison"
          ],
          [
           "RxNT"
          ],
          [
           "MileMark Media"
          ],
          [
           "SleepQuest"
          ],
          [
           "CardioSolution"
          ],
          [
           "Abenity"
          ],
          [
           "Echo Health"
          ],
          [
           "Rank Crankers"
          ],
          [
           "Mojo Media Labs"
          ],
          [
           "Engelke Construction Solutions"
          ],
          [
           "Silverline"
          ],
          [
           "Heartsmart.com"
          ],
          [
           "Xyngular"
          ],
          [
           "CollabraLink Technologies"
          ],
          [
           "Score a Score"
          ],
          [
           "APIC Solutions"
          ],
          [
           "Portable Oxygen Solutions"
          ],
          [
           "Agile Velocity"
          ],
          [
           "Reflex Sales Group"
          ],
          [
           "OAC Services"
          ],
          [
           "Culinary Eye Catering and Events"
          ],
          [
           "Payroll4Construction.com"
          ],
          [
           "Great Hire"
          ],
          [
           "Union Home Mortgage"
          ],
          [
           "TDK Technologies"
          ],
          [
           "Prosper Consulting"
          ],
          [
           "InfraWare"
          ],
          [
           "Owen Jones and Partners"
          ],
          [
           "Objectstream"
          ],
          [
           "Chemlock Nutrition"
          ],
          [
           "Nomadic Real Estate"
          ],
          [
           "Keller Williams Realty Capital District"
          ],
          [
           "Sunrise Erectors"
          ],
          [
           "Lindmark Outdoor Media"
          ],
          [
           "Doberman Technologies"
          ],
          [
           "LA Solar Group"
          ],
          [
           "AR Solutions"
          ],
          [
           "Kopis"
          ],
          [
           "Yes&"
          ],
          [
           "Aligne Wealth Preservation & Insurance Services"
          ],
          [
           "365 Retail Markets"
          ],
          [
           "Virtus Partners"
          ],
          [
           "Snap Install"
          ],
          [
           "FirstClose"
          ],
          [
           "Ecotone"
          ],
          [
           "Shaw + Scott"
          ],
          [
           "Busch Global"
          ],
          [
           "Protocol Networks"
          ],
          [
           "R & Y A/C Compressors"
          ],
          [
           "The Cutting Board Company"
          ],
          [
           "SiteLock"
          ],
          [
           "The Indigo Road Hospitality Group"
          ],
          [
           "Siteline Interior Carpentry"
          ],
          [
           "FCP Euro"
          ],
          [
           "Sophus IT Solutions"
          ],
          [
           "Crimcheck Holdings"
          ],
          [
           "US"
          ],
          [
           "Miguel Lopez Jr."
          ],
          [
           "Stream Logistics"
          ],
          [
           "Allegheny Science & Technology"
          ],
          [
           "Romaric Automation Design"
          ],
          [
           "Marathon TS"
          ],
          [
           "Cummings Creative Group"
          ],
          [
           "Claimify (formerly Lucens Group)"
          ],
          [
           "Ruby Receptionists"
          ],
          [
           "Bay State Search"
          ],
          [
           "TechLink Services"
          ],
          [
           "Decisiv"
          ],
          [
           "Bay to Bay Properties"
          ],
          [
           "MYCA Material Handling Solutions"
          ],
          [
           "Pillar Properties"
          ],
          [
           "Swift Straw II"
          ],
          [
           "Mid America Pet Food"
          ],
          [
           "Maantic"
          ],
          [
           "Paragon Healthcare"
          ],
          [
           "ten24"
          ],
          [
           "Grassburger"
          ],
          [
           "The Haro Group of Keller Williams Real Estate"
          ],
          [
           "Media Bridge Advertising"
          ],
          [
           "Golden Reserve"
          ],
          [
           "Distrivalto USA / Holstein Housewares"
          ],
          [
           "HispaniSpace"
          ],
          [
           "PrinterLogic"
          ],
          [
           "Rockway Exhibits + Events"
          ],
          [
           "HigherGround Managed Services"
          ],
          [
           "Tidewater Fleet Supply"
          ],
          [
           "Medical Solutions"
          ],
          [
           "Bean Group"
          ],
          [
           "RevLocal"
          ],
          [
           "Brink"
          ],
          [
           "Allixo"
          ],
          [
           "Rentec Direct"
          ],
          [
           "Professional Enrollment Concepts"
          ],
          [
           "Qiigo"
          ],
          [
           "Chrome River"
          ],
          [
           "Sender One Climbing"
          ],
          [
           "Jane.com"
          ],
          [
           "Lumiere Children's Therapy"
          ],
          [
           "Affiliated Communications dba Alert Communications"
          ],
          [
           "City Brew Tours"
          ],
          [
           "Mountain Showcase Group"
          ],
          [
           "Business IT Source"
          ],
          [
           "Advanced Powder Products"
          ],
          [
           "Fab-Tec"
          ],
          [
           "Conti"
          ],
          [
           "Facility Systems"
          ],
          [
           "Halco Testing Services"
          ],
          [
           "Search Discovery"
          ],
          [
           "Competitive Health"
          ],
          [
           "Unlimited Landscaping & Turf Management"
          ],
          [
           "EvolveMKD"
          ],
          [
           "Premier Networx"
          ],
          [
           "AvAir"
          ],
          [
           "Aqua-Yield Operations"
          ],
          [
           "Circle Computer Resources"
          ],
          [
           "Vandelay Education"
          ],
          [
           "Open Source Integrators"
          ],
          [
           "Zulu Marketing"
          ],
          [
           "Laketown Electric"
          ],
          [
           "Tri Tower Telecom"
          ],
          [
           "SecureLink"
          ],
          [
           "Stamford Technology Solutions"
          ],
          [
           "Axispoint"
          ],
          [
           "Mattingly Concrete"
          ],
          [
           "IT Partners (Bethel Park, PA)"
          ],
          [
           "StateServ-Hospicelink"
          ],
          [
           "Activate Marketing Services"
          ],
          [
           "Chesapeake Plumbing & Heating"
          ],
          [
           "IT Management Corporation"
          ],
          [
           "Dogtopia Enterprises"
          ],
          [
           "Modality Solutions"
          ],
          [
           "Light Dental Studios"
          ],
          [
           "Ovative Group"
          ],
          [
           "Southwest Antennas"
          ],
          [
           "McKay Advertising + Activation"
          ],
          [
           "LS Systems"
          ],
          [
           "Dream Local Digital"
          ],
          [
           "Lamacchia Realty"
          ],
          [
           "Rice Insurance"
          ],
          [
           "Relief-Mart"
          ],
          [
           "The Music Room"
          ],
          [
           "Redhorse"
          ],
          [
           "Cohen & Company"
          ],
          [
           "MKD Electric"
          ],
          [
           "Accelogix"
          ],
          [
           "Deep Well Services"
          ],
          [
           "Wellworks For You"
          ],
          [
           "Cambria Investment Management, LP"
          ],
          [
           "eLearningBrothers"
          ],
          [
           "ImagineSoftware"
          ],
          [
           "Odyssey Systems Consulting Group"
          ],
          [
           "ActualTech Media"
          ],
          [
           "Vivax Pros"
          ],
          [
           "Day Translations"
          ],
          [
           "Pacific Energy Concepts"
          ],
          [
           "SHARP MEDICAL STAFFING"
          ],
          [
           "LMG"
          ],
          [
           "Norman Heating & Air Conditioning"
          ],
          [
           "TR MILLER HEATING & COOLING"
          ],
          [
           "FATHOM (Oakland, CA)"
          ],
          [
           "Bulu"
          ],
          [
           "Darkblade Systems"
          ],
          [
           "Energy Fitness"
          ],
          [
           "Medical B & T services"
          ],
          [
           "Blue Chip Talent"
          ],
          [
           "ProMedia"
          ],
          [
           "Insight Sourcing Group"
          ],
          [
           "Mighty 8th Media"
          ],
          [
           "Knight Federal Solutions"
          ],
          [
           "Alegiant Services,LLC"
          ],
          [
           "Nuspire"
          ],
          [
           "Datavail"
          ],
          [
           "Intero Real Estate Services"
          ],
          [
           "Coastal Payroll"
          ],
          [
           "Pet Assure Corp"
          ],
          [
           "J&B Pallet"
          ],
          [
           "Levitate Media"
          ],
          [
           "PaySphere Payroll & HR"
          ],
          [
           "Nekter Juice Bar"
          ],
          [
           "Intellectual Capitol"
          ],
          [
           "All Industrial Tool Supply"
          ],
          [
           "Adaptive Nursing and Healthcare Services"
          ],
          [
           "DKBinnovative"
          ],
          [
           "Clason Point Partners"
          ],
          [
           "Classy Art"
          ],
          [
           "Mommy's Bliss"
          ],
          [
           "TorchLight Hire"
          ],
          [
           "Cinch IT"
          ],
          [
           "Division-D"
          ],
          [
           "GC Realty & Development"
          ],
          [
           "Lee's Air Conditioning, Heating & Building Performance"
          ],
          [
           "Power Design"
          ],
          [
           "Core Nutritionals"
          ],
          [
           "People's Television"
          ],
          [
           "Premier Pools and Spas"
          ],
          [
           "de Jong Duke"
          ],
          [
           "Cadence Communications and Research"
          ],
          [
           "Stratus Building Solutions"
          ],
          [
           "Secure One Capital"
          ],
          [
           "The Predictive Index"
          ],
          [
           "ScribeAmerica"
          ],
          [
           "Dynamics Resources"
          ],
          [
           "Succession Resource Group"
          ],
          [
           "Intrust Funding"
          ],
          [
           "Providence Care"
          ],
          [
           "Complete Network"
          ],
          [
           "A+ Derr Heating and Cooling"
          ],
          [
           "Bandwave Systems"
          ],
          [
           "Systems Integration"
          ],
          [
           "Renters Warehouse"
          ],
          [
           "The Agency"
          ],
          [
           "Open Systems Technologies"
          ],
          [
           "Tane"
          ],
          [
           "Aspen Systems"
          ],
          [
           "Thornhill"
          ],
          [
           "Obility"
          ],
          [
           "Precision Measurement Engineering"
          ],
          [
           "Laritech"
          ],
          [
           "FOR"
          ],
          [
           "Tom Ferry"
          ],
          [
           "EMD Strategies"
          ],
          [
           "Century Business Solutions: EBizCharge"
          ],
          [
           "Rabbit Air"
          ],
          [
           "The Dagit Group"
          ],
          [
           "King Memory"
          ],
          [
           "Scott Brown Media Group"
          ],
          [
           "Government Marketing"
          ],
          [
           "Sanmejio"
          ],
          [
           "Benchworks"
          ],
          [
           "Go-Forth Pest Control"
          ],
          [
           "WMK"
          ],
          [
           "Placers"
          ],
          [
           "USSC Group"
          ],
          [
           "Mailchimp"
          ],
          [
           "Atlantic Petroleum"
          ],
          [
           "Arch-Con Construction"
          ],
          [
           "LLamasoft"
          ],
          [
           "Zenetex"
          ],
          [
           "Targeted Pet Treats"
          ],
          [
           "Generation Iron Brands"
          ],
          [
           "Computer Enterprises"
          ],
          [
           "TeleSolv Consulting"
          ],
          [
           "PolicyPak"
          ],
          [
           "WebFX"
          ],
          [
           "All Points Broadband"
          ],
          [
           "Ruoff Home Mortgage"
          ],
          [
           "Premier Orthodontic Specialists"
          ],
          [
           "ADSG"
          ],
          [
           "EQ1 Real Estate"
          ],
          [
           "The ASK Method Company"
          ],
          [
           "PM Hotel Group"
          ],
          [
           "Tucker-Rose Associates"
          ],
          [
           "Intermountain Audiology Hearing and Brain Clinics"
          ],
          [
           "Lightfoot Mechanical"
          ],
          [
           "Closet America"
          ],
          [
           "AltSource"
          ],
          [
           "Skyline Builders"
          ],
          [
           "Keen Decision Systems"
          ],
          [
           "Asurint"
          ],
          [
           "Healthy Spot"
          ],
          [
           "ConveyIQ"
          ],
          [
           "Builder's Choice"
          ],
          [
           "The Spur Group"
          ],
          [
           "Buildium"
          ],
          [
           "ARGI Financial Group"
          ],
          [
           "Giltner Logistics"
          ],
          [
           "ABCO Systems"
          ],
          [
           "AVIO Consulting"
          ],
          [
           "Gateway Mortgage Group"
          ],
          [
           "Averhealth"
          ],
          [
           "Titus Talent Strategies"
          ],
          [
           "Backblaze"
          ],
          [
           "Reveleer"
          ],
          [
           "Seek Thermal"
          ],
          [
           "Johnson Consulting Group"
          ],
          [
           "Optomi"
          ],
          [
           "Optimum Employer Solutions"
          ],
          [
           "Avanath Capital Management"
          ],
          [
           "Simulation Technologies"
          ],
          [
           "B-Unlimited"
          ],
          [
           "Alliance Executive Search"
          ],
          [
           "Mid Valley IT"
          ],
          [
           "BridgePoint Construction"
          ],
          [
           "DECA Dental Group"
          ],
          [
           "Mediafly"
          ],
          [
           "Greenview Lawns"
          ],
          [
           "Binc"
          ],
          [
           "Verblio"
          ],
          [
           "Bedroc"
          ],
          [
           "Status Labs"
          ],
          [
           "Sterling Site Access Solutions"
          ],
          [
           "Assisting Hands Home Care"
          ],
          [
           "Interactive Entertainment Group"
          ],
          [
           "Hydra-Flex"
          ],
          [
           "Watters International Realty"
          ],
          [
           "MassPay"
          ],
          [
           "Convergint Technologies"
          ],
          [
           "Blue Door Consulting"
          ],
          [
           "Mail Shark"
          ],
          [
           "OptiFuse"
          ],
          [
           "Poulton Associates"
          ],
          [
           "Hire Dynamics"
          ],
          [
           "iCIMS"
          ],
          [
           "Dermacare Hampton Roads"
          ],
          [
           "Aladtec"
          ],
          [
           "Bodycentral Physical Therapy"
          ],
          [
           "Victra"
          ],
          [
           "Curriculum Associates"
          ],
          [
           "Fingerpaint"
          ],
          [
           "Prosek Partners"
          ],
          [
           "Walker Sands"
          ],
          [
           "Mabbett & Associates"
          ],
          [
           "Dom & Tom"
          ],
          [
           "Rock The House Entertainment"
          ],
          [
           "Incapsulate"
          ],
          [
           "Dominion Payroll"
          ],
          [
           "The Hennessey Group"
          ],
          [
           "Freeit Data Solutions"
          ],
          [
           "W Services Group"
          ],
          [
           "All Filters"
          ],
          [
           "Intercontinental Capital Group"
          ],
          [
           "Arctic Supplies"
          ],
          [
           "Dfuse Technologies"
          ],
          [
           "Culver Equipment"
          ],
          [
           "HomeVestors of America"
          ],
          [
           "Women Rocking Business"
          ],
          [
           "Building Engines"
          ],
          [
           "S2 IT Group"
          ],
          [
           "ePelican.com"
          ],
          [
           "Clean Energy Solutions"
          ],
          [
           "Vennli"
          ],
          [
           "Arcos"
          ],
          [
           "Home Health Companions"
          ],
          [
           "Catchpoint"
          ],
          [
           "Greenphire"
          ],
          [
           "Elite Core Enterprises"
          ],
          [
           "PM Pediatrics"
          ],
          [
           "Forever.com"
          ],
          [
           "Mercury Mosaics"
          ],
          [
           "Wellen Capital"
          ],
          [
           "Archgate TMS Solutions"
          ],
          [
           "INCATech"
          ],
          [
           "Broadleaf Commerce"
          ],
          [
           "Tevora"
          ],
          [
           "Distritech"
          ],
          [
           "Service Direct"
          ],
          [
           "Network Optix"
          ],
          [
           "Linden Construction of South Carolina"
          ],
          [
           "Propio Language Services"
          ],
          [
           "BioPoint"
          ],
          [
           "SynergyLabs"
          ],
          [
           "Aqueduct Technologies"
          ],
          [
           "Heavy Equipment Colleges of America"
          ],
          [
           "REI Automation"
          ],
          [
           "MRO"
          ],
          [
           "ASP-America's Swimming Pool Company"
          ],
          [
           "Convert IT Marketing"
          ],
          [
           "Asset Based Lending"
          ],
          [
           "Mindoula"
          ],
          [
           "AccuReg Software"
          ],
          [
           "Rockland Insurance Agency"
          ],
          [
           "CloudMyBiz"
          ],
          [
           "Geocent"
          ],
          [
           "Colarelli Construction"
          ],
          [
           "TeamLogic IT"
          ],
          [
           "RTM Engineering Consultants"
          ],
          [
           "Sioux Falls Tower Specialists"
          ],
          [
           "Resource Environmental Solutions"
          ],
          [
           "Interactions"
          ],
          [
           "Vizzia Technologies"
          ],
          [
           "StickerGiant"
          ],
          [
           "Printfection"
          ],
          [
           "Appraisal Nation"
          ],
          [
           "Fortis Riders"
          ],
          [
           "Ampcus"
          ],
          [
           "Shore Funding Solutions"
          ],
          [
           "Stevens Trucking"
          ],
          [
           "Business Promotion"
          ],
          [
           "Viralstyle.com"
          ],
          [
           "NEWPRO operating"
          ],
          [
           "Brandito"
          ],
          [
           "Mercer Advisors"
          ],
          [
           "Museum Hack"
          ],
          [
           "Protex Restaurant Services"
          ],
          [
           "ASP Global"
          ],
          [
           "Stewardship Investments"
          ],
          [
           "Man-Machine Systems Assessment"
          ],
          [
           "Coldwell Solar"
          ],
          [
           "Kalles Group"
          ],
          [
           "Workfront"
          ],
          [
           "Formulife"
          ],
          [
           "Chelsoft Solutions"
          ],
          [
           "Dallas Unique Indoor Comfort"
          ],
          [
           "Exterior Medics"
          ],
          [
           "Concierge Cleaning Services"
          ],
          [
           "Vital"
          ],
          [
           "Java Connections"
          ],
          [
           "Keller Logistics"
          ],
          [
           "Frank Surveying Co"
          ],
          [
           "Frontline Source Group"
          ],
          [
           "IGNW"
          ],
          [
           "Perfect Water Technologies"
          ],
          [
           "CMT Services"
          ],
          [
           "Cross Media Corporation"
          ],
          [
           "Pure Adapt"
          ],
          [
           "American Builders"
          ],
          [
           "Dash2 Group"
          ],
          [
           "PayNorthwest"
          ],
          [
           "Epic Freight Solutions"
          ],
          [
           "Limeade"
          ],
          [
           "eROI"
          ],
          [
           "Dreamstyle Remodeling"
          ],
          [
           "EideCom"
          ],
          [
           "Forshay"
          ],
          [
           "Online Rewards"
          ],
          [
           "Lexicon Solutions"
          ],
          [
           "Differential"
          ],
          [
           "The Abbi Agency"
          ],
          [
           "Cerdant"
          ],
          [
           "Sabre88"
          ],
          [
           "Sawyer Manufacturing Company"
          ],
          [
           "Maxton & Company"
          ],
          [
           "Bali Construction"
          ],
          [
           "National Funding"
          ],
          [
           "Performance Plus Carts"
          ],
          [
           "RJR Partners"
          ],
          [
           "Apollo Interactive"
          ],
          [
           "AMG & Associates"
          ],
          [
           "Intivix"
          ],
          [
           "SDB Steel & Pipe"
          ],
          [
           "Pedego Electric Bikes"
          ],
          [
           "Infiniti HR"
          ],
          [
           "Fora Financial"
          ],
          [
           "Swift HR Solutions"
          ],
          [
           "Tenaglia & Hunt"
          ],
          [
           "MBW Enterprises"
          ],
          [
           "Mosaic Consulting Group"
          ],
          [
           "Young Automotive Group"
          ],
          [
           "SimIS"
          ],
          [
           "iTexico"
          ],
          [
           "Hernon Manufacturing"
          ],
          [
           "Valiant Solutions"
          ],
          [
           "Jamaica Cottage Shop"
          ],
          [
           "Univista Insurance"
          ],
          [
           "Oxford Builders"
          ],
          [
           "Dry Pro Foundation and Crawlspace Specialists"
          ],
          [
           "CNF Technologies Corporation"
          ],
          [
           "Logenix International"
          ],
          [
           "AmeriChem Systems"
          ],
          [
           "Aesthetic Products"
          ],
          [
           "Longford & Company"
          ],
          [
           "Impact Networking"
          ],
          [
           "Design Management Group"
          ],
          [
           "DreamGear"
          ],
          [
           "Branded Entertainment Network"
          ],
          [
           "SoftNice"
          ],
          [
           "Netwrix"
          ],
          [
           "Comfort Now"
          ],
          [
           "NetSearch Digital Marketing"
          ],
          [
           "ClinLab Staffing"
          ],
          [
           "Information Technology Professionals"
          ],
          [
           "Twisted X"
          ],
          [
           "Southeastern Equipment & Supply"
          ],
          [
           "ISG"
          ],
          [
           "Neighborly"
          ],
          [
           "ANOVA Marine Insurance"
          ],
          [
           "Engineered Solutions of GA"
          ],
          [
           "Exscape Designs"
          ],
          [
           "Growth Academy"
          ],
          [
           "That Agency"
          ],
          [
           "HomeSmart International"
          ],
          [
           "Digital Edge"
          ],
          [
           "Hunter Business Law"
          ],
          [
           "Mosquito Squad"
          ],
          [
           "BizIQ"
          ],
          [
           "Environmental Heating and Air Solutions"
          ],
          [
           "Mobile Solutions"
          ],
          [
           "Alo House Recovery Centers"
          ],
          [
           "CadmiumCD"
          ],
          [
           "DataShield"
          ],
          [
           "Elite Biomedical Solutions"
          ],
          [
           "Weifield Group Contracting"
          ],
          [
           "Route Transportation & Logistics"
          ],
          [
           "RedCloud Consulting"
          ],
          [
           "FieldEdge"
          ],
          [
           "Spark Orthodontics"
          ],
          [
           "Five Lakes Coffee"
          ],
          [
           "Carson Group"
          ],
          [
           "Millennium (Lake Geneva, WI)"
          ],
          [
           "Zambezi"
          ],
          [
           "innoVia Events"
          ],
          [
           "Ellevate Network"
          ],
          [
           "RapidVisa"
          ],
          [
           "Bilt Rite Scaffold"
          ],
          [
           "iluma Agency"
          ],
          [
           "Hungerford Technologies"
          ],
          [
           "BigTime Software"
          ],
          [
           "Home Health Solutions"
          ],
          [
           "Threadbird"
          ],
          [
           "Transparent BPO"
          ],
          [
           "ONeils"
          ],
          [
           "Nationwide Real Estate Executives"
          ],
          [
           "Goken America"
          ],
          [
           "LBA Ware"
          ],
          [
           "Lifestyle Publications"
          ],
          [
           "Early Growth Financial Services"
          ],
          [
           "R Panitch Enterprises"
          ],
          [
           "Three Day Rule"
          ],
          [
           "SureCall"
          ],
          [
           "Workhorse Marketing"
          ],
          [
           "Rev.io"
          ],
          [
           "Profit Advisory Group"
          ],
          [
           "Viva Railings"
          ],
          [
           "Vision33"
          ],
          [
           "Hargrove Engineers + Constructors"
          ],
          [
           "Very"
          ],
          [
           "Kevin.Murphy"
          ],
          [
           "WebMechanix"
          ],
          [
           "Risk International Services"
          ],
          [
           "ThinkShout"
          ],
          [
           "AArete"
          ],
          [
           "Aeroflow Healthcare"
          ],
          [
           "Softdocs"
          ],
          [
           "Liberty POST"
          ],
          [
           "ULTIMOVALUE.COM"
          ],
          [
           "Foundant Technologies"
          ],
          [
           "NorCal Ambulance"
          ],
          [
           "1Point21 Interactive"
          ],
          [
           "Sportique"
          ],
          [
           "Winslow Technology Group"
          ],
          [
           "Persons Services Corp"
          ],
          [
           "DB Services"
          ],
          [
           "Wonita International"
          ],
          [
           "PURE Group of Insurance Companies"
          ],
          [
           "Jakt"
          ],
          [
           "Relationship One"
          ],
          [
           "Plasticard Locktech International"
          ],
          [
           "Koch"
          ],
          [
           "LoadDelivered"
          ],
          [
           "PrepNow"
          ],
          [
           "Orange Aluminum"
          ],
          [
           "919 Marketing"
          ],
          [
           "Clean Fuels National"
          ],
          [
           "Supply Solutions"
          ],
          [
           "3Sixty Integrated"
          ],
          [
           "Moda Light"
          ],
          [
           "WheelsOnsite USA"
          ],
          [
           "G&N Insurance"
          ],
          [
           "Walton Contractors"
          ],
          [
           "Sellmark"
          ],
          [
           "Fulcrum Digital"
          ],
          [
           "Eagle Business Credit"
          ],
          [
           "FirstLight HomeCare Franchising"
          ],
          [
           "Stryker Construction"
          ],
          [
           "The Quintin Group @ Keller Williams"
          ],
          [
           "Zensa"
          ],
          [
           "Contract Exteriors"
          ],
          [
           "Hayden Outdoors"
          ],
          [
           "Reliable Staffing Services"
          ],
          [
           "Elite Auctions"
          ],
          [
           "Rugo Machine Shop Services"
          ],
          [
           "Metronome"
          ],
          [
           "YapStone"
          ],
          [
           "Swampfox Technologies"
          ],
          [
           "Fire Equipment"
          ],
          [
           "Blink UX"
          ],
          [
           "CTC Events and Productions"
          ],
          [
           "Ice Now"
          ],
          [
           "New Law Business Model"
          ],
          [
           "49er Communications"
          ],
          [
           "Cache Private Capital"
          ],
          [
           "ODW Logistics & Transportation Services"
          ],
          [
           "Web River Group"
          ],
          [
           "Steele & Freeman Construction Managers"
          ],
          [
           "Momentum Factor"
          ],
          [
           "Hoyos Consulting"
          ],
          [
           "Charles IT"
          ],
          [
           "Start to End Networks"
          ],
          [
           "Health & Rehab Solutions"
          ],
          [
           "The BOSS - The Builders Outlet Super Store"
          ],
          [
           "Camp Run-a-Mutt"
          ],
          [
           "Sequoia Financial Group"
          ],
          [
           "Boss Logistics"
          ],
          [
           "Karins and Associates"
          ],
          [
           "Nonprofit HR Solutions"
          ],
          [
           "Triple Crown Construction"
          ],
          [
           "Sea Bags"
          ],
          [
           "JCAL Holdings"
          ],
          [
           "We Insure"
          ],
          [
           "EcoMark Solar"
          ],
          [
           "Tellerex"
          ],
          [
           "Greenwich Medical Spa"
          ],
          [
           "Walsingham Group"
          ],
          [
           "Solution Source"
          ],
          [
           "FirstMile"
          ],
          [
           "Crescent Homes"
          ],
          [
           "The Branding Agency Powered by Proforma"
          ],
          [
           "Insight2Profit"
          ],
          [
           "Kyber Security"
          ],
          [
           "Bases Loaded"
          ],
          [
           "Occu-Tec"
          ],
          [
           "Enhanced Veterans Solutions"
          ],
          [
           "CheckAlt"
          ],
          [
           "Entara"
          ],
          [
           "Hernandez Construction"
          ],
          [
           "Optima Tax Relief"
          ],
          [
           "Allworld Project Management"
          ],
          [
           "Coranet"
          ],
          [
           "J.S. Goray"
          ],
          [
           "Axis Global Enterprises"
          ],
          [
           "Louisville Geek"
          ],
          [
           "Merrimak Capital Company"
          ],
          [
           "Occams Advisory"
          ],
          [
           "Dynamic Solutions Worldwide"
          ],
          [
           "Swag Promo"
          ],
          [
           "Ubiquity Global Services"
          ],
          [
           "Launch Leads"
          ],
          [
           "Skysis"
          ],
          [
           "Polymer Solutions International"
          ],
          [
           "Talroo"
          ],
          [
           "Homestar Financial"
          ],
          [
           "Fuel Medical Group"
          ],
          [
           "McKee Homes"
          ],
          [
           "Tamarack Consulting"
          ],
          [
           "ProcureAbility"
          ],
          [
           "Exegistics"
          ],
          [
           "Trabus Technologies"
          ],
          [
           "Thorburn Associates"
          ],
          [
           "503 Motoring"
          ],
          [
           "AMR Care Group"
          ],
          [
           "TopRight"
          ],
          [
           "CART MART"
          ],
          [
           "TekStream Solutions"
          ],
          [
           "Transportation Insight"
          ],
          [
           "GRAYBOX"
          ],
          [
           "Vector Media Group"
          ],
          [
           "Applied Design"
          ],
          [
           "Edge Financial"
          ],
          [
           "ABIP CPAs"
          ],
          [
           "5"
          ],
          [
           "Sweb Development"
          ],
          [
           "Fidelity PartnersMedical Staffing"
          ],
          [
           "Superior Logistics Solutions"
          ],
          [
           "Pacific Companies"
          ],
          [
           "Archimedia Solutions Group"
          ],
          [
           "CarData"
          ],
          [
           "Indagare Travel"
          ],
          [
           "Group Benefit Services"
          ],
          [
           "Ishir"
          ],
          [
           "Guardian Services"
          ],
          [
           "FNB Merchants"
          ],
          [
           "Amber Green"
          ],
          [
           "Worksighted"
          ],
          [
           "Jake's Heating and Air Conditioning"
          ],
          [
           "Expansion Capital Group"
          ],
          [
           "Zefr"
          ],
          [
           "United Fray"
          ],
          [
           "DeVine Consulting"
          ],
          [
           "Concierge Auctions"
          ],
          [
           "Operative IQ / EMS Technology Solutions"
          ],
          [
           "PT Solutions Physical Therapy"
          ],
          [
           "Town Square Mortgage"
          ],
          [
           "KwikBoost"
          ],
          [
           "Orion Entrance Control"
          ],
          [
           "A & A Plumbing"
          ],
          [
           "Gorilla Logic"
          ],
          [
           "ARIIX"
          ],
          [
           "RevenueWell"
          ],
          [
           "AgileEngine"
          ],
          [
           "MedicOne Medical Response"
          ],
          [
           "CGS Business Solutions"
          ],
          [
           "FederalConference.com"
          ],
          [
           "Portables"
          ],
          [
           "Lady M Confections Co."
          ],
          [
           "Avionte"
          ],
          [
           "MachineLogic"
          ],
          [
           "Tropical Smoothie Cafe"
          ],
          [
           "Iuvo Technologies"
          ],
          [
           "Southwest Industrial Electric"
          ],
          [
           "Saxbys"
          ],
          [
           "FireSprint"
          ],
          [
           "OSM Worldwide"
          ],
          [
           "Trusted Nurse Staffing"
          ],
          [
           "Paragon Architecture"
          ],
          [
           "PMsquare"
          ],
          [
           "ARC Contracting"
          ],
          [
           "Client Savvy"
          ],
          [
           "Environmental Works"
          ],
          [
           "1 Source Business Solutions"
          ],
          [
           "Certent"
          ],
          [
           "Movoto"
          ],
          [
           "New Tech Solutions"
          ],
          [
           "Netgate"
          ],
          [
           "CMBA Architects"
          ],
          [
           "TSI"
          ],
          [
           "Apex Flooring"
          ],
          [
           "HR Collaborative"
          ],
          [
           "Advanced Business Solutions"
          ],
          [
           "TACG"
          ],
          [
           "General Materials"
          ],
          [
           "Kingsgate Logistics"
          ],
          [
           "Mosaic451"
          ],
          [
           "Procare Ambulance of Maryland"
          ],
          [
           "Vision Wireless"
          ],
          [
           "Side By Side Stuff"
          ],
          [
           "GDS Link"
          ],
          [
           "Alta Vista Technology"
          ],
          [
           "Coretelligent"
          ],
          [
           "Peepers by PeeperSpecs"
          ],
          [
           "Tempaper"
          ],
          [
           "EP Wealth Advisors"
          ],
          [
           "Corner Alliance"
          ],
          [
           "Coolhaus Ice Cream"
          ],
          [
           "Qnary"
          ],
          [
           "Divisions Maintenance Group"
          ],
          [
           "YouDecide"
          ],
          [
           "Utopian Luxury Vacation Homes"
          ],
          [
           "Mainstream Electric, Heating, Cooling & Plumbing"
          ],
          [
           "Odyssey Logistics & Technology"
          ],
          [
           "Effective Spend"
          ],
          [
           "Shepherd Insurance"
          ],
          [
           "\"I and Love and You\""
          ],
          [
           "FastSpring"
          ],
          [
           "Clearinghouse Community Development Financial Institution"
          ],
          [
           "Sherlock Services"
          ],
          [
           "BCDVideo"
          ],
          [
           "Atria Consulting"
          ],
          [
           "OPTiMO Information Technology"
          ],
          [
           "Trademark Hardware"
          ],
          [
           "Confirmation.com"
          ],
          [
           "Kavayah Solutions"
          ],
          [
           "Group Management Services"
          ],
          [
           "Chef's Depot"
          ],
          [
           "TaiLopez.com"
          ],
          [
           "90octane"
          ],
          [
           "Krilogy"
          ],
          [
           "4Ever Young Anti Aging Solutions"
          ],
          [
           "Precise Systems"
          ],
          [
           "Gear"
          ],
          [
           "The DeWinter Group"
          ],
          [
           "Coast to Coast Pools"
          ],
          [
           "Capture Higher Ed"
          ],
          [
           "Blue Coast Savings Consultants"
          ],
          [
           "Stratix Systems"
          ],
          [
           "37th Parallel Properties"
          ],
          [
           "Enterprise Solutions"
          ],
          [
           "Fortress Building Products"
          ],
          [
           "Pivot International"
          ],
          [
           "Bhgre Homecity"
          ],
          [
           "Wodify Technologies"
          ],
          [
           "Supply Chain Wizard"
          ],
          [
           "W2O Group"
          ],
          [
           "Logic20/20"
          ],
          [
           "Tachyon Technologies"
          ],
          [
           "ITS"
          ],
          [
           "Serve First Solutions"
          ],
          [
           "Teguar Corporation"
          ],
          [
           "Progressive Dental"
          ],
          [
           "Resicon"
          ],
          [
           "EO Products"
          ],
          [
           "Vyne"
          ],
          [
           "Northwest Green Solutions"
          ],
          [
           "Greenville Avenue Pizza Company"
          ],
          [
           "AccuSource"
          ],
          [
           "Equian"
          ],
          [
           "Beyond20"
          ],
          [
           "Rhythmic Technologies"
          ],
          [
           "SEQUOIA HOLDINGS"
          ],
          [
           "Sendero"
          ],
          [
           "Mobomo"
          ],
          [
           "EveryAction"
          ],
          [
           "Vergent LMS"
          ],
          [
           "Service Express"
          ],
          [
           "Cerebra Consulting"
          ],
          [
           "Fathom 4"
          ],
          [
           "97th Floor"
          ],
          [
           "Tranquility Dental Wellness Center"
          ],
          [
           "Mullin"
          ],
          [
           "Solodev"
          ],
          [
           "Cooper's Hawk Winery & Restaurants"
          ],
          [
           "Alorica"
          ],
          [
           "Chandra Technologies"
          ],
          [
           "Thrive Consulting"
          ],
          [
           "Mansari"
          ],
          [
           "Novus Architects"
          ],
          [
           "Seer Interactive"
          ],
          [
           "360 Payments"
          ],
          [
           "Inspira Marketing"
          ],
          [
           "The Braun Agency"
          ],
          [
           "The Siegfried Group"
          ],
          [
           "Opus Interactive"
          ],
          [
           "Primary Wave Media"
          ],
          [
           "Exbabylon IT Solutions"
          ],
          [
           "TGG Accounting"
          ],
          [
           "AltexSoft"
          ],
          [
           "Lincoln Security Services"
          ],
          [
           "Zogics"
          ],
          [
           "Logical Media Group"
          ],
          [
           "Tjfact"
          ],
          [
           "Netreo"
          ],
          [
           "Worcester Companies"
          ],
          [
           "Trowbridge & Trowbridge"
          ],
          [
           "iPower Technologies"
          ],
          [
           "Atlas Insurance Brokers"
          ],
          [
           "Truland Homes"
          ],
          [
           "Municibid"
          ],
          [
           "Clear Resolution"
          ],
          [
           "Evoke Brand Strategies"
          ],
          [
           "Sun Solar"
          ],
          [
           "CoAdvantage"
          ],
          [
           "Monitors.com"
          ],
          [
           "SMS Lodging"
          ],
          [
           "Selling Simplified"
          ],
          [
           "Enlinx"
          ],
          [
           "Bigcommerce"
          ],
          [
           "Digital Boardwalk"
          ],
          [
           "Innovative Business Solutions"
          ],
          [
           "Banyan Technology"
          ],
          [
           "Lizzy Lift"
          ],
          [
           "Vital Edge Solutions"
          ],
          [
           "Tribal Tech"
          ],
          [
           "D'Aprile Properties"
          ],
          [
           "Infomatics"
          ],
          [
           "InfoReady"
          ],
          [
           "General Informatics"
          ],
          [
           "True Builders"
          ],
          [
           "Natran"
          ],
          [
           "Cuddle Clones"
          ],
          [
           "ON Partners"
          ],
          [
           "Roundstone"
          ],
          [
           "First Centennial Mortgage"
          ],
          [
           "Sunset Transportation"
          ],
          [
           "TrafficSafetyStore.com"
          ],
          [
           "P.J. Wallbank Springs"
          ],
          [
           "Inteletech Global"
          ],
          [
           "Synergy Comp Insurance Company"
          ],
          [
           "Proactive Technologies"
          ],
          [
           "CompuTech City"
          ],
          [
           "Proforma GPS Global Promotional Sourcing"
          ],
          [
           "Pediatric Home Healthcare"
          ],
          [
           "Rapid Web Services"
          ],
          [
           "Goodzer"
          ],
          [
           "Automated Systems Design"
          ],
          [
           "Spectrio"
          ],
          [
           "Buildingstars of Charlotte"
          ],
          [
           "OnQ Solutions"
          ],
          [
           "ReSource Pro"
          ],
          [
           "Ques Industries"
          ],
          [
           "Titan Growth"
          ],
          [
           "In Time Tec"
          ],
          [
           "Cast Aluminum Solutions"
          ],
          [
           "GadellNet Technology Solutions"
          ],
          [
           "iVenture Solutions"
          ],
          [
           "Russell Cellular"
          ],
          [
           "DP Electric"
          ],
          [
           "strategic HR"
          ],
          [
           "Coherent Solutions"
          ],
          [
           "Hightowers Petroleum Company"
          ],
          [
           "Percepture"
          ],
          [
           "AccelHRate"
          ],
          [
           "Dutch Country Living"
          ],
          [
           "Hanapin Marketing"
          ],
          [
           "Abadie-Williams"
          ],
          [
           "RealJoy Vacations"
          ],
          [
           "KW Property Management & Consulting"
          ],
          [
           "UpClear"
          ],
          [
           "Patrick Accounting and Tax Services"
          ],
          [
           "AltaVista Strategic Partners"
          ],
          [
           "Ryan Gootee General Contractors"
          ],
          [
           "Schaumburg Specialties"
          ],
          [
           "Cross Country Home Services"
          ],
          [
           "Taoti Creative"
          ],
          [
           "Tenon Tours"
          ],
          [
           "Peoples Company"
          ],
          [
           "Point of Rental Software"
          ],
          [
           "Reliant Funding"
          ],
          [
           "Kung Fu Tea"
          ],
          [
           "OnSite Fleet"
          ],
          [
           "Schox Patent Group"
          ],
          [
           "Trapp Technology"
          ],
          [
           "inSeption Group"
          ],
          [
           "Firehook"
          ],
          [
           "Flywheel Brands"
          ],
          [
           "Badass Brand"
          ],
          [
           "Carahsoft Technology"
          ],
          [
           "Aurora Imaging Company"
          ],
          [
           "Gilmore Solutions"
          ],
          [
           "Capital Edge Consulting"
          ],
          [
           "Roadway Moving Company"
          ],
          [
           "Synchrogistics"
          ],
          [
           "TalTeam"
          ],
          [
           "memoryBlue"
          ],
          [
           "TiER1"
          ],
          [
           "vCORE Technology Partners"
          ],
          [
           "Lithko Contracting"
          ],
          [
           "CapTech Ventures"
          ],
          [
           "Best Practice Energy"
          ],
          [
           "Managed Care Advisors"
          ],
          [
           "Donaldson Plastic Surgery"
          ],
          [
           "Yepremyan Law Firm"
          ],
          [
           "MESH(r)"
          ],
          [
           "Pedigree Technologies"
          ],
          [
           "Aligned Technology Solutions"
          ],
          [
           "AOA"
          ],
          [
           "Enstoa"
          ],
          [
           "Aduro"
          ],
          [
           "Profuse Solutions"
          ],
          [
           "CWDL CPAs"
          ],
          [
           "Restoration Cleaners"
          ],
          [
           "MRG Construction Management"
          ],
          [
           "Zters"
          ],
          [
           "IdeaTek Telcom"
          ],
          [
           "DaySmart Software"
          ],
          [
           "Global Tee"
          ],
          [
           "Canal Capital Management"
          ],
          [
           "TalentLaunch"
          ],
          [
           "TechStar Group"
          ],
          [
           "Al's Complete Lawn Care"
          ],
          [
           "DeAngelis Diamond"
          ],
          [
           "g2 Revolution"
          ],
          [
           "CMMS Data Group"
          ],
          [
           "Soccer Shots Franchising"
          ],
          [
           "Multifamily Utility Company"
          ],
          [
           "VirTex Enterprises"
          ],
          [
           "RentWerx Property Management"
          ],
          [
           "360 Blue"
          ],
          [
           "inWhatLanguage"
          ],
          [
           "GrowthForce"
          ],
          [
           "Optizmo Technologies"
          ],
          [
           "LegalEASE"
          ],
          [
           "Beck Partners"
          ],
          [
           "McAllen Valley Roofing"
          ],
          [
           "Corp2000"
          ],
          [
           "APEX Recovery"
          ],
          [
           "SEJ Services"
          ],
          [
           "Unanet"
          ],
          [
           "Cheba Hut Toasted Subs"
          ],
          [
           "Fireking Baking Company"
          ],
          [
           "WatchGuard Video"
          ],
          [
           "Land design studio"
          ],
          [
           "TribalVision"
          ],
          [
           "Mammoth"
          ],
          [
           "Jade Global"
          ],
          [
           "Synergen Health"
          ],
          [
           "Black-Haak Heating"
          ],
          [
           "Code42"
          ],
          [
           "KCL Engineering"
          ],
          [
           "Amtel"
          ],
          [
           "Koncept Events"
          ],
          [
           "TechOp Solutions International"
          ],
          [
           "Infinite Resource Solutions"
          ],
          [
           "Tusk Enterprises"
          ],
          [
           "SRS Distribution"
          ],
          [
           "Strong Smiles Dental Care"
          ],
          [
           "M&M Productions USA"
          ],
          [
           "Safe Hiring Solutions"
          ],
          [
           "KMS Technology"
          ],
          [
           "Worldwide Insurance Network"
          ],
          [
           "Oakworth Capital Bank"
          ],
          [
           "Gilleard Dental Marketing"
          ],
          [
           "Outer Banks Blue"
          ],
          [
           "Edward Marc Brands"
          ],
          [
           "Contract Solutions"
          ],
          [
           "Automotive Internet Media"
          ],
          [
           "Leading EDJE"
          ],
          [
           "Intact Technology"
          ],
          [
           "Vanguard Claims Administration"
          ],
          [
           "Nomadness"
          ],
          [
           "SmarterChaos.com"
          ],
          [
           "Converze Media Group"
          ],
          [
           "Submittable"
          ],
          [
           "Peck Brothers Roofing"
          ],
          [
           "Whim Hospitality"
          ],
          [
           "The Clearing"
          ],
          [
           "Lightbridge Academy"
          ],
          [
           "L37 Creative"
          ],
          [
           "Seaway Printing Company"
          ],
          [
           "1st Class Real Estate"
          ],
          [
           "IMS Technology Services"
          ],
          [
           "Envision"
          ],
          [
           "BuyBackWorld"
          ],
          [
           "C&R"
          ],
          [
           "Modo Modo Agency"
          ],
          [
           "2020 Teknology"
          ],
          [
           "CQ fluency"
          ],
          [
           "International Voyager"
          ],
          [
           "Killer Visual Strategies"
          ],
          [
           "Burgos Group"
          ],
          [
           "Conservice"
          ],
          [
           "Think Company"
          ],
          [
           "Air Solutions & Balancing"
          ],
          [
           "Sterling Staffing Solutions"
          ],
          [
           "ClinicalMind"
          ],
          [
           "Hollister Construction Services"
          ],
          [
           "Acacia"
          ],
          [
           "RTG Medical"
          ],
          [
           "True Hire"
          ],
          [
           "The Purple Guys"
          ],
          [
           "PowerDMS"
          ],
          [
           "ImageWorks"
          ],
          [
           "Blast Analytics & Marketing"
          ],
          [
           "EMEX"
          ],
          [
           "Optimal Design"
          ],
          [
           "The Stem"
          ],
          [
           "Inova Payroll"
          ],
          [
           "Universal Painting Corporation"
          ],
          [
           "Congruity HR"
          ],
          [
           "Archer"
          ],
          [
           "Jacobson Strategic Communications"
          ],
          [
           "Thomsen Homes"
          ],
          [
           "Rectangle Health"
          ],
          [
           "Zelis Healthcare"
          ],
          [
           "Pax Financial Group"
          ],
          [
           "Culmen International"
          ],
          [
           "SA Photonics"
          ],
          [
           "Saxon Global"
          ],
          [
           "Amuza"
          ],
          [
           "City Winery"
          ],
          [
           "Twelve Points Wealth Management"
          ],
          [
           "Environmental Pest Management"
          ],
          [
           "Adapture"
          ],
          [
           "Credible Behavioral Health"
          ],
          [
           "Connecticut Sealcoating"
          ],
          [
           "US Freight"
          ],
          [
           "GSI Health"
          ],
          [
           "Jones Sign Company"
          ],
          [
           "North Terrace Property Management"
          ],
          [
           "Thorn Pest Solutions"
          ],
          [
           "Land Info Worldwide Mapping"
          ],
          [
           "Triage Medical Staffing"
          ],
          [
           "Global Data Vault"
          ],
          [
           "Boost Payment Solutions"
          ],
          [
           "Smart Chemical Services"
          ],
          [
           "Kanda Software"
          ],
          [
           "Tender Belly"
          ],
          [
           "RED Group"
          ],
          [
           "SyncShow"
          ],
          [
           "Access Information Management"
          ],
          [
           "NFI Industries"
          ],
          [
           "ReferralExchange"
          ],
          [
           "Mindgrub Technologies"
          ],
          [
           "NTE Energy"
          ],
          [
           "Starnes Media"
          ],
          [
           "Impekable"
          ],
          [
           "CCS Technology Group"
          ],
          [
           "Trillion Technology Solutions"
          ],
          [
           "Mark-it Express"
          ],
          [
           "GetWireless"
          ],
          [
           "Rentex Audio Visual & Computer Rentals"
          ],
          [
           "Infogressive"
          ],
          [
           "Swanktek"
          ],
          [
           "Annkissam"
          ],
          [
           "Kaufman Development"
          ],
          [
           "Tempco Glass Fabrication"
          ],
          [
           "MedSpeed"
          ],
          [
           "Evolve IP"
          ],
          [
           "Davenport Theatrical Enterprises"
          ],
          [
           "Fractl"
          ],
          [
           "Simeio Solutions"
          ],
          [
           "HomeSpec BasementFix"
          ],
          [
           "Brilliant Ink"
          ],
          [
           "SMG"
          ],
          [
           "Clarity Partners"
          ],
          [
           "Lewis-Price & Associates"
          ],
          [
           "Sceptre Hospitality Resources (SHR)"
          ],
          [
           "IntelliWare"
          ],
          [
           "Express Logistics"
          ],
          [
           "Hostek.com"
          ],
          [
           "ExIT Technologies"
          ],
          [
           "Jarrett Logistics Systems"
          ],
          [
           "Cadenza Innovation"
          ],
          [
           "Acuity Systems"
          ],
          [
           "Brothers International Desserts"
          ],
          [
           "Vitality Medical"
          ],
          [
           "LegitScript"
          ],
          [
           "Flores Financial Services"
          ],
          [
           "The Heyl Group at Keller Williams"
          ],
          [
           "ATIS Elevator Inspections"
          ],
          [
           "Innovative Commercial Environments"
          ],
          [
           "Sonwil Distribution and Logistics"
          ],
          [
           "Dots"
          ],
          [
           "Barrett Distribution Centers"
          ],
          [
           "Verity Commercial"
          ],
          [
           "Bevilacqua Research"
          ],
          [
           "Timo's Air Conditioning & Heating"
          ],
          [
           "Symmetrix Solutions"
          ],
          [
           "WizeHive"
          ],
          [
           "AEC Group"
          ],
          [
           "Learn on Demand Systems"
          ],
          [
           "Cenero"
          ],
          [
           "Proven IT"
          ],
          [
           "Advanced RPO"
          ],
          [
           "eGuard Technology Services"
          ],
          [
           "Poo~Pourri"
          ],
          [
           "MindTouch"
          ],
          [
           "All About Events - Jacksonville"
          ],
          [
           "Makers Nutrition"
          ],
          [
           "Xtivia"
          ],
          [
           "Xtreme Xperience"
          ],
          [
           "Stream Companies"
          ],
          [
           "Kendall Capital Management"
          ],
          [
           "Cornerstone Wealth Management"
          ],
          [
           "Candid Partners"
          ],
          [
           "Maximum One Realty"
          ],
          [
           "Stainless Steel products"
          ],
          [
           "Triple J Armory"
          ],
          [
           "Clerestory Consulting"
          ],
          [
           "Cumberland Consulting Group"
          ],
          [
           "Servsys"
          ],
          [
           "PPT Consulting"
          ],
          [
           "Allied Instructional Services"
          ],
          [
           "Procida Construction"
          ],
          [
           "Manufacturers Distributor"
          ],
          [
           "Continental Mapping Consultants"
          ],
          [
           "CoNexus CPA Group"
          ],
          [
           "Isos Technology"
          ],
          [
           "MFS Supply"
          ],
          [
           "Elite Innovative Solutions"
          ],
          [
           "Compressor World"
          ],
          [
           "ION Solar"
          ],
          [
           "Industrial Motor Power Coporation"
          ],
          [
           "Sunshine Plumbing Heating Air"
          ],
          [
           "Sanity Solutions"
          ],
          [
           "Pipeline Equipment"
          ],
          [
           "IcePortal"
          ],
          [
           "Lifescape Colorado"
          ],
          [
           "Acertara Acoustic Laboratories"
          ],
          [
           "Graphics and More"
          ],
          [
           "City Wide Franchise Company"
          ],
          [
           "Dental Care New Jersey"
          ],
          [
           "Tom Drexler Plumbing Air"
          ],
          [
           "Pharmaceutical Strategies Group"
          ],
          [
           "Des Moines Truck Brokers"
          ],
          [
           "Component Surfaces"
          ],
          [
           "Cloud for Good"
          ],
          [
           "Corvette Mods"
          ],
          [
           "ThreeBridge Solutions"
          ],
          [
           "Insight Resource Group"
          ],
          [
           "Freddy's Frozen Custard"
          ],
          [
           "CHHJ Franchising"
          ],
          [
           "Endsight"
          ],
          [
           "Applied Educational Systems"
          ],
          [
           "New Vision Properties"
          ],
          [
           "Call Management Resources"
          ],
          [
           "Matthew A. Dickason"
          ],
          [
           "Tyler Petroleum"
          ],
          [
           "Expert Computer Solutions"
          ],
          [
           "Venn Strategies"
          ],
          [
           "Blue Corona"
          ],
          [
           "TerraCycle"
          ],
          [
           "HAP Investments"
          ],
          [
           "Big Outdoor"
          ],
          [
           "CHHJ North Jersey"
          ],
          [
           "North American Coating Laboratories"
          ],
          [
           "Lead id"
          ],
          [
           "InterDev"
          ],
          [
           "Architectural Fabrication"
          ],
          [
           "BrandYourself.com"
          ],
          [
           "Vaco"
          ],
          [
           "Cynet Systems"
          ],
          [
           "Inspired eLearning"
          ],
          [
           "Beacon Capital Management"
          ],
          [
           "Element Three"
          ],
          [
           "Malwarebytes"
          ],
          [
           "First American Payment Systems"
          ],
          [
           "Just Right Products"
          ],
          [
           "Tint World"
          ],
          [
           "Storage Media Group"
          ],
          [
           "Pacific Western Painting"
          ],
          [
           "Power Home Remodeling"
          ],
          [
           "INTERNATIONAL TEFL ACADEMY"
          ],
          [
           "M2 Strategy"
          ],
          [
           "Atlanta Communities Real Estate Brokerage"
          ],
          [
           "Saturn Tech"
          ],
          [
           "Creditsafe USA"
          ],
          [
           "Standard Black"
          ],
          [
           "TRIOSE"
          ],
          [
           "Long Story Short Media"
          ],
          [
           "Blueberry Builders"
          ],
          [
           "Kent Power"
          ],
          [
           "BWS Plumbing, Heating and Air Conditioning"
          ],
          [
           "Centrify"
          ],
          [
           "Accelerated Claims"
          ],
          [
           "MVS"
          ],
          [
           "OptConnect"
          ],
          [
           "Tarrytech Security"
          ],
          [
           "Signature Bank"
          ],
          [
           "Entisys360"
          ],
          [
           "MedCerts"
          ],
          [
           "The Cydio Group"
          ],
          [
           "Advanced Project Consulting"
          ],
          [
           "Interlink Cloud Advisors"
          ],
          [
           "495 Movers"
          ],
          [
           "Natalie's Orchid Island Juice Company"
          ],
          [
           "MIE Solutions"
          ],
          [
           "CommerceIQ"
          ],
          [
           "Uptime Legal Systems"
          ],
          [
           "Plushnyc Post"
          ],
          [
           "Reading Horizons"
          ],
          [
           "Inscio"
          ],
          [
           "Midwest Restoration"
          ],
          [
           "Solar Solution"
          ],
          [
           "Vericon Construction Company"
          ],
          [
           "United Medco"
          ],
          [
           "Forrest Performance Group"
          ],
          [
           "Winston's of Northern Virginia"
          ],
          [
           "AHS Consulting"
          ],
          [
           "Zenmonics"
          ],
          [
           "InterWorks"
          ],
          [
           "Gemini Tech Services"
          ],
          [
           "Evereve"
          ],
          [
           "PN Automation"
          ],
          [
           "Capstone Information Technologies"
          ],
          [
           "Todays Business"
          ],
          [
           "Creative Studio Promotions"
          ],
          [
           "TapClassifieds Auto"
          ],
          [
           "Hiatus Spa Retreat"
          ],
          [
           "DRT Transportation"
          ],
          [
           "Community Association Management Company"
          ],
          [
           "CRM Passport"
          ],
          [
           "Silk Worldwide"
          ],
          [
           "Balsam Hill"
          ],
          [
           "Pin-Point Logistics"
          ],
          [
           "Anchor Distributing"
          ],
          [
           "MY Shower Door / D3 Glass"
          ],
          [
           "Capital Title of Texas"
          ],
          [
           "CivicPlus"
          ],
          [
           "ROCS Grad Staffing"
          ],
          [
           "Nexcom"
          ],
          [
           "Saalex Solutions"
          ],
          [
           "Apex Energy Solutions"
          ],
          [
           "Berkley"
          ],
          [
           "Total Care Connections"
          ],
          [
           "Emergicon"
          ],
          [
           "Landerholm Family Law"
          ],
          [
           "Itransition"
          ],
          [
           "Black Mountain Systems"
          ],
          [
           "B2Gnow"
          ],
          [
           "Torch Technologies"
          ],
          [
           "HomElectrical"
          ],
          [
           "Image Business Interiors"
          ],
          [
           "Akuranvyka DBA"
          ],
          [
           "Listrak"
          ],
          [
           "IT Direct"
          ],
          [
           "TK Promotions"
          ],
          [
           "US Med-Equip"
          ],
          [
           "Atlantic Environmental Solutions"
          ],
          [
           "Grasp Technologies"
          ],
          [
           "OnceLogix"
          ],
          [
           "Star Staffing Alpena"
          ],
          [
           "Urban Betty"
          ],
          [
           "Boca Beauty Academy"
          ],
          [
           "Glen Eagle"
          ],
          [
           "2:20 Marketing Group /Xurli"
          ],
          [
           "Ob Hospitalist Group"
          ],
          [
           "TechCXO"
          ],
          [
           "Birds Barbershop"
          ],
          [
           "Arke Systems"
          ],
          [
           "Stomping Ground Photography"
          ],
          [
           "Jackrabbit Technologies"
          ],
          [
           "Freight Hub Group"
          ],
          [
           "Jonathan's Grille"
          ],
          [
           "Jones PR"
          ],
          [
           "ApplicantPro"
          ],
          [
           "Open Dealer Exchange"
          ],
          [
           "Oklahoma Forge"
          ],
          [
           "SupplyCore"
          ],
          [
           "DRT Strategies"
          ],
          [
           "Legend Medical"
          ],
          [
           "Altitude Marketing"
          ],
          [
           "Golftec"
          ],
          [
           "DBSync"
          ],
          [
           "MiCamp Solutions"
          ],
          [
           "Media Minefield"
          ],
          [
           "Homeside Financial"
          ],
          [
           "Accord Group"
          ],
          [
           "nexVortex"
          ],
          [
           "Westminster American Insurance Company"
          ],
          [
           "Cable Ties Unlimited"
          ],
          [
           "P.Q.D. International"
          ],
          [
           "Woolley Robertson Group"
          ],
          [
           "Robinson Air"
          ],
          [
           "Investigroup Limited Liability Company"
          ],
          [
           "Authentic Custom Homes"
          ],
          [
           "Saxum"
          ],
          [
           "BoardPaq"
          ],
          [
           "SBS CyberSecurity"
          ],
          [
           "New City Moving"
          ],
          [
           "30 Point Strategies"
          ],
          [
           "Towner Communications"
          ],
          [
           "KRG Technologies"
          ],
          [
           "Trademasters Service"
          ],
          [
           "The Icebox"
          ],
          [
           "GMF Steel Group"
          ],
          [
           "First Line Technology"
          ],
          [
           "Proforma Add-a-Line"
          ],
          [
           "The Complete Child"
          ],
          [
           "Web Shop Manager"
          ],
          [
           "Integrity Services"
          ],
          [
           "Pine Grove Financial Group"
          ],
          [
           "Stone Resource Group"
          ],
          [
           "Planet DDS"
          ],
          [
           "Discovery Health Partners"
          ],
          [
           "Resource Communications Group"
          ],
          [
           "Window World of Baton Rouge"
          ],
          [
           "Freedom Specialty Services"
          ],
          [
           "Midwest Prototyping"
          ],
          [
           "Devada"
          ],
          [
           "Sebpo"
          ],
          [
           "Consolidus"
          ],
          [
           "CrossCountry Consulting"
          ],
          [
           "Executive Speakers Bureau"
          ],
          [
           "Charlesgate Realty Group"
          ],
          [
           "iMobile"
          ],
          [
           "Eclat Health Solutions"
          ],
          [
           "The Payroll Company (TPC)"
          ],
          [
           "Applied Training Solutions"
          ],
          [
           "Brio Benefit Consulting"
          ],
          [
           "JazzHR"
          ],
          [
           "ReEmployAbility"
          ],
          [
           "CoDev"
          ],
          [
           "Milo's Tea Company"
          ],
          [
           "Cook Security Group"
          ],
          [
           "Alliance Resource Group"
          ],
          [
           "Beauty Solutions"
          ],
          [
           "Mathys+Potestio"
          ],
          [
           "The Northbridge Companies"
          ],
          [
           "Thriveon"
          ],
          [
           "Advanced Strategic Enterprise Concepts 3"
          ],
          [
           "1st Choice Roofing Company"
          ],
          [
           "LBA Haynes Strand"
          ],
          [
           "Ardent Learning"
          ],
          [
           "IronEdge Group"
          ],
          [
           "Jewel Branding & Licensing"
          ],
          [
           "The Advocates"
          ],
          [
           "Barra & Associates"
          ],
          [
           "InVision Security"
          ],
          [
           "FC Construction Services"
          ],
          [
           "Orion Technologies"
          ],
          [
           "ITility"
          ],
          [
           "Health Perspectives Group"
          ],
          [
           "The Dirt Connection"
          ],
          [
           "Nayamode"
          ],
          [
           "Excel Education Systems"
          ],
          [
           "Solvaria"
          ],
          [
           "Ascii Group"
          ],
          [
           "XeteX"
          ],
          [
           "Dynamit"
          ],
          [
           "Morales Group"
          ],
          [
           "Swisstrax Corporation"
          ],
          [
           "Econologics Financial Advisors"
          ],
          [
           "Monumetric"
          ],
          [
           "Mountain Construction and Management Denver Division"
          ],
          [
           "ExactCare Pharmacy"
          ],
          [
           "Corbett Technology Solutions"
          ],
          [
           "Crabtree, Rowe & Berger"
          ],
          [
           "Bluetree Network"
          ],
          [
           "Powerblanket"
          ],
          [
           "The Firm Advisors"
          ],
          [
           "V Digital Services"
          ],
          [
           "Premier Graphics"
          ],
          [
           "Blair Technology Group"
          ],
          [
           "Southern RV"
          ],
          [
           "Crosslin Technologies"
          ],
          [
           "Precision Medical Products"
          ],
          [
           "StackCommerce"
          ],
          [
           "Oxagile"
          ],
          [
           "Etica"
          ],
          [
           "MyITpros"
          ],
          [
           "Eanes Heating and Air"
          ],
          [
           "Access Insurance Underwriter"
          ],
          [
           "Clarendon Partners"
          ],
          [
           "ProHome Metro DC"
          ],
          [
           "VOX Network Solutions"
          ],
          [
           "ITEGRIA"
          ],
          [
           "Timber Industries"
          ],
          [
           "G&A Partners"
          ],
          [
           "Phipps Reporting"
          ],
          [
           "Insurance Services Group of the Southeast"
          ],
          [
           "Burnham Benefits Insurance Services"
          ],
          [
           "Lighthouse Lab Services"
          ],
          [
           "Covenant Eyes"
          ],
          [
           "Integrated Payroll Services"
          ],
          [
           "Caring Commercial Cleaning"
          ],
          [
           "Compunnel Software Group"
          ],
          [
           "Capstone Consulting"
          ],
          [
           "Litigation Services"
          ],
          [
           "United Franchise Group"
          ],
          [
           "Everlasting Capital"
          ],
          [
           "Stria"
          ],
          [
           "Taylor's Natural Green Lawn"
          ],
          [
           "The Rainmaker Group"
          ],
          [
           "Fidelus Technologies"
          ],
          [
           "Right Sized Solutions"
          ],
          [
           "N&L Investment Corp"
          ],
          [
           "Republic Bank of Chicago"
          ],
          [
           "K & P Enterprises"
          ],
          [
           "tap|QA"
          ],
          [
           "TPI Efficiency"
          ],
          [
           "SPOL"
          ],
          [
           "VS carriers"
          ],
          [
           "Hillmann Consulting"
          ],
          [
           "Top Class Actions"
          ],
          [
           "Brilliant Infotech"
          ],
          [
           "Medication Management Partners"
          ],
          [
           "Consumer Cellular"
          ],
          [
           "OneSource Virtual"
          ],
          [
           "The Wireless Experience"
          ],
          [
           "THS Constructors"
          ],
          [
           "Milk + Honey"
          ],
          [
           "Seattle Coffee Gear"
          ],
          [
           "Netrepid"
          ],
          [
           "Service Professor"
          ],
          [
           "UIS"
          ],
          [
           "Edwards Performance Solutions"
          ],
          [
           "Maverick Networks"
          ],
          [
           "Impiger Technologies"
          ],
          [
           "UPS Protection"
          ],
          [
           "Immersion Active"
          ],
          [
           "PharmaLogics Recruiting"
          ],
          [
           "Mortgage Capital Trading"
          ],
          [
           "Five Star Connect"
          ],
          [
           "Canale Communications"
          ],
          [
           "CleanChoice Energy"
          ],
          [
           "Innovative Enterprises"
          ],
          [
           "GNT Solutions"
          ],
          [
           "Professional Capital Services"
          ],
          [
           "24Hr HomeCare"
          ],
          [
           "NewMark Merrill Companies"
          ],
          [
           "Fluid-Aire Dynamics"
          ],
          [
           "Faye Business Systems Group"
          ],
          [
           "Custom Tree Care"
          ],
          [
           "Lumark Technologies"
          ],
          [
           "Primal Health"
          ],
          [
           "Coast Professional"
          ],
          [
           "ReminderMedia"
          ],
          [
           "College Hunks Hauling Junk & Moving of Long Island"
          ],
          [
           "Akorbi"
          ],
          [
           "MotherG"
          ],
          [
           "JusbyJulie.com"
          ],
          [
           "Blue Microphones"
          ],
          [
           "NexDine"
          ],
          [
           "Comprehensive Finance"
          ],
          [
           "Trideum Corporation"
          ],
          [
           "V-Soft Consulting Group"
          ],
          [
           "EXB Solutions"
          ],
          [
           "ListEngage"
          ],
          [
           "MasteryPrep"
          ],
          [
           "Forthea Interactive"
          ],
          [
           "Morgan Properties"
          ],
          [
           "First Flight Solutions"
          ],
          [
           "Blend360"
          ],
          [
           "Illegal Pete's"
          ],
          [
           "Whereoware"
          ],
          [
           "Insurance Brokers West"
          ],
          [
           "KRD - Kutchins, Robbins & Diamond, Ltd."
          ],
          [
           "Influence & Co."
          ],
          [
           "Dane Street"
          ],
          [
           "Nightlight Pediatric Urgent Care"
          ],
          [
           "iVision"
          ],
          [
           "Groggy Dog Sportswear & Graphic Design"
          ],
          [
           "Momentum Telecom"
          ],
          [
           "Parker's"
          ],
          [
           "Walker Elliott"
          ],
          [
           "InboundProspect"
          ],
          [
           "Big Data Supply"
          ],
          [
           "Comtec Cloud Management Company"
          ],
          [
           "VDart"
          ],
          [
           "Hasko Trading"
          ],
          [
           "Groover Seminars"
          ],
          [
           "Freight Management Team"
          ],
          [
           "Trelevate"
          ],
          [
           "Interglass Corp"
          ],
          [
           "Impact Advisors"
          ],
          [
           "TGRP Solutions"
          ],
          [
           "Karavan Trailers"
          ],
          [
           "Pyramid Dental Integration"
          ],
          [
           "Exclusive Concepts"
          ],
          [
           "Adler Windows"
          ],
          [
           "MyJobHelper.com"
          ],
          [
           "Aggressor Adventures"
          ],
          [
           "Ware Malcomb"
          ],
          [
           "Resonate"
          ],
          [
           "Classic Rock Fabrication"
          ],
          [
           "WGroup"
          ],
          [
           "Gaspar Insurance Services"
          ],
          [
           "PJP Marketing"
          ],
          [
           "Exact Solar"
          ],
          [
           "Revel Interactive"
          ],
          [
           "JMJS"
          ],
          [
           "Taradel"
          ],
          [
           "Zoom Technical Services"
          ],
          [
           "POP Yachts"
          ],
          [
           "Critical Link"
          ],
          [
           "HMS Global Maritime"
          ],
          [
           "Stored Technology Solutions"
          ],
          [
           "HNH Investment LP"
          ],
          [
           "Momentum Consulting"
          ],
          [
           "ConnectYourCare"
          ],
          [
           "Vault Communications"
          ],
          [
           "Maryland and Delaware Group of Long and Foster"
          ],
          [
           "MedRisk"
          ],
          [
           "Connective Talent"
          ],
          [
           "Lumitec Lighting"
          ],
          [
           "SyncHR"
          ],
          [
           "Intellect Solutions"
          ],
          [
           "TENS Rx"
          ],
          [
           "Advanced Clinical"
          ],
          [
           "Demco Automation"
          ],
          [
           "PRA Business Events New Orleans"
          ],
          [
           "blueStone Staffing"
          ],
          [
           "Juno Search Partners"
          ],
          [
           "eHealth Technologies"
          ],
          [
           "Illuminate"
          ],
          [
           "Bottlerocket Media"
          ],
          [
           "Corporate Essentials"
          ],
          [
           "Globotech USA Corporation"
          ],
          [
           "Tech-Keys"
          ],
          [
           "Staff Matters"
          ],
          [
           "Midtown Home Improvements"
          ],
          [
           "Envision Capital Group"
          ],
          [
           "The Eye Doctors"
          ],
          [
           "Dempsey Construction"
          ],
          [
           "9Gauge Partners"
          ],
          [
           "Parsonex Enterprises"
          ],
          [
           "Baskervill"
          ],
          [
           "Consolidated Analytics"
          ],
          [
           "EDG"
          ],
          [
           "Aterra Real Estate"
          ],
          [
           "Azpro"
          ],
          [
           "CoTa Global"
          ],
          [
           "Scalar"
          ],
          [
           "Pro Mach"
          ],
          [
           "Fakhoury Global Immigration"
          ],
          [
           "Kenway Consulting"
          ],
          [
           "Avian"
          ],
          [
           "Trinity Solar"
          ],
          [
           "Relevant Web Strategies"
          ],
          [
           "Ingo Money"
          ],
          [
           "Aegis Law"
          ],
          [
           "Azimuth"
          ],
          [
           "Sriven Technologies"
          ],
          [
           "Bernard Health"
          ],
          [
           "Summit Wealth Group"
          ],
          [
           "Vantage Point"
          ],
          [
           "Path Interactive"
          ],
          [
           "Ameex Technologies"
          ],
          [
           "Highlands Residential Mortgage"
          ],
          [
           "Q Ship USA"
          ],
          [
           "Premier Automation"
          ],
          [
           "Source Alliance Network"
          ],
          [
           "TicketManager"
          ],
          [
           "Guaranteed Rate"
          ],
          [
           "Poetic Systems"
          ],
          [
           "Equator Coffees"
          ],
          [
           "Supreme Resources"
          ],
          [
           "Fuel Talent"
          ],
          [
           "United Real Estate Group"
          ],
          [
           "JW Construction"
          ],
          [
           "Intercare Therapy"
          ],
          [
           "Bizzell Corporation"
          ],
          [
           "Right Height Manufacturing"
          ],
          [
           "Special Aerospace Services"
          ],
          [
           "BM2 Freight Services"
          ],
          [
           "PMA"
          ],
          [
           "Compass Self Storage"
          ],
          [
           "The Woodhouse Day Spas"
          ],
          [
           "A&P Air Conditioning"
          ],
          [
           "Myriad360"
          ],
          [
           "ZZPerformance"
          ],
          [
           "TengoInternet"
          ],
          [
           "Spoke Marketing"
          ],
          [
           "The Signature Real Estate Companies"
          ],
          [
           "Dreamclinic"
          ],
          [
           "PeopleG2"
          ],
          [
           "Involta"
          ],
          [
           "All Safe Industries"
          ],
          [
           "Law Offices of Anidjar"
          ],
          [
           "3Pillar Global"
          ],
          [
           "Double Good"
          ],
          [
           "Ascend Staffing"
          ],
          [
           "PICS ITech"
          ],
          [
           "Thermal-Vac Technology"
          ],
          [
           "Convergence Consulting Group"
          ],
          [
           "Rendition Infosec"
          ],
          [
           "Organicix"
          ],
          [
           "Sunny Days In-Home Care"
          ],
          [
           "Flowing Wells Landscape"
          ],
          [
           "Kinetix"
          ],
          [
           "TradeTec Skyline"
          ],
          [
           "Financial Carrier Services"
          ],
          [
           "Abacus Group"
          ],
          [
           "Educere"
          ],
          [
           "Silicus Technologies"
          ],
          [
           "SS Industries"
          ],
          [
           "IDS International Government Services"
          ],
          [
           "Windsong Productions"
          ],
          [
           "Insight Technology Solutions"
          ],
          [
           "RxLogix Corporation"
          ],
          [
           "Netsertive"
          ],
          [
           "Hooten Construction"
          ],
          [
           "Angler Construction"
          ],
          [
           "A-Tech Consulting"
          ],
          [
           "Transport Express"
          ],
          [
           "Force Marketing"
          ],
          [
           "Avizion Technologies Group Company"
          ],
          [
           "Atlantic Blowers"
          ],
          [
           "Vanguard Fire Systems"
          ],
          [
           "Seeking Health"
          ],
          [
           "Customized Energy Solutions"
          ],
          [
           "TM5 Properties"
          ],
          [
           "Ctems"
          ],
          [
           "Palmer Signs"
          ],
          [
           "PrimeRevenue"
          ],
          [
           "Morton"
          ],
          [
           "OPAV"
          ],
          [
           "Triangle Insights Group"
          ],
          [
           "180 Engineering"
          ],
          [
           "Powertrain Products"
          ],
          [
           "Comfort Supply"
          ],
          [
           "Oasis Turf & Tree"
          ],
          [
           "Apex HCM"
          ],
          [
           "eTek IT Services"
          ],
          [
           "10Pearls"
          ],
          [
           "Factory Expo Home Centers"
          ],
          [
           "Kidd Roofing"
          ],
          [
           "Advanced Electronic Designs"
          ],
          [
           "Brewer & Stratton Property Management"
          ],
          [
           "Americorp-The Matt Laricy Group"
          ],
          [
           "SBC Contractors"
          ],
          [
           "Artful Living"
          ],
          [
           "Crepes a Latte"
          ],
          [
           "MCCi"
          ],
          [
           "International Van Lines ( Ocean Star International )"
          ],
          [
           "LuminFire"
          ],
          [
           "Liquid Web"
          ],
          [
           "Sustainable Supply"
          ],
          [
           "EmpireWorks"
          ],
          [
           "Fresh Concepts"
          ],
          [
           "Highwire Public Relations"
          ],
          [
           "C&H Baseball"
          ],
          [
           "OVM Financial"
          ],
          [
           "Biotech X-ray"
          ],
          [
           "IntraLogic Solutions"
          ],
          [
           "Invariant"
          ],
          [
           "TargetX.com"
          ],
          [
           "ForceBrands"
          ],
          [
           "Safety Management Group"
          ],
          [
           "Total Quality Logistics"
          ],
          [
           "Pure Financial Advisors"
          ],
          [
           "LINX"
          ],
          [
           "AvroKO"
          ],
          [
           "Morrow Family Medicine"
          ],
          [
           "ExpoMarketing Group"
          ],
          [
           "The Denzel Group"
          ],
          [
           "Rock Solid Stabilization"
          ],
          [
           "Brewer Enterprises"
          ],
          [
           "SoftClouds"
          ],
          [
           "SwipeClock"
          ],
          [
           "Ntiva"
          ],
          [
           "Infinite Windows"
          ],
          [
           "Quantum Workplace"
          ],
          [
           "MuniciPAY"
          ],
          [
           "Primary Staffing"
          ],
          [
           "Pyramid Technologies"
          ],
          [
           "The Credit Pros"
          ],
          [
           "Americollect"
          ],
          [
           "Nexgrill Industries"
          ],
          [
           "Cumming"
          ],
          [
           "Pinnacle Lodging"
          ],
          [
           "HazTek"
          ],
          [
           "Sentinel Security Solutions"
          ],
          [
           "Streamline Publishing"
          ],
          [
           "J.C. Restoration"
          ],
          [
           "Julianna Rae"
          ],
          [
           "Landscape Workshop"
          ],
          [
           "Sacramento Rack and Shelving"
          ],
          [
           "TouchSource"
          ],
          [
           "MSC Development"
          ],
          [
           "Innovative Office Solutions"
          ],
          [
           "VHA Prepaid Wireless"
          ],
          [
           "ARG - AgentHR Recruiting Group"
          ],
          [
           "TruTech Tools"
          ],
          [
           "Peterman Heating, Cooling & Plumbing"
          ],
          [
           "Secure Medical"
          ],
          [
           "Klemchuk"
          ],
          [
           "SunDance Marketing Solutions"
          ],
          [
           "Accellis Technology Group"
          ],
          [
           "Dana's Bakery"
          ],
          [
           "Northside Tool Rental"
          ],
          [
           "Precision Laser Services"
          ],
          [
           "Softworld"
          ],
          [
           "Neogov"
          ],
          [
           "Meeting Tomorrow"
          ],
          [
           "Trilliant Surgical"
          ],
          [
           "MedSource"
          ],
          [
           "TechMD"
          ],
          [
           "Dynamic Systems"
          ],
          [
           "OPYS"
          ],
          [
           "The Copley Consulting Group"
          ],
          [
           "Clickstop"
          ],
          [
           "Weatherly Asset Management"
          ],
          [
           "Internet Creations"
          ],
          [
           "RebelMouse"
          ],
          [
           "Goldenhelix"
          ],
          [
           "InfoWorks"
          ],
          [
           "Motivworks"
          ],
          [
           "American Painting & Renovations"
          ],
          [
           "Common Angle"
          ],
          [
           "Carpet Source"
          ],
          [
           "Annex Wealth Management"
          ],
          [
           "Modern Technology Solutions"
          ],
          [
           "Carolinas IT"
          ],
          [
           "Consolidated Asset Recovery Systems"
          ],
          [
           "MDG Connected Solutions"
          ],
          [
           "Park Square Homes"
          ],
          [
           "Benchmark Realty"
          ],
          [
           "BravoTECH"
          ],
          [
           "Butters Construction & Development"
          ],
          [
           "XpoSolutions"
          ],
          [
           "S. Bravo Systems"
          ],
          [
           "K. Parks Consulting"
          ],
          [
           "W.A. Smith Financial Group"
          ],
          [
           "Just Ryt Foods"
          ],
          [
           "Van Horn Law Group, PA"
          ],
          [
           "Five Star Restoration"
          ],
          [
           "Rapid Response Marketing"
          ],
          [
           "Grobstein Teeple"
          ],
          [
           "Scalefast"
          ],
          [
           "J&L Dimensional Services"
          ],
          [
           "LSS Life Safety Services"
          ],
          [
           "Cardinal Staffing Services"
          ],
          [
           "Plumbing & HVAC SEO"
          ],
          [
           "Underground Printing"
          ],
          [
           "Bridge Partners"
          ],
          [
           "Advent Advisory Group"
          ],
          [
           "Total Maintenance Services"
          ],
          [
           "Improving"
          ],
          [
           "Corefact"
          ],
          [
           "Express Corporate Housing"
          ],
          [
           "Any Lab Test Now"
          ],
          [
           "Monster Technology"
          ],
          [
           "Reliable Pharmaceutical Returns"
          ],
          [
           "Smoothie King"
          ],
          [
           "Access Physical Therapy"
          ],
          [
           "Exhibitus"
          ],
          [
           "Scrimmage"
          ],
          [
           "Athaco"
          ],
          [
           "The Garland Company"
          ],
          [
           "MD Connect"
          ],
          [
           "4 Walls"
          ],
          [
           "Radiant Plumbing & Air Conditioning"
          ],
          [
           "Medicus Healthcare Solutions"
          ],
          [
           "Nassau National Cable"
          ],
          [
           "Duval's Fresh. Local. Seafood."
          ],
          [
           "Leigh Marcus | @properties"
          ],
          [
           "Dimensional Innovations"
          ],
          [
           "United Services Group"
          ],
          [
           "MGX Copy"
          ],
          [
           "Well Crafted Wine & Beverage"
          ],
          [
           "Intelligent Logistics"
          ],
          [
           "Quaker Window Products"
          ],
          [
           "3nom"
          ],
          [
           "Netropole"
          ],
          [
           "NorthStar Restoration Services"
          ],
          [
           "SciSafe"
          ],
          [
           "Zipline Logistics"
          ],
          [
           "Intellifarms"
          ],
          [
           "Neostek"
          ],
          [
           "Dciny"
          ],
          [
           "ARServices"
          ],
          [
           "Black Clover Enterprises"
          ],
          [
           "Redtail Technology"
          ],
          [
           "Quality Mobile Home Services"
          ],
          [
           "List Partners"
          ],
          [
           "Ben Kinney Companies"
          ],
          [
           "Applied Imaging"
          ],
          [
           "Orthopedic Motion"
          ],
          [
           "Windhaven Insurance"
          ],
          [
           "Advice Media"
          ],
          [
           "SEAM Group"
          ],
          [
           "Studio Movie Grill"
          ],
          [
           "ACTenviro"
          ],
          [
           "Imperial Lighting Maintenance Company"
          ],
          [
           "Nexus Systems"
          ],
          [
           "Program Productions"
          ],
          [
           "ShoppersChoice.com dba BBQGuys"
          ],
          [
           "Plastic Molding Technology"
          ],
          [
           "L Squared Engineering"
          ],
          [
           "Monkee-Boy Web Design"
          ],
          [
           "Crown Coverings"
          ],
          [
           "Jones Therapy Services"
          ],
          [
           "Royal Interpack Group USA"
          ],
          [
           "Harmonics Consulting"
          ],
          [
           "SpaceBound"
          ],
          [
           "Schneller and Knochelmann Plumbing Heating and Air"
          ],
          [
           "Multilingual Connections"
          ],
          [
           "Image Systems"
          ],
          [
           "Universal Plant Services"
          ],
          [
           "Boston Government Services"
          ],
          [
           "MobileDemand"
          ],
          [
           "Buckfire & Buckfire"
          ],
          [
           "Employment Screening Services"
          ],
          [
           "Certified Languages International"
          ],
          [
           "Empist"
          ],
          [
           "Secure Ideas"
          ],
          [
           "Sedona Soul Adventures"
          ],
          [
           "Debtmerica"
          ],
          [
           "Clarity Software Solutions"
          ],
          [
           "Mobile Advance"
          ],
          [
           "Eating Recovery Center"
          ],
          [
           "Career Support Systems"
          ],
          [
           "Coury & Buehler Physical Therapy"
          ],
          [
           "Hughes Environmental"
          ],
          [
           "JKaiser Workspaces"
          ],
          [
           "Milosi"
          ],
          [
           "The Kingston Group"
          ],
          [
           "Rhythmlink International"
          ],
          [
           "Tech Guru"
          ],
          [
           "Priority Designs"
          ],
          [
           "Strategic Factory"
          ],
          [
           "Wet Sounds"
          ],
          [
           "SnapShot Interactive"
          ],
          [
           "GXA Network Solutions"
          ],
          [
           "Del Toro Loan Servicing"
          ],
          [
           "Xidax PCs"
          ],
          [
           "RF-Smart"
          ],
          [
           "Davenport Group"
          ],
          [
           "Century Solutions Group"
          ],
          [
           "Transport Services"
          ],
          [
           "Pariveda Solutions"
          ],
          [
           "Clarion Security"
          ],
          [
           "Big-D Construction Corp."
          ],
          [
           "hrQ"
          ],
          [
           "Neta Scientific"
          ],
          [
           "Angeion Group"
          ],
          [
           "FIG"
          ],
          [
           "Keen 360"
          ],
          [
           "World of Wheels"
          ],
          [
           "Saffron Road Foods"
          ],
          [
           "Readerlink"
          ],
          [
           "Cap City Dental Lab"
          ],
          [
           "Next Day Dumpsters"
          ],
          [
           "Tapestry Technologies"
          ],
          [
           "ipipeline"
          ],
          [
           "7Summits"
          ],
          [
           "RAW Artists"
          ],
          [
           "3 Blind Mice Window Coverings"
          ],
          [
           "Infutor Data Solutions"
          ],
          [
           "RE 360"
          ],
          [
           "Sterling Computers"
          ],
          [
           "Constellation Software Engineering"
          ],
          [
           "Abacus Wealth Partners"
          ],
          [
           "Ebs Associates"
          ],
          [
           "Reach Sports Marketing Group"
          ],
          [
           "Oxi Fresh Carpet Cleaning"
          ],
          [
           "rezora"
          ],
          [
           "Barone Consulting"
          ],
          [
           "SkyPlanner"
          ],
          [
           "Rogers Healy and Associates Real Estate"
          ],
          [
           "Arora Engineers"
          ],
          [
           "Victor 12"
          ],
          [
           "Cassaday & Company"
          ],
          [
           "Fresh Technology"
          ],
          [
           "ej4"
          ],
          [
           "Managed Solution"
          ],
          [
           "ClubDrive Systems"
          ],
          [
           "Gantom Lighting"
          ],
          [
           "Partner Assessment"
          ],
          [
           "Grapevine MSP Technology Services"
          ],
          [
           "Traffic Planning and Design"
          ],
          [
           "JPL"
          ],
          [
           "Meridian Star POS"
          ],
          [
           "Choura Events"
          ],
          [
           "Money Matters with Ken Moraif"
          ],
          [
           "Acquia"
          ],
          [
           "Wood Expressions"
          ],
          [
           "Softcrylic"
          ],
          [
           "Thread"
          ],
          [
           "Full Visibility"
          ],
          [
           "BizStream"
          ],
          [
           "American Technologies"
          ],
          [
           "Cold Jet"
          ],
          [
           "Mosaic Technologies Group"
          ],
          [
           "Bast Amron LLP"
          ],
          [
           "Kaplansky Insurance Agency"
          ],
          [
           "LINK Strategic Partners"
          ],
          [
           "Air Control Air Conditioning"
          ],
          [
           "CommCreative"
          ],
          [
           "Equus Software"
          ],
          [
           "pMD"
          ],
          [
           "Nina Hale"
          ],
          [
           "Five Lakes Professional Services"
          ],
          [
           "Vance Thompson Vision"
          ],
          [
           "NetPlanner Systems"
          ],
          [
           "OpenArc"
          ],
          [
           "Stonebrooke Engineering"
          ],
          [
           "Foreman Therapy Services"
          ],
          [
           "Computer Solutions East"
          ],
          [
           "Dobi & Associates"
          ],
          [
           "Redpepper"
          ],
          [
           "W. L. French Excavating"
          ],
          [
           "US Logistics"
          ],
          [
           "KBTS Technologies"
          ],
          [
           "SecureStrux"
          ],
          [
           "McGill Restoration"
          ],
          [
           "The Greer Group"
          ],
          [
           "Zone Enterprises"
          ],
          [
           "Kidder Mathews"
          ],
          [
           "Creative Alignments"
          ],
          [
           "Muscular Moving Men & Storage"
          ],
          [
           "Senior1Care"
          ],
          [
           "Datatility"
          ],
          [
           "Evok Advertising"
          ],
          [
           "Extension"
          ],
          [
           "Sovereign Lending Group"
          ],
          [
           "Veracity Consulting"
          ],
          [
           "Quest National Services"
          ],
          [
           "High Level Marketing"
          ],
          [
           "4CITE Marketing"
          ],
          [
           "Liquid Technology"
          ],
          [
           "The Event Studio"
          ],
          [
           "Ion Exhibits"
          ],
          [
           "Reliant Foodservice"
          ],
          [
           "Argent Financial Group"
          ],
          [
           "ThreePDS"
          ],
          [
           "BODY DETAILS"
          ],
          [
           "All-American Pest Control"
          ],
          [
           "Timmons Group"
          ],
          [
           "American Drapery Systems"
          ],
          [
           "Noble Capital Group"
          ],
          [
           "Environmental Lights"
          ],
          [
           "ShipOffers"
          ],
          [
           "Gen3 Marketing"
          ],
          [
           "Harvest Software Solutions"
          ],
          [
           "Snap36"
          ],
          [
           "TekCommands"
          ],
          [
           "Horizontal Integration"
          ],
          [
           "Manifold"
          ],
          [
           "Profit Builders"
          ],
          [
           "MicroSystems Automation Group"
          ],
          [
           "Hirewell"
          ],
          [
           "Meathead Movers"
          ],
          [
           "Freedom Information Systems"
          ],
          [
           "In Store Experience"
          ],
          [
           "CKD Technology Partners"
          ],
          [
           "CivicMinds"
          ],
          [
           "(Add)ventures"
          ],
          [
           "Agent Elite"
          ],
          [
           "Frontier Truck Gear"
          ],
          [
           "Page Per Page"
          ],
          [
           "360 Wraps"
          ],
          [
           "Audio Visual Management Solutions"
          ],
          [
           "WaterSports Central"
          ],
          [
           "Red Caffeine"
          ],
          [
           "Netria Corporation"
          ],
          [
           "Tayse International Trading"
          ],
          [
           "Open Sky Group"
          ],
          [
           "Procentrix"
          ],
          [
           "Avenue Link"
          ],
          [
           "Vantage Outsourcing"
          ],
          [
           "WTWH Media"
          ],
          [
           "Across Borders Management Consulting Group"
          ],
          [
           "Clayton Signs"
          ],
          [
           "UpSellit"
          ],
          [
           "Pavone Marketing Group"
          ],
          [
           "84 Lumber Company"
          ],
          [
           "Blount Fine Foods"
          ],
          [
           "280 Group"
          ],
          [
           "Virtual Supply"
          ],
          [
           "Green Mountain Technology"
          ],
          [
           "Paradigm Sample"
          ],
          [
           "LaSalle Network"
          ],
          [
           "Team Velocity"
          ],
          [
           "SofterWare"
          ],
          [
           "Trextel"
          ],
          [
           "John Greene Realtor"
          ],
          [
           "Johnston Architectural Systems"
          ],
          [
           "Wine Cellar International"
          ],
          [
           "Tekla Research"
          ],
          [
           "Perfecta"
          ],
          [
           "Green Lawn Fertilizing"
          ],
          [
           "Icube Consultancy Services"
          ],
          [
           "Access TCA"
          ],
          [
           "Intercambio Express"
          ],
          [
           "Precision Machinery Systems"
          ],
          [
           "Audacious Inquiry"
          ],
          [
           "USA Financial"
          ],
          [
           "Bankers Healthcare Group"
          ],
          [
           "MMI Engineered Solutions"
          ],
          [
           "Miles Technologies"
          ],
          [
           "Centurion Land Title"
          ],
          [
           "Data Path"
          ],
          [
           "Cogent Solutions"
          ],
          [
           "Oceans Healthcare"
          ],
          [
           "Adelante Consulting"
          ],
          [
           "Proliant"
          ],
          [
           "American Specialty Health"
          ],
          [
           "Western Timber Frame"
          ],
          [
           "Exact Data"
          ],
          [
           "Corevist"
          ],
          [
           "M9 Solutions"
          ],
          [
           "Monogram Foods"
          ],
          [
           "WorkForce Software"
          ],
          [
           "Morris - Sockle, PLLC"
          ],
          [
           "Drexel Building Supply"
          ],
          [
           "Alliance 2020"
          ],
          [
           "Atlas Oil Company"
          ],
          [
           "ClearlyRated"
          ],
          [
           "Americaneagle.com"
          ],
          [
           "Freedom Boat Club"
          ],
          [
           "The SMB Help Desk"
          ],
          [
           "Malone Media Group"
          ],
          [
           "Pacific Dental Services"
          ],
          [
           "The Perfect Workout"
          ],
          [
           "Spur"
          ],
          [
           "Jetco Delivery"
          ],
          [
           "Internet Marketing Expert Group"
          ],
          [
           "Jackson Design and Remodeling"
          ],
          [
           "MSNW Group"
          ],
          [
           "Starfire Direct"
          ],
          [
           "Advantage Gold"
          ],
          [
           "Film Solutions"
          ],
          [
           "Dymax"
          ],
          [
           "Equip Studio"
          ],
          [
           "SUNation Solar Systems"
          ],
          [
           "iMarket Solutions"
          ],
          [
           "Vector Choice Technology Solutions"
          ],
          [
           "Taco Truck Creative"
          ],
          [
           "Smart Energy Today"
          ],
          [
           "Distillery"
          ],
          [
           "American Thermal Systems"
          ],
          [
           "Red Six Media"
          ],
          [
           "Gemini Power Systems"
          ],
          [
           "Golden Star Technology"
          ],
          [
           "Village Plumbing & Air"
          ],
          [
           "Real Restoration Group"
          ],
          [
           "Naval Systems"
          ],
          [
           "HNM Systems"
          ],
          [
           "Vivayic"
          ]
         ],
         "hovertemplate": "revenue=%{x}<br>growth_%=%{y}<br>name=%{customdata[0]}<extra></extra>",
         "legendgroup": "",
         "marker": {
          "color": "#636efa",
          "symbol": "circle"
         },
         "mode": "markers",
         "name": "",
         "showlegend": false,
         "type": "scattergl",
         "x": [
          36.9,
          33.6,
          24.9,
          32.4,
          22.5,
          271.8,
          20.5,
          23.3,
          225.9,
          21.4,
          13.9,
          30.3,
          19.1,
          19.1,
          17.3,
          10.7,
          105.8,
          19,
          24.4,
          9.6,
          10.2,
          11.9,
          13.8,
          10.5,
          8.9,
          128.2,
          15.8,
          7.8,
          11.8,
          156,
          20.4,
          10.2,
          7.2,
          20.8,
          162.6,
          48.9,
          24,
          17.5,
          45.2,
          15.2,
          8.3,
          6.4,
          7,
          8.8,
          6.2,
          16.9,
          6.3,
          9.8,
          7.1,
          48.5,
          25,
          42.5,
          23.9,
          58.8,
          5.1,
          8,
          7.8,
          25.9,
          107.6,
          42.4,
          21.5,
          21,
          44.6,
          5.8,
          89.7,
          10.7,
          12.8,
          9,
          146.3,
          14.3,
          6.2,
          4.7,
          20.9,
          4.6,
          6.7,
          10,
          8.2,
          4.3,
          7.2,
          4.7,
          16.3,
          54.4,
          5.1,
          25.8,
          9,
          9,
          4.5,
          104.1,
          3.9,
          10.4,
          14.4,
          6.4,
          4.9,
          6.6,
          7.3,
          7.4,
          15.3,
          13.7,
          4.8,
          34.2,
          102.9,
          13.9,
          9,
          33,
          14.4,
          11.1,
          3.5,
          3.9,
          7.6,
          59.3,
          4.7,
          7.8,
          3.8,
          5.1,
          6.4,
          19,
          3.3,
          3.1,
          3.7,
          23.6,
          25.8,
          12.3,
          6.6,
          79,
          3.5,
          38.8,
          4.7,
          3.2,
          3.2,
          30,
          3.1,
          6.7,
          84.8,
          12.4,
          38.8,
          4,
          5.4,
          6.5,
          9.8,
          20.4,
          3.1,
          7.1,
          101.1,
          25.1,
          4.7,
          3.5,
          5.4,
          9.2,
          18.5,
          2.8,
          5.5,
          4.4,
          21.8,
          4.4,
          28.4,
          4,
          13.6,
          3,
          20.6,
          3,
          4.9,
          72.3,
          13.3,
          2.5,
          15.9,
          100.8,
          3,
          15.5,
          53.1,
          3.1,
          6.4,
          3,
          5.7,
          17.4,
          2.6,
          14.2,
          12,
          3.3,
          7,
          9.9,
          10.3,
          3.1,
          4.6,
          12.8,
          2.7,
          85.8,
          5.4,
          8.2,
          6.9,
          7.2,
          12.7,
          4.1,
          24.7,
          4.5,
          32.9,
          2.2,
          3.6,
          20.8,
          3.6,
          14.3,
          4,
          138.4,
          40.5,
          2.3,
          2.2,
          37.5,
          5.1,
          113.5,
          3.9,
          22.3,
          3.6,
          4.4,
          61.1,
          2.7,
          4.1,
          161.8,
          31.5,
          4.5,
          3.5,
          18.7,
          6.1,
          10,
          2.7,
          7.7,
          4.5,
          8.2,
          6.6,
          10.7,
          7.2,
          2.6,
          2.9,
          46.2,
          120.5,
          4.7,
          12,
          2.3,
          4.3,
          11.1,
          3.6,
          7.3,
          6.3,
          3.3,
          2.1,
          5.3,
          26.3,
          4.6,
          13.4,
          467.4,
          8.3,
          2.3,
          4.4,
          46.2,
          7.4,
          3.7,
          3.1,
          10.5,
          10.1,
          8.8,
          58.8,
          7.2,
          3.7,
          4.2,
          8.5,
          4.7,
          4.5,
          2.6,
          2.2,
          71.6,
          726.1,
          2.7,
          259.4,
          7.7,
          8.6,
          14,
          3,
          18.4,
          4.1,
          8.4,
          5.5,
          5.2,
          3.4,
          2.3,
          40.9,
          13.7,
          93.9,
          4.9,
          113.5,
          2.7,
          9.1,
          97.4,
          2.6,
          6.1,
          9.8,
          20.8,
          3.6,
          2.2,
          6.3,
          9.1,
          11.8,
          3.2,
          14.1,
          6.6,
          2.7,
          47.1,
          65.2,
          4.4,
          76.9,
          16.1,
          6.8,
          2.9,
          3.4,
          5.8,
          3.2,
          5.3,
          2,
          35.7,
          9.9,
          2.3,
          5.8,
          2.8,
          25.1,
          134.2,
          5,
          8.2,
          2.6,
          2.3,
          3.8,
          6.8,
          27.3,
          9.7,
          2.9,
          16.2,
          2,
          3.4,
          4,
          2.8,
          2.2,
          3.7,
          5.7,
          6,
          2,
          2.2,
          12.4,
          4.3,
          33.8,
          7.2,
          64.3,
          2.7,
          29.1,
          10.4,
          2.3,
          35.3,
          24.2,
          5.7,
          19.7,
          2.9,
          2.3,
          8,
          8.1,
          5.9,
          2.1,
          5.9,
          8.8,
          16,
          12,
          15.3,
          28,
          2.6,
          2.6,
          3.1,
          4.7,
          2.7,
          6.4,
          21.7,
          3.4,
          4,
          137.2,
          3.8,
          31.4,
          2,
          21.6,
          7,
          30.8,
          255.9,
          6.2,
          12.8,
          5.1,
          19.5,
          2.5,
          4.8,
          2.9,
          4.6,
          2.8,
          4.7,
          2,
          2.9,
          10.1,
          6.9,
          3,
          2.8,
          5.4,
          15.4,
          9.5,
          4.1,
          211.2,
          24,
          32.7,
          3.6,
          21.5,
          5.6,
          11.6,
          8.8,
          7.1,
          368.6,
          5.5,
          2.8,
          14,
          8.8,
          15.8,
          35.9,
          7,
          2.8,
          2,
          6.9,
          9.8,
          6.5,
          5.4,
          374.2,
          5.9,
          5.2,
          4.3,
          4.9,
          8.6,
          20.4,
          13.2,
          38.5,
          21.3,
          67.8,
          10.1,
          20.8,
          94.6,
          2.4,
          15.9,
          12.7,
          8.9,
          4.1,
          3,
          22.3,
          31.4,
          74.3,
          3.9,
          5.9,
          45.1,
          2.7,
          18.6,
          159.7,
          4.4,
          29.8,
          3.6,
          11.3,
          7.8,
          2.8,
          3.2,
          18.8,
          7.5,
          14.2,
          17.4,
          5.8,
          4.5,
          52.3,
          40,
          42.9,
          11.6,
          2,
          7.1,
          2,
          30.1,
          3,
          7.7,
          22.1,
          2.5,
          2.3,
          2.5,
          31.3,
          3.5,
          7.2,
          59.4,
          78.6,
          11.4,
          5.4,
          45.4,
          52.4,
          5.4,
          5.3,
          18.4,
          2.2,
          2.9,
          21.3,
          5.1,
          4.9,
          8,
          12.3,
          4.7,
          3.5,
          8.5,
          18.1,
          9,
          10.7,
          84.3,
          10.3,
          2.1,
          16.2,
          27.2,
          2.2,
          2.4,
          8.7,
          6.1,
          16.3,
          3.8,
          12.6,
          9.7,
          21.3,
          6.6,
          2.5,
          17.5,
          492.5,
          6,
          4.5,
          9.5,
          4.8,
          3,
          2.2,
          4.5,
          15.3,
          2.9,
          7.9,
          53.5,
          13.6,
          19,
          4.7,
          2.4,
          8.1,
          2,
          171.8,
          31.6,
          8.2,
          7.3,
          6.2,
          10.7,
          5.5,
          37.6,
          7.5,
          11,
          5.3,
          6,
          10.7,
          9.2,
          2.2,
          12.6,
          27.4,
          2,
          17.2,
          138.5,
          6.9,
          77.4,
          16.7,
          8.9,
          2.8,
          70.7,
          46.4,
          5,
          3.7,
          17.5,
          41.9,
          79.6,
          16.4,
          12.5,
          37.3,
          4.6,
          7,
          10,
          6.1,
          17.1,
          45.5,
          21.8,
          3.6,
          2.5,
          18.8,
          3.7,
          4.1,
          3.4,
          13,
          16.9,
          6,
          5,
          5.3,
          2,
          14.9,
          4,
          44,
          6,
          3.4,
          2.4,
          10.9,
          14.8,
          3500,
          6,
          3.5,
          2.9,
          6.3,
          2.9,
          9.2,
          5.8,
          2.2,
          15.6,
          27.6,
          36.5,
          2.9,
          5.9,
          29.7,
          29.6,
          22.9,
          73.3,
          10.3,
          7.2,
          5.5,
          5.7,
          7.3,
          75.3,
          3.1,
          2.7,
          49.1,
          9,
          6.4,
          6.4,
          2.2,
          9.5,
          78.5,
          2.3,
          2,
          22.8,
          39.4,
          13.6,
          13.4,
          8,
          2.6,
          5.5,
          2.4,
          4.1,
          5.5,
          4,
          2.9,
          22.3,
          70,
          93.2,
          27.2,
          273.7,
          31.5,
          2.2,
          62,
          2.5,
          12.1,
          33.6,
          37.1,
          5,
          17.6,
          88.3,
          2.1,
          2.7,
          6.6,
          13.2,
          2.6,
          14.1,
          5.2,
          2.3,
          2.1,
          5.2,
          6.3,
          2.5,
          14.9,
          8.9,
          4.2,
          17.3,
          49.4,
          5.6,
          14.2,
          8.3,
          3,
          13.7,
          12.4,
          4.9,
          4.2,
          6.6,
          9.2,
          7.7,
          4.8,
          2.2,
          9.9,
          13.9,
          157.1,
          2.9,
          18.5,
          12.1,
          16.7,
          2,
          23.6,
          151.5,
          9.6,
          11.3,
          9,
          5.5,
          18.6,
          6,
          101.3,
          30.8,
          2.2,
          3.6,
          4.6,
          4.1,
          8.8,
          5.5,
          18.3,
          8.6,
          3.8,
          12.4,
          9.8,
          33.1,
          2.9,
          3.5,
          66.6,
          92.7,
          23.7,
          2,
          14.4,
          32.6,
          73.2,
          2.2,
          2.3,
          30.2,
          12.9,
          3.9,
          2.5,
          6.9,
          11.1,
          4.5,
          48.7,
          6.1,
          4.2,
          2.2,
          17.8,
          2.8,
          4.1,
          225.8,
          5.7,
          15.2,
          2.3,
          11.4,
          28.6,
          129.6,
          9.3,
          75.5,
          23.7,
          5,
          5.7,
          3.4,
          2.2,
          40.9,
          4.8,
          19.4,
          13.8,
          39.3,
          10.9,
          3.5,
          8.1,
          4.6,
          2.6,
          14.6,
          7.2,
          5.1,
          5.6,
          5,
          25.4,
          4,
          172.5,
          14.3,
          22.5,
          14.8,
          114.5,
          2.3,
          16.2,
          6.3,
          5.7,
          44.2,
          2.3,
          11,
          7.3,
          11.3,
          8.4,
          2.2,
          6.3,
          3.5,
          3.2,
          18.4,
          3,
          35.6,
          5.7,
          5.8,
          6.5,
          4.3,
          6.4,
          23.6,
          2.7,
          146.8,
          7.2,
          84.7,
          7,
          75,
          18.1,
          3.1,
          9.2,
          2.4,
          2.7,
          8.2,
          19.5,
          4.5,
          3.7,
          4,
          3.4,
          8.8,
          24.3,
          4.2,
          4.5,
          21.7,
          5.1,
          4.8,
          5.1,
          12.2,
          9.3,
          102.2,
          9.5,
          3.1,
          5.5,
          5.8,
          2.9,
          11.1,
          3,
          11.6,
          72.8,
          4.9,
          69.7,
          7,
          3.5,
          4.1,
          5.4,
          14.6,
          14.4,
          44.8,
          20,
          14.5,
          6.5,
          2.9,
          59.9,
          5.6,
          21.4,
          27,
          7.5,
          13,
          14,
          17.2,
          32.6,
          105.6,
          3.2,
          11.2,
          13.1,
          5.2,
          5.4,
          2.7,
          2.7,
          7.6,
          39.8,
          12.1,
          46.3,
          56.4,
          10.2,
          24.2,
          4.1,
          2.7,
          16,
          21.3,
          4.7,
          26.6,
          2.1,
          2.5,
          14,
          31.1,
          4.2,
          3.7,
          3.5,
          15.7,
          99.6,
          4.7,
          5.1,
          2.4,
          16.4,
          2.8,
          2.8,
          8.6,
          29.6,
          4.6,
          7.1,
          3,
          80.9,
          9,
          2.6,
          11300,
          2.2,
          33.6,
          4.4,
          2.7,
          46.6,
          357.8,
          2,
          2.1,
          14.2,
          5.2,
          257,
          2,
          31.6,
          70.1,
          2.6,
          10.3,
          4,
          2.1,
          2.8,
          125.5,
          5.1,
          2.1,
          3,
          4.2,
          2.7,
          8.5,
          15.8,
          3.6,
          3.7,
          2.9,
          66.5,
          5,
          32.2,
          5.2,
          84.1,
          2.9,
          5.1,
          8,
          15.8,
          2.4,
          5.2,
          36.1,
          5,
          3.8,
          5.4,
          4.1,
          3.8,
          23,
          13.8,
          16.7,
          20.7,
          20.9,
          7.1,
          63.2,
          26.4,
          2.5,
          3.1,
          18.7,
          4.8,
          7.3,
          10,
          6.8,
          4,
          19.6,
          6.6,
          6.8,
          39.6,
          4.6,
          6.8,
          4.6,
          3.5,
          17.4,
          53.5,
          10,
          7.1,
          125.9,
          8,
          4.6,
          6.3,
          8.8,
          2,
          11,
          23.4,
          26.4,
          5.6,
          5.1,
          16.5,
          4.1,
          67.3,
          6.7,
          8.9,
          21.9,
          2.6,
          3.2,
          18.8,
          21.5,
          69.9,
          2,
          2.9,
          28.9,
          3.1,
          4.4,
          50.4,
          311.8,
          12.3,
          5.6,
          2.3,
          58.9,
          10.1,
          50.1,
          3.8,
          3.6,
          3.7,
          28.4,
          44.3,
          5.9,
          15.6,
          66.5,
          4.2,
          32.5,
          11.7,
          49.5,
          4.2,
          7.1,
          5.8,
          6.5,
          4.3,
          4.2,
          38,
          11.6,
          8.1,
          15,
          28.2,
          4.6,
          6.6,
          15.3,
          3.9,
          3.2,
          4.1,
          6.7,
          4.7,
          9.2,
          7.8,
          33.5,
          12.1,
          7.4,
          7.9,
          13.6,
          3.7,
          3.6,
          5.4,
          7.5,
          15.7,
          153.2,
          117.6,
          5,
          21.5,
          2.5,
          15.4,
          12.2,
          14.5,
          21400,
          5.6,
          9,
          50.7,
          2.2,
          3.9,
          30.4,
          3.4,
          63.6,
          2.1,
          43.7,
          4.7,
          4.3,
          4.5,
          9.9,
          2.5,
          4.5,
          3.2,
          5.4,
          43.8,
          2.7,
          31.4,
          10.3,
          3.3,
          14.4,
          6.3,
          24,
          17.7,
          6.9,
          10.3,
          9.4,
          37.3,
          31.2,
          60.2,
          2.8,
          3.3,
          4.2,
          21.9,
          7.3,
          5.9,
          3,
          16.6,
          254.2,
          14.6,
          81.6,
          4,
          46.7,
          8.5,
          12.2,
          2.2,
          4.1,
          7.6,
          17.3,
          3.2,
          14.2,
          2.3,
          2.1,
          25.6,
          2.7,
          12.8,
          3.8,
          5.2,
          116.6,
          5,
          2.2,
          3.7,
          19.9,
          61.3,
          50.6,
          2.2,
          6,
          11.1,
          101.2,
          4.2,
          10.4,
          4.7,
          33.7,
          4.5,
          9.8,
          8.6,
          5.4,
          10.1,
          10.2,
          23.5,
          47.3,
          2.1,
          3.7,
          17.3,
          17.3,
          11.6,
          18.1,
          17.1,
          35.3,
          7,
          39.8,
          15.6,
          388.9,
          31,
          2.9,
          60.7,
          20.1,
          13.1,
          7.3,
          2.9,
          2.3,
          29.2,
          6.4,
          75.6,
          2.3,
          6.8,
          3.9,
          5.8,
          5.6,
          4.3,
          3,
          14.2,
          14.2,
          22.3,
          2.9,
          12.1,
          26.6,
          12.3,
          243.8,
          13.3,
          93.9,
          12.4,
          2.6,
          6.3,
          2.7,
          2.4,
          13.7,
          4.1,
          4.2,
          31.8,
          16.7,
          68,
          24.6,
          10.7,
          5.1,
          20.4,
          59.8,
          7,
          2.7,
          2.1,
          69.4,
          19.9,
          13.5,
          5.1,
          11.8,
          56,
          36.2,
          9.5,
          6.3,
          3.4,
          3,
          2.4,
          41.3,
          5.3,
          25.2,
          2.7,
          4.3,
          3.9,
          5.3,
          2.5,
          3.3,
          10.2,
          2.3,
          50.3,
          23.6,
          24.2,
          24.8,
          18.3,
          7.5,
          12.4,
          7.7,
          2.1,
          6.8,
          8.5,
          10.4,
          8.2,
          10.5,
          9.3,
          5.8,
          9.7,
          101.6,
          3.5,
          5.3,
          12.3,
          2.1,
          6,
          20.2,
          7.6,
          2.4,
          130.4,
          19.4,
          3.1,
          40.5,
          52.2,
          21.3,
          2.2,
          8.5,
          20.3,
          8.8,
          4.8,
          16,
          14.2,
          5.7,
          2,
          3.2,
          8.7,
          4.5,
          6.7,
          5.9,
          5,
          6.7,
          2.1,
          26.6,
          8.9,
          130.7,
          4.3,
          2,
          7.6,
          7,
          4,
          5,
          6.3,
          7.5,
          8.5,
          6.9,
          45.6,
          9.4,
          37.8,
          13.9,
          145.8,
          35.9,
          3.1,
          90.1,
          2,
          5.9,
          3.4,
          6.7,
          811.9,
          12.7,
          3,
          5,
          2.5,
          5.6,
          3.1,
          3.1,
          2.9,
          3.3,
          58.3,
          38.9,
          28.8,
          22.3,
          13.1,
          24.2,
          13,
          2.5,
          2.5,
          194.1,
          15.6,
          5.2,
          99.7,
          8.4,
          31.5,
          35.6,
          4.1,
          2.7,
          16.8,
          8.2,
          24,
          10.6,
          8.8,
          3.8,
          4.7,
          9.7,
          4.4,
          2.3,
          69.8,
          2.8,
          3.2,
          21.3,
          23.6,
          3.8,
          10.3,
          9.9,
          20,
          3.5,
          8.1,
          35.9,
          130.7,
          94.4,
          18.1,
          3.1,
          7.5,
          36.2,
          2.2,
          30.1,
          566,
          44.4,
          3,
          2.2,
          6.1,
          5.7,
          14.8,
          17,
          3.6,
          13.9,
          3.3,
          24.5,
          11.2,
          127.4,
          6.8,
          7.8,
          156.3,
          17,
          2.3,
          2.4,
          3.4,
          9,
          24.7,
          4.2,
          44,
          24.7,
          14.6,
          13.1,
          129.6,
          3.8,
          6.9,
          5,
          5.5,
          38.4,
          9.1,
          46.4,
          60.3,
          5.2,
          34.2,
          143.7,
          41.3,
          361.1,
          13.9,
          7.8,
          7.4,
          25.1,
          104,
          14.4,
          5.9,
          14.3,
          27.5,
          2.3,
          30.1,
          54,
          2.5,
          5,
          2,
          10,
          10.5,
          72.2,
          6.7,
          44.2,
          4.8,
          20.8,
          21.2,
          16.2,
          340.4,
          28.9,
          5.3,
          2.4,
          22,
          82.2,
          17.8,
          89,
          55.6,
          35.6,
          19.8,
          3.9,
          13.4,
          141.7,
          3,
          2.8,
          27,
          4.7,
          3.4,
          80,
          29.2,
          16.2,
          195.8,
          48.4,
          14.9,
          4,
          4.6,
          12.2,
          12.2,
          8.3,
          36.2,
          8.6,
          13.5,
          2.9,
          5.9,
          5.7,
          8.5,
          486.5,
          3.2,
          13.9,
          29.8,
          4,
          3.6,
          6.2,
          12.4,
          6.4,
          4.4,
          10.3,
          88,
          5.1,
          5.6,
          6.3,
          4.9,
          34.2,
          12.3,
          62.4,
          25.8,
          39,
          52.6,
          4,
          120.4,
          6.9,
          14.6,
          2.6,
          14.1,
          524.4,
          5.9,
          21.6,
          3.2,
          16.7,
          22.2,
          2.7,
          7.9,
          11.1,
          8.4,
          3.6,
          3.3,
          10.9,
          89.8,
          9,
          3.1,
          9.2,
          27.7,
          2.1,
          120.2,
          3.9,
          31.1,
          6.9,
          39.3,
          8.9,
          9.6,
          6.3,
          5.5,
          37.8,
          3.3,
          10.1,
          182.6,
          29.6,
          32.8,
          18.4,
          2.8,
          7.6,
          160.7,
          18.4,
          46.7,
          22,
          5.2,
          8.7,
          15.6,
          28.4,
          7.5,
          7.6,
          2.4,
          6,
          288.1,
          10.7,
          2.7,
          40.1,
          4.4,
          3.3,
          16,
          13.5,
          11.8,
          3.3,
          16.1,
          7.3,
          25.1,
          2.8,
          5,
          12.7,
          114.4,
          11.6,
          18.4,
          5.4,
          2.9,
          18.9,
          17.9,
          6.1,
          48.5,
          741.4,
          117.6,
          7,
          4.3,
          5.3,
          2.5,
          6,
          3.4,
          3.2,
          7.6,
          4.9,
          48.9,
          6.4,
          7.4,
          7,
          16.9,
          33.5,
          6.6,
          3.6,
          2.1,
          80.5,
          8.9,
          48.8,
          3.5,
          21.2,
          5.6,
          3.7,
          3.4,
          2.2,
          11.5,
          4,
          12.1,
          9.7,
          25.1,
          2,
          14.8,
          7,
          5.6,
          3.2,
          4.2,
          2.6,
          5800,
          10,
          8.3,
          50.6,
          9.5,
          6.3,
          2.8,
          32.8,
          3.1,
          3.8,
          3.1,
          53.3,
          89.5,
          58.2,
          28.3,
          2.8,
          9.1,
          7.3,
          6.9,
          3.6,
          2.1,
          12.6,
          25.1,
          8.4,
          26.1,
          11.6,
          2,
          14.3,
          13.1,
          2.1,
          2.7,
          2.7,
          7.8,
          12.5,
          5,
          11.1,
          4.1,
          145,
          3.2,
          17.4,
          35.9,
          59.2,
          5,
          8.5,
          12,
          69.4,
          59.1,
          30.1,
          253.9,
          27.9,
          33.7,
          6.3,
          7,
          29.6,
          12,
          7.6,
          3.9,
          16,
          5.1,
          45.6,
          2.7,
          66.2,
          37.7,
          38,
          31.2,
          2.5,
          2.2,
          3.2,
          89.4,
          29.3,
          6,
          7,
          2.7,
          9.1,
          11.7,
          4.8,
          4,
          3.1,
          24.4,
          411.9,
          2.6,
          14.3,
          2.9,
          6,
          3.4,
          11.2,
          15,
          7.5,
          40.7,
          49,
          21.4,
          5.7,
          3.9,
          77,
          36.3,
          33.3,
          8.3,
          19.7,
          50.9,
          238.2,
          6.6,
          35.5,
          52.4,
          3.6,
          9.7,
          7.5,
          24.7,
          19.1,
          34.7,
          3.6,
          3.3,
          22.9,
          18.4,
          10.1,
          28.1,
          2.4,
          36.4,
          3.1,
          3.7,
          2.3,
          17.2,
          3.7,
          79.1,
          12.7,
          14.4,
          92.1,
          22.7,
          6.5,
          9.3,
          20,
          7.1,
          8.9,
          148.7,
          8.9,
          7.2,
          170.7,
          2.5,
          44.6,
          6.5,
          12.6,
          6.8,
          21.5,
          11.1,
          5.1,
          6.8,
          215.1,
          27.2,
          2.4,
          8.5,
          5.8,
          30.1,
          24.8,
          78.6,
          11.9,
          75.8,
          226.1,
          71.4,
          52.5,
          13.4,
          14.1,
          23.3,
          22.3,
          14.2,
          21.4,
          2.4,
          2.6,
          7.1,
          15.9,
          7.3,
          5,
          368.6,
          9.4,
          8.4,
          36.6,
          5,
          3.3,
          14.5,
          2.5,
          5.7,
          27,
          12.5,
          12.6,
          3.8,
          25,
          16.9,
          7.7,
          35.5,
          3.7,
          9.1,
          79.8,
          21,
          4.5,
          6.9,
          5.7,
          30,
          7.9,
          15.2,
          8.3,
          2.8,
          44.7,
          2.6,
          3.4,
          2.7,
          8.2,
          21.6,
          2,
          2.1,
          47,
          6.2,
          36.6,
          14.1,
          26.5,
          84.1,
          179.6,
          9.8,
          296.3,
          44.3,
          5.6,
          166.3,
          8.9,
          2.9,
          2.6,
          10.6,
          3,
          92.1,
          144.3,
          8.1,
          2.4,
          50.8,
          5,
          11,
          51.8,
          6.8,
          4.6,
          323.3,
          2.8,
          4.2,
          2.2,
          8.7,
          13.6,
          4.1,
          3.8,
          139.6,
          6.4,
          10.1,
          32.7,
          57.2,
          83,
          3.8,
          5.3,
          5.1,
          22.7,
          3.9,
          7.6,
          16.9,
          43.6,
          13.8,
          201.4,
          60.6,
          21.7,
          34.6,
          10.6,
          2.9,
          3,
          11.6,
          4.5,
          119.1,
          25,
          12.6,
          57.7,
          14.7,
          17.7,
          3.7,
          35.2,
          3.9,
          2.7,
          17.2,
          2.4,
          27.8,
          6.3,
          7,
          15.1,
          56.6,
          20.7,
          5.8,
          3,
          7.9,
          9.5,
          2.6,
          153.8,
          13.3,
          26.9,
          15.1,
          2.2,
          5,
          10.6,
          6.3,
          2.6,
          206.1,
          59.6,
          2.5,
          26.1,
          445.6,
          4.2,
          5,
          11.6,
          6.9,
          3.8,
          67.4,
          2.1,
          5.2,
          8.5,
          7,
          209.7,
          8.1,
          8,
          7.9,
          55.7,
          2.1,
          2.1,
          2.2,
          7.7,
          27.5,
          99.4,
          71.1,
          38.1,
          19.3,
          4.2,
          352.3,
          3,
          14.4,
          11.7,
          36.1,
          19.5,
          9.2,
          2.6,
          38.9,
          10.9,
          23.6,
          16.2,
          10.1,
          18.4,
          5.3,
          3.6,
          45.7,
          6.2,
          73.5,
          66.5,
          19.5,
          21.5,
          57,
          2.7,
          3,
          19,
          3.9,
          7.7,
          229.8,
          26.7,
          14.2,
          2.2,
          2.2,
          5.1,
          84.9,
          62.4,
          7.1,
          6.6,
          7.4,
          3.9,
          5.5,
          10.3,
          333.4,
          46.8,
          23.5,
          82.5,
          5.8,
          4,
          74,
          25.2,
          3.4,
          2.2,
          10.4,
          27.6,
          30.2,
          4.1,
          5.8,
          12.4,
          3,
          18.5,
          146.5,
          79.6,
          2,
          3.1,
          37.4,
          31.9,
          19.7,
          23.1,
          2,
          4,
          11.3,
          31,
          3.4,
          10.5,
          6.5,
          140.7,
          2.4,
          13,
          10.5,
          19.1,
          4,
          23,
          11.4,
          5,
          7.3,
          15.2,
          7.1,
          20.1,
          192.8,
          141.9,
          8.7,
          10.8,
          5.5,
          2.2,
          76,
          314.3,
          2.9,
          2.3,
          11.3,
          13.9,
          28.2,
          3.1,
          62.2,
          22.1,
          7.7,
          26.8,
          15.1,
          9.5,
          2,
          5.9,
          56.7,
          2.1,
          4.6,
          21.6,
          63.2,
          11.3,
          2.4,
          2.2,
          15.1,
          4.1,
          2.7,
          2.9,
          5,
          2.7,
          6.6,
          5,
          36.1,
          19.6,
          11.7,
          450.9,
          7.7,
          14.8,
          25.7,
          5.8,
          29.1,
          12.1,
          25.8,
          5.1,
          23.2,
          52.1,
          90.6,
          9.7,
          7.3,
          7.2,
          22.4,
          3.4,
          11.1,
          10.5,
          111.4,
          3,
          8.9,
          19.8,
          4.4,
          3.7,
          36.5,
          2.7,
          2.3,
          5.5,
          7.9,
          5.9,
          113,
          17.6,
          4.6,
          6.4,
          2.6,
          36.4,
          6.1,
          57.2,
          42.4,
          29.8,
          17.8,
          18.2,
          9.5,
          16.6,
          8.3,
          35.3,
          17.3,
          10.1,
          7.4,
          7.5,
          76.8,
          27.7,
          321.4,
          71.6,
          7.5,
          24.3,
          11,
          31.8,
          4.1,
          17,
          156.2,
          57.1,
          15.9,
          27.6,
          9,
          11.9,
          7.2,
          16.9,
          3.3,
          6.6,
          36.8,
          7.3,
          4.4,
          69.3,
          60,
          3.6,
          8.4,
          4.6,
          2.3,
          7.2,
          27.4,
          49.8,
          54.5,
          48.6,
          2.7,
          12.4,
          13.5,
          10,
          45.7,
          3.1,
          7.5,
          534,
          5.7,
          65.8,
          42.1,
          91.1,
          9.9,
          11.4,
          2.2,
          3.2,
          5.8,
          34.5,
          6.8,
          21.2,
          3,
          19.8,
          421.1,
          33.8,
          35.2,
          19.6,
          7.3,
          61.7,
          3.4,
          3.1,
          66.3,
          11,
          10.3,
          15.2,
          24.9,
          12.4,
          5,
          2.6,
          131.8,
          20.6,
          3.3,
          11.1,
          6.3,
          18.8,
          22.2,
          57.2,
          39.7,
          27.5,
          39.1,
          3.9,
          8.3,
          13.9,
          20.9,
          15.7,
          2.2,
          13.9,
          25.3,
          297.1,
          3.3,
          9.7,
          42.3,
          3.6,
          11.3,
          6.1,
          2.1,
          61.9,
          5,
          17.6,
          228,
          92,
          2.1,
          7.1,
          3.9,
          9,
          9.2,
          5.6,
          13.8,
          25,
          14.6,
          84.9,
          3.3,
          48.5,
          2.1,
          22.3,
          4.8,
          124.9,
          4.3,
          10,
          9.5,
          6.5,
          13.1,
          8,
          9.6,
          2.5,
          6.8,
          5.5,
          12.4,
          2.1,
          94.9,
          63.9,
          15.8,
          41.1,
          15.2,
          8,
          4.5,
          2.8,
          8.1,
          13.8,
          6.7,
          22.2,
          5.7,
          29.8,
          144.9,
          2.5,
          2.1,
          4.6,
          13.2,
          45.3,
          76.9,
          3.9,
          11,
          4.2,
          5.2,
          4.4,
          13.2,
          7.3,
          12.8,
          5.1,
          4,
          56.1,
          4.6,
          14.1,
          28.8,
          14.8,
          13.5,
          40.3,
          13.7,
          3,
          29.7,
          12.7,
          7,
          6.2,
          21.7,
          112.6,
          13.7,
          35.2,
          32.9,
          3.9,
          6.3,
          3.9,
          11.2,
          157.6,
          4,
          14.9,
          3.4,
          10.1,
          13.5,
          5.9,
          14.2,
          3.9,
          31.2,
          31.6,
          132.4,
          2.7,
          57,
          7.4,
          6.7,
          35.6,
          213.9,
          13.8,
          5.3,
          4.9,
          42.4,
          5.7,
          27.4,
          127.3,
          12,
          20.5,
          3.4,
          5.4,
          3.3,
          15.4,
          16,
          9.2,
          20.3,
          16.1,
          13.9,
          2,
          24.8,
          17.5,
          45.7,
          2.1,
          8.9,
          13,
          10.4,
          4.2,
          2,
          9.5,
          5.3,
          11,
          2.2,
          4,
          3.4,
          9.3,
          157.7,
          17.6,
          62.1,
          119.8,
          8.9,
          34.8,
          2.1,
          9.9,
          313.2,
          9.7,
          5.9,
          12.7,
          6.2,
          17.8,
          17.2,
          5.5,
          7.2,
          11.9,
          5.7,
          5.2,
          23.3,
          34.1,
          34.2,
          7.8,
          7.8,
          84.3,
          19.2,
          8,
          63.1,
          2.3,
          18,
          17,
          63.7,
          15.5,
          2.2,
          29.6,
          2.2,
          9.3,
          2.3,
          7.5,
          4.5,
          9.5,
          29.4,
          2.9,
          6.3,
          5.9,
          6.4,
          5.6,
          61.3,
          5.7,
          6.7,
          26.7,
          56.1,
          3.7,
          44.3,
          3,
          7.6,
          6.9,
          67.8,
          9.8,
          6.1,
          2.1,
          15.4,
          72.8,
          3.5,
          18.1,
          5.6,
          5.8,
          46.4,
          7.7,
          10.5,
          14.6,
          10.6,
          9.6,
          23.1,
          43.5,
          3.2,
          3.6,
          10.3,
          3.5,
          13.8,
          127.5,
          2.8,
          14.5,
          13.1,
          294.1,
          2.7,
          11.1,
          47.5,
          130,
          5.8,
          39.7,
          40.5,
          42.1,
          6.4,
          2.4,
          2.4,
          9.5,
          3,
          7,
          47.5,
          19.6,
          75.5,
          6.1,
          3.8,
          15,
          5.1,
          30.7,
          9.5,
          9.2,
          12.3,
          28.8,
          8.5,
          3.8,
          10.8,
          3.9,
          15.2,
          7.1,
          5,
          12.7,
          10.2,
          10.3,
          19.2,
          9.6,
          7.1,
          6.3,
          14.9,
          6,
          5.2,
          5.3,
          2.5,
          23.4,
          14.4,
          16.7,
          15.7,
          5.4,
          10.6,
          4.3,
          4.1,
          14.3,
          2.7,
          11.1,
          5.7,
          2.1,
          10.3,
          2.9,
          70.8,
          80.5,
          3.1,
          3.9,
          3.7,
          18.2,
          13.7,
          40.4,
          15.4,
          20.4,
          6.2,
          28,
          4.1,
          32,
          74.1,
          2.8,
          6.3,
          18.2,
          57.6,
          12.6,
          2.1,
          8.6,
          43.8,
          4.8,
          15.6,
          694.4,
          14.2,
          3.8,
          9.1,
          82.6,
          15.6,
          3.8,
          24.9,
          26.7,
          44.4,
          3.8,
          408,
          8.9,
          214.1,
          2.4,
          52.3,
          9.8,
          3.5,
          106.9,
          26,
          113,
          2.5,
          53.4,
          4.2,
          15.1,
          2.4,
          4.4,
          82,
          5,
          4.7,
          8.3,
          45.7,
          6.6,
          16.3,
          7.1,
          6.1,
          2.4,
          70.1,
          25.4,
          250.9,
          10.6,
          68.3,
          17.8,
          73.3,
          34.8,
          107.8,
          97,
          16,
          5.6,
          18.1,
          7.3,
          5.1,
          4.3,
          4.4,
          4,
          12.6,
          24.7,
          2.5,
          3.1,
          7.8,
          17.4,
          2.3,
          2.3,
          7,
          1000,
          14.6,
          50.9,
          14.1,
          86.7,
          2.4,
          5.6,
          19.4,
          17.7,
          19.8,
          9.4,
          42.2,
          9.1,
          22.2,
          2.5,
          15,
          4.9,
          17.7,
          18.1,
          5.7,
          2.5,
          218.4,
          28,
          147.5,
          37.7,
          4.5,
          15.7,
          4,
          8.9,
          39.6,
          4.4,
          23.3,
          2.3,
          5.9,
          12.2,
          733.7,
          7.2,
          24.4,
          68.4,
          21.4,
          5,
          2.1,
          20.1,
          6,
          4.3,
          14.5,
          8.4,
          5.9,
          3.3,
          80.7,
          6.9,
          4.7,
          13.7,
          4.9,
          6.9,
          2.1,
          30.5,
          16,
          17.4,
          44.9,
          10.9,
          5.9,
          1200,
          5.3,
          52.8,
          10.2,
          22,
          25.8,
          56.4,
          43.3,
          68.2,
          2.4,
          22.3,
          13.5,
          27.7,
          3.4,
          95.7,
          34.9,
          23.2,
          3.7,
          62,
          13.7,
          3.8,
          33,
          9.8,
          73.9,
          23.3,
          10.9,
          7.5,
          7.8,
          4.2,
          13.4,
          9.5,
          28.3,
          106.2,
          30.2,
          3.5,
          10.9,
          15.7,
          17.8,
          3.6,
          7.1,
          2.4,
          10.7,
          4.8,
          22.9,
          7.5,
          2.9,
          4.1,
          2.7,
          15.8,
          9.2,
          2.7,
          195.8,
          2.5,
          8.8,
          3.2,
          35.3,
          205.7,
          2.2,
          14.4,
          3,
          6,
          27.7,
          29.4,
          3,
          6.5,
          35.9,
          1100,
          83.9,
          16.8,
          2,
          8.6,
          2.9,
          6.3,
          17.9,
          40.4,
          43.3,
          3.4,
          9.6,
          132.1,
          8.1,
          12.2,
          12.3,
          11.3,
          5.5,
          16.2,
          14.3,
          9.3,
          14.6,
          7.8,
          3.8,
          44.8,
          100.5,
          9,
          12.4,
          4.7,
          44.3,
          63.8,
          90.1,
          3.6,
          24.5,
          9.3,
          97.1,
          63.9,
          5.3,
          24.8,
          7.5,
          24.7,
          14,
          42.3,
          4.7,
          4.2,
          2.9,
          2.6,
          19.4,
          5.5,
          7,
          8,
          12.1,
          27.1,
          2.6,
          14.6,
          13.7,
          188.1,
          107.9,
          4.8,
          3.5,
          12,
          4.2,
          3.1,
          1700,
          5.1,
          2.2,
          12.4,
          58.7,
          14.4,
          19.8,
          45.8,
          12.2,
          14.1,
          5.1,
          37,
          4.9,
          2.3,
          3.5,
          9.8,
          3,
          3,
          47,
          4.8,
          12.2,
          6.5,
          2.6,
          78.3,
          9.1,
          26.6,
          3,
          33.9,
          85.4,
          2.9,
          6.3,
          16.5,
          20.2,
          69.8,
          3.4,
          29.8,
          6,
          12,
          37.1,
          47.6,
          13,
          4.1,
          12.8,
          35.4,
          30.5,
          6.6,
          23.7,
          6,
          4.1,
          13.7,
          25.6,
          2.5,
          2,
          67.8,
          68.3,
          9.6,
          10.7,
          8.8,
          7.9,
          25,
          14.5,
          39.6,
          8.9,
          4,
          92.8,
          28.4,
          3.1,
          4.9,
          8.3,
          15.9,
          4.9,
          12.8,
          195.7,
          8.8,
          9.7,
          60.5,
          21.8,
          26.5,
          26.7,
          66.8,
          46.2,
          152.3,
          3.3,
          20.3,
          5.7,
          4.4,
          33.1,
          3.4,
          35,
          16.5,
          8.1,
          3.6,
          31.7,
          115,
          4.3,
          4,
          3.7,
          3.2,
          2.9,
          3.4,
          12,
          9.7,
          10.2,
          7.2,
          53,
          7.8,
          12.6,
          24.1,
          7,
          71.3,
          11,
          18.1,
          65.1,
          2.4,
          29.5,
          26.3,
          15.3,
          8,
          6.3,
          29.9,
          6.3,
          3.5,
          32.7,
          71.2,
          8.1,
          8.7,
          43.8,
          9.9,
          2.6,
          3.6,
          20.9,
          5.1,
          7.4,
          7.4,
          181.4,
          20,
          14.3,
          19.8,
          47.9,
          2.7,
          9.6,
          68.6,
          48.5,
          9.7,
          2.9,
          2.2,
          25.4,
          5.6,
          16.1,
          2,
          8.7,
          205.3,
          5.8,
          31.2,
          2.3,
          28.3,
          10.6,
          23.4,
          29.6,
          54.8,
          5.8,
          6.2,
          18.7,
          113.4,
          10.6,
          7.4,
          3.7,
          12.4,
          393.3,
          5.4,
          58.6,
          2.1,
          35.6,
          2.6,
          16.1,
          90.7,
          2.9,
          13.8,
          484,
          3.4,
          15.5,
          2.9,
          12.6,
          21.9,
          7.1,
          148.6,
          2.1,
          2,
          45.8,
          50.5,
          28.9,
          111.5,
          45.3,
          4.2,
          16.5,
          2.6,
          6.6,
          8.9,
          30.6,
          3.9,
          11,
          14.2,
          155.6,
          22.1,
          2.3,
          12.2,
          6.3,
          8.9,
          10.6,
          5.3,
          20.1,
          92,
          8.7,
          2,
          26.4,
          4.5,
          6.3,
          16,
          2.1,
          52,
          69.9,
          7.8,
          12,
          15,
          11.2,
          8.9,
          5,
          4.6,
          3,
          48.7,
          48.4,
          47.3,
          46.4,
          7.1,
          7.8,
          4.7,
          16.8,
          31,
          44.7,
          2.7,
          22.9,
          6.5,
          2.5,
          47.2,
          14.5,
          12.2,
          19,
          75.1,
          49.4,
          68.7,
          36.3,
          85.1,
          17.8,
          325.9,
          3.6,
          2.5,
          2.4,
          23.4,
          3.5,
          19.8,
          3.3,
          21.4,
          4.7,
          4.6,
          60.7,
          480.6,
          49.4,
          35.7,
          2.9,
          3.1,
          4.1,
          9.2,
          8.1,
          48.3,
          6.5,
          185.4,
          2.9,
          17,
          2.5,
          4.3,
          128.9,
          10.9,
          3.9,
          66.9,
          4.5,
          2.8,
          21,
          4.8,
          20,
          6.5,
          2.6,
          67.1,
          2.6,
          24.7,
          9.5,
          3,
          21.1,
          17.2,
          7.7,
          14.8,
          3.4,
          24.9,
          5,
          8.5,
          205.5,
          14.1,
          29.2,
          9.2,
          14.4,
          2.1,
          17.8,
          21.8,
          7.4,
          3,
          10.8,
          3.6,
          11.1,
          14.9,
          20.6,
          5.9,
          86.2,
          88.3,
          68.2,
          10.3,
          76.1,
          5.8,
          5.4,
          10.1,
          34.2,
          194.8,
          2.9,
          42,
          3.3,
          29.3,
          5.4,
          6.3,
          3.3,
          5.3,
          16.2,
          7.1,
          8.9,
          4.6,
          4,
          23.7,
          62.8,
          43.5,
          3.7,
          8.1,
          8.3,
          31.2,
          70.7,
          33.1,
          8.3,
          4.3,
          26.8,
          6.4,
          2.3,
          74.1,
          6.1,
          8.5,
          26.1,
          3.9,
          5.5,
          3.2,
          28.9,
          5.6,
          2.3,
          45.1,
          4.5,
          11.8,
          575.1,
          5.1,
          3.5,
          6.8,
          23.5,
          7.2,
          74.3,
          10.2,
          40.7,
          305.1,
          9.1,
          2.3,
          8.1,
          15.8,
          5.8,
          12.6,
          7.7,
          28.7,
          32.8,
          107,
          11.8,
          2.9,
          10.9,
          2.2,
          4.7,
          2,
          22.7,
          2.6,
          46.1,
          3.2,
          19.6,
          18.4,
          32.1,
          18.2,
          8.5,
          45.1,
          2.9,
          66.9,
          6.7,
          514,
          12.1,
          98,
          600,
          2.2,
          372.2,
          80.6,
          188.2,
          33.7,
          2.1,
          92.4,
          11.4,
          3.8,
          24.4,
          5.7,
          102.6,
          5.3,
          33.2,
          4.3,
          7.2,
          383,
          9.1,
          6.5,
          9.3,
          15,
          18.8,
          2.3,
          3.6,
          48.6,
          24,
          2.5,
          29.5,
          29,
          41.4,
          26.7,
          209.6,
          23.9,
          9.6,
          276.7,
          17.8,
          9.2,
          29.9,
          6.8,
          27.6,
          9,
          65.9,
          25.6,
          9.2,
          31.6,
          9.4,
          6.6,
          2.7,
          14.4,
          87,
          10.6,
          3.8,
          12.6,
          3.1,
          65.5,
          11.4,
          240.8,
          66.1,
          3.8,
          20.1,
          7,
          6.4,
          990.6,
          3.4,
          30.6,
          5.2,
          14.4,
          219.6,
          178.7,
          2.3,
          6.8,
          6.4,
          1500,
          233.2,
          44.8,
          50.3,
          15.6,
          11.7,
          12.3,
          6.4,
          15.6,
          17.7,
          8.8,
          16.7,
          43.1,
          7.8,
          69.5,
          3,
          6.9,
          21.1,
          43.2,
          2,
          18.3,
          7.8,
          32.1,
          4.3,
          2,
          29.8,
          3.1,
          29.3,
          31.1,
          7.4,
          80.5,
          5.4,
          2.2,
          12.2,
          14.6,
          7.1,
          7.5,
          37.9,
          70.3,
          6.3,
          7.3,
          16.3,
          12.5,
          23,
          11.7,
          53.6,
          15,
          20.3,
          81.2,
          54.6,
          9.6,
          13.5,
          8.6,
          12,
          2.1,
          2.7,
          58.4,
          49.3,
          7.2,
          22.4,
          26.9,
          132.1,
          98.9,
          3,
          17.1,
          5.9,
          29.3,
          18.8,
          72.8,
          5,
          44.8,
          12.9,
          54.3,
          30.2,
          6.6,
          92.5,
          2.8,
          6.5,
          57.5,
          5.2,
          14.2,
          51.1,
          6.1,
          189.6,
          28.3,
          6.9,
          11.9,
          15.2,
          2.8,
          6.5,
          3.7,
          14.9,
          12.9,
          9.9,
          18.2,
          7.2,
          10.1,
          2.4,
          5.2,
          17.8,
          2.9,
          6.9,
          19.5,
          40.1,
          10.8,
          106,
          3.4,
          6,
          73.5,
          4.9,
          3.4,
          4.2,
          11.3,
          5.4,
          16.5,
          10.4,
          11.5,
          121.3,
          6.2,
          4.3,
          43.9,
          80.1,
          6,
          133.4,
          20.1,
          458,
          68.6,
          3.8,
          7.1,
          2.1,
          9.7,
          886.5,
          10.5,
          9.8,
          13.2,
          22.5,
          5.1,
          75.4,
          4.6,
          14.6,
          9.5,
          49.6,
          10.9,
          5.3,
          12.6,
          114.6,
          2.3,
          49.3,
          70.8,
          22.7,
          34.8,
          4.3,
          5.6,
          14.9,
          9.5,
          72.1,
          14.8,
          52.3,
          237.6,
          7.7,
          10,
          7.1,
          8.4,
          2.2,
          9.6,
          2,
          2.1,
          61.7,
          10.6,
          6.4,
          10.6,
          13.6,
          7.7,
          3.6,
          15.2,
          93.6,
          17.4,
          13.7,
          18.2,
          15.5,
          3,
          95.4,
          72.6,
          25.9,
          5.4,
          3.3,
          6.1,
          7.5,
          6.5,
          3.3,
          4.6,
          4,
          11.6,
          16.1,
          2.7,
          17.6,
          28,
          3.3,
          16.7,
          17.2,
          3.5,
          4.6,
          18.9,
          3.4,
          8.2,
          2.3,
          18.9,
          56.4,
          355.3,
          6,
          96.6,
          5,
          22.9,
          5.5,
          51.7,
          117.9,
          14.5,
          17.4,
          37.1,
          8.1,
          34.5,
          11.2,
          6.2,
          36.5,
          26.8,
          4.4,
          4.9,
          983.3,
          3.9,
          7.7,
          182.3,
          7.1,
          165.6,
          4.5,
          4.1,
          5.5,
          11.6,
          12.9,
          18.3,
          14.4,
          6.2,
          3.8,
          4,
          58.3,
          20.5,
          3.6,
          7.7,
          6.2,
          2.1,
          2.3,
          30.3,
          8.7,
          10.4,
          3,
          4.6,
          19.6,
          320.2,
          12.2,
          21.7,
          19.7,
          4.7,
          4.3,
          3,
          5.2,
          9.6,
          84.1,
          42.3,
          87.2,
          3.9,
          2.5,
          5.5,
          3.4,
          3,
          11.4,
          10.5,
          17.3,
          7.3,
          7.3,
          7.8,
          20.5,
          9.8,
          2.3,
          15.9,
          20,
          6.1,
          8.3,
          11.2,
          6.5,
          75,
          138.8,
          6.1,
          30,
          5.8,
          9.7,
          4.6,
          10.6,
          30.1,
          7.8,
          54.8,
          108.4,
          5.1,
          84.7,
          2.3,
          11.5,
          15.9,
          166.5,
          5.1,
          24.9,
          5.1,
          32.7,
          3.2,
          7.3,
          30.3,
          66.3,
          92.7,
          21.1,
          68.5,
          4.5,
          10.9,
          12.7,
          5.5,
          3,
          2.3,
          2.2,
          3.1,
          21.7,
          31.2,
          2300,
          5.9,
          13,
          2.5,
          19.3,
          12.5,
          15.9,
          2.2,
          4,
          10,
          14.2,
          16.2,
          4.2,
          33.2,
          3.9,
          2.5,
          3.3,
          9.4,
          9.5,
          15.2,
          3,
          31.3,
          91.8,
          4.3,
          7.1,
          40,
          4.4,
          88.4,
          23.7,
          6.4,
          9,
          2.1,
          37.9,
          219.8,
          23.7,
          16.5,
          22.7,
          2.1,
          54.9,
          73.2,
          32.3,
          26.6,
          4.3,
          50.7,
          5.7,
          3.8,
          11.1,
          3,
          117.6,
          17.4,
          3.9,
          10.8,
          11.9,
          2,
          29.5,
          154.1,
          49.9,
          17.4,
          257.3,
          15.3,
          14.7,
          4,
          8.3,
          2.2,
          13.8,
          32.3,
          6.3,
          65.1,
          21.2,
          8.8,
          7.5,
          19.8,
          14.1,
          4.2,
          25.7,
          15.7,
          8.3,
          32.2,
          7.8,
          10.5,
          3,
          262,
          7.4,
          12.2,
          5.7,
          1000,
          3.4,
          45.3,
          22.2,
          30.3,
          33,
          5.2,
          69.3,
          3.2,
          11,
          2.5,
          36.9,
          2.4,
          78.5,
          69.9,
          26.9,
          8.2,
          8.5,
          4.1,
          54.5,
          7.3,
          64.5,
          31.8,
          9.2,
          5.5,
          30.3,
          4.8,
          97.8,
          63.7,
          83.1,
          28.7,
          11.1,
          4.3,
          177.6,
          34,
          12,
          55.7,
          5.7,
          11.6,
          12.6,
          4.2,
          47,
          35.5,
          6.5,
          3.6,
          4.6,
          369.4,
          6,
          2.9,
          10.8,
          25.7,
          15.4,
          43.7,
          9.2,
          113.4,
          6.8,
          5.4,
          8.4,
          4,
          10.4,
          4.4,
          282.3,
          2.2,
          10.4,
          5.2,
          2.5,
          11.6,
          23.1,
          7.5,
          70.5,
          2.1,
          218.1,
          6.7,
          8.8,
          3.8,
          10.1,
          2.1,
          4,
          10.2,
          4.9,
          7.9,
          4.5,
          26.4,
          78.7,
          6.8,
          24.1,
          97.2,
          17.3,
          5.8,
          4,
          18.3,
          4600,
          3.3,
          21.7,
          8.8,
          30,
          94.2,
          2.5,
          8.6,
          4.3,
          23.9,
          3.6,
          16.8,
          17.5,
          12.5,
          3.1,
          12.8,
          7.6,
          2.3,
          3.5,
          26.3,
          16.8,
          44.3,
          159.5,
          19.9,
          30.3,
          2.6,
          22.9,
          11.2,
          5.8,
          12.8,
          38.8,
          14,
          3.8,
          42.9,
          42.4,
          2.4,
          35.5,
          93.2,
          9.7,
          10,
          9,
          28.5,
          11.8,
          20.6,
          424.4,
          60.5,
          2.4,
          46.4,
          434.3,
          3.1,
          3.5,
          3,
          8.6,
          2.5,
          9.3,
          70.5,
          6,
          3.3,
          2.8,
          64.2,
          3.5,
          434,
          6,
          7.3,
          7.3,
          18.1,
          64.8,
          21.9,
          3.8,
          6.4,
          13,
          14.1,
          11.5,
          6,
          2.8,
          5400,
          5.4,
          2.6,
          12.4,
          22.1,
          18.8,
          9.1,
          12,
          36.4,
          104.1,
          704.4,
          192.4,
          3.6,
          15.4,
          3.7,
          3.3,
          6.2,
          17.4,
          2.3,
          10.9,
          23.7,
          30.2,
          8.2,
          2.9,
          5.8,
          16.2,
          25,
          3.5,
          15.5,
          3.7,
          2.9,
          105.3,
          24,
          8.3,
          418.9,
          17.6,
          5.8,
          7.4,
          21.9,
          75.6,
          2,
          21.1,
          3.6,
          5.8,
          3.5,
          11.1,
          4.2,
          7.6,
          4.8,
          2.4,
          11.4,
          30.2,
          29.4,
          20,
          107.5,
          2.6,
          7,
          7,
          36.5,
          11,
          7.1,
          109.7,
          4.6,
          71,
          15.9,
          10,
          9.3,
          43.1,
          2600,
          4.2,
          2.9,
          4.8,
          33,
          111.4,
          28.2,
          4.2,
          9.7,
          46.1,
          4.5,
          3.2,
          8.4,
          46.1,
          4.3,
          4.2,
          5.8,
          53,
          13.9,
          16.8,
          13.6,
          18.5,
          54.5,
          8.8,
          11.2,
          5.7,
          38,
          4.3,
          9.8,
          2.6,
          2.7,
          9.8,
          12.1,
          4.4,
          3.6,
          21.9,
          197.2,
          17.8,
          9.3,
          5.3,
          23.5,
          292.1,
          4,
          62.1,
          2.3,
          6.8,
          15.3,
          2.7,
          12.4,
          16.4,
          10.9,
          5.2,
          14.9,
          6.2,
          210.4,
          15.1,
          2.7,
          58.8,
          57.1,
          374.5,
          3.4,
          41.3,
          27,
          23.7,
          2.9,
          66.7,
          2.6,
          2.3,
          38.1,
          35.1,
          5.2,
          30.6,
          11.5,
          109.6,
          2.5,
          2,
          4.1,
          82.8,
          2.8,
          4.3,
          76.1,
          11.7,
          11.1,
          2.2,
          2.5,
          348.1,
          2000,
          32.3,
          8.5,
          23.4,
          4,
          2.6,
          3.3,
          9,
          37.7,
          67,
          57.7,
          3.7,
          24.2,
          7.2,
          21.6,
          7.5,
          108.4,
          106,
          3.3,
          7.8,
          51.5,
          6.2,
          2.6,
          2.9,
          27.7,
          12.8,
          11.6,
          34,
          40.7,
          7.5,
          6.5,
          119.4,
          3.3,
          10.9,
          38.8,
          33.8,
          14.7,
          5.5,
          4.4,
          10.3,
          10.3,
          85.3,
          27,
          110.9,
          4.1,
          52.6,
          6.1,
          8.6,
          4.6,
          97.7,
          10.9,
          50.2,
          60.9,
          6,
          3.5,
          59.4,
          10.4,
          2.7,
          26.7,
          50.7,
          10,
          77.9,
          2.1,
          26,
          21.3,
          28.5,
          3,
          2.3,
          9.9,
          110.6,
          13.4,
          8.6,
          7,
          167.6,
          7.9,
          22.3,
          5.3,
          7.8,
          85.5,
          6.1,
          15.8,
          72.9,
          42.3,
          2.6,
          56.2,
          37.2,
          3.6,
          14.6,
          7,
          6.3,
          250.5,
          17.3,
          23.3,
          43.1,
          37.3,
          3.8,
          7.8,
          10.6,
          81.5,
          16.8,
          474.7,
          2.7,
          15.2,
          2.9,
          10.2,
          4.1,
          4.4,
          41.3,
          2.4,
          11.7,
          9.3,
          31.8,
          9,
          40.4,
          2.7,
          5.7,
          2.4,
          11.3,
          11.2,
          7.4,
          516.8,
          55.7,
          14,
          33,
          11.9,
          126.2,
          783.9,
          3.7,
          33.6,
          10.7,
          5.9,
          649.1,
          6.2,
          7.9,
          65.8,
          7.5,
          15.9,
          8.4,
          66.5,
          3.4,
          8.9,
          102.9,
          4.1,
          114.6,
          21.3,
          17.2,
          21.9,
          3.5,
          38,
          162.4,
          10.5,
          18.5,
          11.4,
          6.4,
          3.2,
          61.2,
          4.1,
          10.7,
          7.3,
          5.8,
          10.7,
          2.8,
          4.4,
          15.4,
          164.9,
          23.7,
          3.8,
          4.9,
          2.3,
          27.8,
          57.3,
          8.4,
          116.3,
          2,
          6.3,
          4.6,
          3.6,
          4,
          9.4,
          67.4,
          6.6,
          4.8,
          15.4,
          161.4,
          6.5,
          23.3,
          16.9,
          105.8,
          36.3,
          4.7,
          7.6,
          61.8,
          3.8,
          20,
          4.2,
          5.7,
          2.4,
          31.4,
          47.2,
          11.3,
          405.4,
          5.4,
          15.3,
          13.8,
          60.3,
          7.2,
          2.9,
          46.9,
          7.4,
          6.1,
          4.2,
          2.4,
          3.4,
          5.2,
          5.2,
          5.2,
          226.8,
          23.6,
          9,
          14.5,
          2.8,
          13.5,
          16.3,
          24.4,
          5,
          12.3,
          99,
          29.4,
          446.5,
          65.6,
          11.6,
          2.6,
          59.5,
          2,
          11.5,
          2.5,
          69.9,
          50.3,
          22.5,
          26.1,
          3.5,
          7.2,
          7.5,
          2.7,
          2.6,
          17.3,
          12.2,
          3.2,
          10.1,
          10.6,
          4.6,
          2,
          91.4,
          28.8,
          31.1,
          36,
          10.4,
          4.2,
          2.2,
          3.3,
          19.3,
          2.2,
          22.5,
          10.2,
          29.2,
          2.7,
          87.5,
          3,
          7.8,
          10,
          8.5,
          5.1,
          76.3,
          10.6,
          10.1,
          319.5,
          5.2,
          6,
          11.9,
          5.6,
          9.1,
          7.9,
          5,
          110.2,
          67.1,
          6.8,
          20.3,
          13.8,
          85.6,
          4.1,
          9.6,
          4.4,
          11.7,
          14.5,
          7.8,
          2.3,
          11.9,
          6,
          10.8,
          14.9,
          8,
          44.8,
          23.4,
          4.4,
          15.1,
          2.6,
          4.1,
          23,
          21.9,
          15,
          124.8,
          8.6,
          3.4,
          10.4,
          10.8,
          203.4,
          73.5,
          4.6,
          51.2,
          11.3,
          2.7,
          13.1,
          20.8,
          18.7,
          12.9,
          2.4,
          27.3,
          46.5,
          11.6,
          2.7,
          6.6,
          11.7,
          2.8,
          3.7,
          3,
          60.3,
          3.5,
          4.9,
          2200,
          10.6,
          2.7,
          36,
          5.1,
          23,
          8.6,
          2.8,
          191.1,
          15,
          64.5,
          56.7,
          2.5,
          6.1,
          2,
          15,
          69,
          2.7,
          12.2,
          109.5,
          7.6,
          20.5,
          6.6,
          2.5,
          52.5,
          29.3,
          2.3,
          2.9,
          20,
          1000,
          123.9,
          114.2,
          52.2,
          19.3,
          27.8,
          3.7,
          8.5,
          17.2,
          14.9,
          5.1,
          8.5,
          2.9,
          4.7,
          11.4,
          19.2,
          2.4,
          7.6,
          94.8,
          19.7,
          5.1,
          19.3,
          79.7,
          242.5,
          10.3,
          8.1,
          5.5,
          10.7,
          19.4,
          83.5,
          39.3,
          5,
          39.3,
          5.7,
          16.1,
          63,
          35.3,
          4,
          27.7,
          120.1,
          20.7,
          7.6,
          7,
          7.9,
          692.5,
          11.9,
          19.2,
          28.3,
          13.8,
          2.2,
          16.4,
          7.3,
          48.8,
          9.9,
          66,
          4.3,
          97.6,
          492.6,
          3.6,
          3,
          2.2,
          4.2,
          132.9,
          4.9,
          2.8,
          4.1,
          7.5,
          25.3,
          84.8,
          4.5,
          68.6,
          4.9,
          10.9,
          25.7,
          12.7,
          42.3,
          103.8,
          43.1,
          16.3,
          26.1,
          5.8,
          2.1,
          2.4,
          2,
          70.7,
          18.1,
          10.5,
          8.7,
          12.7,
          125.7,
          7.4,
          2.3,
          29.3,
          53.1,
          7.3,
          123.6,
          570,
          11.1,
          16.6,
          7.7,
          13.9,
          3.6,
          106.5,
          3.6,
          5.4,
          13.6,
          6,
          22.5,
          4.5,
          2,
          27.9,
          6.2,
          11.7,
          12,
          24,
          32.7,
          4.9,
          89.3,
          9,
          3.2,
          23.7,
          23,
          5,
          7.3,
          11.7,
          8,
          7,
          872.1,
          13.3,
          12.3,
          43.4,
          275.4,
          2.4,
          28.3,
          3.8,
          20.3,
          8.4,
          7.1,
          9.2,
          45.1,
          11.2,
          8.6,
          69.3,
          5.5,
          22.3,
          15.5,
          23.4,
          802.6,
          3.7,
          19.5,
          99.3,
          6,
          41.5,
          22.8,
          23,
          3.1,
          4.9,
          14.5,
          36.6,
          10.3,
          62.5,
          6.7,
          18.9,
          151.4,
          9.8,
          10.2,
          2.3,
          18.8,
          4.7,
          4.1,
          52.6,
          12.3,
          21.6,
          53.7,
          15.3,
          73.7,
          6.5,
          10.7,
          17.7,
          2,
          9.9,
          8.2,
          4,
          14.9,
          17.8,
          8.3,
          28.5,
          8.1,
          22.1,
          17.2,
          44.7,
          2.2,
          26.7,
          17.6,
          74.1,
          22.1,
          55.6,
          3.6,
          16.7,
          54.6,
          5.4,
          3.2,
          9.4,
          19,
          42.6,
          3.5,
          15.2,
          2.3,
          34.3,
          12.8,
          7.6,
          8.5,
          5.4,
          16.6,
          25.4,
          5.7,
          10.3,
          10.3,
          16.2,
          96.4,
          41.6,
          3.9,
          4.2,
          2.8,
          2,
          2.7,
          8.8,
          22.2,
          8.6,
          2.3,
          113.4,
          20.2,
          52,
          11.5,
          17.9,
          4,
          34.7,
          18.4,
          14.1,
          12.1,
          18.1,
          11.5,
          30.6,
          3600,
          21.7,
          98.9,
          20.9,
          3.1,
          6.5,
          3.8,
          49.5,
          50.7,
          8.4,
          18.7,
          25.3,
          10.8,
          10.9,
          4.8,
          25.2,
          8.2,
          10.7,
          28.4,
          203.7,
          166.4,
          10.8,
          27.1,
          2.1,
          7.8,
          21.2,
          2.1,
          41.7,
          6.8,
          9.2,
          3.9,
          141.4,
          349.9,
          16.3,
          10.9,
          15.7,
          29,
          4.5,
          11.2,
          5,
          2,
          3.7,
          4.4,
          84.3,
          37.7,
          22.7,
          19.2,
          29.5,
          7.7,
          201.1,
          8.8,
          11.3,
          45.8,
          5.6,
          7.9,
          5.6,
          3.9,
          22.9,
          10.4,
          24.8,
          3.4,
          7,
          18,
          213.2,
          15.1,
          53,
          11.3,
          178.7,
          64.9,
          22.8,
          82.6,
          8.1,
          24.4,
          3.9,
          4.6,
          5.3,
          2.5,
          10.6,
          8.6,
          9.4,
          28,
          5.8,
          11.7,
          48.9,
          4.1,
          28.4,
          50.1,
          5.9,
          3.8,
          68.3,
          19.3,
          31.4,
          4.3,
          4.5,
          2.5,
          49.3,
          22.1,
          33.1,
          4.4,
          2.6,
          738.2,
          7.2,
          3.7,
          12.5,
          193.3,
          11,
          2.6,
          2.8,
          37.6,
          12.5,
          8.2,
          2.6,
          29.2,
          155.5,
          4.2,
          2,
          3.3,
          4.2,
          49,
          13.5,
          5.6,
          7.9,
          17,
          12.8,
          17.6,
          4.6,
          20,
          113.3,
          91.8,
          2.9,
          427.6,
          11.8,
          37.8,
          257.2,
          82.9,
          12.5,
          13.3,
          61.4,
          113.5,
          24.2,
          2.7,
          2.3,
          2.6,
          3.8,
          37.3,
          4.5,
          62.2,
          10.7,
          2.6,
          9.7,
          522.6,
          15.2,
          15.9,
          6.8,
          29.5,
          41.4,
          8,
          2.8,
          2.5,
          2.6,
          101.1,
          24.3,
          183.3,
          4,
          13.1,
          3.7,
          2.4,
          5.3,
          5.9,
          21.1,
          3,
          10.9,
          20.4,
          28.8,
          4.9,
          4.5,
          2.8,
          10.3,
          49,
          35.2,
          7.1,
          27.7,
          134.8,
          11.4,
          1500,
          15.8,
          76.6,
          10.2,
          17.1,
          3.4,
          17.9,
          42.3,
          1100,
          4.6,
          10.3,
          25.4,
          157.5,
          21.5,
          4.9,
          8,
          32.3,
          5,
          520.1,
          14.5,
          17,
          3.2,
          7,
          6.8,
          2.8,
          2.4,
          2.5,
          9.9,
          26.5,
          10.5,
          19.7,
          4.1,
          8.4,
          13.1,
          2.1,
          2.5,
          152.5,
          4.8,
          20.7,
          21.7,
          4.3,
          21.2,
          50.6,
          201.1,
          4.2,
          11.6,
          3.1,
          8.3,
          4.4,
          285.6,
          81.2,
          33.1,
          8.5,
          14.2,
          2.9,
          5,
          11.1,
          30.4,
          10,
          12.2,
          3.2,
          34.7,
          51.4,
          15,
          6,
          15.7,
          3.1,
          19.9,
          8.6,
          101.4,
          151.6,
          7.7,
          4,
          16.9,
          35.6,
          21.1,
          199.8,
          2.9,
          4.7,
          7.9,
          6.5,
          7.4,
          11.1,
          19.2,
          18.3,
          2.2,
          5.2,
          7.7,
          22,
          2.5,
          9.4,
          42.5,
          60.4,
          2.2,
          7.8,
          6,
          86.4,
          3.7,
          7.8,
          27.1,
          12.6,
          10.2,
          2.1,
          7.2,
          3.2,
          101.6,
          23.1,
          4,
          36.6,
          15.2,
          20.3,
          4.1,
          7.4,
          2.2,
          3.1,
          15.2,
          3.1,
          7.5,
          3.3,
          3.1,
          33.2,
          28.1,
          2.2,
          19.3,
          19.9,
          5.3,
          30.2,
          13.2,
          14.5,
          16.6,
          5.2,
          13.6,
          6.6,
          17.6,
          3900,
          360.8,
          5.1,
          101.4,
          21.6,
          7.4,
          74.5,
          120.5,
          73,
          24.4,
          17.8,
          7.3,
          2.7,
          27.1,
          9.7,
          15.7,
          4.5,
          62.1,
          46.8,
          6.5,
          22.5,
          54.9,
          220.3,
          38.1,
          27.4,
          2.3,
          9.4,
          4.2,
          119.1,
          4.2,
          35.7,
          509.9,
          7.7,
          15,
          3.3,
          22.7,
          660.5,
          100.9,
          3.9,
          180.5,
          4.4,
          1100,
          4.1,
          60.7,
          23.4,
          5.4,
          13.9,
          1400,
          18,
          34.9,
          48.3,
          6.5,
          21.3,
          16.5,
          8,
          57.7,
          7.4,
          104,
          2.2,
          33.8,
          4.8,
          2.1,
          3.6,
          20.5,
          6.1,
          9.3,
          2,
          93,
          154.4,
          15.8,
          11.6,
          29.7,
          8.8,
          4.5
         ],
         "xaxis": "x",
         "y": [
          36680.3882,
          30547.9317,
          23880.4852,
          21849.8925,
          18166.407,
          14183.4118,
          13480.731,
          12700.6588,
          12564.5364,
          11996.2964,
          11949.179,
          11632.8771,
          11622.5291,
          10561.7147,
          10175.7553,
          9753.201,
          9265.2406,
          9179.3319,
          8656.9532,
          8543.9808,
          8327.0956,
          8282.8668,
          7965.9741,
          7926.4244,
          7478.1478,
          7426.8072,
          7329.3794,
          7301.3354,
          7045.3631,
          6900.2519,
          6870.9856,
          6641.6793,
          6492.7884,
          6388.3661,
          6382.9368,
          6337.2973,
          6287.4646,
          6176.6896,
          6145.4572,
          6134.3502,
          6055.9447,
          6017.8863,
          5935.6786,
          5852.2149,
          5835.3894,
          5768.1833,
          5638.3886,
          5638.0311,
          5634.3141,
          5484.3682,
          5449.642,
          5416.8842,
          5059.5724,
          4978.2688,
          4971.4549,
          4916.2167,
          4908.4033,
          4899.0269,
          4838.0226,
          4820.2665,
          4730.0523,
          4469.2113,
          4442.2488,
          4430.138,
          4405.2286,
          4401.8691,
          4345.779,
          4322.5573,
          4308.7444,
          4283.2753,
          4281.4016,
          4279.7746,
          4266.8158,
          4246.751,
          4233.6744,
          4207.8615,
          4138.1126,
          4090.7424,
          4089.6557,
          4088.016,
          4035.1825,
          3839.842,
          3778.5391,
          3775.1386,
          3727.5346,
          3692.351,
          3683.6824,
          3665.0612,
          3623.0563,
          3534.7663,
          3531.5913,
          3469.3889,
          3417.6308,
          3399.5282,
          3387.6552,
          3371.028,
          3357.7038,
          3350.0091,
          3339.6237,
          3325.7138,
          3307.1657,
          3279.2231,
          3244.549,
          3215.1141,
          3210.2557,
          3205.607,
          3201.1488,
          3178.6799,
          3135.6529,
          3134.4692,
          3099.3348,
          3051.3322,
          3050.0025,
          3031.4203,
          3026.3532,
          3023.1328,
          2994.2888,
          2957.353,
          2938.5449,
          2911.1746,
          2872.1059,
          2861.2369,
          2812.6796,
          2804.9504,
          2795.4057,
          2781.5682,
          2773.5884,
          2742.6432,
          2729.3507,
          2728.9886,
          2704.9665,
          2696.6319,
          2694.3302,
          2689.6148,
          2678.5391,
          2668.0059,
          2657.4127,
          2635.922,
          2633.9525,
          2623.9495,
          2620.7598,
          2618.0195,
          2603.3871,
          2596.3186,
          2578.6272,
          2564.3741,
          2555.657,
          2540.4145,
          2525.5636,
          2514.3021,
          2506.9262,
          2482.3452,
          2482.1293,
          2474.5437,
          2470.116,
          2465.5724,
          2417.9715,
          2415.7359,
          2412.1029,
          2391.8563,
          2383.9486,
          2370.3591,
          2358.2483,
          2356.7776,
          2354.4235,
          2345.0086,
          2339.9302,
          2313.8369,
          2305.0499,
          2276.0888,
          2274.4095,
          2262.8641,
          2248.4713,
          2240.0028,
          2235.9439,
          2233.8331,
          2230.9276,
          2205.1824,
          2171.9647,
          2155.4069,
          2142.2695,
          2142.0754,
          2138.2034,
          2122.6612,
          2116.411,
          2112.1974,
          2107.0365,
          2100.9602,
          2099.2097,
          2097.5285,
          2095.6151,
          2081.8945,
          2077.0156,
          2076.8839,
          2068.4929,
          2047.1979,
          2037.4483,
          2037.0893,
          2029.6606,
          2026.9981,
          2018.2299,
          2013.474,
          2007.0456,
          2004.3858,
          1996.5182,
          1987.4327,
          1972.0257,
          1967.9181,
          1963.2293,
          1952.8258,
          1944.0214,
          1939.8376,
          1938.0352,
          1924.2817,
          1918.6756,
          1917.0019,
          1915.1007,
          1914.7356,
          1905.462,
          1901.165,
          1882.7744,
          1882.0257,
          1877.5153,
          1851.6306,
          1843.5572,
          1838.3239,
          1820.781,
          1813.5417,
          1808.729,
          1802.2541,
          1797.1431,
          1797.0416,
          1795.6922,
          1792.335,
          1790.0996,
          1789.8022,
          1786.4145,
          1781.0661,
          1775.3905,
          1765.6791,
          1763.0807,
          1759.1475,
          1738.1728,
          1733.9362,
          1732.6297,
          1729.3981,
          1726.7615,
          1723.8604,
          1713.4616,
          1710.2375,
          1702.6456,
          1700.1602,
          1699.3732,
          1692.6066,
          1692.6046,
          1685.8634,
          1681.6204,
          1677.2331,
          1672.8297,
          1666.4879,
          1661.7406,
          1653.9969,
          1653.441,
          1651.5508,
          1650.6419,
          1650.1408,
          1648.4583,
          1636.3737,
          1634.6901,
          1627.4742,
          1621.7206,
          1621.3485,
          1609.4897,
          1606.1159,
          1600.7611,
          1600.2495,
          1599.4678,
          1572.0504,
          1569.6045,
          1567.7859,
          1558.2846,
          1554.4394,
          1553.7539,
          1553.3569,
          1549.3843,
          1549.2845,
          1545.2613,
          1541.2816,
          1539.2442,
          1522.1528,
          1521.8605,
          1519.3447,
          1517.8234,
          1515.7374,
          1515.61,
          1514.6812,
          1508.6474,
          1507.9687,
          1505.6426,
          1501.0992,
          1496.3723,
          1493.1967,
          1488.4058,
          1487.4149,
          1482.0707,
          1480.2849,
          1472.3901,
          1469.7828,
          1469.3517,
          1468.3845,
          1467.1741,
          1464.4641,
          1460.6844,
          1458.0882,
          1455.2822,
          1454.4017,
          1449.1161,
          1447.5149,
          1444.5616,
          1444.146,
          1437.6078,
          1434.9543,
          1433.9761,
          1426.4898,
          1423.6886,
          1423.4909,
          1423.4062,
          1417.8894,
          1408.6405,
          1408.0842,
          1407.5846,
          1405.9213,
          1405.0606,
          1404.0037,
          1399.7156,
          1398.2576,
          1386.454,
          1385.4507,
          1379.7109,
          1373.0107,
          1358.9993,
          1354.314,
          1347.2415,
          1344.2615,
          1332.9945,
          1329.1787,
          1327.8114,
          1326.3002,
          1323.2632,
          1316.5718,
          1313.9536,
          1301.7557,
          1293.0075,
          1291.1366,
          1287.5316,
          1282.6274,
          1281.6939,
          1279.3186,
          1278.5516,
          1275.5934,
          1270.6676,
          1264.9067,
          1255.0319,
          1254.748,
          1252.8198,
          1248.1118,
          1247.5149,
          1240.6025,
          1240.5595,
          1240.3105,
          1237.9324,
          1232.4509,
          1231.4356,
          1228.9271,
          1226.6247,
          1226.2361,
          1225.5509,
          1220.8084,
          1220.194,
          1216.3501,
          1210.2205,
          1203.7642,
          1202.6661,
          1200.9092,
          1197.5855,
          1192.4063,
          1191.9137,
          1190.6533,
          1186.6111,
          1183.9145,
          1180.3138,
          1168.8845,
          1168.2828,
          1165.5448,
          1163.9585,
          1156.826,
          1152.1347,
          1147.2142,
          1146.9909,
          1144.3394,
          1141.9407,
          1141.8701,
          1137.2337,
          1135.5552,
          1133.4248,
          1130.9366,
          1127.9388,
          1120.9253,
          1115.2386,
          1113.4907,
          1111.7853,
          1110.7164,
          1107.6734,
          1107.0864,
          1106.5666,
          1103.3244,
          1103.0117,
          1097.3859,
          1095.0865,
          1093.3815,
          1093.3466,
          1093.325,
          1091.1066,
          1086.4821,
          1083.1819,
          1074.5554,
          1073.5922,
          1064.536,
          1056.2826,
          1052.2937,
          1047.1781,
          1046.9939,
          1046.8096,
          1045.6964,
          1044.9641,
          1043.8893,
          1043.6166,
          1043.2461,
          1041.7625,
          1040.1937,
          1034.8425,
          1033.3863,
          1031.4816,
          1031.0775,
          1030.5074,
          1022.9622,
          1021.1287,
          1018.1919,
          1014.7548,
          1013.1064,
          1006.828,
          1002.4813,
          1002.0532,
          1001.6224,
          998.0293,
          996.0228,
          992.6647,
          987.1937,
          987.0424,
          986.3578,
          983.4521,
          980.628,
          976.7611,
          971.014,
          967.5713,
          967.2683,
          966.4424,
          966.1704,
          965.3391,
          957.6592,
          957.0621,
          956.4093,
          955.4026,
          947.212,
          946.607,
          935.0348,
          926.8953,
          924.4441,
          922.4978,
          916.0994,
          916.067,
          913.7351,
          912.0135,
          910.9692,
          904.6206,
          904.3711,
          903.1891,
          902.2013,
          900.6956,
          900.4613,
          896.6761,
          895.3273,
          894.6812,
          893.627,
          890.8946,
          889.6434,
          886.8411,
          871.3972,
          870.5457,
          870.4774,
          869.749,
          868.61,
          868.2749,
          865.7977,
          864.7947,
          864.2981,
          863.2357,
          861.2496,
          857.5312,
          856.8278,
          855.3665,
          854.5555,
          854.0844,
          852.856,
          852.2349,
          850.2422,
          850.1989,
          847.9453,
          845.4617,
          844.4332,
          843.0976,
          842.3905,
          837.0901,
          836.2412,
          833.8577,
          831.3181,
          829.6204,
          828.265,
          828.0315,
          827.665,
          825.9947,
          823.9295,
          819.8336,
          818.4313,
          817.2645,
          816.7485,
          816.4544,
          816.3923,
          815.7022,
          815.1515,
          814.314,
          813.0647,
          812.0061,
          810.9293,
          810.5992,
          810.3435,
          809.8897,
          809.7795,
          809.2415,
          808.5248,
          808.4809,
          807.7741,
          805.0741,
          803.9375,
          801.4483,
          800.5729,
          800.3857,
          797.3351,
          797.0859,
          794.1834,
          794.0045,
          791.5612,
          790.1498,
          786.7496,
          785.5059,
          784.2647,
          783.7476,
          777.7151,
          775.735,
          775.2988,
          773.746,
          773.5206,
          771.864,
          771.0028,
          769.6174,
          768.6774,
          767.8871,
          767.4339,
          766.8987,
          764.9423,
          763.6905,
          762.6133,
          758.8236,
          758.5547,
          758.4798,
          758.1191,
          756.4864,
          754.7579,
          754.6554,
          754.359,
          754.0266,
          751.2444,
          750.8813,
          750.337,
          749.8904,
          746.8866,
          746.0399,
          743.5849,
          742.7843,
          741.239,
          740.0504,
          738.5102,
          736.8569,
          736.0603,
          735.7938,
          735.5436,
          733.915,
          733.3704,
          732.8446,
          732.623,
          732.344,
          729.286,
          729.1178,
          722.2024,
          720.4708,
          712.9805,
          711.9979,
          710.8545,
          710.8437,
          709.8937,
          708.7952,
          708.6687,
          707.0403,
          706.2002,
          704.6819,
          704.3524,
          703.5264,
          702.1886,
          700.3953,
          700.02,
          699.5193,
          698.5029,
          698.2601,
          697.9525,
          696.8762,
          696.4988,
          695.0535,
          693.5948,
          692.2933,
          692.0391,
          692.0203,
          690.7991,
          690.1871,
          689.5457,
          688.361,
          685.1916,
          684.8596,
          684.7804,
          682.8783,
          681.5746,
          681.5508,
          679.3988,
          674.936,
          674.378,
          670.6085,
          670.4314,
          670.0538,
          668.8791,
          667.809,
          666.0514,
          664.3395,
          662.3246,
          660.9192,
          659.9843,
          658.2401,
          656.019,
          656.0051,
          655.2979,
          654.9891,
          654.8174,
          652.8816,
          651.506,
          650.6178,
          650.2966,
          648.0427,
          646.9463,
          643.6674,
          643.6019,
          643.5607,
          642.69,
          642.6034,
          641.676,
          640.4693,
          640.11,
          640.0011,
          635.9242,
          634.9273,
          634.1945,
          633.9547,
          633.1393,
          631.9012,
          630.8158,
          630.4217,
          627.0586,
          626.1064,
          625.8506,
          625.7839,
          625.2177,
          623.8479,
          623.298,
          623.1472,
          622.0139,
          621.6625,
          620.9226,
          620.9103,
          619.7125,
          619.2346,
          617.4562,
          617.1164,
          616.911,
          616.8831,
          616.163,
          614.2655,
          613.4372,
          613.1126,
          613.1076,
          612.2378,
          611.8038,
          611.1638,
          607.5716,
          607.3219,
          607.3195,
          605.6463,
          604.6592,
          604.3646,
          604.2738,
          603.8443,
          603.3209,
          601.674,
          600.9966,
          599.3967,
          599.2022,
          597.794,
          597.6837,
          595.7518,
          592.5189,
          592.2872,
          592.0645,
          591.6533,
          591.6255,
          591.5385,
          590.3816,
          587.4915,
          587.3638,
          587.1082,
          586.8568,
          586.6863,
          586.1493,
          583.9346,
          583.4692,
          582.8266,
          581.3606,
          581.2994,
          579.3544,
          579.237,
          578.4348,
          576.9654,
          576.2506,
          575.705,
          573.113,
          572.8043,
          572.1911,
          571.4859,
          571.2179,
          569.587,
          567.2527,
          566.6401,
          565.72,
          563.6443,
          563.0819,
          561.847,
          560.5445,
          560.4876,
          559.3122,
          558.3994,
          557.8054,
          557.1783,
          556.5311,
          555.7292,
          555.3583,
          554.6188,
          553.1129,
          552.6011,
          552.48,
          551.5154,
          549.9252,
          548.9801,
          548.4485,
          548.0429,
          546.9559,
          546.2411,
          545.6584,
          545.3364,
          542.2246,
          540.5786,
          540.012,
          538.8232,
          538.46,
          537.9205,
          537.7951,
          536.1976,
          535.4847,
          533.7064,
          533.6358,
          532.7263,
          532.5056,
          531.1586,
          531.0046,
          531.0045,
          528.059,
          527.4081,
          527.2026,
          526.7678,
          525.9524,
          525.6923,
          525.5991,
          525.5163,
          523.5371,
          522.5213,
          521.8187,
          521.6785,
          521.5848,
          519.3971,
          518.3926,
          518.0285,
          517.3035,
          516.4806,
          515.5725,
          515.4058,
          512.6748,
          512.6056,
          511.9625,
          510.6547,
          510.3643,
          509.7145,
          508.6488,
          508.0951,
          507.1986,
          505.945,
          503.9739,
          503.8697,
          503.413,
          502.49,
          502.1592,
          501.614,
          501.399,
          501.0436,
          500.942,
          500.6083,
          499.687,
          499.0459,
          498.8873,
          498.2928,
          497.5185,
          497.3008,
          496.9361,
          495.9447,
          495.2494,
          495.1791,
          494.6105,
          494.5409,
          494.3132,
          493.8128,
          493.118,
          493.1149,
          491.138,
          490.5528,
          490.1865,
          489.9901,
          489.08,
          489.0084,
          488.8405,
          487.6797,
          487.119,
          486.8267,
          486.3766,
          485.6782,
          485.4499,
          485.1663,
          484.6389,
          484.589,
          483.9554,
          482.5955,
          480.6539,
          480.6391,
          478.8563,
          478.234,
          478.1969,
          477.4576,
          477.337,
          476.8776,
          476.232,
          476.0364,
          475.4508,
          473.9452,
          473.5921,
          473.5028,
          473.4922,
          473.2924,
          473.0072,
          472.8643,
          472.0827,
          470.9415,
          470.7448,
          470.2944,
          470.0645,
          469.7961,
          468.9677,
          468.8703,
          468.6064,
          466.7437,
          466.1983,
          465.9923,
          465.5175,
          464.9123,
          464.8718,
          464.8465,
          464.3846,
          463.0888,
          462.9723,
          461.0125,
          460.5518,
          459.931,
          459.2917,
          459.181,
          458.4627,
          458.3101,
          458.3096,
          458.0281,
          457.9597,
          457.8666,
          457.5408,
          457.4884,
          456.83,
          456.3699,
          456.3029,
          455.3191,
          455.2926,
          454.8189,
          453.0578,
          452.5668,
          452.5416,
          451.1012,
          450.5605,
          450.2605,
          449.3176,
          449.0669,
          448.8235,
          448.3944,
          448.2245,
          448.118,
          447.8459,
          445.9853,
          445.5394,
          445.2906,
          444.3233,
          443.686,
          443.5866,
          443.186,
          442.7456,
          442.4667,
          442.0521,
          441.4271,
          441.1344,
          440.8789,
          440.864,
          439.9906,
          438.6415,
          438.5755,
          438.3626,
          438.3482,
          437.9545,
          437.3473,
          437.2589,
          436.8432,
          436.5824,
          436.1878,
          434.3761,
          432.9008,
          432.8847,
          432.8401,
          432.2984,
          431.167,
          429.7944,
          428.7233,
          428.4207,
          428.2815,
          427.4948,
          427.4773,
          427.4387,
          427.2479,
          426.9773,
          426.938,
          426.6312,
          426.1835,
          425.3079,
          425.0665,
          424.8674,
          424.7169,
          424.6089,
          424.4421,
          424.0165,
          423.5815,
          423.5419,
          422.2351,
          421.9831,
          420.4094,
          419.5975,
          419.2767,
          419.1638,
          418.7937,
          418.6519,
          417.7541,
          416.7878,
          416.6343,
          416.275,
          416.0884,
          415.4602,
          414.6372,
          414.3056,
          413.3721,
          413.3384,
          413.2693,
          412.6321,
          412.5944,
          410.8036,
          410.4849,
          410.1151,
          409.8978,
          409.7759,
          409.5909,
          409.2259,
          408.9666,
          408.5899,
          407.7727,
          406.771,
          406.1393,
          405.695,
          405.5416,
          405.2874,
          405.0834,
          404.954,
          403.6955,
          403.4466,
          402.9689,
          400.7489,
          400.4688,
          399.7031,
          399.5549,
          399.2196,
          399.1759,
          399.0164,
          398.8996,
          398.8814,
          398.4948,
          398.3363,
          398.2465,
          397.5,
          397.3707,
          396.7941,
          395.9704,
          395.8007,
          395.0837,
          394.5644,
          393.9613,
          393.8611,
          393.7764,
          393.7102,
          393.6153,
          393.4736,
          393.3721,
          393.2515,
          392.4645,
          392.1356,
          391.504,
          390.7107,
          390.5654,
          390.4005,
          390.0143,
          389.3853,
          388.2266,
          387.6855,
          387.4513,
          387.3514,
          387.143,
          386.9726,
          386.8722,
          386.871,
          386.6766,
          386.5655,
          386.115,
          385.753,
          385.2364,
          385.0933,
          384.7675,
          384.7069,
          384.4913,
          384.4526,
          382.764,
          382.4098,
          382.0109,
          381.9331,
          381.3763,
          381.1845,
          381.1284,
          381.1018,
          379.8407,
          379.4527,
          379.0387,
          378.6085,
          378.3752,
          377.6341,
          377.4607,
          376.5794,
          376.3898,
          376.3429,
          375.5141,
          374.4754,
          373.5557,
          372.7533,
          372.3771,
          372.0843,
          371.5162,
          371.3171,
          371.2684,
          371.031,
          370.7026,
          370.6067,
          370.5057,
          370.1826,
          369.9685,
          369.7252,
          369.5461,
          369.2529,
          369.2273,
          368.8942,
          368.1372,
          367.9867,
          367.6074,
          367.1459,
          367.1438,
          366.8126,
          366.722,
          366.0507,
          365.6395,
          365.3979,
          364.5423,
          363.6765,
          363.1685,
          363.016,
          361.6793,
          361.4736,
          360.5031,
          360.3298,
          360.0022,
          359.8569,
          359.3095,
          359.2978,
          359.1663,
          359.1601,
          358.7645,
          358.507,
          357.8345,
          357.7971,
          356.8683,
          356.4651,
          356.2134,
          356.0987,
          355.7726,
          355.4454,
          355.2404,
          354.972,
          354.6374,
          354.2437,
          353.2193,
          353.1507,
          352.9544,
          352.8911,
          352.8649,
          352.6441,
          352.6062,
          352.4729,
          352.1534,
          351.8709,
          351.4951,
          351.2027,
          351.0589,
          349.9443,
          349.857,
          349.2719,
          349.2555,
          349.1156,
          348.6088,
          348.4566,
          348.4001,
          348.2961,
          347.0508,
          346.7221,
          345.8212,
          345.532,
          345.4739,
          345.2307,
          344.9416,
          344.6516,
          343.9375,
          343.089,
          342.4909,
          340.3644,
          339.9573,
          339.226,
          339.0965,
          339.0063,
          338.9351,
          338.7988,
          338.6578,
          338.4163,
          337.9921,
          337.9541,
          337.4377,
          337.2098,
          337.208,
          337.0329,
          336.8373,
          336.7548,
          336.7168,
          336.6704,
          336.3829,
          336.1923,
          335.9451,
          335.3006,
          334.9976,
          334.3362,
          334.2713,
          333.9779,
          333.9525,
          333.9365,
          333.9364,
          333.8945,
          333.3127,
          333.1697,
          333.0254,
          332.8824,
          332.6995,
          332.6485,
          332.5542,
          332.3668,
          331.9483,
          331.7701,
          331.4634,
          331.2952,
          331.2035,
          331.1737,
          330.7916,
          330.3058,
          330.0681,
          329.9085,
          329.1726,
          329.1659,
          328.779,
          328.6504,
          328.5581,
          328.3343,
          328.3131,
          327.6844,
          327.4785,
          327.4049,
          326.8245,
          326.8112,
          326.7477,
          325.0553,
          325.0092,
          324.9304,
          324.9178,
          324.8831,
          324.5026,
          324.3616,
          324.3494,
          323.8456,
          323.7072,
          323.0921,
          322.8211,
          321.4537,
          321.1734,
          321.1474,
          320.8885,
          320.7246,
          320.6436,
          320.1421,
          319.8567,
          319.8361,
          319.1362,
          319.1057,
          318.9723,
          318.799,
          318.5079,
          318.4024,
          317.8061,
          317.7998,
          317.5837,
          317.5431,
          317.4932,
          317.0854,
          317.0849,
          316.6743,
          316.657,
          316.2879,
          315.8378,
          315.7082,
          315.4124,
          315.0663,
          314.9842,
          314.7663,
          314.5068,
          314.4348,
          314.2239,
          314.1518,
          313.8497,
          313.5566,
          312.9385,
          312.4009,
          312.2632,
          312.1878,
          311.432,
          311.3495,
          311.3486,
          311.2953,
          311.0938,
          310.8667,
          310.6392,
          310.5459,
          310.5448,
          310.5055,
          310.4017,
          310.1178,
          309.9722,
          309.6931,
          309.4015,
          309.3092,
          309.0144,
          308.9261,
          308.667,
          308.6399,
          308.4684,
          308.3387,
          308.0838,
          308.0733,
          307.5541,
          307.505,
          307.4624,
          307.1926,
          306.9099,
          306.4106,
          306.2176,
          306.1344,
          306.0336,
          305.9686,
          305.9316,
          305.5026,
          305.4273,
          305.3267,
          305.2533,
          305.2056,
          305.125,
          305.1186,
          304.614,
          303.8537,
          303.3924,
          303.3579,
          302.6845,
          302.359,
          301.9811,
          301.7969,
          301.7549,
          301.415,
          301.2717,
          301.2226,
          301.1784,
          300.8732,
          300.8358,
          300.529,
          300.5084,
          300.2955,
          300.186,
          300.0359,
          299.8525,
          299.7893,
          299.5471,
          299.3963,
          299.1636,
          299.1243,
          298.8792,
          298.4585,
          298.151,
          298.0068,
          297.2431,
          296.8637,
          296.8634,
          296.7052,
          296.4662,
          296.4375,
          296.2927,
          296.2014,
          296.0168,
          295.6601,
          295.4346,
          294.5348,
          294.0566,
          293.8781,
          293.3496,
          293.29,
          292.6735,
          292.5455,
          292.5211,
          292.3206,
          292.2955,
          292.2309,
          291.9727,
          291.5537,
          291.3012,
          291.2758,
          291.1478,
          290.9538,
          290.6466,
          290.5393,
          290.3921,
          290.3784,
          290.3408,
          290.1139,
          290.0051,
          289.9913,
          289.951,
          289.4093,
          289.2561,
          288.8484,
          288.7411,
          288.547,
          288.47,
          288.2373,
          288.2353,
          287.9538,
          287.893,
          287.2273,
          287.152,
          286.8987,
          286.7228,
          286.6931,
          286.3093,
          286.2805,
          286.1744,
          285.8896,
          285.8078,
          285.6447,
          285.6183,
          285.3547,
          285.0119,
          284.8984,
          284.7077,
          284.6191,
          284.5567,
          284.4806,
          284.4409,
          284.2977,
          284.0595,
          283.8958,
          283.7179,
          283.404,
          283.3118,
          282.6742,
          282.5791,
          282.2786,
          282.1103,
          282.0311,
          281.9206,
          281.8999,
          281.8377,
          281.2014,
          281.1928,
          280.6777,
          280.2492,
          279.7128,
          279.6846,
          279.5078,
          279.3436,
          279.0461,
          278.7341,
          278.706,
          278.2223,
          277.5732,
          277.3868,
          277.3546,
          277.3421,
          277.2509,
          277.1844,
          277.1657,
          277.0195,
          276.8748,
          276.7212,
          276.3136,
          276.2503,
          276.1806,
          276.0966,
          275.9648,
          275.8319,
          275.8187,
          275.8065,
          275.7957,
          275.4455,
          275.394,
          275.2843,
          274.8519,
          274.4781,
          274.3877,
          273.9863,
          273.8055,
          273.5078,
          273.3436,
          273.222,
          273.0705,
          272.9955,
          272.7929,
          272.761,
          272.7563,
          272.6256,
          272.5326,
          272.3793,
          272.1233,
          271.7149,
          271.2381,
          270.8951,
          270.7299,
          270.6203,
          270.5739,
          270.4647,
          269.959,
          269.8546,
          269.769,
          269.7466,
          269.7282,
          269.6364,
          269.5237,
          269.4241,
          269.3934,
          269.3161,
          269.2911,
          269.1479,
          269.0533,
          269.0113,
          268.8726,
          268.6139,
          268.0698,
          267.7566,
          267.6395,
          267.5397,
          267.4302,
          267.3037,
          267.2587,
          267.1984,
          267.1003,
          267.0764,
          266.6477,
          266.6329,
          266.5826,
          266.54,
          266.4912,
          266.1833,
          265.802,
          265.1659,
          264.8044,
          264.7544,
          264.302,
          264.1889,
          263.9992,
          263.6545,
          263.4435,
          263.432,
          263.3651,
          262.7818,
          262.4791,
          262.4139,
          262.3403,
          262.3297,
          262.2721,
          262.0528,
          262.0008,
          261.9162,
          261.8632,
          261.6157,
          261.138,
          260.0219,
          259.9332,
          259.4253,
          259.3302,
          258.6108,
          258.3762,
          258.3753,
          258.2751,
          258.202,
          257.989,
          257.9007,
          257.6935,
          257.6799,
          257.3326,
          257.0561,
          257.0379,
          256.9709,
          256.8528,
          256.8116,
          256.6885,
          256.5431,
          256.4593,
          256.4165,
          256.3098,
          256.2968,
          256.1179,
          256.0751,
          255.7464,
          255.5003,
          255.4629,
          255.2655,
          255.2654,
          255.2527,
          255.1902,
          254.8132,
          254.7855,
          254.7472,
          254.6777,
          254.3539,
          254.2169,
          254.001,
          253.7806,
          253.754,
          253.562,
          253.4951,
          253.2675,
          253.2641,
          253.0606,
          252.9849,
          252.3274,
          252.1463,
          252.0455,
          251.9542,
          251.9223,
          251.711,
          251.5738,
          251.5163,
          251.5139,
          251.3436,
          251.3099,
          251.0568,
          250.6411,
          250.6396,
          250.507,
          249.8868,
          249.8268,
          249.306,
          249.2939,
          248.2284,
          248.1487,
          247.9218,
          247.8828,
          247.8524,
          247.793,
          247.68,
          247.5575,
          246.9837,
          246.8322,
          246.4922,
          246.4618,
          246.41,
          246.3106,
          246.176,
          245.9999,
          245.5337,
          245.4085,
          245.4026,
          245.3106,
          245.1527,
          244.8468,
          244.7538,
          244.2942,
          244.0306,
          243.978,
          243.8773,
          243.7707,
          243.7345,
          243.3533,
          243.1964,
          243.1715,
          242.6595,
          242.4731,
          242.4664,
          242.2893,
          242.0437,
          241.9029,
          241.8317,
          241.6266,
          241.3028,
          241.2178,
          240.8541,
          240.8317,
          240.5914,
          240.5302,
          240.2561,
          240.0401,
          239.98,
          239.828,
          239.7954,
          239.6871,
          239.3822,
          239.1147,
          239.0772,
          238.9774,
          238.7248,
          238.5077,
          238.2975,
          237.8886,
          237.8189,
          237.2617,
          237.1881,
          237.0923,
          237.0611,
          236.9447,
          236.7482,
          236.5983,
          236.5642,
          236.5454,
          236.3798,
          236.3384,
          236.2594,
          236.1341,
          236.0195,
          235.2509,
          235.0994,
          234.9963,
          234.9936,
          234.6787,
          234.5942,
          234.55,
          234.4885,
          234.2509,
          234.2438,
          233.9324,
          233.6818,
          233.6295,
          233.0868,
          232.9565,
          232.8211,
          232.7989,
          232.7181,
          232.5679,
          232.4442,
          232.4439,
          232.3691,
          232.2976,
          232.1896,
          232.1663,
          231.7625,
          231.6891,
          231.4125,
          231.3531,
          231.263,
          231.2138,
          231.2064,
          231.1668,
          231.0289,
          230.9237,
          230.8929,
          230.825,
          230.7901,
          230.7894,
          230.7441,
          230.7184,
          230.4217,
          230.2556,
          230.2228,
          230.1178,
          230.038,
          229.8936,
          229.6776,
          229.5904,
          229.5353,
          229.4744,
          229.0977,
          229.0396,
          228.9692,
          228.9616,
          228.7853,
          228.7713,
          228.655,
          228.631,
          228.5659,
          228.4546,
          228.4097,
          228.2692,
          228.1753,
          228.0277,
          227.6732,
          227.5677,
          227.3115,
          227.2141,
          226.9164,
          226.8661,
          226.6589,
          226.4683,
          226.3141,
          226.2742,
          226.2605,
          226.1369,
          225.9423,
          225.7977,
          225.6612,
          225.5824,
          225.4085,
          225.3077,
          225.1216,
          225.0945,
          225.0693,
          224.9292,
          224.5835,
          224.5095,
          224.5072,
          224.3589,
          224.1388,
          223.7307,
          223.545,
          223.5257,
          223.445,
          223.4047,
          223.1616,
          223.154,
          223.1182,
          223.1051,
          222.8809,
          222.6079,
          222.5647,
          222.3979,
          222.2068,
          221.7811,
          221.5085,
          221.4911,
          221.4819,
          221.4535,
          220.595,
          220.5689,
          220.5654,
          220.5307,
          220.431,
          220.4191,
          220.4182,
          220.1763,
          220.1159,
          219.7031,
          219.4247,
          219.3819,
          219.3589,
          218.9602,
          218.8808,
          218.7608,
          218.2137,
          218.1005,
          217.9541,
          217.9172,
          217.8708,
          217.5546,
          217.4122,
          217.0514,
          217.0427,
          217.0131,
          216.8127,
          216.8044,
          216.7725,
          216.6938,
          216.528,
          216.4773,
          216.4414,
          216.4184,
          216.0597,
          216.0474,
          215.9527,
          215.7587,
          215.4435,
          215.4069,
          215.326,
          215.142,
          214.9947,
          214.8509,
          214.8251,
          214.7387,
          214.1379,
          213.4959,
          213.2864,
          213.2499,
          213.1298,
          212.9848,
          212.9815,
          212.8964,
          212.5765,
          212.5471,
          212.2694,
          212.1506,
          212.0191,
          211.9962,
          211.7477,
          211.7181,
          211.4075,
          211.2069,
          211.1731,
          210.983,
          210.851,
          210.444,
          210.319,
          210.2371,
          210.0207,
          210.0123,
          209.612,
          209.5899,
          209.2425,
          209.2255,
          209.2065,
          209.1756,
          209.0306,
          208.9951,
          208.7608,
          208.5325,
          208.5264,
          208.4482,
          208.0175,
          207.9583,
          207.8928,
          207.8745,
          207.7844,
          207.6498,
          207.5937,
          207.415,
          207.3488,
          207.3394,
          207.2513,
          207.183,
          206.3214,
          206.233,
          206.219,
          206.1712,
          206.154,
          206.1425,
          206.1146,
          206.1056,
          206.1028,
          206.0553,
          206.0151,
          206.0046,
          205.9907,
          205.9258,
          205.8484,
          205.7924,
          205.6742,
          205.587,
          205.5716,
          205.4643,
          205.4482,
          205.4465,
          205.4294,
          205.3401,
          205.1964,
          205.036,
          204.9546,
          204.8575,
          204.8028,
          204.6828,
          204.4884,
          204.3721,
          204.3315,
          204.1812,
          204.1746,
          204.0911,
          204.0229,
          203.9826,
          203.9808,
          203.5975,
          203.4335,
          203.4088,
          203.3384,
          202.9789,
          202.8894,
          202.3411,
          202.3257,
          202.3251,
          202.265,
          202.2631,
          202.1093,
          202.0836,
          201.9266,
          201.9238,
          201.8173,
          201.7699,
          201.5518,
          201.3768,
          201.3731,
          201.2344,
          201.1783,
          201.1607,
          201.1369,
          201.1262,
          201.0986,
          200.9533,
          200.9339,
          200.879,
          200.7064,
          200.4909,
          200.3997,
          200.2889,
          200.2047,
          199.9173,
          199.771,
          199.7087,
          199.6259,
          199.622,
          199.6019,
          199.5614,
          199.5339,
          199.5137,
          199.4556,
          199.4518,
          199.4225,
          199.1208,
          199.0779,
          198.6016,
          198.5783,
          198.4644,
          198.4533,
          198.3601,
          198.3195,
          198.3176,
          198.2522,
          198.1821,
          198.1755,
          197.9975,
          197.9247,
          197.8103,
          197.8075,
          197.7221,
          197.5924,
          197.4743,
          197.2403,
          197.0512,
          196.886,
          196.7804,
          196.6976,
          196.5602,
          196.5007,
          196.385,
          196.3738,
          196.2958,
          196.0968,
          196.0406,
          196.0311,
          196.0065,
          195.9236,
          195.9043,
          195.777,
          195.7239,
          195.6733,
          195.6186,
          195.6062,
          195.5148,
          195.4403,
          195.4105,
          195.311,
          195.2038,
          195.1257,
          195.0805,
          194.976,
          194.8681,
          194.865,
          194.8307,
          194.8275,
          194.6843,
          194.6381,
          194.4515,
          194.432,
          194.2989,
          194.2851,
          194.2513,
          194.2362,
          194.2189,
          194.0644,
          193.9039,
          193.8396,
          193.8229,
          193.7634,
          193.6822,
          193.5897,
          193.4797,
          193.4243,
          193.2724,
          193.2286,
          193.1156,
          192.9173,
          192.5793,
          192.1723,
          192.0765,
          191.9722,
          191.7296,
          191.5036,
          191.4705,
          191.4405,
          191.2592,
          191.2535,
          191.2516,
          191.1625,
          191.1569,
          191.1453,
          191.0651,
          191.064,
          191.0042,
          190.9894,
          190.943,
          190.8749,
          190.8627,
          190.7293,
          190.6684,
          190.5402,
          190.3466,
          190.3227,
          190.3068,
          190.2427,
          190.2222,
          190.0437,
          189.6798,
          189.466,
          189.4074,
          189.1883,
          189.1869,
          189.0825,
          188.9922,
          188.9557,
          188.8131,
          188.805,
          188.7962,
          188.2722,
          188.182,
          188.1753,
          188.1107,
          187.9987,
          187.9416,
          187.9049,
          187.8586,
          187.699,
          187.6538,
          187.6055,
          187.4435,
          187.3804,
          187.2921,
          187.2861,
          187.2439,
          187.1201,
          186.9657,
          186.852,
          186.6821,
          186.6793,
          186.608,
          186.6005,
          186.5606,
          186.4419,
          186.3937,
          186.3924,
          186.3014,
          186.2986,
          186.2497,
          186.0986,
          186.0858,
          186.0599,
          185.9962,
          185.8796,
          185.704,
          185.6612,
          185.6176,
          185.579,
          185.5082,
          185.4668,
          185.4209,
          185.3153,
          185.2209,
          185.1698,
          185.1195,
          185.0887,
          185.0251,
          184.94,
          184.7977,
          184.7848,
          184.6833,
          184.6057,
          184.4396,
          184.4318,
          183.9998,
          183.9265,
          183.8969,
          183.8308,
          183.7609,
          183.7463,
          183.7366,
          183.6643,
          183.4288,
          183.3125,
          183.057,
          183.0092,
          182.9642,
          182.8162,
          182.7704,
          182.6927,
          182.5908,
          182.4446,
          182.2675,
          182.2059,
          182.1407,
          182.1055,
          182.0942,
          181.9956,
          181.9709,
          181.8282,
          181.6534,
          181.6211,
          181.5911,
          181.5325,
          181.4735,
          181.3528,
          181.344,
          181.2991,
          181.2501,
          180.9161,
          180.9138,
          180.7293,
          180.6656,
          180.6342,
          180.6295,
          180.3683,
          180.2205,
          180.2168,
          180.2006,
          180.1815,
          180.17,
          180.1665,
          180.1378,
          180.0317,
          179.8681,
          179.7368,
          179.731,
          179.6353,
          179.4639,
          179.4065,
          179.386,
          179.3379,
          179.2604,
          179.2005,
          179.1227,
          179.1025,
          179.0972,
          179.0592,
          178.9779,
          178.8036,
          178.5508,
          178.5316,
          178.2102,
          178.1924,
          178.187,
          178.1718,
          178.0732,
          178.0471,
          177.833,
          177.4638,
          177.3218,
          177.2607,
          177.1844,
          177.1407,
          177.0118,
          176.9799,
          176.6214,
          176.5465,
          176.3836,
          176.3145,
          176.303,
          176.2676,
          176.2292,
          176.1972,
          176.193,
          176.1723,
          176.098,
          176.0876,
          175.9615,
          175.953,
          175.9485,
          175.9365,
          175.8069,
          175.7547,
          175.6917,
          175.651,
          175.589,
          175.5882,
          175.3362,
          175.1586,
          175.153,
          175.1452,
          175.1346,
          174.9417,
          174.9318,
          174.8983,
          174.8556,
          174.7316,
          174.7078,
          174.6913,
          174.6089,
          174.5775,
          174.4377,
          174.3293,
          174.1951,
          174.1609,
          174.0715,
          174.0686,
          174.0612,
          174.0478,
          173.9427,
          173.9277,
          173.894,
          173.874,
          173.6652,
          173.6276,
          173.5947,
          173.5765,
          173.5578,
          173.4596,
          173.3507,
          173.2945,
          173.2941,
          172.9187,
          172.8228,
          172.7723,
          172.7303,
          172.6808,
          172.5962,
          172.5826,
          172.3482,
          172.3153,
          172.1399,
          172.1307,
          172.0807,
          171.785,
          171.7408,
          171.6349,
          171.4727,
          171.4122,
          171.2387,
          170.8223,
          170.813,
          170.7322,
          170.7114,
          170.5116,
          170.4854,
          170.4023,
          170.394,
          170.3795,
          170.3265,
          170.1207,
          169.7615,
          169.7369,
          169.5958,
          169.5694,
          169.4673,
          169.3183,
          169.292,
          169.1982,
          169.121,
          169.1087,
          169.044,
          168.9561,
          168.9481,
          168.9284,
          168.926,
          168.918,
          168.8311,
          168.7715,
          168.6878,
          168.6703,
          168.5778,
          168.4434,
          168.1724,
          168.0964,
          168.0456,
          167.8309,
          167.7372,
          167.6863,
          167.6785,
          167.5928,
          167.5623,
          167.5266,
          167.4842,
          167.0671,
          166.9676,
          166.9388,
          166.9168,
          166.9119,
          166.9113,
          166.815,
          166.7831,
          166.729,
          166.6508,
          166.6229,
          166.615,
          166.5394,
          166.51,
          166.3009,
          166.0374,
          165.9621,
          165.6552,
          165.6491,
          165.5447,
          165.419,
          165.2415,
          165.2288,
          165.2071,
          165.172,
          165.1328,
          165.1255,
          165.0617,
          164.9621,
          164.8509,
          164.8108,
          164.7873,
          164.7724,
          164.7297,
          164.7267,
          164.6352,
          164.6156,
          164.5876,
          164.4357,
          164.4129,
          164.357,
          164.2287,
          164.2249,
          164.2249,
          164.2011,
          163.9027,
          163.7739,
          163.7255,
          163.6364,
          163.6257,
          163.337,
          163.3271,
          163.1701,
          163.0913,
          163.0052,
          162.8056,
          162.7777,
          162.7403,
          162.573,
          162.4857,
          162.4252,
          162.3712,
          162.1778,
          162.1687,
          162.1212,
          162.121,
          161.9628,
          161.8931,
          161.8406,
          161.6764,
          161.6614,
          161.5146,
          161.468,
          161.3777,
          161.3376,
          161.2942,
          161.2685,
          161.1591,
          161.0797,
          160.8247,
          160.8007,
          160.7959,
          160.6925,
          160.573,
          160.4057,
          160.3471,
          160.1855,
          160.1446,
          159.8231,
          159.6692,
          159.601,
          159.4705,
          159.3916,
          159.2956,
          159.1645,
          159.1229,
          159.112,
          158.9605,
          158.7019,
          158.5912,
          158.4282,
          158.4255,
          158.4245,
          158.3457,
          158.3346,
          158.2823,
          158.1052,
          157.9824,
          157.7719,
          157.62,
          157.5937,
          157.5427,
          157.5186,
          157.5048,
          157.43,
          157.4243,
          157.3799,
          157.368,
          157.2547,
          157.2464,
          157.2422,
          157.2224,
          157.1549,
          157.1516,
          157.1013,
          156.9484,
          156.9089,
          156.883,
          156.8173,
          156.7945,
          156.7364,
          156.6814,
          156.5338,
          156.4915,
          156.2764,
          156.2551,
          156.2426,
          156.1807,
          155.9412,
          155.8669,
          155.7608,
          155.635,
          155.457,
          155.4306,
          155.3549,
          155.3289,
          155.0599,
          155.0395,
          154.9948,
          154.9637,
          154.8854,
          154.7342,
          154.7058,
          154.5167,
          154.4909,
          154.3741,
          154.2682,
          154.2678,
          154.252,
          154.2487,
          154.0917,
          153.9552,
          153.8836,
          153.8582,
          153.8294,
          153.7522,
          153.5039,
          153.4445,
          153.4165,
          153.3946,
          153.3623,
          153.3169,
          153.1428,
          153.0821,
          153.007,
          152.9774,
          152.9577,
          152.9066,
          152.9003,
          152.8603,
          152.7867,
          152.6224,
          152.6179,
          152.6085,
          152.5148,
          152.5056,
          152.5007,
          152.389,
          152.0012,
          151.9851,
          151.9048,
          151.8267,
          151.7942,
          151.6743,
          151.6742,
          151.6074,
          151.5135,
          151.4956,
          151.316,
          151.266,
          151.1906,
          151.1705,
          151.1653,
          151.0653,
          151.0434,
          151.0411,
          150.9189,
          150.8949,
          150.7917,
          150.5882,
          150.5843,
          150.4993,
          150.4475,
          150.444,
          150.3146,
          150.2947,
          150.2224,
          150.1244,
          150.1146,
          150.032,
          149.9132,
          149.5791,
          149.4544,
          149.4431,
          149.4428,
          149.4407,
          149.4288,
          149.4197,
          149.4059,
          149.3505,
          149.3304,
          149.1362,
          148.9459,
          148.5525,
          148.4928,
          148.4635,
          148.339,
          148.2203,
          148.2142,
          148.1372,
          148.0873,
          148.0673,
          148.0185,
          148.0169,
          147.9588,
          147.9212,
          147.912,
          147.8402,
          147.8252,
          147.8178,
          147.7643,
          147.6352,
          147.6347,
          147.5287,
          147.4986,
          147.4478,
          147.2579,
          147.1325,
          147.1256,
          147.0535,
          147.0109,
          146.8247,
          146.7541,
          146.75,
          146.5685,
          146.5483,
          146.5158,
          146.512,
          146.4923,
          146.4605,
          146.4234,
          146.0826,
          145.9663,
          145.9243,
          145.8971,
          145.5756,
          145.5754,
          145.5142,
          145.3721,
          145.3447,
          145.3407,
          145.2852,
          145.268,
          145.1172,
          145.1004,
          145.0844,
          145.0657,
          144.8759,
          144.7689,
          144.762,
          144.7564,
          144.7411,
          144.6898,
          144.6767,
          144.5171,
          144.4353,
          144.3691,
          144.2156,
          144.2019,
          143.9912,
          143.9128,
          143.8492,
          143.8305,
          143.7783,
          143.3966,
          143.3937,
          143.3398,
          143.3253,
          143.2863,
          143.257,
          143.25,
          143.2101,
          143.1478,
          143.0891,
          143.0808,
          142.9208,
          142.901,
          142.866,
          142.4716,
          142.4443,
          142.2923,
          142.2609,
          142.2247,
          142.1426,
          142.1348,
          142.1181,
          142.09,
          141.9958,
          141.8587,
          141.8129,
          141.7958,
          141.6407,
          141.4672,
          141.4342,
          141.3848,
          141.3254,
          141.2369,
          141.1902,
          141.1611,
          141.0714,
          140.9489,
          140.7727,
          140.6575,
          140.5852,
          140.5192,
          140.4279,
          140.3821,
          140.3057,
          140.1487,
          140.0473,
          139.8522,
          139.791,
          139.5585,
          139.5061,
          139.4471,
          139.373,
          139.296,
          139.1749,
          139.1491,
          139.1079,
          138.827,
          138.8064,
          138.756,
          138.6938,
          138.6355,
          138.4193,
          138.4111,
          138.3466,
          138.3366,
          138.2164,
          138.1583,
          137.76,
          137.5307,
          137.5058,
          137.4932,
          137.4793,
          137.2351,
          137.0836,
          137.0701,
          137.0602,
          137.0293,
          136.9814,
          136.8404,
          136.7699,
          136.7488,
          136.6933,
          136.6008,
          136.5445,
          136.3384,
          136.3119,
          136.2679,
          136.1473,
          136.0453,
          135.9786,
          135.9784,
          135.9161,
          135.8568,
          135.7818,
          135.7536,
          135.6522,
          135.6262,
          135.4433,
          135.4358,
          135.3337,
          135.2231,
          135.2093,
          135.1192,
          135.103,
          135.0308,
          134.9528,
          134.923,
          134.8933,
          134.892,
          134.6838,
          134.5624,
          134.5359,
          134.5162,
          134.4324,
          134.3859,
          134.2561,
          134.2264,
          134.1882,
          134.1065,
          134.0777,
          134.073,
          134.0433,
          133.9865,
          133.9523,
          133.9408,
          133.9239,
          133.7809,
          133.7602,
          133.7182,
          133.682,
          133.3036,
          133.297,
          133.2683,
          133.1627,
          133.0078,
          132.9935,
          132.9298,
          132.8846,
          132.8112,
          132.6547,
          132.5878,
          132.5384,
          132.4981,
          132.4757,
          132.4372,
          132.4368,
          132.3564,
          132.3432,
          132.3093,
          132.0768,
          132.0349,
          131.8276,
          131.8162,
          131.8037,
          131.7778,
          131.7169,
          131.6649,
          131.6089,
          131.6037,
          131.6015,
          131.5978,
          131.5934,
          131.5158,
          131.4573,
          131.3634,
          131.3126,
          131.2451,
          131.1686,
          131.0151,
          130.9662,
          130.875,
          130.8439,
          130.827,
          130.7508,
          130.732,
          130.7248,
          130.6586,
          130.6138,
          130.5943,
          130.5114,
          130.428,
          130.4018,
          130.3422,
          130.2725,
          130.2523,
          130.2177,
          130.1741,
          130.1545,
          130.1104,
          130.031,
          130.0146,
          129.9984,
          129.9784,
          129.9454,
          129.9407,
          129.9365,
          129.9163,
          129.8098,
          129.7659,
          129.6424,
          129.6061,
          129.534,
          129.4263,
          129.3954,
          129.3785,
          129.3639,
          129.3542,
          129.3426,
          129.3006,
          129.2435,
          129.2368,
          129.2288,
          129.228,
          129.2089,
          128.9841,
          128.8895,
          128.8606,
          128.779,
          128.7517,
          128.7513,
          128.7159,
          128.7126,
          128.6827,
          128.6406,
          128.6007,
          128.5295,
          128.371,
          128.3322,
          128.2143,
          128.1677,
          128.1067,
          128.0724,
          128.0671,
          128.0605,
          128.0459,
          127.9469,
          127.9204,
          127.8145,
          127.8056,
          127.6684,
          127.6529,
          127.6157,
          127.5891,
          127.5231,
          127.4988,
          127.4987,
          127.4854,
          127.4793,
          127.2955,
          127.2938,
          127.1894,
          127.1078,
          127.0505,
          127.0468,
          127.0407,
          127.0388,
          126.9536,
          126.9201,
          126.8046,
          126.7789,
          126.7753,
          126.6447,
          126.6047,
          126.5667,
          126.5569,
          126.5148,
          126.3973,
          126.3777,
          126.375,
          126.3166,
          126.3106,
          126.2778,
          126.2339,
          126.1486,
          126.1456,
          126.1052,
          125.9919,
          125.9329,
          125.9291,
          125.9079,
          125.9073,
          125.8574,
          125.7973,
          125.7898,
          125.7549,
          125.6991,
          125.6905,
          125.5623,
          125.5287,
          125.5128,
          125.4637,
          125.4379,
          125.349,
          125.1564,
          125.1557,
          125.1233,
          125.117,
          125.0525,
          125.0324,
          124.9386,
          124.7431,
          124.6213,
          124.5785,
          124.5211,
          124.4776,
          124.3687,
          124.3434,
          124.2823,
          124.0925,
          124.0409,
          123.9907,
          123.9493,
          123.9309,
          123.9244,
          123.8557,
          123.8007,
          123.648,
          123.5815,
          123.4325,
          123.3983,
          123.3419,
          123.3092,
          123.3031,
          123.2476,
          123.238,
          123.2333,
          123.204,
          123.1022,
          123.0894,
          122.9497,
          122.9266,
          122.9045,
          122.8928,
          122.8902,
          122.8345,
          122.6014,
          122.5409,
          122.4125,
          122.4096,
          122.373,
          122.3384,
          122.3356,
          122.2889,
          122.2684,
          122.228,
          122.0973,
          122.0934,
          122.0294,
          121.8995,
          121.8047,
          121.743,
          121.7316,
          121.7279,
          121.698,
          121.6626,
          121.6191,
          121.6174,
          121.6035,
          121.5969,
          121.511,
          121.4829,
          121.4379,
          121.4042,
          121.3847,
          121.3468,
          121.3146,
          121.2288,
          121.1805,
          121.154,
          121.1392,
          121.0827,
          121.0526,
          120.9798,
          120.9645,
          120.944,
          120.8093,
          120.7884,
          120.7735,
          120.767,
          120.7535,
          120.6893,
          120.6799,
          120.6655,
          120.6528,
          120.6522,
          120.4312,
          120.3639,
          120.332,
          120.322,
          120.3008,
          120.2738,
          120.2548,
          120.2486,
          120.1814,
          120.1077,
          120.0901,
          119.9806,
          119.8725,
          119.8532,
          119.8228,
          119.7064,
          119.6349,
          119.6088,
          119.5378,
          119.5006,
          119.4582,
          119.4069,
          119.2469,
          119.1869,
          119.0917,
          119.0561,
          119.0185,
          118.9873,
          118.9328,
          118.9234,
          118.8653,
          118.7946,
          118.6987,
          118.6729,
          118.5237,
          118.4928,
          118.4053,
          118.3498,
          117.9777,
          117.9751,
          117.9266,
          117.8925,
          117.8302,
          117.8051,
          117.8033,
          117.7814,
          117.7419,
          117.7283,
          117.718,
          117.6993,
          117.6748,
          117.5575,
          117.5407,
          117.536,
          117.4974,
          117.4898,
          117.4778,
          117.2264,
          117.1678,
          117.0443,
          117.0347,
          117.0186,
          117.0083,
          116.9608,
          116.9237,
          116.8628,
          116.7363,
          116.7289,
          116.7017,
          116.6927,
          116.6349,
          116.5708,
          116.547,
          116.515,
          116.4479,
          116.4357,
          116.364,
          116.3152,
          116.2381,
          116.2222,
          116.1494,
          116.0683,
          116.0667,
          115.9802,
          115.9741,
          115.9477,
          115.9433,
          115.9168,
          115.9061,
          115.8777,
          115.8764,
          115.7456,
          115.6165,
          115.5517,
          115.5491,
          115.5016,
          115.4154,
          115.4049,
          115.3986,
          115.311,
          115.2932,
          115.2836,
          115.2768,
          115.265,
          115.2341,
          115.2009,
          115.1463,
          115.1341,
          115.1149,
          115.1148,
          115.0287,
          114.968,
          114.9096,
          114.8201,
          114.8082,
          114.7895,
          114.6552,
          114.6445,
          114.6407,
          114.5471,
          114.4235,
          114.3057,
          114.2857,
          114.2746,
          114.2646,
          114.1931,
          114.1406,
          114.1225,
          113.9,
          113.8643,
          113.77,
          113.7139,
          113.6959,
          113.5302,
          113.5176,
          113.4524,
          113.3684,
          113.3402,
          113.3373,
          113.3023,
          113.2925,
          113.173,
          113.0772,
          113.0756,
          113.0571,
          112.9924,
          112.9151,
          112.9073,
          112.8804,
          112.8704,
          112.849,
          112.7735,
          112.6896,
          112.5778,
          112.5247,
          112.4558,
          112.4324,
          112.4089,
          112.3571,
          112.2928,
          112.2614,
          112.194,
          112.1897,
          112.1864,
          112.1616,
          112.1448,
          112.1042,
          112.0966,
          112.011,
          111.9967,
          111.9337,
          111.9134,
          111.9001,
          111.8725,
          111.7588,
          111.7286,
          111.7255,
          111.606,
          111.6007,
          111.5009,
          111.3998,
          111.3401,
          111.281,
          111.1739,
          111.1441,
          111.141,
          111.0335,
          111.026,
          110.9888,
          110.9881,
          110.9224,
          110.8883,
          110.868,
          110.8365,
          110.7257,
          110.7096,
          110.6665,
          110.6289,
          110.5516,
          110.5449,
          110.4584,
          110.4096,
          110.2956,
          110.2749,
          110.1746,
          110.1325,
          110.0878,
          110.0844,
          110.027,
          110.0264,
          109.9464,
          109.9004,
          109.8619,
          109.8363,
          109.8185,
          109.8082,
          109.7952,
          109.717,
          109.659,
          109.6291,
          109.6134,
          109.6049,
          109.4765,
          109.4621,
          109.4495,
          109.4212,
          109.3678,
          109.3059,
          109.2829,
          109.2584,
          109.2418,
          109.1781,
          108.9532,
          108.858,
          108.7981,
          108.7174,
          108.6943,
          108.6371,
          108.6308,
          108.6153,
          108.6036,
          108.5993,
          108.4184,
          108.4007,
          108.2027,
          108.2013,
          108.1803,
          107.992,
          107.9585,
          107.941,
          107.8979,
          107.7614,
          107.6841,
          107.6502,
          107.6126,
          107.5981,
          107.5904,
          107.5645,
          107.5482,
          107.4033,
          107.3937,
          107.3775,
          107.3476,
          107.3082,
          107.2731,
          107.2637,
          107.2599,
          107.2561,
          107.2115,
          107.0859,
          107.0616,
          107.0517,
          106.9429,
          106.9379,
          106.9165,
          106.8857,
          106.8083,
          106.7961,
          106.7585,
          106.7487,
          106.7274,
          106.6485,
          106.5775,
          106.5554,
          106.5079,
          106.4825,
          106.4439,
          106.3868,
          106.2123,
          106.2046,
          106.0584,
          106.0201,
          106.0015,
          105.9749,
          105.9455,
          105.7779,
          105.7624,
          105.7479,
          105.7372,
          105.6975,
          105.6899,
          105.6763,
          105.6058,
          105.5769,
          105.5471,
          105.495,
          105.4536,
          105.4154,
          105.3628,
          105.3526,
          105.3414,
          105.3408,
          105.2864,
          105.191,
          105.1348,
          105.0909,
          104.9806,
          104.9647,
          104.9167,
          104.8366,
          104.7641,
          104.7276,
          104.6624,
          104.6266,
          104.567,
          104.4843,
          104.2857,
          104.2672,
          104.246,
          104.1345,
          104.0828,
          103.9819,
          103.9534,
          103.9137,
          103.9124,
          103.8992,
          103.8981,
          103.8763,
          103.6251,
          103.6055,
          103.596,
          103.5829,
          103.5715,
          103.5633,
          103.5388,
          103.5068,
          103.3605,
          103.2643,
          103.0705,
          103.0304,
          102.9873,
          102.9715,
          102.8775,
          102.8096,
          102.7831,
          102.7041,
          102.7041,
          102.693,
          102.6846,
          102.6821,
          102.5932,
          102.572,
          102.5654,
          102.5387,
          102.5239,
          102.4842,
          102.4528,
          102.4166,
          102.3862,
          102.3316,
          102.2595,
          102.2437,
          102.1342,
          102.119,
          102.0776,
          102.0694,
          102.0175,
          101.9258,
          101.8388,
          101.8222,
          101.8168,
          101.7861,
          101.7814,
          101.7719,
          101.7693,
          101.7504,
          101.7297,
          101.688,
          101.6439,
          101.6126,
          101.6112,
          101.5663,
          101.548,
          101.4672,
          101.432,
          101.3948,
          101.3773,
          101.3326,
          101.2561,
          101.2261,
          101.1995,
          101.1864,
          101.0311,
          101.0242,
          101.014,
          101.0076,
          100.9632,
          100.9087,
          100.8423,
          100.8335,
          100.8317,
          100.7959,
          100.7406,
          100.7201,
          100.6917,
          100.6218,
          100.6153,
          100.5959,
          100.5956,
          100.5809,
          100.5645,
          100.5579,
          100.4801,
          100.4776,
          100.4767,
          100.4319,
          100.421,
          100.4066,
          100.3036,
          100.1905,
          100.1349,
          100.0959,
          100.0009,
          99.968,
          99.9597,
          99.95,
          99.9018,
          99.8828,
          99.8632,
          99.8545,
          99.787,
          99.7819,
          99.754,
          99.6995,
          99.6462,
          99.632,
          99.6315,
          99.6104,
          99.5391,
          99.5071,
          99.4947,
          99.4897,
          99.4376,
          99.3742,
          99.3613,
          99.3015,
          99.2513,
          99.2325,
          99.2274,
          99.1999,
          99.174,
          99.153,
          99.0737,
          99.0192,
          99.0108,
          99.0072,
          98.9719,
          98.9684,
          98.9668,
          98.9627,
          98.879,
          98.8206,
          98.8003,
          98.7175,
          98.6795,
          98.6569,
          98.5748,
          98.5386,
          98.4579,
          98.3668,
          98.3643,
          98.3377,
          98.2755,
          98.2435,
          98.2343,
          98.2166,
          98.1823,
          98.1623,
          98.1328,
          98.1141,
          98.1125,
          98.0954,
          98.0941,
          98.0362,
          97.9641,
          97.9323,
          97.8664,
          97.8596,
          97.8556,
          97.8415,
          97.8025,
          97.7724,
          97.7264,
          97.7261,
          97.7131,
          97.6783,
          97.671,
          97.6129,
          97.6116,
          97.6027,
          97.5801,
          97.5677,
          97.5393,
          97.5083,
          97.5077,
          97.4903,
          97.4559,
          97.4446,
          97.41,
          97.3927,
          97.3648,
          97.2905,
          97.2672,
          97.1844,
          97.1248,
          97.1008,
          97.1001,
          97.0818,
          97.0544,
          97.0282,
          97.0187,
          97.0043,
          96.9978,
          96.9568,
          96.9095,
          96.8057,
          96.7915,
          96.7682,
          96.7642,
          96.7627,
          96.6408,
          96.5857,
          96.5523,
          96.5521,
          96.5302,
          96.452,
          96.4142,
          96.4082,
          96.3978,
          96.3545,
          96.3517,
          96.3046,
          96.2823,
          96.237,
          96.2225,
          96.152,
          96.1249,
          96.0075,
          95.9675,
          95.9057,
          95.8771,
          95.8342,
          95.8263,
          95.8156,
          95.7867,
          95.7501,
          95.7374,
          95.7211,
          95.6972,
          95.6874,
          95.664,
          95.5958,
          95.5896,
          95.4369,
          95.4282,
          95.4258,
          95.4199,
          95.3924,
          95.3624,
          95.3096,
          95.2908,
          95.2217,
          95.208,
          95.1754,
          95.1556,
          95.1412,
          95.0901,
          95.0643,
          95.0211,
          94.9131,
          94.899,
          94.895,
          94.8447,
          94.7208,
          94.7189,
          94.6759,
          94.6493,
          94.6182,
          94.5938,
          94.5671,
          94.5043,
          94.4444,
          94.4018,
          94.3598,
          94.3539,
          94.3307,
          94.3145,
          94.2582,
          94.2133,
          94.16,
          94.1444,
          94.0817,
          94.0323,
          94.0081,
          93.8727,
          93.8711,
          93.7714,
          93.7544,
          93.7458,
          93.6473,
          93.573,
          93.5083,
          93.3461,
          93.34,
          93.3076,
          93.1659,
          93.1366,
          93.128,
          93.0643,
          93.0636,
          93.057,
          92.9169,
          92.8799,
          92.8465,
          92.8358,
          92.8237,
          92.7754,
          92.6686,
          92.6439,
          92.5188,
          92.4909,
          92.4003,
          92.3979,
          92.2492,
          92.1598,
          92.142,
          92.0825,
          92.0715,
          92.0709,
          92.0183,
          91.9189,
          91.8917,
          91.8161,
          91.697,
          91.6832,
          91.6782,
          91.6324,
          91.5501,
          91.5202,
          91.46,
          91.3785,
          91.3202,
          91.313,
          91.1367,
          91.115,
          91.0611,
          91.0195,
          90.9918,
          90.9101,
          90.9001,
          90.8933,
          90.8813,
          90.7485,
          90.7233,
          90.6014,
          90.566,
          90.552,
          90.5269,
          90.5036,
          90.4768,
          90.2605,
          90.2119,
          90.1937,
          89.9197,
          89.8326,
          89.7042,
          89.6634,
          89.5902,
          89.5833,
          89.5607,
          89.5449,
          89.4826,
          89.4652,
          89.4615,
          89.3837,
          89.3587,
          89.3571,
          89.2057,
          89.1728,
          89.1453,
          89.1453,
          89.0959,
          89.0367,
          89.0234,
          89.0098,
          88.9525,
          88.8594,
          88.793,
          88.7901,
          88.7008,
          88.6577,
          88.6516,
          88.6456,
          88.5835,
          88.5366,
          88.4832,
          88.4597,
          88.4457,
          88.4107,
          88.3945,
          88.3621,
          88.2794,
          88.2578,
          88.2505,
          88.2484,
          88.2312,
          88.2258,
          88.1546,
          88.1035,
          88.1021,
          88.0425,
          88.0387,
          88.0105,
          88.0061,
          87.8807,
          87.8464,
          87.8407,
          87.8293,
          87.8199,
          87.7791,
          87.768,
          87.7494,
          87.6894,
          87.6205,
          87.6111,
          87.5822,
          87.4793,
          87.4688,
          87.4322,
          87.2893,
          87.288,
          87.2598,
          87.25,
          87.149,
          87.1424,
          87.132,
          87.094,
          87.0788,
          87.0781,
          87.0591,
          87.0293,
          86.9307,
          86.9295,
          86.8199,
          86.7997,
          86.7875,
          86.7289,
          86.6958,
          86.6856,
          86.6311,
          86.6094,
          86.5986,
          86.5412,
          86.5174,
          86.4999,
          86.4362,
          86.3828,
          86.3764,
          86.3641,
          86.3323,
          86.3242,
          86.2298,
          86.2038,
          86.1373,
          86.136,
          86.107,
          86.0913,
          86.066,
          86.0586,
          86.0352,
          86.0084,
          85.9331,
          85.9322,
          85.8638,
          85.8312,
          85.8181,
          85.696,
          85.6867,
          85.6526,
          85.6352,
          85.6313,
          85.5407,
          85.5388,
          85.5225,
          85.4193,
          85.4065,
          85.3939,
          85.3493,
          85.3157,
          85.3126,
          85.3107,
          85.2811,
          85.2703,
          85.2102,
          85.1417,
          85.1388,
          85.1018,
          85.0477,
          85.0168,
          84.9393,
          84.9355,
          84.8944,
          84.8775,
          84.8601,
          84.8332,
          84.8307,
          84.8205,
          84.7379,
          84.7279,
          84.7021,
          84.676,
          84.6722,
          84.6549,
          84.6478,
          84.5793,
          84.5658,
          84.5111,
          84.4765,
          84.4211,
          84.3892,
          84.3679,
          84.3671,
          84.3529,
          84.2816,
          84.2678,
          84.2559,
          84.2122,
          84.1992,
          84.174,
          84.1651,
          84.1542,
          84.1522,
          84.1362,
          84.1265,
          84.1193,
          83.9419,
          83.8447,
          83.8286,
          83.8117,
          83.6646,
          83.6522,
          83.6302,
          83.609,
          83.5775,
          83.5461,
          83.5328,
          83.3613,
          83.36,
          83.2591,
          83.1697,
          83.0999,
          83.0917,
          83.0804,
          83.0785,
          82.9975,
          82.8494,
          82.8385,
          82.8327,
          82.7854,
          82.7557,
          82.6993,
          82.6848,
          82.6052,
          82.5872,
          82.5553,
          82.5105,
          82.4948,
          82.4681,
          82.4297,
          82.4175,
          82.4074,
          82.3787,
          82.3732,
          82.3609,
          82.3262,
          82.2957,
          82.1888,
          82.1379,
          82.1138,
          82.0697,
          82.0056,
          81.9394,
          81.9367,
          81.9222,
          81.9147,
          81.9014,
          81.8789,
          81.8532,
          81.8275,
          81.7726,
          81.7268,
          81.6906,
          81.6138,
          81.5725,
          81.5602,
          81.5392,
          81.4541,
          81.4436,
          81.3338,
          81.3243,
          81.3032,
          81.2441,
          81.2205,
          81.2059,
          81.1969,
          81.1938,
          81.1547,
          81.1407,
          81.1331,
          81.1323,
          81.1187,
          81.0695,
          81.0571,
          81.0545,
          81.0233,
          81.0226,
          81.0006,
          80.9714,
          80.9598,
          80.9239,
          80.7866,
          80.7816,
          80.78,
          80.7669,
          80.759,
          80.7523,
          80.7237,
          80.6918,
          80.6576,
          80.6103,
          80.5765,
          80.5624,
          80.5265,
          80.5209,
          80.5137,
          80.5104,
          80.455,
          80.3891,
          80.3107,
          80.2829,
          80.2328,
          80.2289,
          80.2111,
          80.1223,
          80.1109,
          80.0662,
          80.0584,
          80.0503,
          80.0284,
          80,
          79.9987,
          79.9981,
          79.9783,
          79.9706,
          79.9001,
          79.7981,
          79.7589,
          79.7392,
          79.6661,
          79.618,
          79.5594,
          79.5234,
          79.4572,
          79.4465,
          79.3706,
          79.3583,
          79.358,
          79.3183,
          79.2692,
          79.1382,
          79.1245,
          79.1031,
          79.0532,
          78.9458,
          78.9299,
          78.7945,
          78.7545,
          78.7345,
          78.6535,
          78.5802,
          78.5693,
          78.5356,
          78.4419,
          78.4387,
          78.4213,
          78.3991,
          78.3973,
          78.3937,
          78.3829,
          78.3077,
          78.2904,
          78.2655,
          78.2402,
          78.1998,
          78.1734,
          78.1174,
          78.09,
          78.0794,
          78.0329,
          78.0268,
          77.987,
          77.9837,
          77.8808,
          77.8548,
          77.8444,
          77.8366,
          77.8048,
          77.7525,
          77.7164,
          77.6575,
          77.6381,
          77.6378,
          77.6321,
          77.6299,
          77.6118,
          77.5799,
          77.5711,
          77.5282,
          77.5067,
          77.5057,
          77.4943,
          77.4836,
          77.4745,
          77.4553,
          77.4038,
          77.4024,
          77.3921,
          77.3797,
          77.3613,
          77.3332,
          77.2664,
          77.2376,
          77.1683,
          77.1276,
          77.0175,
          76.9661,
          76.9614,
          76.9256,
          76.8906,
          76.8579,
          76.8383,
          76.8005,
          76.7531,
          76.7512,
          76.7452,
          76.7214,
          76.6982,
          76.671,
          76.6037,
          76.4793,
          76.45,
          76.3999,
          76.387,
          76.3718,
          76.3401,
          76.3111,
          76.2826,
          76.1827,
          76.1377,
          76.0982,
          75.9945,
          75.8872,
          75.8389,
          75.7891,
          75.7887,
          75.7802,
          75.7307,
          75.7153,
          75.7062,
          75.6757,
          75.5691,
          75.4538,
          75.4081,
          75.3446,
          75.3247,
          75.2463,
          75.1228,
          75.0913,
          75.0753,
          75.065,
          75.044,
          75.0362,
          75.0269,
          74.9903,
          74.9278,
          74.9207,
          74.916,
          74.9073,
          74.8797,
          74.8741,
          74.8705,
          74.8263,
          74.7616,
          74.7501,
          74.7126,
          74.6414,
          74.6112,
          74.5629,
          74.5348,
          74.4623,
          74.3854,
          74.3344,
          74.314,
          74.2476,
          74.2152,
          74.2007,
          74.2002,
          74.1794,
          74.1557,
          74.0644,
          74.0495,
          74.0354,
          73.9877,
          73.9663,
          73.9404,
          73.939,
          73.9322,
          73.8134,
          73.6754,
          73.6036,
          73.5914,
          73.5701,
          73.5248,
          73.5095,
          73.4458,
          73.3995,
          73.3866,
          73.3306,
          73.2905,
          73.2836,
          73.2655,
          73.2451,
          73.1886,
          73.1774,
          73.1736,
          73.1326,
          73.0569,
          73.0294,
          72.9948,
          72.9911,
          72.9429,
          72.9386,
          72.9126,
          72.8924,
          72.8277,
          72.7486,
          72.7378,
          72.7064,
          72.6989,
          72.6976,
          72.629,
          72.6177,
          72.6167,
          72.5656,
          72.5579,
          72.5545,
          72.5272,
          72.5046,
          72.4711,
          72.4542,
          72.4463,
          72.3422,
          72.3224,
          72.3156,
          72.2911,
          72.2806,
          72.28,
          72.2406,
          72.237,
          72.2307,
          72.2217,
          72.2046,
          72.1438,
          72.1215,
          72.0911,
          72.0828,
          72.0551,
          72.0356,
          72.0048,
          71.9836,
          71.9328,
          71.9109,
          71.8372,
          71.7368,
          71.6937,
          71.6785,
          71.6591,
          71.6515,
          71.5912,
          71.5818,
          71.5313,
          71.5036,
          71.4996,
          71.4956,
          71.4469,
          71.4126,
          71.3814,
          71.3813,
          71.3712,
          71.3616,
          71.3464,
          71.3455,
          71.3178,
          71.3053,
          71.1792,
          71.1736,
          71.168,
          71.1476,
          71.1159,
          71.089,
          71.0828,
          71.0811,
          71.0702,
          71.012,
          70.9969,
          70.9165,
          70.9122,
          70.9058,
          70.8628,
          70.8257,
          70.8156,
          70.8036,
          70.7979,
          70.7838,
          70.7733,
          70.7204,
          70.5359,
          70.4947,
          70.4819,
          70.4714,
          70.4213,
          70.4204,
          70.4004,
          70.3932,
          70.3726,
          70.372,
          70.3719,
          70.343,
          70.2704,
          70.2545,
          70.2167,
          70.1551,
          70.0958,
          70.0438,
          69.9997,
          69.9973,
          69.9857,
          69.9532,
          69.8968,
          69.8327,
          69.8302,
          69.7701,
          69.6897,
          69.6351,
          69.6151,
          69.5835,
          69.5791,
          69.5227,
          69.5171,
          69.493,
          69.4736,
          69.4489,
          69.4145,
          69.4062,
          69.3883,
          69.363,
          69.2729,
          69.2717,
          69.2515,
          69.2263,
          69.1556,
          69.0395,
          69.0187,
          69.0032,
          68.9889,
          68.9645,
          68.9553,
          68.9004,
          68.877,
          68.8703,
          68.8259,
          68.8253,
          68.8134,
          68.8056,
          68.7615,
          68.7429,
          68.6552,
          68.6241,
          68.5895,
          68.5838,
          68.5658,
          68.5598,
          68.5507,
          68.5496,
          68.5043,
          68.4958,
          68.4005,
          68.3723,
          68.3309,
          68.3222,
          68.3109,
          68.3055,
          68.2587,
          68.2523,
          68.2184,
          68.1626,
          68.1185,
          68.1068,
          68.0916,
          68.0346,
          68.008,
          67.9926,
          67.992,
          67.9844,
          67.9491,
          67.9205,
          67.901,
          67.8177,
          67.7686,
          67.7365,
          67.7014,
          67.6997,
          67.6063,
          67.5682,
          67.5638,
          67.5181,
          67.5139,
          67.442,
          67.4293,
          67.4283,
          67.4205,
          67.4085,
          67.389,
          67.3535,
          67.3503,
          67.3444,
          67.3412,
          67.2422,
          67.2172,
          67.2051,
          67.193,
          67.1183,
          67.0845,
          67.0739,
          67.0365,
          66.9798,
          66.9707,
          66.9568,
          66.9245,
          66.8651,
          66.8427,
          66.8423,
          66.8343,
          66.8342,
          66.8334,
          66.7943,
          66.7941,
          66.7877,
          66.7723,
          66.7144,
          66.6677,
          66.582,
          66.5781,
          66.5699,
          66.5663,
          66.5641,
          66.5425,
          66.5297,
          66.5169,
          66.4544,
          66.3919,
          66.3626,
          66.3487,
          66.3259,
          66.3024,
          66.2925,
          66.2221,
          66.1973,
          66.1683,
          66.1586,
          66.0544,
          66.028,
          65.9963,
          65.9844,
          65.9821,
          65.9723,
          65.9717,
          65.9467,
          65.926,
          65.9072,
          65.8973,
          65.8823,
          65.8772,
          65.8646,
          65.8416,
          65.8284,
          65.781,
          65.7707,
          65.6457,
          65.6109,
          65.5934,
          65.5756,
          65.5692,
          65.5504,
          65.5446,
          65.5212,
          65.5187,
          65.5081,
          65.508,
          65.4605,
          65.435,
          65.4059,
          65.3965,
          65.3397,
          65.2973,
          65.2888,
          65.2658,
          65.2393,
          65.2339,
          65.2206,
          65.1876,
          65.1864,
          65.1019,
          65.0602,
          65.0325,
          65.0247,
          65.0214,
          64.9986,
          64.9542,
          64.9446,
          64.8979,
          64.8856,
          64.8569,
          64.8537,
          64.8392,
          64.8347,
          64.8151,
          64.8031,
          64.7677,
          64.7597,
          64.7556,
          64.7332,
          64.629,
          64.607,
          64.5962,
          64.5888,
          64.5531,
          64.5387,
          64.5156,
          64.4826,
          64.3773,
          64.3451,
          64.3259,
          64.3139,
          64.3033,
          64.2837,
          64.2155,
          64.1511,
          64.1389,
          64.1223,
          64.1191,
          64.1139,
          64.1073,
          64.0788,
          64.0436,
          64.0324,
          63.9893,
          63.933,
          63.9256,
          63.9217,
          63.8786,
          63.8688,
          63.8643,
          63.8268,
          63.8155,
          63.7573,
          63.7531,
          63.7429,
          63.718,
          63.714,
          63.6505,
          63.615,
          63.5816,
          63.5428,
          63.5345,
          63.5118,
          63.3568,
          63.3308,
          63.324,
          63.3052,
          63.2874,
          63.2582,
          63.2355,
          63.2245,
          63.198,
          63.1891,
          63.1838,
          63.1646,
          63.1469,
          63.107,
          63.0906,
          63.0317,
          63.017,
          62.9928,
          62.9768,
          62.9677,
          62.8606,
          62.8573,
          62.8264,
          62.822,
          62.7933,
          62.769,
          62.7528,
          62.7131,
          62.6784,
          62.678,
          62.6689,
          62.6468,
          62.6413,
          62.5901,
          62.5227,
          62.5159,
          62.5038,
          62.4975,
          62.4633,
          62.4551,
          62.445,
          62.4128,
          62.4047,
          62.3695,
          62.3545,
          62.3391,
          62.2797,
          62.2093,
          62.118,
          62.0759,
          62.0574,
          62.0528,
          62.0379,
          62.0362,
          62.0283,
          61.9777,
          61.955,
          61.9375,
          61.8986,
          61.8804,
          61.8637,
          61.8412,
          61.8238,
          61.7994,
          61.7955,
          61.7463,
          61.7196,
          61.6907,
          61.6037,
          61.6015,
          61.5656,
          61.5447,
          61.5419,
          61.5413,
          61.5164,
          61.4874,
          61.4717,
          61.4461,
          61.4344,
          61.4322,
          61.4012,
          61.359,
          61.3019,
          61.2981,
          61.2981,
          61.2342,
          61.2127,
          61.1315,
          61.0998,
          61.0934,
          61.0438,
          60.9663,
          60.9597,
          60.9441,
          60.9418,
          60.9309,
          60.9306,
          60.9268,
          60.9029,
          60.8143,
          60.812,
          60.8118,
          60.7935,
          60.754,
          60.7438,
          60.7395,
          60.6922,
          60.6807,
          60.6743,
          60.668,
          60.6282,
          60.618,
          60.5524,
          60.5147,
          60.5115,
          60.4976,
          60.4941,
          60.4456,
          60.4391,
          60.4373,
          60.4323,
          60.4161,
          60.3996,
          60.3868,
          60.3462,
          60.3308,
          60.2828,
          60.2549,
          60.1943,
          60.1754,
          60.1699,
          60.151,
          60.0986,
          60.0544,
          60.0436,
          60.0349,
          59.9934,
          59.9912,
          59.9551,
          59.9439,
          59.9195,
          59.8615,
          59.8409,
          59.7791,
          59.7682,
          59.7463,
          59.7402,
          59.7255,
          59.717,
          59.6952,
          59.6906,
          59.5964,
          59.5917,
          59.5818,
          59.5499,
          59.537,
          59.5177,
          59.5089,
          59.4968,
          59.4779,
          59.4779,
          59.4481,
          59.425,
          59.3671,
          59.3633,
          59.3563,
          59.3531,
          59.3275,
          59.2964,
          59.2963,
          59.2794,
          59.2525,
          59.2496,
          59.2466,
          59.2065,
          59.1968,
          59.1462,
          59.1318,
          59.0942,
          59.0504,
          59.0401,
          59.0329,
          59.0137,
          58.9992,
          58.9872,
          58.9795,
          58.9493,
          58.946,
          58.9357,
          58.9173,
          58.906,
          58.8881,
          58.861,
          58.8609,
          58.8269,
          58.7498,
          58.7288,
          58.721,
          58.7086,
          58.667,
          58.6563,
          58.6259,
          58.5925,
          58.5807,
          58.5338,
          58.4547,
          58.4342,
          58.4033,
          58.3608,
          58.3143,
          58.3137,
          58.2915,
          58.2544,
          58.2295,
          58.2249,
          58.2213,
          58.2087,
          58.1964,
          58.1526,
          58.1418,
          58.1193,
          58.0921,
          58.0564,
          58.026,
          57.992,
          57.9802,
          57.9789,
          57.9638,
          57.9484,
          57.9293,
          57.8975,
          57.8917,
          57.8505,
          57.8489,
          57.8452,
          57.8268,
          57.8194,
          57.7947,
          57.7917,
          57.7856,
          57.7811,
          57.7642,
          57.763,
          57.634,
          57.531,
          57.506,
          57.4938,
          57.4703,
          57.4458,
          57.3603,
          57.232,
          57.2258,
          57.2145,
          57.204,
          57.1868,
          57.1161,
          57.114,
          57.0925,
          57.0912,
          57.0216,
          57.0163,
          57,
          57,
          56.9991,
          56.9891,
          56.9737,
          56.9302,
          56.8956,
          56.8658,
          56.8393,
          56.8383,
          56.8328,
          56.8324,
          56.7757,
          56.7748,
          56.7633,
          56.729,
          56.7274,
          56.7225,
          56.7172,
          56.7068,
          56.7052,
          56.6566,
          56.6492,
          56.639,
          56.5625,
          56.4066,
          56.3529,
          56.3396,
          56.3334,
          56.3144,
          56.2419,
          56.2409,
          56.1928,
          56.1724,
          56.1683,
          56.1666,
          56.1384,
          56.1159,
          56.0918,
          55.9657,
          55.954,
          55.9313,
          55.898,
          55.807,
          55.7941,
          55.7909,
          55.7529,
          55.7459,
          55.6981,
          55.6932,
          55.6864,
          55.6625,
          55.5967,
          55.5905,
          55.5248,
          55.4931,
          55.4762,
          55.4622,
          55.423,
          55.3953,
          55.3338,
          55.2903,
          55.2804,
          55.2578,
          55.1814,
          55.1646,
          55.1558,
          55.0625,
          55.0416,
          55.0074,
          54.9859,
          54.9785,
          54.95,
          54.8901,
          54.8851,
          54.8798,
          54.8246,
          54.7934,
          54.7719,
          54.7526,
          54.7325,
          54.6664,
          54.6339,
          54.6062,
          54.573,
          54.5183,
          54.4546,
          54.4304,
          54.3971,
          54.3694,
          54.3397,
          54.3203,
          54.2047,
          54.1831,
          54.1402,
          54.0977,
          54.0848,
          54.0472,
          53.9758,
          53.9395,
          53.8403,
          53.8306,
          53.8259,
          53.821,
          53.695,
          53.6875,
          53.6246,
          53.5654,
          53.5515,
          53.5449,
          53.5373,
          53.5143,
          53.499,
          53.4804,
          53.4344,
          53.3888,
          53.3429,
          53.3074,
          53.3022,
          53.287,
          53.2847,
          53.2797,
          53.211,
          53.2104,
          53.1889,
          53.1734,
          53.1431,
          53.1256,
          53.1181,
          53.0161,
          52.9602,
          52.9335,
          52.9294,
          52.9282,
          52.9192,
          52.9105,
          52.8711,
          52.8562,
          52.8422,
          52.7955,
          52.7881,
          52.7413,
          52.7174,
          52.6709,
          52.6491,
          52.6344,
          52.6092,
          52.5947,
          52.5697,
          52.5684,
          52.541,
          52.5381,
          52.5232,
          52.4803,
          52.4442,
          52.43,
          52.3467,
          52.2377,
          52.2127,
          52.2037,
          52.1919,
          52.1691
         ],
         "yaxis": "y"
        }
       ],
       "layout": {
        "legend": {
         "tracegroupgap": 0
        },
        "template": {
         "data": {
          "bar": [
           {
            "error_x": {
             "color": "#2a3f5f"
            },
            "error_y": {
             "color": "#2a3f5f"
            },
            "marker": {
             "line": {
              "color": "#E5ECF6",
              "width": 0.5
             },
             "pattern": {
              "fillmode": "overlay",
              "size": 10,
              "solidity": 0.2
             }
            },
            "type": "bar"
           }
          ],
          "barpolar": [
           {
            "marker": {
             "line": {
              "color": "#E5ECF6",
              "width": 0.5
             },
             "pattern": {
              "fillmode": "overlay",
              "size": 10,
              "solidity": 0.2
             }
            },
            "type": "barpolar"
           }
          ],
          "carpet": [
           {
            "aaxis": {
             "endlinecolor": "#2a3f5f",
             "gridcolor": "white",
             "linecolor": "white",
             "minorgridcolor": "white",
             "startlinecolor": "#2a3f5f"
            },
            "baxis": {
             "endlinecolor": "#2a3f5f",
             "gridcolor": "white",
             "linecolor": "white",
             "minorgridcolor": "white",
             "startlinecolor": "#2a3f5f"
            },
            "type": "carpet"
           }
          ],
          "choropleth": [
           {
            "colorbar": {
             "outlinewidth": 0,
             "ticks": ""
            },
            "type": "choropleth"
           }
          ],
          "contour": [
           {
            "colorbar": {
             "outlinewidth": 0,
             "ticks": ""
            },
            "colorscale": [
             [
              0,
              "#0d0887"
             ],
             [
              0.1111111111111111,
              "#46039f"
             ],
             [
              0.2222222222222222,
              "#7201a8"
             ],
             [
              0.3333333333333333,
              "#9c179e"
             ],
             [
              0.4444444444444444,
              "#bd3786"
             ],
             [
              0.5555555555555556,
              "#d8576b"
             ],
             [
              0.6666666666666666,
              "#ed7953"
             ],
             [
              0.7777777777777778,
              "#fb9f3a"
             ],
             [
              0.8888888888888888,
              "#fdca26"
             ],
             [
              1,
              "#f0f921"
             ]
            ],
            "type": "contour"
           }
          ],
          "contourcarpet": [
           {
            "colorbar": {
             "outlinewidth": 0,
             "ticks": ""
            },
            "type": "contourcarpet"
           }
          ],
          "heatmap": [
           {
            "colorbar": {
             "outlinewidth": 0,
             "ticks": ""
            },
            "colorscale": [
             [
              0,
              "#0d0887"
             ],
             [
              0.1111111111111111,
              "#46039f"
             ],
             [
              0.2222222222222222,
              "#7201a8"
             ],
             [
              0.3333333333333333,
              "#9c179e"
             ],
             [
              0.4444444444444444,
              "#bd3786"
             ],
             [
              0.5555555555555556,
              "#d8576b"
             ],
             [
              0.6666666666666666,
              "#ed7953"
             ],
             [
              0.7777777777777778,
              "#fb9f3a"
             ],
             [
              0.8888888888888888,
              "#fdca26"
             ],
             [
              1,
              "#f0f921"
             ]
            ],
            "type": "heatmap"
           }
          ],
          "heatmapgl": [
           {
            "colorbar": {
             "outlinewidth": 0,
             "ticks": ""
            },
            "colorscale": [
             [
              0,
              "#0d0887"
             ],
             [
              0.1111111111111111,
              "#46039f"
             ],
             [
              0.2222222222222222,
              "#7201a8"
             ],
             [
              0.3333333333333333,
              "#9c179e"
             ],
             [
              0.4444444444444444,
              "#bd3786"
             ],
             [
              0.5555555555555556,
              "#d8576b"
             ],
             [
              0.6666666666666666,
              "#ed7953"
             ],
             [
              0.7777777777777778,
              "#fb9f3a"
             ],
             [
              0.8888888888888888,
              "#fdca26"
             ],
             [
              1,
              "#f0f921"
             ]
            ],
            "type": "heatmapgl"
           }
          ],
          "histogram": [
           {
            "marker": {
             "pattern": {
              "fillmode": "overlay",
              "size": 10,
              "solidity": 0.2
             }
            },
            "type": "histogram"
           }
          ],
          "histogram2d": [
           {
            "colorbar": {
             "outlinewidth": 0,
             "ticks": ""
            },
            "colorscale": [
             [
              0,
              "#0d0887"
             ],
             [
              0.1111111111111111,
              "#46039f"
             ],
             [
              0.2222222222222222,
              "#7201a8"
             ],
             [
              0.3333333333333333,
              "#9c179e"
             ],
             [
              0.4444444444444444,
              "#bd3786"
             ],
             [
              0.5555555555555556,
              "#d8576b"
             ],
             [
              0.6666666666666666,
              "#ed7953"
             ],
             [
              0.7777777777777778,
              "#fb9f3a"
             ],
             [
              0.8888888888888888,
              "#fdca26"
             ],
             [
              1,
              "#f0f921"
             ]
            ],
            "type": "histogram2d"
           }
          ],
          "histogram2dcontour": [
           {
            "colorbar": {
             "outlinewidth": 0,
             "ticks": ""
            },
            "colorscale": [
             [
              0,
              "#0d0887"
             ],
             [
              0.1111111111111111,
              "#46039f"
             ],
             [
              0.2222222222222222,
              "#7201a8"
             ],
             [
              0.3333333333333333,
              "#9c179e"
             ],
             [
              0.4444444444444444,
              "#bd3786"
             ],
             [
              0.5555555555555556,
              "#d8576b"
             ],
             [
              0.6666666666666666,
              "#ed7953"
             ],
             [
              0.7777777777777778,
              "#fb9f3a"
             ],
             [
              0.8888888888888888,
              "#fdca26"
             ],
             [
              1,
              "#f0f921"
             ]
            ],
            "type": "histogram2dcontour"
           }
          ],
          "mesh3d": [
           {
            "colorbar": {
             "outlinewidth": 0,
             "ticks": ""
            },
            "type": "mesh3d"
           }
          ],
          "parcoords": [
           {
            "line": {
             "colorbar": {
              "outlinewidth": 0,
              "ticks": ""
             }
            },
            "type": "parcoords"
           }
          ],
          "pie": [
           {
            "automargin": true,
            "type": "pie"
           }
          ],
          "scatter": [
           {
            "fillpattern": {
             "fillmode": "overlay",
             "size": 10,
             "solidity": 0.2
            },
            "type": "scatter"
           }
          ],
          "scatter3d": [
           {
            "line": {
             "colorbar": {
              "outlinewidth": 0,
              "ticks": ""
             }
            },
            "marker": {
             "colorbar": {
              "outlinewidth": 0,
              "ticks": ""
             }
            },
            "type": "scatter3d"
           }
          ],
          "scattercarpet": [
           {
            "marker": {
             "colorbar": {
              "outlinewidth": 0,
              "ticks": ""
             }
            },
            "type": "scattercarpet"
           }
          ],
          "scattergeo": [
           {
            "marker": {
             "colorbar": {
              "outlinewidth": 0,
              "ticks": ""
             }
            },
            "type": "scattergeo"
           }
          ],
          "scattergl": [
           {
            "marker": {
             "colorbar": {
              "outlinewidth": 0,
              "ticks": ""
             }
            },
            "type": "scattergl"
           }
          ],
          "scattermapbox": [
           {
            "marker": {
             "colorbar": {
              "outlinewidth": 0,
              "ticks": ""
             }
            },
            "type": "scattermapbox"
           }
          ],
          "scatterpolar": [
           {
            "marker": {
             "colorbar": {
              "outlinewidth": 0,
              "ticks": ""
             }
            },
            "type": "scatterpolar"
           }
          ],
          "scatterpolargl": [
           {
            "marker": {
             "colorbar": {
              "outlinewidth": 0,
              "ticks": ""
             }
            },
            "type": "scatterpolargl"
           }
          ],
          "scatterternary": [
           {
            "marker": {
             "colorbar": {
              "outlinewidth": 0,
              "ticks": ""
             }
            },
            "type": "scatterternary"
           }
          ],
          "surface": [
           {
            "colorbar": {
             "outlinewidth": 0,
             "ticks": ""
            },
            "colorscale": [
             [
              0,
              "#0d0887"
             ],
             [
              0.1111111111111111,
              "#46039f"
             ],
             [
              0.2222222222222222,
              "#7201a8"
             ],
             [
              0.3333333333333333,
              "#9c179e"
             ],
             [
              0.4444444444444444,
              "#bd3786"
             ],
             [
              0.5555555555555556,
              "#d8576b"
             ],
             [
              0.6666666666666666,
              "#ed7953"
             ],
             [
              0.7777777777777778,
              "#fb9f3a"
             ],
             [
              0.8888888888888888,
              "#fdca26"
             ],
             [
              1,
              "#f0f921"
             ]
            ],
            "type": "surface"
           }
          ],
          "table": [
           {
            "cells": {
             "fill": {
              "color": "#EBF0F8"
             },
             "line": {
              "color": "white"
             }
            },
            "header": {
             "fill": {
              "color": "#C8D4E3"
             },
             "line": {
              "color": "white"
             }
            },
            "type": "table"
           }
          ]
         },
         "layout": {
          "annotationdefaults": {
           "arrowcolor": "#2a3f5f",
           "arrowhead": 0,
           "arrowwidth": 1
          },
          "autotypenumbers": "strict",
          "coloraxis": {
           "colorbar": {
            "outlinewidth": 0,
            "ticks": ""
           }
          },
          "colorscale": {
           "diverging": [
            [
             0,
             "#8e0152"
            ],
            [
             0.1,
             "#c51b7d"
            ],
            [
             0.2,
             "#de77ae"
            ],
            [
             0.3,
             "#f1b6da"
            ],
            [
             0.4,
             "#fde0ef"
            ],
            [
             0.5,
             "#f7f7f7"
            ],
            [
             0.6,
             "#e6f5d0"
            ],
            [
             0.7,
             "#b8e186"
            ],
            [
             0.8,
             "#7fbc41"
            ],
            [
             0.9,
             "#4d9221"
            ],
            [
             1,
             "#276419"
            ]
           ],
           "sequential": [
            [
             0,
             "#0d0887"
            ],
            [
             0.1111111111111111,
             "#46039f"
            ],
            [
             0.2222222222222222,
             "#7201a8"
            ],
            [
             0.3333333333333333,
             "#9c179e"
            ],
            [
             0.4444444444444444,
             "#bd3786"
            ],
            [
             0.5555555555555556,
             "#d8576b"
            ],
            [
             0.6666666666666666,
             "#ed7953"
            ],
            [
             0.7777777777777778,
             "#fb9f3a"
            ],
            [
             0.8888888888888888,
             "#fdca26"
            ],
            [
             1,
             "#f0f921"
            ]
           ],
           "sequentialminus": [
            [
             0,
             "#0d0887"
            ],
            [
             0.1111111111111111,
             "#46039f"
            ],
            [
             0.2222222222222222,
             "#7201a8"
            ],
            [
             0.3333333333333333,
             "#9c179e"
            ],
            [
             0.4444444444444444,
             "#bd3786"
            ],
            [
             0.5555555555555556,
             "#d8576b"
            ],
            [
             0.6666666666666666,
             "#ed7953"
            ],
            [
             0.7777777777777778,
             "#fb9f3a"
            ],
            [
             0.8888888888888888,
             "#fdca26"
            ],
            [
             1,
             "#f0f921"
            ]
           ]
          },
          "colorway": [
           "#636efa",
           "#EF553B",
           "#00cc96",
           "#ab63fa",
           "#FFA15A",
           "#19d3f3",
           "#FF6692",
           "#B6E880",
           "#FF97FF",
           "#FECB52"
          ],
          "font": {
           "color": "#2a3f5f"
          },
          "geo": {
           "bgcolor": "white",
           "lakecolor": "white",
           "landcolor": "#E5ECF6",
           "showlakes": true,
           "showland": true,
           "subunitcolor": "white"
          },
          "hoverlabel": {
           "align": "left"
          },
          "hovermode": "closest",
          "mapbox": {
           "style": "light"
          },
          "paper_bgcolor": "white",
          "plot_bgcolor": "#E5ECF6",
          "polar": {
           "angularaxis": {
            "gridcolor": "white",
            "linecolor": "white",
            "ticks": ""
           },
           "bgcolor": "#E5ECF6",
           "radialaxis": {
            "gridcolor": "white",
            "linecolor": "white",
            "ticks": ""
           }
          },
          "scene": {
           "xaxis": {
            "backgroundcolor": "#E5ECF6",
            "gridcolor": "white",
            "gridwidth": 2,
            "linecolor": "white",
            "showbackground": true,
            "ticks": "",
            "zerolinecolor": "white"
           },
           "yaxis": {
            "backgroundcolor": "#E5ECF6",
            "gridcolor": "white",
            "gridwidth": 2,
            "linecolor": "white",
            "showbackground": true,
            "ticks": "",
            "zerolinecolor": "white"
           },
           "zaxis": {
            "backgroundcolor": "#E5ECF6",
            "gridcolor": "white",
            "gridwidth": 2,
            "linecolor": "white",
            "showbackground": true,
            "ticks": "",
            "zerolinecolor": "white"
           }
          },
          "shapedefaults": {
           "line": {
            "color": "#2a3f5f"
           }
          },
          "ternary": {
           "aaxis": {
            "gridcolor": "white",
            "linecolor": "white",
            "ticks": ""
           },
           "baxis": {
            "gridcolor": "white",
            "linecolor": "white",
            "ticks": ""
           },
           "bgcolor": "#E5ECF6",
           "caxis": {
            "gridcolor": "white",
            "linecolor": "white",
            "ticks": ""
           }
          },
          "title": {
           "x": 0.05
          },
          "xaxis": {
           "automargin": true,
           "gridcolor": "white",
           "linecolor": "white",
           "ticks": "",
           "title": {
            "standoff": 15
           },
           "zerolinecolor": "white",
           "zerolinewidth": 2
          },
          "yaxis": {
           "automargin": true,
           "gridcolor": "white",
           "linecolor": "white",
           "ticks": "",
           "title": {
            "standoff": 15
           },
           "zerolinecolor": "white",
           "zerolinewidth": 2
          }
         }
        },
        "title": {
         "text": "Revenue vs Growth Rate"
        },
        "xaxis": {
         "anchor": "y",
         "domain": [
          0,
          1
         ],
         "title": {
          "text": "revenue"
         }
        },
        "yaxis": {
         "anchor": "x",
         "domain": [
          0,
          1
         ],
         "title": {
          "text": "growth_%"
         }
        }
       }
      }
     },
     "metadata": {},
     "output_type": "display_data"
    }
   ],
   "source": [
    "fig = px.scatter(df, x='revenue', y='growth_%', hover_data=['name'],\n",
    "                 title='Revenue vs Growth Rate')\n",
    "fig.show()"
   ]
  },
  {
   "cell_type": "markdown",
   "id": "14865058",
   "metadata": {},
   "source": [
    "# 5. TOP 10 COMPANIES BY REVENUE"
   ]
  },
  {
   "cell_type": "code",
   "execution_count": 38,
   "id": "af70b31d",
   "metadata": {},
   "outputs": [
    {
     "data": {
      "application/vnd.plotly.v1+json": {
       "config": {
        "plotlyServerURL": "https://plot.ly"
       },
       "data": [
        {
         "alignmentgroup": "True",
         "hovertemplate": "revenue=%{x}<br>name=%{y}<extra></extra>",
         "legendgroup": "",
         "marker": {
          "color": "#636efa",
          "pattern": {
           "shape": ""
          }
         },
         "name": "",
         "offsetgroup": "",
         "orientation": "h",
         "showlegend": false,
         "textposition": "auto",
         "type": "bar",
         "x": [
          21400,
          11300,
          5800,
          5400,
          4600,
          3900,
          3600,
          3500,
          2600,
          2300
         ],
         "xaxis": "x",
         "y": [
          "Prime Therapeutics",
          "Uber Technologies",
          "Allied Universal",
          "Carahsoft Technology",
          "CoAdvantage",
          "84 Lumber Company",
          "Total Quality Logistics",
          "Chewy",
          "SRS Distribution",
          "Transportation Insight"
         ],
         "yaxis": "y"
        }
       ],
       "layout": {
        "barmode": "relative",
        "legend": {
         "tracegroupgap": 0
        },
        "template": {
         "data": {
          "bar": [
           {
            "error_x": {
             "color": "#2a3f5f"
            },
            "error_y": {
             "color": "#2a3f5f"
            },
            "marker": {
             "line": {
              "color": "#E5ECF6",
              "width": 0.5
             },
             "pattern": {
              "fillmode": "overlay",
              "size": 10,
              "solidity": 0.2
             }
            },
            "type": "bar"
           }
          ],
          "barpolar": [
           {
            "marker": {
             "line": {
              "color": "#E5ECF6",
              "width": 0.5
             },
             "pattern": {
              "fillmode": "overlay",
              "size": 10,
              "solidity": 0.2
             }
            },
            "type": "barpolar"
           }
          ],
          "carpet": [
           {
            "aaxis": {
             "endlinecolor": "#2a3f5f",
             "gridcolor": "white",
             "linecolor": "white",
             "minorgridcolor": "white",
             "startlinecolor": "#2a3f5f"
            },
            "baxis": {
             "endlinecolor": "#2a3f5f",
             "gridcolor": "white",
             "linecolor": "white",
             "minorgridcolor": "white",
             "startlinecolor": "#2a3f5f"
            },
            "type": "carpet"
           }
          ],
          "choropleth": [
           {
            "colorbar": {
             "outlinewidth": 0,
             "ticks": ""
            },
            "type": "choropleth"
           }
          ],
          "contour": [
           {
            "colorbar": {
             "outlinewidth": 0,
             "ticks": ""
            },
            "colorscale": [
             [
              0,
              "#0d0887"
             ],
             [
              0.1111111111111111,
              "#46039f"
             ],
             [
              0.2222222222222222,
              "#7201a8"
             ],
             [
              0.3333333333333333,
              "#9c179e"
             ],
             [
              0.4444444444444444,
              "#bd3786"
             ],
             [
              0.5555555555555556,
              "#d8576b"
             ],
             [
              0.6666666666666666,
              "#ed7953"
             ],
             [
              0.7777777777777778,
              "#fb9f3a"
             ],
             [
              0.8888888888888888,
              "#fdca26"
             ],
             [
              1,
              "#f0f921"
             ]
            ],
            "type": "contour"
           }
          ],
          "contourcarpet": [
           {
            "colorbar": {
             "outlinewidth": 0,
             "ticks": ""
            },
            "type": "contourcarpet"
           }
          ],
          "heatmap": [
           {
            "colorbar": {
             "outlinewidth": 0,
             "ticks": ""
            },
            "colorscale": [
             [
              0,
              "#0d0887"
             ],
             [
              0.1111111111111111,
              "#46039f"
             ],
             [
              0.2222222222222222,
              "#7201a8"
             ],
             [
              0.3333333333333333,
              "#9c179e"
             ],
             [
              0.4444444444444444,
              "#bd3786"
             ],
             [
              0.5555555555555556,
              "#d8576b"
             ],
             [
              0.6666666666666666,
              "#ed7953"
             ],
             [
              0.7777777777777778,
              "#fb9f3a"
             ],
             [
              0.8888888888888888,
              "#fdca26"
             ],
             [
              1,
              "#f0f921"
             ]
            ],
            "type": "heatmap"
           }
          ],
          "heatmapgl": [
           {
            "colorbar": {
             "outlinewidth": 0,
             "ticks": ""
            },
            "colorscale": [
             [
              0,
              "#0d0887"
             ],
             [
              0.1111111111111111,
              "#46039f"
             ],
             [
              0.2222222222222222,
              "#7201a8"
             ],
             [
              0.3333333333333333,
              "#9c179e"
             ],
             [
              0.4444444444444444,
              "#bd3786"
             ],
             [
              0.5555555555555556,
              "#d8576b"
             ],
             [
              0.6666666666666666,
              "#ed7953"
             ],
             [
              0.7777777777777778,
              "#fb9f3a"
             ],
             [
              0.8888888888888888,
              "#fdca26"
             ],
             [
              1,
              "#f0f921"
             ]
            ],
            "type": "heatmapgl"
           }
          ],
          "histogram": [
           {
            "marker": {
             "pattern": {
              "fillmode": "overlay",
              "size": 10,
              "solidity": 0.2
             }
            },
            "type": "histogram"
           }
          ],
          "histogram2d": [
           {
            "colorbar": {
             "outlinewidth": 0,
             "ticks": ""
            },
            "colorscale": [
             [
              0,
              "#0d0887"
             ],
             [
              0.1111111111111111,
              "#46039f"
             ],
             [
              0.2222222222222222,
              "#7201a8"
             ],
             [
              0.3333333333333333,
              "#9c179e"
             ],
             [
              0.4444444444444444,
              "#bd3786"
             ],
             [
              0.5555555555555556,
              "#d8576b"
             ],
             [
              0.6666666666666666,
              "#ed7953"
             ],
             [
              0.7777777777777778,
              "#fb9f3a"
             ],
             [
              0.8888888888888888,
              "#fdca26"
             ],
             [
              1,
              "#f0f921"
             ]
            ],
            "type": "histogram2d"
           }
          ],
          "histogram2dcontour": [
           {
            "colorbar": {
             "outlinewidth": 0,
             "ticks": ""
            },
            "colorscale": [
             [
              0,
              "#0d0887"
             ],
             [
              0.1111111111111111,
              "#46039f"
             ],
             [
              0.2222222222222222,
              "#7201a8"
             ],
             [
              0.3333333333333333,
              "#9c179e"
             ],
             [
              0.4444444444444444,
              "#bd3786"
             ],
             [
              0.5555555555555556,
              "#d8576b"
             ],
             [
              0.6666666666666666,
              "#ed7953"
             ],
             [
              0.7777777777777778,
              "#fb9f3a"
             ],
             [
              0.8888888888888888,
              "#fdca26"
             ],
             [
              1,
              "#f0f921"
             ]
            ],
            "type": "histogram2dcontour"
           }
          ],
          "mesh3d": [
           {
            "colorbar": {
             "outlinewidth": 0,
             "ticks": ""
            },
            "type": "mesh3d"
           }
          ],
          "parcoords": [
           {
            "line": {
             "colorbar": {
              "outlinewidth": 0,
              "ticks": ""
             }
            },
            "type": "parcoords"
           }
          ],
          "pie": [
           {
            "automargin": true,
            "type": "pie"
           }
          ],
          "scatter": [
           {
            "fillpattern": {
             "fillmode": "overlay",
             "size": 10,
             "solidity": 0.2
            },
            "type": "scatter"
           }
          ],
          "scatter3d": [
           {
            "line": {
             "colorbar": {
              "outlinewidth": 0,
              "ticks": ""
             }
            },
            "marker": {
             "colorbar": {
              "outlinewidth": 0,
              "ticks": ""
             }
            },
            "type": "scatter3d"
           }
          ],
          "scattercarpet": [
           {
            "marker": {
             "colorbar": {
              "outlinewidth": 0,
              "ticks": ""
             }
            },
            "type": "scattercarpet"
           }
          ],
          "scattergeo": [
           {
            "marker": {
             "colorbar": {
              "outlinewidth": 0,
              "ticks": ""
             }
            },
            "type": "scattergeo"
           }
          ],
          "scattergl": [
           {
            "marker": {
             "colorbar": {
              "outlinewidth": 0,
              "ticks": ""
             }
            },
            "type": "scattergl"
           }
          ],
          "scattermapbox": [
           {
            "marker": {
             "colorbar": {
              "outlinewidth": 0,
              "ticks": ""
             }
            },
            "type": "scattermapbox"
           }
          ],
          "scatterpolar": [
           {
            "marker": {
             "colorbar": {
              "outlinewidth": 0,
              "ticks": ""
             }
            },
            "type": "scatterpolar"
           }
          ],
          "scatterpolargl": [
           {
            "marker": {
             "colorbar": {
              "outlinewidth": 0,
              "ticks": ""
             }
            },
            "type": "scatterpolargl"
           }
          ],
          "scatterternary": [
           {
            "marker": {
             "colorbar": {
              "outlinewidth": 0,
              "ticks": ""
             }
            },
            "type": "scatterternary"
           }
          ],
          "surface": [
           {
            "colorbar": {
             "outlinewidth": 0,
             "ticks": ""
            },
            "colorscale": [
             [
              0,
              "#0d0887"
             ],
             [
              0.1111111111111111,
              "#46039f"
             ],
             [
              0.2222222222222222,
              "#7201a8"
             ],
             [
              0.3333333333333333,
              "#9c179e"
             ],
             [
              0.4444444444444444,
              "#bd3786"
             ],
             [
              0.5555555555555556,
              "#d8576b"
             ],
             [
              0.6666666666666666,
              "#ed7953"
             ],
             [
              0.7777777777777778,
              "#fb9f3a"
             ],
             [
              0.8888888888888888,
              "#fdca26"
             ],
             [
              1,
              "#f0f921"
             ]
            ],
            "type": "surface"
           }
          ],
          "table": [
           {
            "cells": {
             "fill": {
              "color": "#EBF0F8"
             },
             "line": {
              "color": "white"
             }
            },
            "header": {
             "fill": {
              "color": "#C8D4E3"
             },
             "line": {
              "color": "white"
             }
            },
            "type": "table"
           }
          ]
         },
         "layout": {
          "annotationdefaults": {
           "arrowcolor": "#2a3f5f",
           "arrowhead": 0,
           "arrowwidth": 1
          },
          "autotypenumbers": "strict",
          "coloraxis": {
           "colorbar": {
            "outlinewidth": 0,
            "ticks": ""
           }
          },
          "colorscale": {
           "diverging": [
            [
             0,
             "#8e0152"
            ],
            [
             0.1,
             "#c51b7d"
            ],
            [
             0.2,
             "#de77ae"
            ],
            [
             0.3,
             "#f1b6da"
            ],
            [
             0.4,
             "#fde0ef"
            ],
            [
             0.5,
             "#f7f7f7"
            ],
            [
             0.6,
             "#e6f5d0"
            ],
            [
             0.7,
             "#b8e186"
            ],
            [
             0.8,
             "#7fbc41"
            ],
            [
             0.9,
             "#4d9221"
            ],
            [
             1,
             "#276419"
            ]
           ],
           "sequential": [
            [
             0,
             "#0d0887"
            ],
            [
             0.1111111111111111,
             "#46039f"
            ],
            [
             0.2222222222222222,
             "#7201a8"
            ],
            [
             0.3333333333333333,
             "#9c179e"
            ],
            [
             0.4444444444444444,
             "#bd3786"
            ],
            [
             0.5555555555555556,
             "#d8576b"
            ],
            [
             0.6666666666666666,
             "#ed7953"
            ],
            [
             0.7777777777777778,
             "#fb9f3a"
            ],
            [
             0.8888888888888888,
             "#fdca26"
            ],
            [
             1,
             "#f0f921"
            ]
           ],
           "sequentialminus": [
            [
             0,
             "#0d0887"
            ],
            [
             0.1111111111111111,
             "#46039f"
            ],
            [
             0.2222222222222222,
             "#7201a8"
            ],
            [
             0.3333333333333333,
             "#9c179e"
            ],
            [
             0.4444444444444444,
             "#bd3786"
            ],
            [
             0.5555555555555556,
             "#d8576b"
            ],
            [
             0.6666666666666666,
             "#ed7953"
            ],
            [
             0.7777777777777778,
             "#fb9f3a"
            ],
            [
             0.8888888888888888,
             "#fdca26"
            ],
            [
             1,
             "#f0f921"
            ]
           ]
          },
          "colorway": [
           "#636efa",
           "#EF553B",
           "#00cc96",
           "#ab63fa",
           "#FFA15A",
           "#19d3f3",
           "#FF6692",
           "#B6E880",
           "#FF97FF",
           "#FECB52"
          ],
          "font": {
           "color": "#2a3f5f"
          },
          "geo": {
           "bgcolor": "white",
           "lakecolor": "white",
           "landcolor": "#E5ECF6",
           "showlakes": true,
           "showland": true,
           "subunitcolor": "white"
          },
          "hoverlabel": {
           "align": "left"
          },
          "hovermode": "closest",
          "mapbox": {
           "style": "light"
          },
          "paper_bgcolor": "white",
          "plot_bgcolor": "#E5ECF6",
          "polar": {
           "angularaxis": {
            "gridcolor": "white",
            "linecolor": "white",
            "ticks": ""
           },
           "bgcolor": "#E5ECF6",
           "radialaxis": {
            "gridcolor": "white",
            "linecolor": "white",
            "ticks": ""
           }
          },
          "scene": {
           "xaxis": {
            "backgroundcolor": "#E5ECF6",
            "gridcolor": "white",
            "gridwidth": 2,
            "linecolor": "white",
            "showbackground": true,
            "ticks": "",
            "zerolinecolor": "white"
           },
           "yaxis": {
            "backgroundcolor": "#E5ECF6",
            "gridcolor": "white",
            "gridwidth": 2,
            "linecolor": "white",
            "showbackground": true,
            "ticks": "",
            "zerolinecolor": "white"
           },
           "zaxis": {
            "backgroundcolor": "#E5ECF6",
            "gridcolor": "white",
            "gridwidth": 2,
            "linecolor": "white",
            "showbackground": true,
            "ticks": "",
            "zerolinecolor": "white"
           }
          },
          "shapedefaults": {
           "line": {
            "color": "#2a3f5f"
           }
          },
          "ternary": {
           "aaxis": {
            "gridcolor": "white",
            "linecolor": "white",
            "ticks": ""
           },
           "baxis": {
            "gridcolor": "white",
            "linecolor": "white",
            "ticks": ""
           },
           "bgcolor": "#E5ECF6",
           "caxis": {
            "gridcolor": "white",
            "linecolor": "white",
            "ticks": ""
           }
          },
          "title": {
           "x": 0.05
          },
          "xaxis": {
           "automargin": true,
           "gridcolor": "white",
           "linecolor": "white",
           "ticks": "",
           "title": {
            "standoff": 15
           },
           "zerolinecolor": "white",
           "zerolinewidth": 2
          },
          "yaxis": {
           "automargin": true,
           "gridcolor": "white",
           "linecolor": "white",
           "ticks": "",
           "title": {
            "standoff": 15
           },
           "zerolinecolor": "white",
           "zerolinewidth": 2
          }
         }
        },
        "title": {
         "text": "Top 10 Companies by Revenue"
        },
        "xaxis": {
         "anchor": "y",
         "domain": [
          0,
          1
         ],
         "title": {
          "text": "revenue"
         }
        },
        "yaxis": {
         "anchor": "x",
         "domain": [
          0,
          1
         ],
         "title": {
          "text": "name"
         }
        }
       }
      }
     },
     "metadata": {},
     "output_type": "display_data"
    }
   ],
   "source": [
    "top_revenue = df[['name', 'revenue']].sort_values(by='revenue', ascending=False).head(10)\n",
    "\n",
    "fig = px.bar(top_revenue, x='revenue', y='name', orientation='h',\n",
    "             title='Top 10 Companies by Revenue')\n",
    "fig.show()\n"
   ]
  },
  {
   "cell_type": "markdown",
   "id": "b6a23104",
   "metadata": {},
   "source": [
    "# 6. YEAR FOUNDED TREND"
   ]
  },
  {
   "cell_type": "code",
   "execution_count": 39,
   "id": "4a61f72d",
   "metadata": {},
   "outputs": [
    {
     "data": {
      "application/vnd.plotly.v1+json": {
       "config": {
        "plotlyServerURL": "https://plot.ly"
       },
       "data": [
        {
         "hovertemplate": "founded in year=%{x}<br>Number of Companies=%{y}<extra></extra>",
         "legendgroup": "",
         "line": {
          "color": "#636efa",
          "dash": "solid"
         },
         "marker": {
          "symbol": "circle"
         },
         "mode": "lines",
         "name": "",
         "orientation": "v",
         "showlegend": false,
         "type": "scatter",
         "x": [
          0,
          1869,
          1884,
          1895,
          1897,
          1899,
          1902,
          1909,
          1910,
          1914,
          1917,
          1923,
          1925,
          1927,
          1928,
          1929,
          1932,
          1939,
          1941,
          1945,
          1946,
          1948,
          1949,
          1951,
          1953,
          1955,
          1956,
          1957,
          1959,
          1961,
          1962,
          1963,
          1964,
          1965,
          1967,
          1968,
          1969,
          1970,
          1972,
          1973,
          1974,
          1975,
          1976,
          1977,
          1978,
          1979,
          1980,
          1981,
          1982,
          1983,
          1984,
          1985,
          1986,
          1987,
          1988,
          1989,
          1990,
          1991,
          1992,
          1993,
          1994,
          1995,
          1996,
          1997,
          1998,
          1999,
          2000,
          2001,
          2002,
          2003,
          2004,
          2005,
          2006,
          2007,
          2008,
          2009,
          2010,
          2011,
          2012,
          2013,
          2014,
          2015,
          2016
         ],
         "xaxis": "x",
         "y": [
          1,
          1,
          1,
          1,
          1,
          1,
          1,
          1,
          1,
          1,
          1,
          1,
          2,
          1,
          2,
          1,
          1,
          1,
          2,
          2,
          5,
          1,
          3,
          1,
          3,
          2,
          4,
          1,
          3,
          1,
          3,
          1,
          2,
          5,
          2,
          1,
          7,
          4,
          4,
          7,
          5,
          4,
          10,
          6,
          11,
          10,
          10,
          9,
          20,
          11,
          11,
          22,
          17,
          22,
          19,
          27,
          24,
          23,
          24,
          30,
          36,
          47,
          63,
          68,
          53,
          93,
          95,
          133,
          131,
          161,
          188,
          183,
          198,
          255,
          299,
          363,
          360,
          377,
          440,
          431,
          466,
          172,
          1
         ],
         "yaxis": "y"
        }
       ],
       "layout": {
        "legend": {
         "tracegroupgap": 0
        },
        "template": {
         "data": {
          "bar": [
           {
            "error_x": {
             "color": "#2a3f5f"
            },
            "error_y": {
             "color": "#2a3f5f"
            },
            "marker": {
             "line": {
              "color": "#E5ECF6",
              "width": 0.5
             },
             "pattern": {
              "fillmode": "overlay",
              "size": 10,
              "solidity": 0.2
             }
            },
            "type": "bar"
           }
          ],
          "barpolar": [
           {
            "marker": {
             "line": {
              "color": "#E5ECF6",
              "width": 0.5
             },
             "pattern": {
              "fillmode": "overlay",
              "size": 10,
              "solidity": 0.2
             }
            },
            "type": "barpolar"
           }
          ],
          "carpet": [
           {
            "aaxis": {
             "endlinecolor": "#2a3f5f",
             "gridcolor": "white",
             "linecolor": "white",
             "minorgridcolor": "white",
             "startlinecolor": "#2a3f5f"
            },
            "baxis": {
             "endlinecolor": "#2a3f5f",
             "gridcolor": "white",
             "linecolor": "white",
             "minorgridcolor": "white",
             "startlinecolor": "#2a3f5f"
            },
            "type": "carpet"
           }
          ],
          "choropleth": [
           {
            "colorbar": {
             "outlinewidth": 0,
             "ticks": ""
            },
            "type": "choropleth"
           }
          ],
          "contour": [
           {
            "colorbar": {
             "outlinewidth": 0,
             "ticks": ""
            },
            "colorscale": [
             [
              0,
              "#0d0887"
             ],
             [
              0.1111111111111111,
              "#46039f"
             ],
             [
              0.2222222222222222,
              "#7201a8"
             ],
             [
              0.3333333333333333,
              "#9c179e"
             ],
             [
              0.4444444444444444,
              "#bd3786"
             ],
             [
              0.5555555555555556,
              "#d8576b"
             ],
             [
              0.6666666666666666,
              "#ed7953"
             ],
             [
              0.7777777777777778,
              "#fb9f3a"
             ],
             [
              0.8888888888888888,
              "#fdca26"
             ],
             [
              1,
              "#f0f921"
             ]
            ],
            "type": "contour"
           }
          ],
          "contourcarpet": [
           {
            "colorbar": {
             "outlinewidth": 0,
             "ticks": ""
            },
            "type": "contourcarpet"
           }
          ],
          "heatmap": [
           {
            "colorbar": {
             "outlinewidth": 0,
             "ticks": ""
            },
            "colorscale": [
             [
              0,
              "#0d0887"
             ],
             [
              0.1111111111111111,
              "#46039f"
             ],
             [
              0.2222222222222222,
              "#7201a8"
             ],
             [
              0.3333333333333333,
              "#9c179e"
             ],
             [
              0.4444444444444444,
              "#bd3786"
             ],
             [
              0.5555555555555556,
              "#d8576b"
             ],
             [
              0.6666666666666666,
              "#ed7953"
             ],
             [
              0.7777777777777778,
              "#fb9f3a"
             ],
             [
              0.8888888888888888,
              "#fdca26"
             ],
             [
              1,
              "#f0f921"
             ]
            ],
            "type": "heatmap"
           }
          ],
          "heatmapgl": [
           {
            "colorbar": {
             "outlinewidth": 0,
             "ticks": ""
            },
            "colorscale": [
             [
              0,
              "#0d0887"
             ],
             [
              0.1111111111111111,
              "#46039f"
             ],
             [
              0.2222222222222222,
              "#7201a8"
             ],
             [
              0.3333333333333333,
              "#9c179e"
             ],
             [
              0.4444444444444444,
              "#bd3786"
             ],
             [
              0.5555555555555556,
              "#d8576b"
             ],
             [
              0.6666666666666666,
              "#ed7953"
             ],
             [
              0.7777777777777778,
              "#fb9f3a"
             ],
             [
              0.8888888888888888,
              "#fdca26"
             ],
             [
              1,
              "#f0f921"
             ]
            ],
            "type": "heatmapgl"
           }
          ],
          "histogram": [
           {
            "marker": {
             "pattern": {
              "fillmode": "overlay",
              "size": 10,
              "solidity": 0.2
             }
            },
            "type": "histogram"
           }
          ],
          "histogram2d": [
           {
            "colorbar": {
             "outlinewidth": 0,
             "ticks": ""
            },
            "colorscale": [
             [
              0,
              "#0d0887"
             ],
             [
              0.1111111111111111,
              "#46039f"
             ],
             [
              0.2222222222222222,
              "#7201a8"
             ],
             [
              0.3333333333333333,
              "#9c179e"
             ],
             [
              0.4444444444444444,
              "#bd3786"
             ],
             [
              0.5555555555555556,
              "#d8576b"
             ],
             [
              0.6666666666666666,
              "#ed7953"
             ],
             [
              0.7777777777777778,
              "#fb9f3a"
             ],
             [
              0.8888888888888888,
              "#fdca26"
             ],
             [
              1,
              "#f0f921"
             ]
            ],
            "type": "histogram2d"
           }
          ],
          "histogram2dcontour": [
           {
            "colorbar": {
             "outlinewidth": 0,
             "ticks": ""
            },
            "colorscale": [
             [
              0,
              "#0d0887"
             ],
             [
              0.1111111111111111,
              "#46039f"
             ],
             [
              0.2222222222222222,
              "#7201a8"
             ],
             [
              0.3333333333333333,
              "#9c179e"
             ],
             [
              0.4444444444444444,
              "#bd3786"
             ],
             [
              0.5555555555555556,
              "#d8576b"
             ],
             [
              0.6666666666666666,
              "#ed7953"
             ],
             [
              0.7777777777777778,
              "#fb9f3a"
             ],
             [
              0.8888888888888888,
              "#fdca26"
             ],
             [
              1,
              "#f0f921"
             ]
            ],
            "type": "histogram2dcontour"
           }
          ],
          "mesh3d": [
           {
            "colorbar": {
             "outlinewidth": 0,
             "ticks": ""
            },
            "type": "mesh3d"
           }
          ],
          "parcoords": [
           {
            "line": {
             "colorbar": {
              "outlinewidth": 0,
              "ticks": ""
             }
            },
            "type": "parcoords"
           }
          ],
          "pie": [
           {
            "automargin": true,
            "type": "pie"
           }
          ],
          "scatter": [
           {
            "fillpattern": {
             "fillmode": "overlay",
             "size": 10,
             "solidity": 0.2
            },
            "type": "scatter"
           }
          ],
          "scatter3d": [
           {
            "line": {
             "colorbar": {
              "outlinewidth": 0,
              "ticks": ""
             }
            },
            "marker": {
             "colorbar": {
              "outlinewidth": 0,
              "ticks": ""
             }
            },
            "type": "scatter3d"
           }
          ],
          "scattercarpet": [
           {
            "marker": {
             "colorbar": {
              "outlinewidth": 0,
              "ticks": ""
             }
            },
            "type": "scattercarpet"
           }
          ],
          "scattergeo": [
           {
            "marker": {
             "colorbar": {
              "outlinewidth": 0,
              "ticks": ""
             }
            },
            "type": "scattergeo"
           }
          ],
          "scattergl": [
           {
            "marker": {
             "colorbar": {
              "outlinewidth": 0,
              "ticks": ""
             }
            },
            "type": "scattergl"
           }
          ],
          "scattermapbox": [
           {
            "marker": {
             "colorbar": {
              "outlinewidth": 0,
              "ticks": ""
             }
            },
            "type": "scattermapbox"
           }
          ],
          "scatterpolar": [
           {
            "marker": {
             "colorbar": {
              "outlinewidth": 0,
              "ticks": ""
             }
            },
            "type": "scatterpolar"
           }
          ],
          "scatterpolargl": [
           {
            "marker": {
             "colorbar": {
              "outlinewidth": 0,
              "ticks": ""
             }
            },
            "type": "scatterpolargl"
           }
          ],
          "scatterternary": [
           {
            "marker": {
             "colorbar": {
              "outlinewidth": 0,
              "ticks": ""
             }
            },
            "type": "scatterternary"
           }
          ],
          "surface": [
           {
            "colorbar": {
             "outlinewidth": 0,
             "ticks": ""
            },
            "colorscale": [
             [
              0,
              "#0d0887"
             ],
             [
              0.1111111111111111,
              "#46039f"
             ],
             [
              0.2222222222222222,
              "#7201a8"
             ],
             [
              0.3333333333333333,
              "#9c179e"
             ],
             [
              0.4444444444444444,
              "#bd3786"
             ],
             [
              0.5555555555555556,
              "#d8576b"
             ],
             [
              0.6666666666666666,
              "#ed7953"
             ],
             [
              0.7777777777777778,
              "#fb9f3a"
             ],
             [
              0.8888888888888888,
              "#fdca26"
             ],
             [
              1,
              "#f0f921"
             ]
            ],
            "type": "surface"
           }
          ],
          "table": [
           {
            "cells": {
             "fill": {
              "color": "#EBF0F8"
             },
             "line": {
              "color": "white"
             }
            },
            "header": {
             "fill": {
              "color": "#C8D4E3"
             },
             "line": {
              "color": "white"
             }
            },
            "type": "table"
           }
          ]
         },
         "layout": {
          "annotationdefaults": {
           "arrowcolor": "#2a3f5f",
           "arrowhead": 0,
           "arrowwidth": 1
          },
          "autotypenumbers": "strict",
          "coloraxis": {
           "colorbar": {
            "outlinewidth": 0,
            "ticks": ""
           }
          },
          "colorscale": {
           "diverging": [
            [
             0,
             "#8e0152"
            ],
            [
             0.1,
             "#c51b7d"
            ],
            [
             0.2,
             "#de77ae"
            ],
            [
             0.3,
             "#f1b6da"
            ],
            [
             0.4,
             "#fde0ef"
            ],
            [
             0.5,
             "#f7f7f7"
            ],
            [
             0.6,
             "#e6f5d0"
            ],
            [
             0.7,
             "#b8e186"
            ],
            [
             0.8,
             "#7fbc41"
            ],
            [
             0.9,
             "#4d9221"
            ],
            [
             1,
             "#276419"
            ]
           ],
           "sequential": [
            [
             0,
             "#0d0887"
            ],
            [
             0.1111111111111111,
             "#46039f"
            ],
            [
             0.2222222222222222,
             "#7201a8"
            ],
            [
             0.3333333333333333,
             "#9c179e"
            ],
            [
             0.4444444444444444,
             "#bd3786"
            ],
            [
             0.5555555555555556,
             "#d8576b"
            ],
            [
             0.6666666666666666,
             "#ed7953"
            ],
            [
             0.7777777777777778,
             "#fb9f3a"
            ],
            [
             0.8888888888888888,
             "#fdca26"
            ],
            [
             1,
             "#f0f921"
            ]
           ],
           "sequentialminus": [
            [
             0,
             "#0d0887"
            ],
            [
             0.1111111111111111,
             "#46039f"
            ],
            [
             0.2222222222222222,
             "#7201a8"
            ],
            [
             0.3333333333333333,
             "#9c179e"
            ],
            [
             0.4444444444444444,
             "#bd3786"
            ],
            [
             0.5555555555555556,
             "#d8576b"
            ],
            [
             0.6666666666666666,
             "#ed7953"
            ],
            [
             0.7777777777777778,
             "#fb9f3a"
            ],
            [
             0.8888888888888888,
             "#fdca26"
            ],
            [
             1,
             "#f0f921"
            ]
           ]
          },
          "colorway": [
           "#636efa",
           "#EF553B",
           "#00cc96",
           "#ab63fa",
           "#FFA15A",
           "#19d3f3",
           "#FF6692",
           "#B6E880",
           "#FF97FF",
           "#FECB52"
          ],
          "font": {
           "color": "#2a3f5f"
          },
          "geo": {
           "bgcolor": "white",
           "lakecolor": "white",
           "landcolor": "#E5ECF6",
           "showlakes": true,
           "showland": true,
           "subunitcolor": "white"
          },
          "hoverlabel": {
           "align": "left"
          },
          "hovermode": "closest",
          "mapbox": {
           "style": "light"
          },
          "paper_bgcolor": "white",
          "plot_bgcolor": "#E5ECF6",
          "polar": {
           "angularaxis": {
            "gridcolor": "white",
            "linecolor": "white",
            "ticks": ""
           },
           "bgcolor": "#E5ECF6",
           "radialaxis": {
            "gridcolor": "white",
            "linecolor": "white",
            "ticks": ""
           }
          },
          "scene": {
           "xaxis": {
            "backgroundcolor": "#E5ECF6",
            "gridcolor": "white",
            "gridwidth": 2,
            "linecolor": "white",
            "showbackground": true,
            "ticks": "",
            "zerolinecolor": "white"
           },
           "yaxis": {
            "backgroundcolor": "#E5ECF6",
            "gridcolor": "white",
            "gridwidth": 2,
            "linecolor": "white",
            "showbackground": true,
            "ticks": "",
            "zerolinecolor": "white"
           },
           "zaxis": {
            "backgroundcolor": "#E5ECF6",
            "gridcolor": "white",
            "gridwidth": 2,
            "linecolor": "white",
            "showbackground": true,
            "ticks": "",
            "zerolinecolor": "white"
           }
          },
          "shapedefaults": {
           "line": {
            "color": "#2a3f5f"
           }
          },
          "ternary": {
           "aaxis": {
            "gridcolor": "white",
            "linecolor": "white",
            "ticks": ""
           },
           "baxis": {
            "gridcolor": "white",
            "linecolor": "white",
            "ticks": ""
           },
           "bgcolor": "#E5ECF6",
           "caxis": {
            "gridcolor": "white",
            "linecolor": "white",
            "ticks": ""
           }
          },
          "title": {
           "x": 0.05
          },
          "xaxis": {
           "automargin": true,
           "gridcolor": "white",
           "linecolor": "white",
           "ticks": "",
           "title": {
            "standoff": 15
           },
           "zerolinecolor": "white",
           "zerolinewidth": 2
          },
          "yaxis": {
           "automargin": true,
           "gridcolor": "white",
           "linecolor": "white",
           "ticks": "",
           "title": {
            "standoff": 15
           },
           "zerolinecolor": "white",
           "zerolinewidth": 2
          }
         }
        },
        "title": {
         "text": "Companies by Year Founded"
        },
        "xaxis": {
         "anchor": "y",
         "domain": [
          0,
          1
         ],
         "dtick": 50,
         "range": [
          1850,
          2050
         ],
         "title": {
          "text": "founded in year"
         }
        },
        "yaxis": {
         "anchor": "x",
         "domain": [
          0,
          1
         ],
         "title": {
          "text": "Number of Companies"
         }
        }
       }
      }
     },
     "metadata": {},
     "output_type": "display_data"
    }
   ],
   "source": [
    "founded_counts = df['founded'].value_counts().sort_index()\n",
    "\n",
    "fig = px.line(x=founded_counts.index, y=founded_counts.values,\n",
    "              labels={'x': 'founded in year', 'y': 'Number of Companies'},\n",
    "              title='Companies by Year Founded')\n",
    "\n",
    "fig.update_xaxes(range=[1850, 2050],  \n",
    "                  dtick=50)           \n",
    "\n",
    "fig.show()"
   ]
  },
  {
   "cell_type": "markdown",
   "id": "ae5ec8b5",
   "metadata": {},
   "source": [
    "# 1. T-Test: Are younger companies growing faster than older ones?\n"
   ]
  },
  {
   "cell_type": "code",
   "execution_count": 40,
   "id": "094be978",
   "metadata": {},
   "outputs": [
    {
     "name": "stdout",
     "output_type": "stream",
     "text": [
      "T-statistic: 22.485, P-value: 0.000\n"
     ]
    }
   ],
   "source": [
    "from scipy.stats import ttest_ind\n",
    "\n",
    "df['Company Age'] = 2019 - df['founded']\n",
    "\n",
    "young = df[df['Company Age'] <= 5]['growth_%']\n",
    "old = df[df['Company Age'] > 5]['growth_%']\n",
    "\n",
    "t_stat, p_val = ttest_ind(young, old, nan_policy='omit')\n",
    "\n",
    "print(f\"T-statistic: {t_stat:.3f}, P-value: {p_val:.3f}\")\n"
   ]
  },
  {
   "cell_type": "markdown",
   "id": "53eee8f1",
   "metadata": {},
   "source": [
    "#  2. Chi-Square Test: Is company distribution independent of state?"
   ]
  },
  {
   "cell_type": "code",
   "execution_count": 41,
   "id": "b5f67133",
   "metadata": {},
   "outputs": [
    {
     "name": "stdout",
     "output_type": "stream",
     "text": [
      "Chi-square Statistic: 9152.528, P-value: 0.000\n"
     ]
    }
   ],
   "source": [
    "from scipy.stats import chisquare\n",
    "\n",
    "state_counts = df['state'].value_counts()\n",
    "expected = [state_counts.sum() / len(state_counts)] * len(state_counts)\n",
    "\n",
    "chi_stat, p_val = chisquare(f_obs=state_counts.values, f_exp=expected)\n",
    "\n",
    "print(f\"Chi-square Statistic: {chi_stat:.3f}, P-value: {p_val:.3f}\")\n",
    "\n"
   ]
  },
  {
   "cell_type": "markdown",
   "id": "898e7ad9",
   "metadata": {},
   "source": [
    "# 3. Z-Test: Is the average revenue of Health companies higher than the dataset average?"
   ]
  },
  {
   "cell_type": "code",
   "execution_count": 42,
   "id": "1ef2d631",
   "metadata": {},
   "outputs": [
    {
     "name": "stdout",
     "output_type": "stream",
     "text": [
      "Z-statistic: 1.026, P-value: 0.152\n"
     ]
    }
   ],
   "source": [
    "def convert_revenue(value):\n",
    "    try:\n",
    "        if 'Million' in value:\n",
    "            return float(value.replace(' Million', '').replace(',', ''))\n",
    "        elif 'Billion' in value:\n",
    "            return float(value.replace(' Billion', '').replace(',', '')) * 1000\n",
    "        else:\n",
    "            return float(value.replace(',', ''))  \n",
    "    except:\n",
    "        return None  \n",
    "\n",
    "\n",
    "df['revenue'] = df['revenue'].astype(str).apply(convert_revenue)\n",
    "\n",
    "from statsmodels.stats.weightstats import ztest\n",
    "\n",
    "health_revenue = df[df['industry'] == 'Health']['revenue']\n",
    "overall_mean = df['revenue'].mean()\n",
    "\n",
    "# Z-test\n",
    "z_stat, p_val = ztest(health_revenue, value=overall_mean, alternative='larger')\n",
    "\n",
    "print(f\"Z-statistic: {z_stat:.3f}, P-value: {p_val:.3f}\")\n"
   ]
  }
 ],
 "metadata": {
  "kernelspec": {
   "display_name": "base",
   "language": "python",
   "name": "python3"
  },
  "language_info": {
   "codemirror_mode": {
    "name": "ipython",
    "version": 3
   },
   "file_extension": ".py",
   "mimetype": "text/x-python",
   "name": "python",
   "nbconvert_exporter": "python",
   "pygments_lexer": "ipython3",
   "version": "3.12.7"
  }
 },
 "nbformat": 4,
 "nbformat_minor": 5
}
